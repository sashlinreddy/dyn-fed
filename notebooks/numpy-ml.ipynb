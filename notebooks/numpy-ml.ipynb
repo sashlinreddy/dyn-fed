{
 "cells": [
  {
   "cell_type": "code",
   "execution_count": 94,
   "metadata": {},
   "outputs": [
    {
     "name": "stdout",
     "output_type": "stream",
     "text": [
      "The autoreload extension is already loaded. To reload it, use:\n",
      "  %reload_ext autoreload\n"
     ]
    }
   ],
   "source": [
    "import numpy as np\n",
    "import numpy_ml as nml\n",
    "import numpy_ml.neural_nets as nn\n",
    "import numpy_ml.neural_nets.optimizers as optim\n",
    "\n",
    "import matplotlib.pyplot as plt\n",
    "\n",
    "from tqdm import tqdm_notebook as tqdm\n",
    "\n",
    "import dyn_fed as df\n",
    "from dyn_fed.metrics import accuracy_scorev2\n",
    "\n",
    "%load_ext autoreload\n",
    "%autoreload 2\n",
    "%config Completer.use_jedi=False\n",
    "%matplotlib inline"
   ]
  },
  {
   "cell_type": "code",
   "execution_count": 178,
   "metadata": {},
   "outputs": [],
   "source": [
    "class LogisticReg():\n",
    "    def __init__(self, optimizer):\n",
    "        self.flatten = nn.layers.Flatten(optimizer=optimizer)\n",
    "        self.l1 = nn.layers.FullyConnected(\n",
    "            10,\n",
    "            optimizer=optimizer\n",
    "        )\n",
    "        self.out = nn.layers.Softmax(optimizer=optimizer)\n",
    "        \n",
    "        self.layers = []\n",
    "        for k, v in self.__dict__.items():\n",
    "            if isinstance(v, nn.layers.LayerBase):\n",
    "                self.layers.append(v)\n",
    "        \n",
    "    def parameters(self):\n",
    "        for l in self.layers:\n",
    "            for k, v in l.parameters.items():\n",
    "                if v is not None:\n",
    "                    yield v\n",
    "        \n",
    "    def forward(self, x):\n",
    "        for l in self.layers:\n",
    "            x = l.forward(x)\n",
    "        return x\n",
    "    \n",
    "    def backward(self, grads):\n",
    "        for l in self.layers[::-1]:\n",
    "            grads = l.backward(grads)\n",
    "        return grads"
   ]
  },
  {
   "cell_type": "code",
   "execution_count": 179,
   "metadata": {},
   "outputs": [],
   "source": [
    "X_train, y_train, X_test, y_test = df.data.mnist.load_data(onehot=True)"
   ]
  },
  {
   "cell_type": "code",
   "execution_count": 180,
   "metadata": {},
   "outputs": [],
   "source": [
    "optimizer = optim.optimizers.SGD(lr=0.3)\n",
    "model = LogisticReg(optimizer)\n",
    "# loss_func = nn.losses.CrossEntropy()\n",
    "loss_func = nn.losses.CrossEntropy()"
   ]
  },
  {
   "cell_type": "code",
   "execution_count": 182,
   "metadata": {},
   "outputs": [],
   "source": [
    "batch_size = 64\n",
    "epochs = 10\n",
    "train_losses = []\n",
    "test_losses = []\n",
    "train_accs = []\n",
    "test_accs = []"
   ]
  },
  {
   "cell_type": "code",
   "execution_count": 183,
   "metadata": {
    "scrolled": true
   },
   "outputs": [
    {
     "data": {
      "application/vnd.jupyter.widget-view+json": {
       "model_id": "4c2d84905c6544cf96ca4530f4b2b244",
       "version_major": 2,
       "version_minor": 0
      },
      "text/plain": [
       "HBox(children=(IntProgress(value=0, max=10), HTML(value='')))"
      ]
     },
     "metadata": {},
     "output_type": "display_data"
    },
    {
     "data": {
      "application/vnd.jupyter.widget-view+json": {
       "model_id": "",
       "version_major": 2,
       "version_minor": 0
      },
      "text/plain": [
       "HBox(children=(IntProgress(value=0, max=938), HTML(value='')))"
      ]
     },
     "metadata": {},
     "output_type": "display_data"
    },
    {
     "name": "stdout",
     "output_type": "stream",
     "text": [
      "Iteration 0: Loss=0.0562, test_loss=0.03755445366221551train accuracy=0.8957, test accuracy=0.9023\n"
     ]
    },
    {
     "data": {
      "application/vnd.jupyter.widget-view+json": {
       "model_id": "",
       "version_major": 2,
       "version_minor": 0
      },
      "text/plain": [
       "HBox(children=(IntProgress(value=0, max=938), HTML(value='')))"
      ]
     },
     "metadata": {},
     "output_type": "display_data"
    },
    {
     "name": "stdout",
     "output_type": "stream",
     "text": [
      "Iteration 1: Loss=0.0371, test_loss=0.033746984207699594train accuracy=0.9075, test accuracy=0.9117\n"
     ]
    },
    {
     "data": {
      "application/vnd.jupyter.widget-view+json": {
       "model_id": "",
       "version_major": 2,
       "version_minor": 0
      },
      "text/plain": [
       "HBox(children=(IntProgress(value=0, max=938), HTML(value='')))"
      ]
     },
     "metadata": {},
     "output_type": "display_data"
    },
    {
     "name": "stdout",
     "output_type": "stream",
     "text": [
      "Iteration 2: Loss=0.0344, test_loss=0.03216738889175308train accuracy=0.9126, test accuracy=0.9144\n"
     ]
    },
    {
     "data": {
      "application/vnd.jupyter.widget-view+json": {
       "model_id": "",
       "version_major": 2,
       "version_minor": 0
      },
      "text/plain": [
       "HBox(children=(IntProgress(value=0, max=938), HTML(value='')))"
      ]
     },
     "metadata": {},
     "output_type": "display_data"
    },
    {
     "name": "stdout",
     "output_type": "stream",
     "text": [
      "Iteration 3: Loss=0.0331, test_loss=0.031276255769975864train accuracy=0.9160, test accuracy=0.9164\n"
     ]
    },
    {
     "data": {
      "application/vnd.jupyter.widget-view+json": {
       "model_id": "",
       "version_major": 2,
       "version_minor": 0
      },
      "text/plain": [
       "HBox(children=(IntProgress(value=0, max=938), HTML(value='')))"
      ]
     },
     "metadata": {},
     "output_type": "display_data"
    },
    {
     "name": "stdout",
     "output_type": "stream",
     "text": [
      "Iteration 4: Loss=0.0322, test_loss=0.030702221741968624train accuracy=0.9187, test accuracy=0.9181\n"
     ]
    },
    {
     "data": {
      "application/vnd.jupyter.widget-view+json": {
       "model_id": "",
       "version_major": 2,
       "version_minor": 0
      },
      "text/plain": [
       "HBox(children=(IntProgress(value=0, max=938), HTML(value='')))"
      ]
     },
     "metadata": {},
     "output_type": "display_data"
    },
    {
     "name": "stdout",
     "output_type": "stream",
     "text": [
      "Iteration 5: Loss=0.0316, test_loss=0.030304586673261188train accuracy=0.9208, test accuracy=0.9198\n"
     ]
    },
    {
     "data": {
      "application/vnd.jupyter.widget-view+json": {
       "model_id": "",
       "version_major": 2,
       "version_minor": 0
      },
      "text/plain": [
       "HBox(children=(IntProgress(value=0, max=938), HTML(value='')))"
      ]
     },
     "metadata": {},
     "output_type": "display_data"
    },
    {
     "name": "stdout",
     "output_type": "stream",
     "text": [
      "Iteration 6: Loss=0.0311, test_loss=0.030016278251030027train accuracy=0.9225, test accuracy=0.9210\n"
     ]
    },
    {
     "data": {
      "application/vnd.jupyter.widget-view+json": {
       "model_id": "",
       "version_major": 2,
       "version_minor": 0
      },
      "text/plain": [
       "HBox(children=(IntProgress(value=0, max=938), HTML(value='')))"
      ]
     },
     "metadata": {},
     "output_type": "display_data"
    },
    {
     "name": "stdout",
     "output_type": "stream",
     "text": [
      "Iteration 7: Loss=0.0308, test_loss=0.029800662761444156train accuracy=0.9238, test accuracy=0.9221\n"
     ]
    },
    {
     "data": {
      "application/vnd.jupyter.widget-view+json": {
       "model_id": "",
       "version_major": 2,
       "version_minor": 0
      },
      "text/plain": [
       "HBox(children=(IntProgress(value=0, max=938), HTML(value='')))"
      ]
     },
     "metadata": {},
     "output_type": "display_data"
    },
    {
     "name": "stdout",
     "output_type": "stream",
     "text": [
      "Iteration 8: Loss=0.0305, test_loss=0.029635874017726035train accuracy=0.9249, test accuracy=0.9235\n"
     ]
    },
    {
     "data": {
      "application/vnd.jupyter.widget-view+json": {
       "model_id": "",
       "version_major": 2,
       "version_minor": 0
      },
      "text/plain": [
       "HBox(children=(IntProgress(value=0, max=938), HTML(value='')))"
      ]
     },
     "metadata": {},
     "output_type": "display_data"
    },
    {
     "name": "stdout",
     "output_type": "stream",
     "text": [
      "Iteration 9: Loss=0.0303, test_loss=0.02950795119028338train accuracy=0.9260, test accuracy=0.9246\n",
      "\n"
     ]
    }
   ],
   "source": [
    "for epoch in tqdm(np.arange(epochs)):\n",
    "    epoch_loss = 0.0\n",
    "    n_batches = 0\n",
    "    for start in tqdm(range(0, X_train.shape[0], batch_size), leave=False):\n",
    "        end = start + batch_size\n",
    "\n",
    "        X_batch = X_train[start:end]\n",
    "        y_batch = y_train[start:end]\n",
    "        \n",
    "        for l in model.layers:\n",
    "            l.flush_gradients()\n",
    "        \n",
    "        # Feedforward\n",
    "        y_pred = model.forward(X_batch)\n",
    "\n",
    "        # Calculate loss\n",
    "        batch_loss = loss_func(y_batch, y_pred)\n",
    "\n",
    "        # Backprop\n",
    "        grads = loss_func.grad(y_batch, y_pred)\n",
    "        _ = model.backward(grads)\n",
    "\n",
    "        # Update gradients\n",
    "        for l in model.layers:\n",
    "            if l.parameters:\n",
    "                l.parameters['W'] = optimizer.update(l.parameters['W'], l.gradients['W'], 'W')\n",
    "                l.parameters['b'] = optimizer.update(l.parameters['b'], l.gradients['b'], 'b')\n",
    "\n",
    "        epoch_loss = epoch_loss + batch_loss\n",
    "        n_batches += 1\n",
    "\n",
    "    epoch_loss = epoch_loss / n_batches\n",
    "    \n",
    "    # Calculate accuracy\n",
    "    y_pred_train = model.forward(X_train)\n",
    "    train_acc = accuracy_scorev2(y_train, y_pred_train)\n",
    "    # test_loss = loss_func(y_test, y_pred_test)\n",
    "    # Test accuracy\n",
    "    y_pred_test = model.forward(X_test)\n",
    "    test_acc = accuracy_scorev2(y_test, y_pred_test)\n",
    "    test_loss = loss_func(y_test, y_pred_test)\n",
    "    train_losses.append(epoch_loss)\n",
    "    test_losses.append(test_loss)\n",
    "    train_accs.append(train_acc)\n",
    "    test_accs.append(test_acc)\n",
    "\n",
    "    if epoch % 1 == 0:\n",
    "        print(\n",
    "            f\"Iteration {epoch}: Loss={epoch_loss:.4f}, test_loss={test_loss}\"\n",
    "            f\"train accuracy={train_acc:.4f}, test accuracy={test_acc:.4f}\"\n",
    "        )\n",
    "    epoch += 1"
   ]
  },
  {
   "cell_type": "code",
   "execution_count": 184,
   "metadata": {},
   "outputs": [
    {
     "data": {
      "text/plain": [
       "<matplotlib.legend.Legend at 0x15747dd68>"
      ]
     },
     "execution_count": 184,
     "metadata": {},
     "output_type": "execute_result"
    },
    {
     "data": {
      "image/png": "[encoded data removed]",
      "text/plain": [
       "<Figure size 432x288 with 1 Axes>"
      ]
     },
     "metadata": {
      "needs_background": "light"
     },
     "output_type": "display_data"
    }
   ],
   "source": [
    "plt.plot(train_losses, label='train_loss')\n",
    "plt.plot(test_losses, label='test_loss')\n",
    "plt.legend()"
   ]
  },
  {
   "cell_type": "code",
   "execution_count": 185,
   "metadata": {},
   "outputs": [
    {
     "data": {
      "text/plain": [
       "<matplotlib.legend.Legend at 0x156afc710>"
      ]
     },
     "execution_count": 185,
     "metadata": {},
     "output_type": "execute_result"
    },
    {
     "data": {
      "image/png": "[encoded data removed]",
      "text/plain": [
       "<Figure size 432x288 with 1 Axes>"
      ]
     },
     "metadata": {
      "needs_background": "light"
     },
     "output_type": "display_data"
    }
   ],
   "source": [
    "plt.plot(train_accs, label='train_acc')\n",
    "plt.plot(test_accs, label='test_acc')\n",
    "plt.legend()"
   ]
  },
  {
   "cell_type": "code",
   "execution_count": 186,
   "metadata": {},
   "outputs": [
    {
     "data": {
      "text/plain": [
       "[array([[ 0.0156749 ,  0.0239096 ,  0.02782258, ..., -0.00726044,\n",
       "          0.02551179, -0.07415281],\n",
       "        [ 0.05340328, -0.01882841,  0.08417808, ..., -0.0443885 ,\n",
       "          0.07111691,  0.02089547],\n",
       "        [-0.08279879,  0.00124917,  0.06329731, ..., -0.00084674,\n",
       "          0.05999225,  0.01598885],\n",
       "        ...,\n",
       "        [-0.02875499, -0.049286  , -0.01312213, ..., -0.05937527,\n",
       "          0.0441135 ,  0.02890387],\n",
       "        [-0.05502396, -0.02962902, -0.02599099, ...,  0.02224679,\n",
       "          0.07484099, -0.07663507],\n",
       "        [-0.04506697, -0.04304182,  0.01417841, ...,  0.03020654,\n",
       "          0.01102094, -0.06458024]]),\n",
       " array([[-0.33707781,  0.179214  ,  0.06515067, -0.27878068,  0.04001873,\n",
       "          1.14832942,  0.02781151,  0.54668659, -1.17241796, -0.21893449]])]"
      ]
     },
     "execution_count": 186,
     "metadata": {},
     "output_type": "execute_result"
    }
   ],
   "source": [
    "list(model.parameters())"
   ]
  },
  {
   "cell_type": "code",
   "execution_count": null,
   "metadata": {},
   "outputs": [],
   "source": []
  }
 ],
 "metadata": {
  "kernelspec": {
   "display_name": "Python [conda env:ftml]",
   "language": "python",
   "name": "conda-env-ftml-py"
  },
  "language_info": {
   "codemirror_mode": {
    "name": "ipython",
    "version": 3
   },
   "file_extension": ".py",
   "mimetype": "text/x-python",
   "name": "python",
   "nbconvert_exporter": "python",
   "pygments_lexer": "ipython3",
   "version": "3.7.3"
  }
 },
 "nbformat": 4,
 "nbformat_minor": 4
}
