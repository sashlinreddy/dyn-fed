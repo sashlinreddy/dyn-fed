{
 "cells": [
  {
   "cell_type": "markdown",
   "metadata": {},
   "source": [
    "## Linear regression"
   ]
  },
  {
   "cell_type": "code",
   "execution_count": 1,
   "metadata": {},
   "outputs": [],
   "source": [
    "import logging\n",
    "import os\n",
    "\n",
    "import numpy as np\n",
    "import matplotlib.pyplot as plt\n",
    "# For reproducibility\n",
    "# pylint: disable=wrong-import-position\n",
    "np.random.seed(42)\n",
    "from dotenv import find_dotenv, load_dotenv\n",
    "\n",
    "import fault_tolerant_ml as ft\n",
    "from fault_tolerant_ml.layers import Layer\n",
    "from fault_tolerant_ml.losses import MSELoss\n",
    "from fault_tolerant_ml.metrics import accuracy_scorev2, confusion_matrix\n",
    "from fault_tolerant_ml.optimizers import SGD, Adam\n",
    "from fault_tolerant_ml.data import yearmsd\n",
    "\n",
    "%matplotlib inline\n",
    "%reload_ext autoreload\n",
    "%autoreload 2"
   ]
  },
  {
   "cell_type": "code",
   "execution_count": 2,
   "metadata": {},
   "outputs": [],
   "source": [
    "class LinearRegressionV2(ft.ModelV2):\n",
    "    \"\"\"Linear regression\n",
    "    \"\"\"\n",
    "    def __init__(\n",
    "            self,\n",
    "            optimizer,\n",
    "            strategy=None,\n",
    "            batch_size=64,\n",
    "            max_iter=300,\n",
    "            shuffle=True,\n",
    "            verbose=10,\n",
    "            **kwargs):\n",
    "        super().__init__(\n",
    "            optimizer=optimizer,\n",
    "            strategy=strategy, \n",
    "            batch_size=batch_size,\n",
    "            max_iter=max_iter, \n",
    "            shuffle=shuffle, \n",
    "            verbose=verbose, \n",
    "            **kwargs\n",
    "        )\n",
    "\n",
    "        self.add(Layer(90, 1, activation=\"linear\"))"
   ]
  },
  {
   "cell_type": "code",
   "execution_count": 20,
   "metadata": {},
   "outputs": [],
   "source": [
    "def train(model, X_train, y_train, X_test, y_test, batch_size=32, epochs=100):\n",
    "    for epoch in np.arange(epochs):\n",
    "        epoch_loss = 0.0\n",
    "        n_batches = 0\n",
    "        for start in range(0, X_train.shape[0], batch_size):\n",
    "            end = start + batch_size\n",
    "\n",
    "            X_batch = X_train[start:end]\n",
    "            y_batch = y_train[start:end]\n",
    "\n",
    "            # Feedforward\n",
    "            y_pred = model.forward(X_batch)\n",
    "            \n",
    "            # print(y_pred[1])\n",
    "\n",
    "            # Calculate loss\n",
    "            batch_loss = loss.loss(y_batch, y_pred, reduce=True).data\n",
    "\n",
    "            # Backprop\n",
    "            optimizer.compute_gradients(model, y_batch, y_pred)\n",
    "\n",
    "            # Update gradients\n",
    "            optimizer.apply_gradients(model)\n",
    "\n",
    "            epoch_loss = epoch_loss + batch_loss\n",
    "            n_batches += 1\n",
    "\n",
    "        epoch_loss = epoch_loss / n_batches\n",
    "\n",
    "        # Calculate accuracy\n",
    "        y_pred_train = model.forward(X_train)\n",
    "        # train_acc = accuracy_scorev2(y_train.data, y_pred_train.data)\n",
    "        # Test accuracy\n",
    "        y_pred_test = model.forward(X_test)\n",
    "        test_loss = loss.loss(y_test, y_pred_test, reduce=True).data\n",
    "\n",
    "        if epoch % 1 == 0:\n",
    "            print(f\"Iteration {epoch}: Loss={epoch_loss:.4f}, test_loss={test_loss:.4f}\")\n",
    "        epoch += 1\n",
    "        \n",
    "    return epoch_loss"
   ]
  },
  {
   "cell_type": "code",
   "execution_count": 32,
   "metadata": {},
   "outputs": [],
   "source": [
    "loss = MSELoss()\n",
    "\n",
    "# Define optimizer\n",
    "optimizer = None\n",
    "\n",
    "optimizer = SGD(\n",
    "    loss=loss, \n",
    "    learning_rate=0.01\n",
    ")\n",
    "\n",
    "model = LinearRegressionV2(\n",
    "    optimizer=optimizer\n",
    ")"
   ]
  },
  {
   "cell_type": "code",
   "execution_count": 33,
   "metadata": {},
   "outputs": [],
   "source": [
    "(x_train, y_train), (x_test, y_test) = yearmsd.load_data()"
   ]
  },
  {
   "cell_type": "code",
   "execution_count": 23,
   "metadata": {},
   "outputs": [
    {
     "data": {
      "text/plain": [
       "(463715, 1)"
      ]
     },
     "execution_count": 23,
     "metadata": {},
     "output_type": "execute_result"
    }
   ],
   "source": [
    "y_train.shape"
   ]
  },
  {
   "cell_type": "code",
   "execution_count": 34,
   "metadata": {},
   "outputs": [],
   "source": [
    "x_train = ft.operators.Tensor(x_train)\n",
    "y_train = ft.operators.Tensor(y_train)\n",
    "x_test = ft.operators.Tensor(x_test)\n",
    "y_test = ft.operators.Tensor(y_test)"
   ]
  },
  {
   "cell_type": "code",
   "execution_count": 35,
   "metadata": {},
   "outputs": [
    {
     "name": "stdout",
     "output_type": "stream",
     "text": [
      "Iteration 0: Loss=7903.2359, test_loss=49.6186\n",
      "Iteration 1: Loss=47.4896, test_loss=49.6186\n",
      "Iteration 2: Loss=47.4896, test_loss=49.6186\n",
      "Iteration 3: Loss=47.4896, test_loss=49.6186\n",
      "Iteration 4: Loss=47.4896, test_loss=49.6186\n",
      "Iteration 5: Loss=47.4896, test_loss=49.6186\n",
      "Iteration 6: Loss=47.4896, test_loss=49.6186\n",
      "Iteration 7: Loss=47.4896, test_loss=49.6186\n",
      "Iteration 8: Loss=47.4896, test_loss=49.6186\n",
      "Iteration 9: Loss=47.4896, test_loss=49.6186\n"
     ]
    },
    {
     "data": {
      "text/plain": [
       "47.48961531054774"
      ]
     },
     "execution_count": 35,
     "metadata": {},
     "output_type": "execute_result"
    }
   ],
   "source": [
    "train(\n",
    "    model,\n",
    "    x_train,\n",
    "    y_train,\n",
    "    x_test,\n",
    "    y_test,\n",
    "    epochs=10\n",
    ")"
   ]
  },
  {
   "cell_type": "code",
   "execution_count": null,
   "metadata": {},
   "outputs": [],
   "source": []
  }
 ],
 "metadata": {
  "kernelspec": {
   "display_name": "Python [conda env:ftml]",
   "language": "python",
   "name": "conda-env-ftml-py"
  },
  "language_info": {
   "codemirror_mode": {
    "name": "ipython",
    "version": 3
   },
   "file_extension": ".py",
   "mimetype": "text/x-python",
   "name": "python",
   "nbconvert_exporter": "python",
   "pygments_lexer": "ipython3",
   "version": "3.7.3"
  }
 },
 "nbformat": 4,
 "nbformat_minor": 4
}
