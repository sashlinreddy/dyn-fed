{
 "cells": [
  {
   "cell_type": "markdown",
   "metadata": {},
   "source": [
    "## Simple Neural Nets with tensorflow"
   ]
  },
  {
   "cell_type": "code",
   "execution_count": 1,
   "metadata": {},
   "outputs": [],
   "source": [
    "import tensorflow as tf\n",
    "tf.random.set_seed(42)\n",
    "import numpy as np\n",
    "np.random.seed(42)\n",
    "import matplotlib.pyplot as plt\n",
    "from tqdm import tqdm_notebook as tqdm\n",
    "\n",
    "%load_ext autoreload\n",
    "%autoreload\n",
    "%config Completer.use_jedi=False\n",
    "%matplotlib inline"
   ]
  },
  {
   "cell_type": "code",
   "execution_count": 2,
   "metadata": {},
   "outputs": [
    {
     "data": {
      "text/plain": [
       "True"
      ]
     },
     "execution_count": 2,
     "metadata": {},
     "output_type": "execute_result"
    }
   ],
   "source": [
    "tf.executing_eagerly()"
   ]
  },
  {
   "cell_type": "markdown",
   "metadata": {},
   "source": [
    "## Read in data\n",
    "\n",
    "Using MNIST"
   ]
  },
  {
   "cell_type": "code",
   "execution_count": 3,
   "metadata": {},
   "outputs": [],
   "source": [
    "(X_train, y_train), (X_test, y_test) = tf.keras.datasets.mnist.load_data()"
   ]
  },
  {
   "cell_type": "code",
   "execution_count": 4,
   "metadata": {},
   "outputs": [
    {
     "data": {
      "text/plain": [
       "((60000, 28, 28), (60000,))"
      ]
     },
     "execution_count": 4,
     "metadata": {},
     "output_type": "execute_result"
    }
   ],
   "source": [
    "X_train.shape, y_train.shape"
   ]
  },
  {
   "cell_type": "markdown",
   "metadata": {},
   "source": [
    "Convert numpy tensors to tensorflow tensors and create batches"
   ]
  },
  {
   "cell_type": "code",
   "execution_count": 5,
   "metadata": {},
   "outputs": [],
   "source": [
    "train_dataset = tf.data.Dataset.from_tensor_slices((X_train, y_train))\n",
    "test_dataset = tf.data.Dataset.from_tensor_slices((X_test, y_test))\n",
    "\n",
    "BATCH_SIZE = 128\n",
    "SHUFFLE_BUFFER_SIZE = 100\n",
    "\n",
    "train_dataset = train_dataset.shuffle(SHUFFLE_BUFFER_SIZE).batch(BATCH_SIZE)\n",
    "test_dataset = test_dataset.batch(BATCH_SIZE)"
   ]
  },
  {
   "cell_type": "markdown",
   "metadata": {},
   "source": [
    "## Train with non customizable loop"
   ]
  },
  {
   "cell_type": "markdown",
   "metadata": {},
   "source": [
    "Non customizable training loop"
   ]
  },
  {
   "cell_type": "code",
   "execution_count": 8,
   "metadata": {},
   "outputs": [],
   "source": [
    "model = tf.keras.Sequential([\n",
    "    tf.keras.layers.Flatten(input_shape=(28, 28)),\n",
    "#     tf.keras.layers.Dense(128, activation='relu'),\n",
    "    tf.keras.layers.Dense(10, activation=\"sigmoid\")\n",
    "])\n",
    "\n",
    "model.compile(optimizer=tf.keras.optimizers.SGD(learning_rate=0.01),\n",
    "              loss=tf.keras.losses.SparseCategoricalCrossentropy(from_logits=True),\n",
    "              metrics=['sparse_categorical_accuracy'])"
   ]
  },
  {
   "cell_type": "code",
   "execution_count": 9,
   "metadata": {},
   "outputs": [
    {
     "name": "stdout",
     "output_type": "stream",
     "text": [
      "Model: \"sequential_1\"\n",
      "_________________________________________________________________\n",
      "Layer (type)                 Output Shape              Param #   \n",
      "=================================================================\n",
      "flatten_1 (Flatten)          (None, 784)               0         \n",
      "_________________________________________________________________\n",
      "dense_2 (Dense)              (None, 10)                7850      \n",
      "=================================================================\n",
      "Total params: 7,850\n",
      "Trainable params: 7,850\n",
      "Non-trainable params: 0\n",
      "_________________________________________________________________\n"
     ]
    }
   ],
   "source": [
    "model.summary()"
   ]
  },
  {
   "cell_type": "code",
   "execution_count": 8,
   "metadata": {},
   "outputs": [
    {
     "name": "stdout",
     "output_type": "stream",
     "text": [
      "Epoch 1/100\n",
      "469/469 [==============================] - 2s 5ms/step - loss: 1.9474 - sparse_categorical_accuracy: 0.3760\n",
      "Epoch 2/100\n",
      "469/469 [==============================] - 1s 2ms/step - loss: 1.8459 - sparse_categorical_accuracy: 0.4386\n",
      "Epoch 3/100\n",
      "469/469 [==============================] - 1s 2ms/step - loss: 1.7988 - sparse_categorical_accuracy: 0.5273\n",
      "Epoch 4/100\n",
      "469/469 [==============================] - 1s 2ms/step - loss: 1.6910 - sparse_categorical_accuracy: 0.7346\n",
      "Epoch 5/100\n",
      "469/469 [==============================] - 1s 3ms/step - loss: 1.6484 - sparse_categorical_accuracy: 0.7764\n",
      "Epoch 6/100\n",
      "469/469 [==============================] - 1s 2ms/step - loss: 1.6344 - sparse_categorical_accuracy: 0.7887\n",
      "Epoch 7/100\n",
      "469/469 [==============================] - 1s 2ms/step - loss: 1.6267 - sparse_categorical_accuracy: 0.7971\n",
      "Epoch 8/100\n",
      "469/469 [==============================] - 1s 2ms/step - loss: 1.6215 - sparse_categorical_accuracy: 0.7991\n",
      "Epoch 9/100\n",
      "469/469 [==============================] - 1s 2ms/step - loss: 1.6169 - sparse_categorical_accuracy: 0.8057\n",
      "Epoch 10/100\n",
      "469/469 [==============================] - 1s 3ms/step - loss: 1.6128 - sparse_categorical_accuracy: 0.8118\n",
      "Epoch 11/100\n",
      "469/469 [==============================] - 1s 2ms/step - loss: 1.6093 - sparse_categorical_accuracy: 0.8153\n",
      "Epoch 12/100\n",
      "469/469 [==============================] - 1s 2ms/step - loss: 1.5583 - sparse_categorical_accuracy: 0.8522\n",
      "Epoch 13/100\n",
      "469/469 [==============================] - 1s 3ms/step - loss: 1.5359 - sparse_categorical_accuracy: 0.8870\n",
      "Epoch 14/100\n",
      "469/469 [==============================] - 1s 2ms/step - loss: 1.5309 - sparse_categorical_accuracy: 0.8998\n",
      "Epoch 15/100\n",
      "469/469 [==============================] - 1s 2ms/step - loss: 1.5273 - sparse_categorical_accuracy: 0.9071\n",
      "Epoch 16/100\n",
      "469/469 [==============================] - 1s 2ms/step - loss: 1.5241 - sparse_categorical_accuracy: 0.9078\n",
      "Epoch 17/100\n",
      "469/469 [==============================] - 1s 3ms/step - loss: 1.5204 - sparse_categorical_accuracy: 0.9168\n",
      "Epoch 18/100\n",
      "469/469 [==============================] - 1s 2ms/step - loss: 1.5181 - sparse_categorical_accuracy: 0.9210\n",
      "Epoch 19/100\n",
      "469/469 [==============================] - 1s 2ms/step - loss: 1.5164 - sparse_categorical_accuracy: 0.9212\n",
      "Epoch 20/100\n",
      "469/469 [==============================] - 1s 3ms/step - loss: 1.5150 - sparse_categorical_accuracy: 0.9230\n",
      "Epoch 21/100\n",
      "469/469 [==============================] - 2s 3ms/step - loss: 1.5129 - sparse_categorical_accuracy: 0.9283\n",
      "Epoch 22/100\n",
      "469/469 [==============================] - 1s 3ms/step - loss: 1.5110 - sparse_categorical_accuracy: 0.9299\n",
      "Epoch 23/100\n",
      "469/469 [==============================] - 1s 3ms/step - loss: 1.5098 - sparse_categorical_accuracy: 0.9344\n",
      "Epoch 24/100\n",
      "469/469 [==============================] - 1s 3ms/step - loss: 1.5084 - sparse_categorical_accuracy: 0.9333\n",
      "Epoch 25/100\n",
      "469/469 [==============================] - 1s 2ms/step - loss: 1.5077 - sparse_categorical_accuracy: 0.9362\n",
      "Epoch 26/100\n",
      "469/469 [==============================] - 1s 3ms/step - loss: 1.5061 - sparse_categorical_accuracy: 0.9389\n",
      "Epoch 27/100\n",
      "469/469 [==============================] - 1s 2ms/step - loss: 1.5048 - sparse_categorical_accuracy: 0.9397\n",
      "Epoch 28/100\n",
      "469/469 [==============================] - 1s 2ms/step - loss: 1.5035 - sparse_categorical_accuracy: 0.9395\n",
      "Epoch 29/100\n",
      "469/469 [==============================] - 1s 2ms/step - loss: 1.5030 - sparse_categorical_accuracy: 0.9422\n",
      "Epoch 30/100\n",
      "469/469 [==============================] - 1s 2ms/step - loss: 1.5022 - sparse_categorical_accuracy: 0.9442\n",
      "Epoch 31/100\n",
      "469/469 [==============================] - 1s 2ms/step - loss: 1.5022 - sparse_categorical_accuracy: 0.9428\n",
      "Epoch 32/100\n",
      "469/469 [==============================] - 1s 3ms/step - loss: 1.5013 - sparse_categorical_accuracy: 0.9446\n",
      "Epoch 33/100\n",
      "469/469 [==============================] - 1s 3ms/step - loss: 1.4997 - sparse_categorical_accuracy: 0.9473\n",
      "Epoch 34/100\n",
      "469/469 [==============================] - 1s 2ms/step - loss: 1.4995 - sparse_categorical_accuracy: 0.9482\n",
      "Epoch 35/100\n",
      "469/469 [==============================] - 1s 2ms/step - loss: 1.4986 - sparse_categorical_accuracy: 0.9485\n",
      "Epoch 36/100\n",
      "469/469 [==============================] - 1s 3ms/step - loss: 1.4978 - sparse_categorical_accuracy: 0.9515\n",
      "Epoch 37/100\n",
      "469/469 [==============================] - 1s 3ms/step - loss: 1.4970 - sparse_categorical_accuracy: 0.9509\n",
      "Epoch 38/100\n",
      "469/469 [==============================] - 1s 3ms/step - loss: 1.4967 - sparse_categorical_accuracy: 0.9521\n",
      "Epoch 39/100\n",
      "469/469 [==============================] - 1s 3ms/step - loss: 1.4960 - sparse_categorical_accuracy: 0.9528\n",
      "Epoch 40/100\n",
      "469/469 [==============================] - 1s 2ms/step - loss: 1.4956 - sparse_categorical_accuracy: 0.9538\n",
      "Epoch 41/100\n",
      "469/469 [==============================] - 1s 2ms/step - loss: 1.4949 - sparse_categorical_accuracy: 0.9542\n",
      "Epoch 42/100\n",
      "469/469 [==============================] - 1s 2ms/step - loss: 1.4946 - sparse_categorical_accuracy: 0.9536\n",
      "Epoch 43/100\n",
      "469/469 [==============================] - 1s 2ms/step - loss: 1.4939 - sparse_categorical_accuracy: 0.9551\n",
      "Epoch 44/100\n",
      "469/469 [==============================] - 1s 2ms/step - loss: 1.4937 - sparse_categorical_accuracy: 0.9552\n",
      "Epoch 45/100\n",
      "469/469 [==============================] - 1s 2ms/step - loss: 1.4931 - sparse_categorical_accuracy: 0.9566\n",
      "Epoch 46/100\n",
      "469/469 [==============================] - 1s 2ms/step - loss: 1.4930 - sparse_categorical_accuracy: 0.9570\n",
      "Epoch 47/100\n",
      "469/469 [==============================] - 1s 2ms/step - loss: 1.4926 - sparse_categorical_accuracy: 0.9572\n",
      "Epoch 48/100\n",
      "469/469 [==============================] - 1s 2ms/step - loss: 1.4923 - sparse_categorical_accuracy: 0.9580\n",
      "Epoch 49/100\n",
      "469/469 [==============================] - 1s 2ms/step - loss: 1.4914 - sparse_categorical_accuracy: 0.9597\n",
      "Epoch 50/100\n",
      "469/469 [==============================] - 1s 2ms/step - loss: 1.4917 - sparse_categorical_accuracy: 0.9578\n",
      "Epoch 51/100\n",
      "469/469 [==============================] - 1s 3ms/step - loss: 1.4906 - sparse_categorical_accuracy: 0.9606\n",
      "Epoch 52/100\n",
      "469/469 [==============================] - 1s 2ms/step - loss: 1.4904 - sparse_categorical_accuracy: 0.9597\n",
      "Epoch 53/100\n",
      "469/469 [==============================] - 1s 2ms/step - loss: 1.4898 - sparse_categorical_accuracy: 0.9619\n",
      "Epoch 54/100\n",
      "469/469 [==============================] - 1s 2ms/step - loss: 1.4895 - sparse_categorical_accuracy: 0.9626\n",
      "Epoch 55/100\n",
      "469/469 [==============================] - 1s 2ms/step - loss: 1.4889 - sparse_categorical_accuracy: 0.9616\n",
      "Epoch 56/100\n",
      "469/469 [==============================] - 1s 2ms/step - loss: 1.4887 - sparse_categorical_accuracy: 0.9629\n",
      "Epoch 57/100\n",
      "469/469 [==============================] - 1s 2ms/step - loss: 1.4887 - sparse_categorical_accuracy: 0.9630\n",
      "Epoch 58/100\n",
      "469/469 [==============================] - 1s 2ms/step - loss: 1.4884 - sparse_categorical_accuracy: 0.9633\n",
      "Epoch 59/100\n",
      "469/469 [==============================] - 1s 2ms/step - loss: 1.4883 - sparse_categorical_accuracy: 0.9629\n",
      "Epoch 60/100\n",
      "469/469 [==============================] - 1s 2ms/step - loss: 1.4878 - sparse_categorical_accuracy: 0.9649\n",
      "Epoch 61/100\n",
      "469/469 [==============================] - 1s 2ms/step - loss: 1.4875 - sparse_categorical_accuracy: 0.9642\n",
      "Epoch 62/100\n",
      "469/469 [==============================] - 1s 2ms/step - loss: 1.4871 - sparse_categorical_accuracy: 0.9639\n",
      "Epoch 63/100\n",
      "469/469 [==============================] - 1s 2ms/step - loss: 1.4869 - sparse_categorical_accuracy: 0.9649\n",
      "Epoch 64/100\n",
      "469/469 [==============================] - 1s 3ms/step - loss: 1.4866 - sparse_categorical_accuracy: 0.9654\n",
      "Epoch 65/100\n",
      "469/469 [==============================] - 1s 2ms/step - loss: 1.4862 - sparse_categorical_accuracy: 0.9668\n",
      "Epoch 66/100\n",
      "469/469 [==============================] - 1s 2ms/step - loss: 1.4859 - sparse_categorical_accuracy: 0.9668\n",
      "Epoch 67/100\n",
      "469/469 [==============================] - 1s 2ms/step - loss: 1.4859 - sparse_categorical_accuracy: 0.9664\n",
      "Epoch 68/100\n",
      "469/469 [==============================] - 1s 2ms/step - loss: 1.4856 - sparse_categorical_accuracy: 0.9678\n",
      "Epoch 69/100\n",
      "469/469 [==============================] - 1s 2ms/step - loss: 1.4855 - sparse_categorical_accuracy: 0.9672\n",
      "Epoch 70/100\n",
      "469/469 [==============================] - 1s 2ms/step - loss: 1.4853 - sparse_categorical_accuracy: 0.9674\n",
      "Epoch 71/100\n",
      "469/469 [==============================] - 1s 2ms/step - loss: 1.4850 - sparse_categorical_accuracy: 0.9679\n",
      "Epoch 72/100\n",
      "469/469 [==============================] - 1s 2ms/step - loss: 1.4848 - sparse_categorical_accuracy: 0.9688\n",
      "Epoch 73/100\n",
      "469/469 [==============================] - 1s 2ms/step - loss: 1.4845 - sparse_categorical_accuracy: 0.9689\n",
      "Epoch 74/100\n",
      "469/469 [==============================] - 1s 2ms/step - loss: 1.4842 - sparse_categorical_accuracy: 0.9691\n",
      "Epoch 75/100\n",
      "469/469 [==============================] - 1s 2ms/step - loss: 1.4839 - sparse_categorical_accuracy: 0.9693\n",
      "Epoch 76/100\n",
      "469/469 [==============================] - 1s 3ms/step - loss: 1.4838 - sparse_categorical_accuracy: 0.9699\n",
      "Epoch 77/100\n",
      "469/469 [==============================] - 1s 2ms/step - loss: 1.4835 - sparse_categorical_accuracy: 0.9699\n",
      "Epoch 78/100\n",
      "469/469 [==============================] - 1s 2ms/step - loss: 1.4833 - sparse_categorical_accuracy: 0.9703\n",
      "Epoch 79/100\n",
      "469/469 [==============================] - 1s 2ms/step - loss: 1.4831 - sparse_categorical_accuracy: 0.9705\n",
      "Epoch 80/100\n",
      "469/469 [==============================] - 1s 2ms/step - loss: 1.4830 - sparse_categorical_accuracy: 0.9710\n",
      "Epoch 81/100\n",
      "469/469 [==============================] - 1s 2ms/step - loss: 1.4825 - sparse_categorical_accuracy: 0.9713\n",
      "Epoch 82/100\n",
      "469/469 [==============================] - 1s 2ms/step - loss: 1.4826 - sparse_categorical_accuracy: 0.9710\n",
      "Epoch 83/100\n",
      "469/469 [==============================] - 1s 2ms/step - loss: 1.4827 - sparse_categorical_accuracy: 0.9717\n",
      "Epoch 84/100\n",
      "469/469 [==============================] - 1s 2ms/step - loss: 1.4825 - sparse_categorical_accuracy: 0.9715\n",
      "Epoch 85/100\n",
      "469/469 [==============================] - 1s 2ms/step - loss: 1.4822 - sparse_categorical_accuracy: 0.9717\n",
      "Epoch 86/100\n",
      "469/469 [==============================] - 1s 2ms/step - loss: 1.4821 - sparse_categorical_accuracy: 0.9717\n",
      "Epoch 87/100\n",
      "469/469 [==============================] - 1s 2ms/step - loss: 1.4820 - sparse_categorical_accuracy: 0.9721\n",
      "Epoch 88/100\n",
      "469/469 [==============================] - 1s 2ms/step - loss: 1.4818 - sparse_categorical_accuracy: 0.9722\n",
      "Epoch 89/100\n",
      "469/469 [==============================] - 1s 2ms/step - loss: 1.4820 - sparse_categorical_accuracy: 0.9724\n",
      "Epoch 90/100\n",
      "469/469 [==============================] - 1s 2ms/step - loss: 1.4815 - sparse_categorical_accuracy: 0.9725\n",
      "Epoch 91/100\n",
      "469/469 [==============================] - 1s 2ms/step - loss: 1.4815 - sparse_categorical_accuracy: 0.9726\n",
      "Epoch 92/100\n",
      "469/469 [==============================] - 1s 2ms/step - loss: 1.4812 - sparse_categorical_accuracy: 0.9728\n",
      "Epoch 93/100\n",
      "469/469 [==============================] - 1s 2ms/step - loss: 1.4810 - sparse_categorical_accuracy: 0.9732\n",
      "Epoch 94/100\n",
      "469/469 [==============================] - 1s 2ms/step - loss: 1.4808 - sparse_categorical_accuracy: 0.9729\n",
      "Epoch 95/100\n",
      "469/469 [==============================] - 1s 2ms/step - loss: 1.4811 - sparse_categorical_accuracy: 0.9732\n",
      "Epoch 96/100\n",
      "469/469 [==============================] - 1s 2ms/step - loss: 1.4810 - sparse_categorical_accuracy: 0.9732\n",
      "Epoch 97/100\n",
      "469/469 [==============================] - 1s 2ms/step - loss: 1.4814 - sparse_categorical_accuracy: 0.9728\n",
      "Epoch 98/100\n",
      "469/469 [==============================] - 1s 2ms/step - loss: 1.4805 - sparse_categorical_accuracy: 0.9738\n",
      "Epoch 99/100\n",
      "469/469 [==============================] - 1s 2ms/step - loss: 1.4805 - sparse_categorical_accuracy: 0.9738\n",
      "Epoch 100/100\n",
      "469/469 [==============================] - 1s 2ms/step - loss: 1.4801 - sparse_categorical_accuracy: 0.9742\n",
      "CPU times: user 3min 47s, sys: 2min 9s, total: 5min 57s\n",
      "Wall time: 1min 57s\n"
     ]
    }
   ],
   "source": [
    "%%time\n",
    "history = model.fit(train_dataset, epochs=100)"
   ]
  },
  {
   "cell_type": "code",
   "execution_count": 16,
   "metadata": {},
   "outputs": [
    {
     "data": {
      "text/plain": [
       "[<matplotlib.lines.Line2D at 0x141967e10>]"
      ]
     },
     "execution_count": 16,
     "metadata": {},
     "output_type": "execute_result"
    },
    {
     "data": {
      "image/png": "[encoded data removed]",
      "text/plain": [
       "<Figure size 432x288 with 1 Axes>"
      ]
     },
     "metadata": {
      "needs_background": "light"
     },
     "output_type": "display_data"
    }
   ],
   "source": [
    "plt.plot(history.history['loss'])"
   ]
  },
  {
   "cell_type": "code",
   "execution_count": 17,
   "metadata": {},
   "outputs": [
    {
     "name": "stdout",
     "output_type": "stream",
     "text": [
      "79/79 [==============================] - 0s 3ms/step - loss: 1.4975 - sparse_categorical_accuracy: 0.9598\n"
     ]
    },
    {
     "data": {
      "text/plain": [
       "[1.497455608995655, 0.9598]"
      ]
     },
     "execution_count": 17,
     "metadata": {},
     "output_type": "execute_result"
    }
   ],
   "source": [
    "model.evaluate(test_dataset)"
   ]
  },
  {
   "cell_type": "markdown",
   "metadata": {},
   "source": [
    "Customizable training loop"
   ]
  },
  {
   "cell_type": "code",
   "execution_count": 21,
   "metadata": {},
   "outputs": [],
   "source": [
    "# Define simple neural net\n",
    "model = tf.keras.Sequential([\n",
    "    tf.keras.layers.Flatten(input_shape=(28, 28)),\n",
    "    tf.keras.layers.Dense(128, activation='relu'),\n",
    "    tf.keras.layers.Dense(10, activation=\"sigmoid\")\n",
    "])\n",
    "\n",
    "# Define optimizer\n",
    "optimizer = tf.keras.optimizers.SGD(learning_rate=0.01)\n",
    "\n",
    "# Define loss function\n",
    "loss_func = tf.keras.losses.SparseCategoricalCrossentropy(from_logits=True)\n",
    "\n",
    "epoch_loss_avg = tf.keras.metrics.Mean()\n",
    "epoch_accuracy = tf.keras.metrics.SparseCategoricalAccuracy()\n",
    "test_epoch_loss_avg = tf.keras.metrics.Mean()\n",
    "test_epoch_accuracy = tf.keras.metrics.SparseCategoricalAccuracy()"
   ]
  },
  {
   "cell_type": "code",
   "execution_count": 22,
   "metadata": {},
   "outputs": [],
   "source": [
    "@tf.function\n",
    "def train_loop(x, y):\n",
    "\n",
    "    # Calculate gradients\n",
    "    with tf.GradientTape() as t:\n",
    "        # training=training is needed only if there are layers with different\n",
    "        # behavior during training versus inference (e.g. Dropout).\n",
    "        predictions = model(x, training=True)\n",
    "        loss = loss_func(y, predictions)\n",
    "\n",
    "    grads = t.gradient(loss, model.trainable_variables)\n",
    "\n",
    "    # Optimize the model\n",
    "    optimizer.apply_gradients(zip(grads, model.trainable_variables))\n",
    "    \n",
    "    # Track progress\n",
    "    epoch_loss_avg(loss)\n",
    "\n",
    "    # Compare predicted label to actual\n",
    "    epoch_accuracy.update_state(y, predictions)\n",
    "    \n",
    "#     return loss, predictions"
   ]
  },
  {
   "cell_type": "code",
   "execution_count": 23,
   "metadata": {},
   "outputs": [
    {
     "data": {
      "application/vnd.jupyter.widget-view+json": {
       "model_id": "11fed8fbbf4c4e65bc21ba7906078072",
       "version_major": 2,
       "version_minor": 0
      },
      "text/plain": [
       "HBox(children=(IntProgress(value=0), HTML(value='')))"
      ]
     },
     "metadata": {},
     "output_type": "display_data"
    },
    {
     "data": {
      "application/vnd.jupyter.widget-view+json": {
       "model_id": "",
       "version_major": 2,
       "version_minor": 0
      },
      "text/plain": [
       "HBox(children=(IntProgress(value=0, max=469), HTML(value='')))"
      ]
     },
     "metadata": {},
     "output_type": "display_data"
    },
    {
     "name": "stdout",
     "output_type": "stream",
     "text": [
      "Epoch 000: train_loss: 1.768, test_loss: 1.623 Accuracy: 0.600%Test accuracy=0.768\n"
     ]
    },
    {
     "data": {
      "application/vnd.jupyter.widget-view+json": {
       "model_id": "",
       "version_major": 2,
       "version_minor": 0
      },
      "text/plain": [
       "HBox(children=(IntProgress(value=0, max=469), HTML(value='')))"
      ]
     },
     "metadata": {},
     "output_type": "display_data"
    },
    {
     "name": "stdout",
     "output_type": "stream",
     "text": [
      "Epoch 001: train_loss: 1.610, test_loss: 1.580 Accuracy: 0.794%Test accuracy=0.845\n"
     ]
    },
    {
     "data": {
      "application/vnd.jupyter.widget-view+json": {
       "model_id": "",
       "version_major": 2,
       "version_minor": 0
      },
      "text/plain": [
       "HBox(children=(IntProgress(value=0, max=469), HTML(value='')))"
      ]
     },
     "metadata": {},
     "output_type": "display_data"
    },
    {
     "name": "stdout",
     "output_type": "stream",
     "text": [
      "Epoch 002: train_loss: 1.580, test_loss: 1.563 Accuracy: 0.838%Test accuracy=0.861\n"
     ]
    },
    {
     "data": {
      "application/vnd.jupyter.widget-view+json": {
       "model_id": "",
       "version_major": 2,
       "version_minor": 0
      },
      "text/plain": [
       "HBox(children=(IntProgress(value=0, max=469), HTML(value='')))"
      ]
     },
     "metadata": {},
     "output_type": "display_data"
    },
    {
     "name": "stdout",
     "output_type": "stream",
     "text": [
      "Epoch 003: train_loss: 1.565, test_loss: 1.563 Accuracy: 0.861%Test accuracy=0.836\n"
     ]
    },
    {
     "data": {
      "application/vnd.jupyter.widget-view+json": {
       "model_id": "",
       "version_major": 2,
       "version_minor": 0
      },
      "text/plain": [
       "HBox(children=(IntProgress(value=0, max=469), HTML(value='')))"
      ]
     },
     "metadata": {},
     "output_type": "display_data"
    },
    {
     "name": "stdout",
     "output_type": "stream",
     "text": [
      "Epoch 004: train_loss: 1.556, test_loss: 1.545 Accuracy: 0.872%Test accuracy=0.894\n"
     ]
    },
    {
     "data": {
      "application/vnd.jupyter.widget-view+json": {
       "model_id": "",
       "version_major": 2,
       "version_minor": 0
      },
      "text/plain": [
       "HBox(children=(IntProgress(value=0, max=469), HTML(value='')))"
      ]
     },
     "metadata": {},
     "output_type": "display_data"
    },
    {
     "name": "stdout",
     "output_type": "stream",
     "text": [
      "Epoch 005: train_loss: 1.546, test_loss: 1.541 Accuracy: 0.885%Test accuracy=0.896\n"
     ]
    },
    {
     "data": {
      "application/vnd.jupyter.widget-view+json": {
       "model_id": "",
       "version_major": 2,
       "version_minor": 0
      },
      "text/plain": [
       "HBox(children=(IntProgress(value=0, max=469), HTML(value='')))"
      ]
     },
     "metadata": {},
     "output_type": "display_data"
    },
    {
     "name": "stdout",
     "output_type": "stream",
     "text": [
      "Epoch 006: train_loss: 1.541, test_loss: 1.543 Accuracy: 0.889%Test accuracy=0.901\n"
     ]
    },
    {
     "data": {
      "application/vnd.jupyter.widget-view+json": {
       "model_id": "",
       "version_major": 2,
       "version_minor": 0
      },
      "text/plain": [
       "HBox(children=(IntProgress(value=0, max=469), HTML(value='')))"
      ]
     },
     "metadata": {},
     "output_type": "display_data"
    },
    {
     "name": "stdout",
     "output_type": "stream",
     "text": [
      "Epoch 007: train_loss: 1.536, test_loss: 1.533 Accuracy: 0.899%Test accuracy=0.903\n"
     ]
    },
    {
     "data": {
      "application/vnd.jupyter.widget-view+json": {
       "model_id": "",
       "version_major": 2,
       "version_minor": 0
      },
      "text/plain": [
       "HBox(children=(IntProgress(value=0, max=469), HTML(value='')))"
      ]
     },
     "metadata": {},
     "output_type": "display_data"
    },
    {
     "name": "stdout",
     "output_type": "stream",
     "text": [
      "Epoch 008: train_loss: 1.531, test_loss: 1.529 Accuracy: 0.900%Test accuracy=0.913\n"
     ]
    },
    {
     "data": {
      "application/vnd.jupyter.widget-view+json": {
       "model_id": "",
       "version_major": 2,
       "version_minor": 0
      },
      "text/plain": [
       "HBox(children=(IntProgress(value=0, max=469), HTML(value='')))"
      ]
     },
     "metadata": {},
     "output_type": "display_data"
    },
    {
     "name": "stdout",
     "output_type": "stream",
     "text": [
      "Epoch 009: train_loss: 1.528, test_loss: 1.525 Accuracy: 0.902%Test accuracy=0.906\n"
     ]
    },
    {
     "data": {
      "application/vnd.jupyter.widget-view+json": {
       "model_id": "",
       "version_major": 2,
       "version_minor": 0
      },
      "text/plain": [
       "HBox(children=(IntProgress(value=0, max=469), HTML(value='')))"
      ]
     },
     "metadata": {},
     "output_type": "display_data"
    },
    {
     "name": "stdout",
     "output_type": "stream",
     "text": [
      "Epoch 010: train_loss: 1.525, test_loss: 1.525 Accuracy: 0.912%Test accuracy=0.916\n"
     ]
    },
    {
     "data": {
      "application/vnd.jupyter.widget-view+json": {
       "model_id": "",
       "version_major": 2,
       "version_minor": 0
      },
      "text/plain": [
       "HBox(children=(IntProgress(value=0, max=469), HTML(value='')))"
      ]
     },
     "metadata": {},
     "output_type": "display_data"
    },
    {
     "name": "stdout",
     "output_type": "stream",
     "text": [
      "Epoch 011: train_loss: 1.522, test_loss: 1.522 Accuracy: 0.919%Test accuracy=0.917\n"
     ]
    },
    {
     "data": {
      "application/vnd.jupyter.widget-view+json": {
       "model_id": "",
       "version_major": 2,
       "version_minor": 0
      },
      "text/plain": [
       "HBox(children=(IntProgress(value=0, max=469), HTML(value='')))"
      ]
     },
     "metadata": {},
     "output_type": "display_data"
    },
    {
     "name": "stdout",
     "output_type": "stream",
     "text": [
      "Epoch 012: train_loss: 1.520, test_loss: 1.520 Accuracy: 0.916%Test accuracy=0.923\n"
     ]
    },
    {
     "data": {
      "application/vnd.jupyter.widget-view+json": {
       "model_id": "",
       "version_major": 2,
       "version_minor": 0
      },
      "text/plain": [
       "HBox(children=(IntProgress(value=0, max=469), HTML(value='')))"
      ]
     },
     "metadata": {},
     "output_type": "display_data"
    },
    {
     "name": "stdout",
     "output_type": "stream",
     "text": [
      "Epoch 013: train_loss: 1.518, test_loss: 1.520 Accuracy: 0.921%Test accuracy=0.918\n"
     ]
    },
    {
     "data": {
      "application/vnd.jupyter.widget-view+json": {
       "model_id": "",
       "version_major": 2,
       "version_minor": 0
      },
      "text/plain": [
       "HBox(children=(IntProgress(value=0, max=469), HTML(value='')))"
      ]
     },
     "metadata": {},
     "output_type": "display_data"
    },
    {
     "name": "stdout",
     "output_type": "stream",
     "text": [
      "Epoch 014: train_loss: 1.516, test_loss: 1.519 Accuracy: 0.925%Test accuracy=0.926\n"
     ]
    },
    {
     "data": {
      "application/vnd.jupyter.widget-view+json": {
       "model_id": "",
       "version_major": 2,
       "version_minor": 0
      },
      "text/plain": [
       "HBox(children=(IntProgress(value=0, max=469), HTML(value='')))"
      ]
     },
     "metadata": {},
     "output_type": "display_data"
    },
    {
     "name": "stdout",
     "output_type": "stream",
     "text": [
      "Epoch 015: train_loss: 1.514, test_loss: 1.519 Accuracy: 0.927%Test accuracy=0.928\n"
     ]
    },
    {
     "data": {
      "application/vnd.jupyter.widget-view+json": {
       "model_id": "",
       "version_major": 2,
       "version_minor": 0
      },
      "text/plain": [
       "HBox(children=(IntProgress(value=0, max=469), HTML(value='')))"
      ]
     },
     "metadata": {},
     "output_type": "display_data"
    },
    {
     "name": "stdout",
     "output_type": "stream",
     "text": [
      "Epoch 016: train_loss: 1.512, test_loss: 1.520 Accuracy: 0.928%Test accuracy=0.913\n"
     ]
    },
    {
     "data": {
      "application/vnd.jupyter.widget-view+json": {
       "model_id": "",
       "version_major": 2,
       "version_minor": 0
      },
      "text/plain": [
       "HBox(children=(IntProgress(value=0, max=469), HTML(value='')))"
      ]
     },
     "metadata": {},
     "output_type": "display_data"
    },
    {
     "name": "stdout",
     "output_type": "stream",
     "text": [
      "Epoch 017: train_loss: 1.511, test_loss: 1.517 Accuracy: 0.932%Test accuracy=0.931\n"
     ]
    },
    {
     "data": {
      "application/vnd.jupyter.widget-view+json": {
       "model_id": "",
       "version_major": 2,
       "version_minor": 0
      },
      "text/plain": [
       "HBox(children=(IntProgress(value=0, max=469), HTML(value='')))"
      ]
     },
     "metadata": {},
     "output_type": "display_data"
    },
    {
     "name": "stdout",
     "output_type": "stream",
     "text": [
      "Epoch 018: train_loss: 1.511, test_loss: 1.521 Accuracy: 0.934%Test accuracy=0.922\n"
     ]
    },
    {
     "data": {
      "application/vnd.jupyter.widget-view+json": {
       "model_id": "",
       "version_major": 2,
       "version_minor": 0
      },
      "text/plain": [
       "HBox(children=(IntProgress(value=0, max=469), HTML(value='')))"
      ]
     },
     "metadata": {},
     "output_type": "display_data"
    },
    {
     "name": "stdout",
     "output_type": "stream",
     "text": [
      "Epoch 019: train_loss: 1.509, test_loss: 1.513 Accuracy: 0.937%Test accuracy=0.931\n"
     ]
    },
    {
     "data": {
      "application/vnd.jupyter.widget-view+json": {
       "model_id": "",
       "version_major": 2,
       "version_minor": 0
      },
      "text/plain": [
       "HBox(children=(IntProgress(value=0, max=469), HTML(value='')))"
      ]
     },
     "metadata": {},
     "output_type": "display_data"
    },
    {
     "name": "stdout",
     "output_type": "stream",
     "text": [
      "Epoch 020: train_loss: 1.507, test_loss: 1.512 Accuracy: 0.938%Test accuracy=0.935\n"
     ]
    },
    {
     "data": {
      "application/vnd.jupyter.widget-view+json": {
       "model_id": "",
       "version_major": 2,
       "version_minor": 0
      },
      "text/plain": [
       "HBox(children=(IntProgress(value=0, max=469), HTML(value='')))"
      ]
     },
     "metadata": {},
     "output_type": "display_data"
    },
    {
     "name": "stdout",
     "output_type": "stream",
     "text": [
      "Epoch 021: train_loss: 1.507, test_loss: 1.510 Accuracy: 0.939%Test accuracy=0.936\n"
     ]
    },
    {
     "data": {
      "application/vnd.jupyter.widget-view+json": {
       "model_id": "",
       "version_major": 2,
       "version_minor": 0
      },
      "text/plain": [
       "HBox(children=(IntProgress(value=0, max=469), HTML(value='')))"
      ]
     },
     "metadata": {},
     "output_type": "display_data"
    },
    {
     "name": "stdout",
     "output_type": "stream",
     "text": [
      "Epoch 022: train_loss: 1.505, test_loss: 1.509 Accuracy: 0.941%Test accuracy=0.934\n"
     ]
    },
    {
     "data": {
      "application/vnd.jupyter.widget-view+json": {
       "model_id": "",
       "version_major": 2,
       "version_minor": 0
      },
      "text/plain": [
       "HBox(children=(IntProgress(value=0, max=469), HTML(value='')))"
      ]
     },
     "metadata": {},
     "output_type": "display_data"
    },
    {
     "name": "stdout",
     "output_type": "stream",
     "text": [
      "Epoch 023: train_loss: 1.505, test_loss: 1.509 Accuracy: 0.938%Test accuracy=0.939\n"
     ]
    },
    {
     "data": {
      "application/vnd.jupyter.widget-view+json": {
       "model_id": "",
       "version_major": 2,
       "version_minor": 0
      },
      "text/plain": [
       "HBox(children=(IntProgress(value=0, max=469), HTML(value='')))"
      ]
     },
     "metadata": {},
     "output_type": "display_data"
    },
    {
     "name": "stdout",
     "output_type": "stream",
     "text": [
      "Epoch 024: train_loss: 1.503, test_loss: 1.507 Accuracy: 0.942%Test accuracy=0.937\n"
     ]
    },
    {
     "data": {
      "application/vnd.jupyter.widget-view+json": {
       "model_id": "",
       "version_major": 2,
       "version_minor": 0
      },
      "text/plain": [
       "HBox(children=(IntProgress(value=0, max=469), HTML(value='')))"
      ]
     },
     "metadata": {},
     "output_type": "display_data"
    },
    {
     "name": "stdout",
     "output_type": "stream",
     "text": [
      "Epoch 025: train_loss: 1.502, test_loss: 1.507 Accuracy: 0.941%Test accuracy=0.938\n"
     ]
    },
    {
     "data": {
      "application/vnd.jupyter.widget-view+json": {
       "model_id": "",
       "version_major": 2,
       "version_minor": 0
      },
      "text/plain": [
       "HBox(children=(IntProgress(value=0, max=469), HTML(value='')))"
      ]
     },
     "metadata": {},
     "output_type": "display_data"
    },
    {
     "name": "stdout",
     "output_type": "stream",
     "text": [
      "Epoch 026: train_loss: 1.501, test_loss: 1.507 Accuracy: 0.946%Test accuracy=0.941\n"
     ]
    },
    {
     "data": {
      "application/vnd.jupyter.widget-view+json": {
       "model_id": "",
       "version_major": 2,
       "version_minor": 0
      },
      "text/plain": [
       "HBox(children=(IntProgress(value=0, max=469), HTML(value='')))"
      ]
     },
     "metadata": {},
     "output_type": "display_data"
    },
    {
     "name": "stdout",
     "output_type": "stream",
     "text": [
      "Epoch 027: train_loss: 1.501, test_loss: 1.507 Accuracy: 0.948%Test accuracy=0.944\n"
     ]
    },
    {
     "data": {
      "application/vnd.jupyter.widget-view+json": {
       "model_id": "",
       "version_major": 2,
       "version_minor": 0
      },
      "text/plain": [
       "HBox(children=(IntProgress(value=0, max=469), HTML(value='')))"
      ]
     },
     "metadata": {},
     "output_type": "display_data"
    },
    {
     "name": "stdout",
     "output_type": "stream",
     "text": [
      "Epoch 028: train_loss: 1.500, test_loss: 1.505 Accuracy: 0.947%Test accuracy=0.941\n"
     ]
    },
    {
     "data": {
      "application/vnd.jupyter.widget-view+json": {
       "model_id": "",
       "version_major": 2,
       "version_minor": 0
      },
      "text/plain": [
       "HBox(children=(IntProgress(value=0, max=469), HTML(value='')))"
      ]
     },
     "metadata": {},
     "output_type": "display_data"
    },
    {
     "name": "stdout",
     "output_type": "stream",
     "text": [
      "Epoch 029: train_loss: 1.499, test_loss: 1.508 Accuracy: 0.948%Test accuracy=0.944\n"
     ]
    },
    {
     "data": {
      "application/vnd.jupyter.widget-view+json": {
       "model_id": "",
       "version_major": 2,
       "version_minor": 0
      },
      "text/plain": [
       "HBox(children=(IntProgress(value=0, max=469), HTML(value='')))"
      ]
     },
     "metadata": {},
     "output_type": "display_data"
    },
    {
     "name": "stdout",
     "output_type": "stream",
     "text": [
      "Epoch 030: train_loss: 1.498, test_loss: 1.505 Accuracy: 0.951%Test accuracy=0.945\n"
     ]
    },
    {
     "data": {
      "application/vnd.jupyter.widget-view+json": {
       "model_id": "",
       "version_major": 2,
       "version_minor": 0
      },
      "text/plain": [
       "HBox(children=(IntProgress(value=0, max=469), HTML(value='')))"
      ]
     },
     "metadata": {},
     "output_type": "display_data"
    },
    {
     "name": "stdout",
     "output_type": "stream",
     "text": [
      "Epoch 031: train_loss: 1.497, test_loss: 1.506 Accuracy: 0.951%Test accuracy=0.946\n"
     ]
    },
    {
     "data": {
      "application/vnd.jupyter.widget-view+json": {
       "model_id": "",
       "version_major": 2,
       "version_minor": 0
      },
      "text/plain": [
       "HBox(children=(IntProgress(value=0, max=469), HTML(value='')))"
      ]
     },
     "metadata": {},
     "output_type": "display_data"
    },
    {
     "name": "stdout",
     "output_type": "stream",
     "text": [
      "Epoch 032: train_loss: 1.497, test_loss: 1.503 Accuracy: 0.952%Test accuracy=0.946\n"
     ]
    },
    {
     "data": {
      "application/vnd.jupyter.widget-view+json": {
       "model_id": "",
       "version_major": 2,
       "version_minor": 0
      },
      "text/plain": [
       "HBox(children=(IntProgress(value=0, max=469), HTML(value='')))"
      ]
     },
     "metadata": {},
     "output_type": "display_data"
    },
    {
     "name": "stdout",
     "output_type": "stream",
     "text": [
      "Epoch 033: train_loss: 1.497, test_loss: 1.503 Accuracy: 0.952%Test accuracy=0.948\n"
     ]
    },
    {
     "data": {
      "application/vnd.jupyter.widget-view+json": {
       "model_id": "",
       "version_major": 2,
       "version_minor": 0
      },
      "text/plain": [
       "HBox(children=(IntProgress(value=0, max=469), HTML(value='')))"
      ]
     },
     "metadata": {},
     "output_type": "display_data"
    },
    {
     "name": "stdout",
     "output_type": "stream",
     "text": [
      "Epoch 034: train_loss: 1.496, test_loss: 1.503 Accuracy: 0.953%Test accuracy=0.947\n"
     ]
    },
    {
     "data": {
      "application/vnd.jupyter.widget-view+json": {
       "model_id": "",
       "version_major": 2,
       "version_minor": 0
      },
      "text/plain": [
       "HBox(children=(IntProgress(value=0, max=469), HTML(value='')))"
      ]
     },
     "metadata": {},
     "output_type": "display_data"
    },
    {
     "name": "stdout",
     "output_type": "stream",
     "text": [
      "Epoch 035: train_loss: 1.495, test_loss: 1.505 Accuracy: 0.955%Test accuracy=0.950\n"
     ]
    },
    {
     "data": {
      "application/vnd.jupyter.widget-view+json": {
       "model_id": "",
       "version_major": 2,
       "version_minor": 0
      },
      "text/plain": [
       "HBox(children=(IntProgress(value=0, max=469), HTML(value='')))"
      ]
     },
     "metadata": {},
     "output_type": "display_data"
    },
    {
     "name": "stdout",
     "output_type": "stream",
     "text": [
      "Epoch 036: train_loss: 1.495, test_loss: 1.504 Accuracy: 0.954%Test accuracy=0.952\n"
     ]
    },
    {
     "data": {
      "application/vnd.jupyter.widget-view+json": {
       "model_id": "",
       "version_major": 2,
       "version_minor": 0
      },
      "text/plain": [
       "HBox(children=(IntProgress(value=0, max=469), HTML(value='')))"
      ]
     },
     "metadata": {},
     "output_type": "display_data"
    },
    {
     "name": "stdout",
     "output_type": "stream",
     "text": [
      "Epoch 037: train_loss: 1.494, test_loss: 1.503 Accuracy: 0.956%Test accuracy=0.949\n"
     ]
    },
    {
     "data": {
      "application/vnd.jupyter.widget-view+json": {
       "model_id": "",
       "version_major": 2,
       "version_minor": 0
      },
      "text/plain": [
       "HBox(children=(IntProgress(value=0, max=469), HTML(value='')))"
      ]
     },
     "metadata": {},
     "output_type": "display_data"
    },
    {
     "name": "stdout",
     "output_type": "stream",
     "text": [
      "Epoch 038: train_loss: 1.494, test_loss: 1.500 Accuracy: 0.956%Test accuracy=0.946\n"
     ]
    },
    {
     "data": {
      "application/vnd.jupyter.widget-view+json": {
       "model_id": "",
       "version_major": 2,
       "version_minor": 0
      },
      "text/plain": [
       "HBox(children=(IntProgress(value=0, max=469), HTML(value='')))"
      ]
     },
     "metadata": {},
     "output_type": "display_data"
    },
    {
     "name": "stdout",
     "output_type": "stream",
     "text": [
      "Epoch 039: train_loss: 1.493, test_loss: 1.502 Accuracy: 0.956%Test accuracy=0.950\n"
     ]
    },
    {
     "data": {
      "application/vnd.jupyter.widget-view+json": {
       "model_id": "",
       "version_major": 2,
       "version_minor": 0
      },
      "text/plain": [
       "HBox(children=(IntProgress(value=0, max=469), HTML(value='')))"
      ]
     },
     "metadata": {},
     "output_type": "display_data"
    },
    {
     "name": "stdout",
     "output_type": "stream",
     "text": [
      "Epoch 040: train_loss: 1.493, test_loss: 1.500 Accuracy: 0.958%Test accuracy=0.953\n"
     ]
    },
    {
     "data": {
      "application/vnd.jupyter.widget-view+json": {
       "model_id": "",
       "version_major": 2,
       "version_minor": 0
      },
      "text/plain": [
       "HBox(children=(IntProgress(value=0, max=469), HTML(value='')))"
      ]
     },
     "metadata": {},
     "output_type": "display_data"
    },
    {
     "name": "stdout",
     "output_type": "stream",
     "text": [
      "Epoch 041: train_loss: 1.492, test_loss: 1.501 Accuracy: 0.959%Test accuracy=0.953\n"
     ]
    },
    {
     "data": {
      "application/vnd.jupyter.widget-view+json": {
       "model_id": "",
       "version_major": 2,
       "version_minor": 0
      },
      "text/plain": [
       "HBox(children=(IntProgress(value=0, max=469), HTML(value='')))"
      ]
     },
     "metadata": {},
     "output_type": "display_data"
    },
    {
     "name": "stdout",
     "output_type": "stream",
     "text": [
      "Epoch 042: train_loss: 1.492, test_loss: 1.500 Accuracy: 0.959%Test accuracy=0.952\n"
     ]
    },
    {
     "data": {
      "application/vnd.jupyter.widget-view+json": {
       "model_id": "",
       "version_major": 2,
       "version_minor": 0
      },
      "text/plain": [
       "HBox(children=(IntProgress(value=0, max=469), HTML(value='')))"
      ]
     },
     "metadata": {},
     "output_type": "display_data"
    },
    {
     "name": "stdout",
     "output_type": "stream",
     "text": [
      "Epoch 043: train_loss: 1.491, test_loss: 1.501 Accuracy: 0.960%Test accuracy=0.952\n"
     ]
    },
    {
     "data": {
      "application/vnd.jupyter.widget-view+json": {
       "model_id": "",
       "version_major": 2,
       "version_minor": 0
      },
      "text/plain": [
       "HBox(children=(IntProgress(value=0, max=469), HTML(value='')))"
      ]
     },
     "metadata": {},
     "output_type": "display_data"
    },
    {
     "name": "stdout",
     "output_type": "stream",
     "text": [
      "Epoch 044: train_loss: 1.490, test_loss: 1.500 Accuracy: 0.960%Test accuracy=0.952\n"
     ]
    },
    {
     "data": {
      "application/vnd.jupyter.widget-view+json": {
       "model_id": "",
       "version_major": 2,
       "version_minor": 0
      },
      "text/plain": [
       "HBox(children=(IntProgress(value=0, max=469), HTML(value='')))"
      ]
     },
     "metadata": {},
     "output_type": "display_data"
    },
    {
     "name": "stdout",
     "output_type": "stream",
     "text": [
      "Epoch 045: train_loss: 1.491, test_loss: 1.500 Accuracy: 0.958%Test accuracy=0.953\n"
     ]
    },
    {
     "data": {
      "application/vnd.jupyter.widget-view+json": {
       "model_id": "",
       "version_major": 2,
       "version_minor": 0
      },
      "text/plain": [
       "HBox(children=(IntProgress(value=0, max=469), HTML(value='')))"
      ]
     },
     "metadata": {},
     "output_type": "display_data"
    },
    {
     "name": "stdout",
     "output_type": "stream",
     "text": [
      "Epoch 046: train_loss: 1.490, test_loss: 1.499 Accuracy: 0.961%Test accuracy=0.954\n"
     ]
    },
    {
     "data": {
      "application/vnd.jupyter.widget-view+json": {
       "model_id": "",
       "version_major": 2,
       "version_minor": 0
      },
      "text/plain": [
       "HBox(children=(IntProgress(value=0, max=469), HTML(value='')))"
      ]
     },
     "metadata": {},
     "output_type": "display_data"
    },
    {
     "name": "stdout",
     "output_type": "stream",
     "text": [
      "Epoch 047: train_loss: 1.490, test_loss: 1.499 Accuracy: 0.961%Test accuracy=0.952\n"
     ]
    },
    {
     "data": {
      "application/vnd.jupyter.widget-view+json": {
       "model_id": "",
       "version_major": 2,
       "version_minor": 0
      },
      "text/plain": [
       "HBox(children=(IntProgress(value=0, max=469), HTML(value='')))"
      ]
     },
     "metadata": {},
     "output_type": "display_data"
    },
    {
     "name": "stdout",
     "output_type": "stream",
     "text": [
      "Epoch 048: train_loss: 1.489, test_loss: 1.500 Accuracy: 0.963%Test accuracy=0.955\n"
     ]
    },
    {
     "data": {
      "application/vnd.jupyter.widget-view+json": {
       "model_id": "",
       "version_major": 2,
       "version_minor": 0
      },
      "text/plain": [
       "HBox(children=(IntProgress(value=0, max=469), HTML(value='')))"
      ]
     },
     "metadata": {},
     "output_type": "display_data"
    },
    {
     "name": "stdout",
     "output_type": "stream",
     "text": [
      "Epoch 049: train_loss: 1.489, test_loss: 1.500 Accuracy: 0.963%Test accuracy=0.956\n"
     ]
    },
    {
     "data": {
      "application/vnd.jupyter.widget-view+json": {
       "model_id": "",
       "version_major": 2,
       "version_minor": 0
      },
      "text/plain": [
       "HBox(children=(IntProgress(value=0, max=469), HTML(value='')))"
      ]
     },
     "metadata": {},
     "output_type": "display_data"
    },
    {
     "name": "stdout",
     "output_type": "stream",
     "text": [
      "Epoch 050: train_loss: 1.488, test_loss: 1.499 Accuracy: 0.963%Test accuracy=0.954\n"
     ]
    },
    {
     "data": {
      "application/vnd.jupyter.widget-view+json": {
       "model_id": "",
       "version_major": 2,
       "version_minor": 0
      },
      "text/plain": [
       "HBox(children=(IntProgress(value=0, max=469), HTML(value='')))"
      ]
     },
     "metadata": {},
     "output_type": "display_data"
    },
    {
     "name": "stdout",
     "output_type": "stream",
     "text": [
      "Epoch 051: train_loss: 1.488, test_loss: 1.499 Accuracy: 0.962%Test accuracy=0.956\n"
     ]
    },
    {
     "data": {
      "application/vnd.jupyter.widget-view+json": {
       "model_id": "",
       "version_major": 2,
       "version_minor": 0
      },
      "text/plain": [
       "HBox(children=(IntProgress(value=0, max=469), HTML(value='')))"
      ]
     },
     "metadata": {},
     "output_type": "display_data"
    },
    {
     "name": "stdout",
     "output_type": "stream",
     "text": [
      "Epoch 052: train_loss: 1.488, test_loss: 1.500 Accuracy: 0.963%Test accuracy=0.953\n"
     ]
    },
    {
     "data": {
      "application/vnd.jupyter.widget-view+json": {
       "model_id": "",
       "version_major": 2,
       "version_minor": 0
      },
      "text/plain": [
       "HBox(children=(IntProgress(value=0, max=469), HTML(value='')))"
      ]
     },
     "metadata": {},
     "output_type": "display_data"
    },
    {
     "name": "stdout",
     "output_type": "stream",
     "text": [
      "Epoch 053: train_loss: 1.488, test_loss: 1.499 Accuracy: 0.964%Test accuracy=0.957\n"
     ]
    },
    {
     "data": {
      "application/vnd.jupyter.widget-view+json": {
       "model_id": "",
       "version_major": 2,
       "version_minor": 0
      },
      "text/plain": [
       "HBox(children=(IntProgress(value=0, max=469), HTML(value='')))"
      ]
     },
     "metadata": {},
     "output_type": "display_data"
    },
    {
     "name": "stdout",
     "output_type": "stream",
     "text": [
      "Epoch 054: train_loss: 1.487, test_loss: 1.500 Accuracy: 0.965%Test accuracy=0.955\n"
     ]
    },
    {
     "data": {
      "application/vnd.jupyter.widget-view+json": {
       "model_id": "",
       "version_major": 2,
       "version_minor": 0
      },
      "text/plain": [
       "HBox(children=(IntProgress(value=0, max=469), HTML(value='')))"
      ]
     },
     "metadata": {},
     "output_type": "display_data"
    },
    {
     "name": "stdout",
     "output_type": "stream",
     "text": [
      "Epoch 055: train_loss: 1.487, test_loss: 1.498 Accuracy: 0.965%Test accuracy=0.956\n"
     ]
    },
    {
     "data": {
      "application/vnd.jupyter.widget-view+json": {
       "model_id": "",
       "version_major": 2,
       "version_minor": 0
      },
      "text/plain": [
       "HBox(children=(IntProgress(value=0, max=469), HTML(value='')))"
      ]
     },
     "metadata": {},
     "output_type": "display_data"
    },
    {
     "name": "stdout",
     "output_type": "stream",
     "text": [
      "Epoch 056: train_loss: 1.487, test_loss: 1.499 Accuracy: 0.965%Test accuracy=0.956\n"
     ]
    },
    {
     "data": {
      "application/vnd.jupyter.widget-view+json": {
       "model_id": "",
       "version_major": 2,
       "version_minor": 0
      },
      "text/plain": [
       "HBox(children=(IntProgress(value=0, max=469), HTML(value='')))"
      ]
     },
     "metadata": {},
     "output_type": "display_data"
    },
    {
     "name": "stdout",
     "output_type": "stream",
     "text": [
      "Epoch 057: train_loss: 1.487, test_loss: 1.500 Accuracy: 0.965%Test accuracy=0.958\n"
     ]
    },
    {
     "data": {
      "application/vnd.jupyter.widget-view+json": {
       "model_id": "",
       "version_major": 2,
       "version_minor": 0
      },
      "text/plain": [
       "HBox(children=(IntProgress(value=0, max=469), HTML(value='')))"
      ]
     },
     "metadata": {},
     "output_type": "display_data"
    },
    {
     "name": "stdout",
     "output_type": "stream",
     "text": [
      "Epoch 058: train_loss: 1.486, test_loss: 1.500 Accuracy: 0.965%Test accuracy=0.957\n"
     ]
    },
    {
     "data": {
      "application/vnd.jupyter.widget-view+json": {
       "model_id": "",
       "version_major": 2,
       "version_minor": 0
      },
      "text/plain": [
       "HBox(children=(IntProgress(value=0, max=469), HTML(value='')))"
      ]
     },
     "metadata": {},
     "output_type": "display_data"
    },
    {
     "name": "stdout",
     "output_type": "stream",
     "text": [
      "Epoch 059: train_loss: 1.486, test_loss: 1.500 Accuracy: 0.966%Test accuracy=0.956\n"
     ]
    },
    {
     "data": {
      "application/vnd.jupyter.widget-view+json": {
       "model_id": "",
       "version_major": 2,
       "version_minor": 0
      },
      "text/plain": [
       "HBox(children=(IntProgress(value=0, max=469), HTML(value='')))"
      ]
     },
     "metadata": {},
     "output_type": "display_data"
    },
    {
     "name": "stdout",
     "output_type": "stream",
     "text": [
      "Epoch 060: train_loss: 1.486, test_loss: 1.499 Accuracy: 0.965%Test accuracy=0.955\n"
     ]
    },
    {
     "data": {
      "application/vnd.jupyter.widget-view+json": {
       "model_id": "",
       "version_major": 2,
       "version_minor": 0
      },
      "text/plain": [
       "HBox(children=(IntProgress(value=0, max=469), HTML(value='')))"
      ]
     },
     "metadata": {},
     "output_type": "display_data"
    },
    {
     "name": "stdout",
     "output_type": "stream",
     "text": [
      "Epoch 061: train_loss: 1.485, test_loss: 1.499 Accuracy: 0.966%Test accuracy=0.958\n"
     ]
    },
    {
     "data": {
      "application/vnd.jupyter.widget-view+json": {
       "model_id": "",
       "version_major": 2,
       "version_minor": 0
      },
      "text/plain": [
       "HBox(children=(IntProgress(value=0, max=469), HTML(value='')))"
      ]
     },
     "metadata": {},
     "output_type": "display_data"
    },
    {
     "name": "stdout",
     "output_type": "stream",
     "text": [
      "Epoch 062: train_loss: 1.485, test_loss: 1.499 Accuracy: 0.967%Test accuracy=0.956\n"
     ]
    },
    {
     "data": {
      "application/vnd.jupyter.widget-view+json": {
       "model_id": "",
       "version_major": 2,
       "version_minor": 0
      },
      "text/plain": [
       "HBox(children=(IntProgress(value=0, max=469), HTML(value='')))"
      ]
     },
     "metadata": {},
     "output_type": "display_data"
    },
    {
     "name": "stdout",
     "output_type": "stream",
     "text": [
      "Epoch 063: train_loss: 1.485, test_loss: 1.497 Accuracy: 0.968%Test accuracy=0.957\n"
     ]
    },
    {
     "data": {
      "application/vnd.jupyter.widget-view+json": {
       "model_id": "",
       "version_major": 2,
       "version_minor": 0
      },
      "text/plain": [
       "HBox(children=(IntProgress(value=0, max=469), HTML(value='')))"
      ]
     },
     "metadata": {},
     "output_type": "display_data"
    },
    {
     "name": "stdout",
     "output_type": "stream",
     "text": [
      "Epoch 064: train_loss: 1.485, test_loss: 1.499 Accuracy: 0.968%Test accuracy=0.957\n"
     ]
    },
    {
     "data": {
      "application/vnd.jupyter.widget-view+json": {
       "model_id": "",
       "version_major": 2,
       "version_minor": 0
      },
      "text/plain": [
       "HBox(children=(IntProgress(value=0, max=469), HTML(value='')))"
      ]
     },
     "metadata": {},
     "output_type": "display_data"
    },
    {
     "name": "stdout",
     "output_type": "stream",
     "text": [
      "Epoch 065: train_loss: 1.485, test_loss: 1.499 Accuracy: 0.967%Test accuracy=0.957\n"
     ]
    },
    {
     "data": {
      "application/vnd.jupyter.widget-view+json": {
       "model_id": "",
       "version_major": 2,
       "version_minor": 0
      },
      "text/plain": [
       "HBox(children=(IntProgress(value=0, max=469), HTML(value='')))"
      ]
     },
     "metadata": {},
     "output_type": "display_data"
    },
    {
     "name": "stdout",
     "output_type": "stream",
     "text": [
      "Epoch 066: train_loss: 1.484, test_loss: 1.498 Accuracy: 0.968%Test accuracy=0.958\n"
     ]
    },
    {
     "data": {
      "application/vnd.jupyter.widget-view+json": {
       "model_id": "",
       "version_major": 2,
       "version_minor": 0
      },
      "text/plain": [
       "HBox(children=(IntProgress(value=0, max=469), HTML(value='')))"
      ]
     },
     "metadata": {},
     "output_type": "display_data"
    },
    {
     "name": "stdout",
     "output_type": "stream",
     "text": [
      "Epoch 067: train_loss: 1.484, test_loss: 1.498 Accuracy: 0.968%Test accuracy=0.958\n"
     ]
    },
    {
     "data": {
      "application/vnd.jupyter.widget-view+json": {
       "model_id": "",
       "version_major": 2,
       "version_minor": 0
      },
      "text/plain": [
       "HBox(children=(IntProgress(value=0, max=469), HTML(value='')))"
      ]
     },
     "metadata": {},
     "output_type": "display_data"
    },
    {
     "name": "stdout",
     "output_type": "stream",
     "text": [
      "Epoch 068: train_loss: 1.484, test_loss: 1.498 Accuracy: 0.968%Test accuracy=0.958\n"
     ]
    },
    {
     "data": {
      "application/vnd.jupyter.widget-view+json": {
       "model_id": "",
       "version_major": 2,
       "version_minor": 0
      },
      "text/plain": [
       "HBox(children=(IntProgress(value=0, max=469), HTML(value='')))"
      ]
     },
     "metadata": {},
     "output_type": "display_data"
    },
    {
     "name": "stdout",
     "output_type": "stream",
     "text": [
      "Epoch 069: train_loss: 1.484, test_loss: 1.499 Accuracy: 0.967%Test accuracy=0.959\n"
     ]
    },
    {
     "data": {
      "application/vnd.jupyter.widget-view+json": {
       "model_id": "",
       "version_major": 2,
       "version_minor": 0
      },
      "text/plain": [
       "HBox(children=(IntProgress(value=0, max=469), HTML(value='')))"
      ]
     },
     "metadata": {},
     "output_type": "display_data"
    },
    {
     "name": "stdout",
     "output_type": "stream",
     "text": [
      "Epoch 070: train_loss: 1.484, test_loss: 1.497 Accuracy: 0.968%Test accuracy=0.958\n"
     ]
    },
    {
     "data": {
      "application/vnd.jupyter.widget-view+json": {
       "model_id": "",
       "version_major": 2,
       "version_minor": 0
      },
      "text/plain": [
       "HBox(children=(IntProgress(value=0, max=469), HTML(value='')))"
      ]
     },
     "metadata": {},
     "output_type": "display_data"
    },
    {
     "name": "stdout",
     "output_type": "stream",
     "text": [
      "Epoch 071: train_loss: 1.484, test_loss: 1.499 Accuracy: 0.969%Test accuracy=0.958\n"
     ]
    },
    {
     "data": {
      "application/vnd.jupyter.widget-view+json": {
       "model_id": "",
       "version_major": 2,
       "version_minor": 0
      },
      "text/plain": [
       "HBox(children=(IntProgress(value=0, max=469), HTML(value='')))"
      ]
     },
     "metadata": {},
     "output_type": "display_data"
    },
    {
     "name": "stdout",
     "output_type": "stream",
     "text": [
      "Epoch 072: train_loss: 1.483, test_loss: 1.500 Accuracy: 0.970%Test accuracy=0.959\n"
     ]
    },
    {
     "data": {
      "application/vnd.jupyter.widget-view+json": {
       "model_id": "",
       "version_major": 2,
       "version_minor": 0
      },
      "text/plain": [
       "HBox(children=(IntProgress(value=0, max=469), HTML(value='')))"
      ]
     },
     "metadata": {},
     "output_type": "display_data"
    },
    {
     "name": "stdout",
     "output_type": "stream",
     "text": [
      "Epoch 073: train_loss: 1.483, test_loss: 1.499 Accuracy: 0.969%Test accuracy=0.959\n"
     ]
    },
    {
     "data": {
      "application/vnd.jupyter.widget-view+json": {
       "model_id": "",
       "version_major": 2,
       "version_minor": 0
      },
      "text/plain": [
       "HBox(children=(IntProgress(value=0, max=469), HTML(value='')))"
      ]
     },
     "metadata": {},
     "output_type": "display_data"
    },
    {
     "name": "stdout",
     "output_type": "stream",
     "text": [
      "Epoch 074: train_loss: 1.483, test_loss: 1.499 Accuracy: 0.970%Test accuracy=0.959\n"
     ]
    },
    {
     "data": {
      "application/vnd.jupyter.widget-view+json": {
       "model_id": "",
       "version_major": 2,
       "version_minor": 0
      },
      "text/plain": [
       "HBox(children=(IntProgress(value=0, max=469), HTML(value='')))"
      ]
     },
     "metadata": {},
     "output_type": "display_data"
    },
    {
     "name": "stdout",
     "output_type": "stream",
     "text": [
      "Epoch 075: train_loss: 1.483, test_loss: 1.501 Accuracy: 0.970%Test accuracy=0.960\n"
     ]
    },
    {
     "data": {
      "application/vnd.jupyter.widget-view+json": {
       "model_id": "",
       "version_major": 2,
       "version_minor": 0
      },
      "text/plain": [
       "HBox(children=(IntProgress(value=0, max=469), HTML(value='')))"
      ]
     },
     "metadata": {},
     "output_type": "display_data"
    },
    {
     "name": "stdout",
     "output_type": "stream",
     "text": [
      "Epoch 076: train_loss: 1.483, test_loss: 1.498 Accuracy: 0.970%Test accuracy=0.959\n"
     ]
    },
    {
     "data": {
      "application/vnd.jupyter.widget-view+json": {
       "model_id": "",
       "version_major": 2,
       "version_minor": 0
      },
      "text/plain": [
       "HBox(children=(IntProgress(value=0, max=469), HTML(value='')))"
      ]
     },
     "metadata": {},
     "output_type": "display_data"
    },
    {
     "name": "stdout",
     "output_type": "stream",
     "text": [
      "Epoch 077: train_loss: 1.483, test_loss: 1.498 Accuracy: 0.970%Test accuracy=0.958\n"
     ]
    },
    {
     "data": {
      "application/vnd.jupyter.widget-view+json": {
       "model_id": "",
       "version_major": 2,
       "version_minor": 0
      },
      "text/plain": [
       "HBox(children=(IntProgress(value=0, max=469), HTML(value='')))"
      ]
     },
     "metadata": {},
     "output_type": "display_data"
    },
    {
     "name": "stdout",
     "output_type": "stream",
     "text": [
      "Epoch 078: train_loss: 1.482, test_loss: 1.499 Accuracy: 0.971%Test accuracy=0.956\n"
     ]
    },
    {
     "data": {
      "application/vnd.jupyter.widget-view+json": {
       "model_id": "",
       "version_major": 2,
       "version_minor": 0
      },
      "text/plain": [
       "HBox(children=(IntProgress(value=0, max=469), HTML(value='')))"
      ]
     },
     "metadata": {},
     "output_type": "display_data"
    },
    {
     "name": "stdout",
     "output_type": "stream",
     "text": [
      "Epoch 079: train_loss: 1.482, test_loss: 1.499 Accuracy: 0.971%Test accuracy=0.959\n"
     ]
    },
    {
     "data": {
      "application/vnd.jupyter.widget-view+json": {
       "model_id": "",
       "version_major": 2,
       "version_minor": 0
      },
      "text/plain": [
       "HBox(children=(IntProgress(value=0, max=469), HTML(value='')))"
      ]
     },
     "metadata": {},
     "output_type": "display_data"
    },
    {
     "name": "stdout",
     "output_type": "stream",
     "text": [
      "Epoch 080: train_loss: 1.482, test_loss: 1.499 Accuracy: 0.971%Test accuracy=0.959\n"
     ]
    },
    {
     "data": {
      "application/vnd.jupyter.widget-view+json": {
       "model_id": "",
       "version_major": 2,
       "version_minor": 0
      },
      "text/plain": [
       "HBox(children=(IntProgress(value=0, max=469), HTML(value='')))"
      ]
     },
     "metadata": {},
     "output_type": "display_data"
    },
    {
     "name": "stdout",
     "output_type": "stream",
     "text": [
      "Epoch 081: train_loss: 1.482, test_loss: 1.498 Accuracy: 0.971%Test accuracy=0.960\n"
     ]
    },
    {
     "data": {
      "application/vnd.jupyter.widget-view+json": {
       "model_id": "",
       "version_major": 2,
       "version_minor": 0
      },
      "text/plain": [
       "HBox(children=(IntProgress(value=0, max=469), HTML(value='')))"
      ]
     },
     "metadata": {},
     "output_type": "display_data"
    },
    {
     "name": "stdout",
     "output_type": "stream",
     "text": [
      "Epoch 082: train_loss: 1.482, test_loss: 1.500 Accuracy: 0.971%Test accuracy=0.957\n"
     ]
    },
    {
     "data": {
      "application/vnd.jupyter.widget-view+json": {
       "model_id": "",
       "version_major": 2,
       "version_minor": 0
      },
      "text/plain": [
       "HBox(children=(IntProgress(value=0, max=469), HTML(value='')))"
      ]
     },
     "metadata": {},
     "output_type": "display_data"
    },
    {
     "name": "stdout",
     "output_type": "stream",
     "text": [
      "Epoch 083: train_loss: 1.482, test_loss: 1.498 Accuracy: 0.971%Test accuracy=0.960\n"
     ]
    },
    {
     "data": {
      "application/vnd.jupyter.widget-view+json": {
       "model_id": "",
       "version_major": 2,
       "version_minor": 0
      },
      "text/plain": [
       "HBox(children=(IntProgress(value=0, max=469), HTML(value='')))"
      ]
     },
     "metadata": {},
     "output_type": "display_data"
    },
    {
     "name": "stdout",
     "output_type": "stream",
     "text": [
      "Epoch 084: train_loss: 1.482, test_loss: 1.499 Accuracy: 0.972%Test accuracy=0.959\n"
     ]
    },
    {
     "data": {
      "application/vnd.jupyter.widget-view+json": {
       "model_id": "",
       "version_major": 2,
       "version_minor": 0
      },
      "text/plain": [
       "HBox(children=(IntProgress(value=0, max=469), HTML(value='')))"
      ]
     },
     "metadata": {},
     "output_type": "display_data"
    },
    {
     "name": "stdout",
     "output_type": "stream",
     "text": [
      "Epoch 085: train_loss: 1.482, test_loss: 1.498 Accuracy: 0.972%Test accuracy=0.959\n"
     ]
    },
    {
     "data": {
      "application/vnd.jupyter.widget-view+json": {
       "model_id": "",
       "version_major": 2,
       "version_minor": 0
      },
      "text/plain": [
       "HBox(children=(IntProgress(value=0, max=469), HTML(value='')))"
      ]
     },
     "metadata": {},
     "output_type": "display_data"
    },
    {
     "name": "stdout",
     "output_type": "stream",
     "text": [
      "Epoch 086: train_loss: 1.482, test_loss: 1.499 Accuracy: 0.972%Test accuracy=0.960\n"
     ]
    },
    {
     "data": {
      "application/vnd.jupyter.widget-view+json": {
       "model_id": "",
       "version_major": 2,
       "version_minor": 0
      },
      "text/plain": [
       "HBox(children=(IntProgress(value=0, max=469), HTML(value='')))"
      ]
     },
     "metadata": {},
     "output_type": "display_data"
    },
    {
     "name": "stdout",
     "output_type": "stream",
     "text": [
      "Epoch 087: train_loss: 1.481, test_loss: 1.499 Accuracy: 0.972%Test accuracy=0.960\n"
     ]
    },
    {
     "data": {
      "application/vnd.jupyter.widget-view+json": {
       "model_id": "",
       "version_major": 2,
       "version_minor": 0
      },
      "text/plain": [
       "HBox(children=(IntProgress(value=0, max=469), HTML(value='')))"
      ]
     },
     "metadata": {},
     "output_type": "display_data"
    },
    {
     "name": "stdout",
     "output_type": "stream",
     "text": [
      "Epoch 088: train_loss: 1.481, test_loss: 1.498 Accuracy: 0.972%Test accuracy=0.960\n"
     ]
    },
    {
     "data": {
      "application/vnd.jupyter.widget-view+json": {
       "model_id": "",
       "version_major": 2,
       "version_minor": 0
      },
      "text/plain": [
       "HBox(children=(IntProgress(value=0, max=469), HTML(value='')))"
      ]
     },
     "metadata": {},
     "output_type": "display_data"
    },
    {
     "name": "stdout",
     "output_type": "stream",
     "text": [
      "Epoch 089: train_loss: 1.481, test_loss: 1.498 Accuracy: 0.972%Test accuracy=0.961\n"
     ]
    },
    {
     "data": {
      "application/vnd.jupyter.widget-view+json": {
       "model_id": "",
       "version_major": 2,
       "version_minor": 0
      },
      "text/plain": [
       "HBox(children=(IntProgress(value=0, max=469), HTML(value='')))"
      ]
     },
     "metadata": {},
     "output_type": "display_data"
    },
    {
     "name": "stdout",
     "output_type": "stream",
     "text": [
      "Epoch 090: train_loss: 1.481, test_loss: 1.499 Accuracy: 0.972%Test accuracy=0.960\n"
     ]
    },
    {
     "data": {
      "application/vnd.jupyter.widget-view+json": {
       "model_id": "",
       "version_major": 2,
       "version_minor": 0
      },
      "text/plain": [
       "HBox(children=(IntProgress(value=0, max=469), HTML(value='')))"
      ]
     },
     "metadata": {},
     "output_type": "display_data"
    },
    {
     "name": "stdout",
     "output_type": "stream",
     "text": [
      "Epoch 091: train_loss: 1.481, test_loss: 1.498 Accuracy: 0.973%Test accuracy=0.959\n"
     ]
    },
    {
     "data": {
      "application/vnd.jupyter.widget-view+json": {
       "model_id": "",
       "version_major": 2,
       "version_minor": 0
      },
      "text/plain": [
       "HBox(children=(IntProgress(value=0, max=469), HTML(value='')))"
      ]
     },
     "metadata": {},
     "output_type": "display_data"
    },
    {
     "name": "stdout",
     "output_type": "stream",
     "text": [
      "Epoch 092: train_loss: 1.481, test_loss: 1.498 Accuracy: 0.973%Test accuracy=0.960\n"
     ]
    },
    {
     "data": {
      "application/vnd.jupyter.widget-view+json": {
       "model_id": "",
       "version_major": 2,
       "version_minor": 0
      },
      "text/plain": [
       "HBox(children=(IntProgress(value=0, max=469), HTML(value='')))"
      ]
     },
     "metadata": {},
     "output_type": "display_data"
    },
    {
     "name": "stdout",
     "output_type": "stream",
     "text": [
      "Epoch 093: train_loss: 1.481, test_loss: 1.499 Accuracy: 0.973%Test accuracy=0.960\n"
     ]
    },
    {
     "data": {
      "application/vnd.jupyter.widget-view+json": {
       "model_id": "",
       "version_major": 2,
       "version_minor": 0
      },
      "text/plain": [
       "HBox(children=(IntProgress(value=0, max=469), HTML(value='')))"
      ]
     },
     "metadata": {},
     "output_type": "display_data"
    },
    {
     "name": "stdout",
     "output_type": "stream",
     "text": [
      "Epoch 094: train_loss: 1.481, test_loss: 1.499 Accuracy: 0.973%Test accuracy=0.960\n"
     ]
    },
    {
     "data": {
      "application/vnd.jupyter.widget-view+json": {
       "model_id": "",
       "version_major": 2,
       "version_minor": 0
      },
      "text/plain": [
       "HBox(children=(IntProgress(value=0, max=469), HTML(value='')))"
      ]
     },
     "metadata": {},
     "output_type": "display_data"
    },
    {
     "name": "stdout",
     "output_type": "stream",
     "text": [
      "Epoch 095: train_loss: 1.481, test_loss: 1.499 Accuracy: 0.973%Test accuracy=0.960\n"
     ]
    },
    {
     "data": {
      "application/vnd.jupyter.widget-view+json": {
       "model_id": "",
       "version_major": 2,
       "version_minor": 0
      },
      "text/plain": [
       "HBox(children=(IntProgress(value=0, max=469), HTML(value='')))"
      ]
     },
     "metadata": {},
     "output_type": "display_data"
    },
    {
     "name": "stdout",
     "output_type": "stream",
     "text": [
      "Epoch 096: train_loss: 1.480, test_loss: 1.498 Accuracy: 0.973%Test accuracy=0.960\n"
     ]
    },
    {
     "data": {
      "application/vnd.jupyter.widget-view+json": {
       "model_id": "",
       "version_major": 2,
       "version_minor": 0
      },
      "text/plain": [
       "HBox(children=(IntProgress(value=0, max=469), HTML(value='')))"
      ]
     },
     "metadata": {},
     "output_type": "display_data"
    },
    {
     "name": "stdout",
     "output_type": "stream",
     "text": [
      "Epoch 097: train_loss: 1.480, test_loss: 1.499 Accuracy: 0.973%Test accuracy=0.961\n"
     ]
    },
    {
     "data": {
      "application/vnd.jupyter.widget-view+json": {
       "model_id": "",
       "version_major": 2,
       "version_minor": 0
      },
      "text/plain": [
       "HBox(children=(IntProgress(value=0, max=469), HTML(value='')))"
      ]
     },
     "metadata": {},
     "output_type": "display_data"
    },
    {
     "name": "stdout",
     "output_type": "stream",
     "text": [
      "Epoch 098: train_loss: 1.480, test_loss: 1.498 Accuracy: 0.973%Test accuracy=0.960\n"
     ]
    },
    {
     "data": {
      "application/vnd.jupyter.widget-view+json": {
       "model_id": "",
       "version_major": 2,
       "version_minor": 0
      },
      "text/plain": [
       "HBox(children=(IntProgress(value=0, max=469), HTML(value='')))"
      ]
     },
     "metadata": {},
     "output_type": "display_data"
    },
    {
     "name": "stdout",
     "output_type": "stream",
     "text": [
      "Epoch 099: train_loss: 1.480, test_loss: 1.499 Accuracy: 0.974%Test accuracy=0.960\n",
      "\n",
      "CPU times: user 4min 13s, sys: 2min 43s, total: 6min 57s\n",
      "Wall time: 2min 11s\n"
     ]
    }
   ],
   "source": [
    "%%time\n",
    "train_loss_results = []\n",
    "train_accuracy_results = []\n",
    "test_loss_results = []\n",
    "test_accuracy_results = []\n",
    "epochs = 100\n",
    "n_batches = len(list(train_dataset))\n",
    "\n",
    "for epoch in tqdm(np.arange(epochs)):\n",
    "    \n",
    "    for x, y in tqdm(train_dataset, total=n_batches, leave=False):\n",
    "        train_loop(x, y)\n",
    "\n",
    "    # End epoch\n",
    "    train_loss_results.append(epoch_loss_avg.result())\n",
    "    train_accuracy_results.append(epoch_accuracy.result())\n",
    "    \n",
    "    # Test\n",
    "    for (x_valid, y_valid) in test_dataset:\n",
    "        preds_test = model(x_valid, training=False)\n",
    "        test_loss = loss_func(y_valid, preds_test)\n",
    "        test_epoch_loss_avg(test_loss)\n",
    "        test_epoch_accuracy.update_state(y_valid, preds_test)\n",
    "    \n",
    "    test_loss_results.append(test_epoch_loss_avg.result())\n",
    "    test_accuracy_results.append(test_epoch_accuracy.result())\n",
    "    \n",
    "    print(f\"Epoch {epoch:03d}: train_loss: {epoch_loss_avg.result():.3f}, \"\n",
    "          f\"test_loss: {test_epoch_loss_avg.result():.3f} \"\n",
    "          f\"Accuracy: {epoch_accuracy.result():.3f}%\"\n",
    "          f\"Test accuracy={test_epoch_accuracy.result():.3f}\"\n",
    "    )\n",
    "    \n",
    "    # Clear the current state of the metrics\n",
    "    epoch_loss_avg.reset_states()\n",
    "    epoch_accuracy.reset_states()\n",
    "    test_epoch_loss_avg.reset_states()\n",
    "    test_epoch_accuracy.reset_states()\n",
    "    # valid_loss.reset_states(), valid_acc.reset_states()\n",
    "    \n",
    "    "
   ]
  },
  {
   "cell_type": "code",
   "execution_count": 26,
   "metadata": {},
   "outputs": [
    {
     "data": {
      "text/plain": [
       "[<matplotlib.lines.Line2D at 0x142881828>]"
      ]
     },
     "execution_count": 26,
     "metadata": {},
     "output_type": "execute_result"
    },
    {
     "data": {
      "image/png": "[encoded data removed]",
      "text/plain": [
       "<Figure size 432x288 with 1 Axes>"
      ]
     },
     "metadata": {
      "needs_background": "light"
     },
     "output_type": "display_data"
    }
   ],
   "source": [
    "plt.plot(train_loss_results, label=\"train\")\n",
    "plt.plot(test_loss_results, label=\"test\")"
   ]
  },
  {
   "cell_type": "code",
   "execution_count": 27,
   "metadata": {},
   "outputs": [
    {
     "data": {
      "text/plain": [
       "[<matplotlib.lines.Line2D at 0x14230e470>]"
      ]
     },
     "execution_count": 27,
     "metadata": {},
     "output_type": "execute_result"
    },
    {
     "data": {
      "image/png": "[encoded data removed]",
      "text/plain": [
       "<Figure size 432x288 with 1 Axes>"
      ]
     },
     "metadata": {
      "needs_background": "light"
     },
     "output_type": "display_data"
    }
   ],
   "source": [
    "plt.plot(train_accuracy_results, label=\"train\")\n",
    "plt.plot(test_accuracy_results, label=\"test\")"
   ]
  },
  {
   "cell_type": "code",
   "execution_count": null,
   "metadata": {},
   "outputs": [],
   "source": []
  }
 ],
 "metadata": {
  "kernelspec": {
   "display_name": "Python 3.7.3 64-bit ('ftml': conda)",
   "language": "python",
   "name": "python37364bitftmlconda5ad2e40e989d4158b56c2565543c08fe"
  },
  "language_info": {
   "codemirror_mode": {
    "name": "ipython",
    "version": 3
   },
   "file_extension": ".py",
   "mimetype": "text/x-python",
   "name": "python",
   "nbconvert_exporter": "python",
   "pygments_lexer": "ipython3",
   "version": "3.7.3"
  }
 },
 "nbformat": 4,
 "nbformat_minor": 4
}
