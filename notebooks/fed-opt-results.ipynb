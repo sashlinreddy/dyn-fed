{
 "cells": [
  {
   "cell_type": "markdown",
   "metadata": {},
   "source": [
    "# Dynamic Averaging with SVD and Loss Results"
   ]
  },
  {
   "cell_type": "markdown",
   "metadata": {},
   "source": [
    "## Imports"
   ]
  },
  {
   "cell_type": "code",
   "execution_count": 2,
   "metadata": {},
   "outputs": [],
   "source": [
    "import pandas as pd\n",
    "import numpy as np\n",
    "import matplotlib.pyplot as plt\n",
    "from matplotlib import rc\n",
    "\n",
    "rc('text', usetex=True)\n",
    "\n",
    "%matplotlib inline"
   ]
  },
  {
   "cell_type": "markdown",
   "metadata": {},
   "source": [
    "## Non-IID and IID\n",
    "\n",
    "### Mnist"
   ]
  },
  {
   "cell_type": "code",
   "execution_count": 3,
   "metadata": {},
   "outputs": [],
   "source": [
    "mnist_fed = pd.read_csv(\"../data/output/mnist-noniid.csv\")\n",
    "mnist_avg = pd.read_csv(\"../data/output/mnist-avg.csv\")"
   ]
  },
  {
   "cell_type": "code",
   "execution_count": 4,
   "metadata": {},
   "outputs": [
    {
     "data": {
      "text/html": [
       "<div>\n",
       "<style scoped>\n",
       "    .dataframe tbody tr th:only-of-type {\n",
       "        vertical-align: middle;\n",
       "    }\n",
       "\n",
       "    .dataframe tbody tr th {\n",
       "        vertical-align: top;\n",
       "    }\n",
       "\n",
       "    .dataframe thead th {\n",
       "        text-align: right;\n",
       "    }\n",
       "</style>\n",
       "<table border=\"1\" class=\"dataframe\">\n",
       "  <thead>\n",
       "    <tr style=\"text-align: right;\">\n",
       "      <th></th>\n",
       "      <th>N_WORKERS</th>\n",
       "      <th>COMM_PERIOD</th>\n",
       "      <th>OVERLAP</th>\n",
       "      <th>COMM_MODE</th>\n",
       "      <th>AGG_MODE</th>\n",
       "      <th>NONIID</th>\n",
       "      <th>UNBALANCED</th>\n",
       "      <th>TIME</th>\n",
       "      <th>ACCURACY</th>\n",
       "    </tr>\n",
       "  </thead>\n",
       "  <tbody>\n",
       "    <tr>\n",
       "      <th>0</th>\n",
       "      <td>128</td>\n",
       "      <td>1</td>\n",
       "      <td>0.0</td>\n",
       "      <td>0</td>\n",
       "      <td>0</td>\n",
       "      <td>0</td>\n",
       "      <td>0</td>\n",
       "      <td>46.962904</td>\n",
       "      <td>87.05</td>\n",
       "    </tr>\n",
       "    <tr>\n",
       "      <th>1</th>\n",
       "      <td>128</td>\n",
       "      <td>1</td>\n",
       "      <td>0.0</td>\n",
       "      <td>0</td>\n",
       "      <td>0</td>\n",
       "      <td>0</td>\n",
       "      <td>1</td>\n",
       "      <td>49.405476</td>\n",
       "      <td>87.12</td>\n",
       "    </tr>\n",
       "    <tr>\n",
       "      <th>2</th>\n",
       "      <td>128</td>\n",
       "      <td>1</td>\n",
       "      <td>0.0</td>\n",
       "      <td>0</td>\n",
       "      <td>0</td>\n",
       "      <td>1</td>\n",
       "      <td>0</td>\n",
       "      <td>47.189411</td>\n",
       "      <td>86.90</td>\n",
       "    </tr>\n",
       "    <tr>\n",
       "      <th>3</th>\n",
       "      <td>128</td>\n",
       "      <td>1</td>\n",
       "      <td>0.0</td>\n",
       "      <td>0</td>\n",
       "      <td>0</td>\n",
       "      <td>1</td>\n",
       "      <td>1</td>\n",
       "      <td>48.217714</td>\n",
       "      <td>85.78</td>\n",
       "    </tr>\n",
       "    <tr>\n",
       "      <th>4</th>\n",
       "      <td>128</td>\n",
       "      <td>1</td>\n",
       "      <td>0.0</td>\n",
       "      <td>0</td>\n",
       "      <td>2</td>\n",
       "      <td>0</td>\n",
       "      <td>0</td>\n",
       "      <td>49.194191</td>\n",
       "      <td>87.05</td>\n",
       "    </tr>\n",
       "  </tbody>\n",
       "</table>\n",
       "</div>"
      ],
      "text/plain": [
       "   N_WORKERS  COMM_PERIOD  OVERLAP  COMM_MODE  AGG_MODE  NONIID  UNBALANCED  \\\n",
       "0        128            1      0.0          0         0       0           0   \n",
       "1        128            1      0.0          0         0       0           1   \n",
       "2        128            1      0.0          0         0       1           0   \n",
       "3        128            1      0.0          0         0       1           1   \n",
       "4        128            1      0.0          0         2       0           0   \n",
       "\n",
       "        TIME  ACCURACY  \n",
       "0  46.962904     87.05  \n",
       "1  49.405476     87.12  \n",
       "2  47.189411     86.90  \n",
       "3  48.217714     85.78  \n",
       "4  49.194191     87.05  "
      ]
     },
     "execution_count": 4,
     "metadata": {},
     "output_type": "execute_result"
    }
   ],
   "source": [
    "mnist_fed.head()"
   ]
  },
  {
   "cell_type": "code",
   "execution_count": 5,
   "metadata": {},
   "outputs": [
    {
     "data": {
      "text/html": [
       "<div>\n",
       "<style scoped>\n",
       "    .dataframe tbody tr th:only-of-type {\n",
       "        vertical-align: middle;\n",
       "    }\n",
       "\n",
       "    .dataframe tbody tr th {\n",
       "        vertical-align: top;\n",
       "    }\n",
       "\n",
       "    .dataframe thead th {\n",
       "        text-align: right;\n",
       "    }\n",
       "</style>\n",
       "<table border=\"1\" class=\"dataframe\">\n",
       "  <thead>\n",
       "    <tr style=\"text-align: right;\">\n",
       "      <th></th>\n",
       "      <th>N_WORKERS</th>\n",
       "      <th>COMM_PERIOD</th>\n",
       "      <th>OVERLAP</th>\n",
       "      <th>COMM_MODE</th>\n",
       "      <th>AGG_MODE</th>\n",
       "      <th>NONIID</th>\n",
       "      <th>UNBALANCED</th>\n",
       "      <th>TIME</th>\n",
       "      <th>ACCURACY</th>\n",
       "    </tr>\n",
       "  </thead>\n",
       "  <tbody>\n",
       "    <tr>\n",
       "      <th>0</th>\n",
       "      <td>128</td>\n",
       "      <td>1</td>\n",
       "      <td>0.0</td>\n",
       "      <td>0</td>\n",
       "      <td>0</td>\n",
       "      <td>0</td>\n",
       "      <td>0</td>\n",
       "      <td>46.962904</td>\n",
       "      <td>87.05</td>\n",
       "    </tr>\n",
       "    <tr>\n",
       "      <th>1</th>\n",
       "      <td>128</td>\n",
       "      <td>10</td>\n",
       "      <td>0.0</td>\n",
       "      <td>0</td>\n",
       "      <td>0</td>\n",
       "      <td>0</td>\n",
       "      <td>0</td>\n",
       "      <td>14.321549</td>\n",
       "      <td>86.99</td>\n",
       "    </tr>\n",
       "    <tr>\n",
       "      <th>2</th>\n",
       "      <td>128</td>\n",
       "      <td>20</td>\n",
       "      <td>0.0</td>\n",
       "      <td>0</td>\n",
       "      <td>0</td>\n",
       "      <td>0</td>\n",
       "      <td>0</td>\n",
       "      <td>12.263984</td>\n",
       "      <td>86.95</td>\n",
       "    </tr>\n",
       "    <tr>\n",
       "      <th>3</th>\n",
       "      <td>128</td>\n",
       "      <td>50</td>\n",
       "      <td>0.0</td>\n",
       "      <td>0</td>\n",
       "      <td>0</td>\n",
       "      <td>0</td>\n",
       "      <td>0</td>\n",
       "      <td>11.459953</td>\n",
       "      <td>86.66</td>\n",
       "    </tr>\n",
       "    <tr>\n",
       "      <th>4</th>\n",
       "      <td>128</td>\n",
       "      <td>100</td>\n",
       "      <td>0.0</td>\n",
       "      <td>0</td>\n",
       "      <td>0</td>\n",
       "      <td>0</td>\n",
       "      <td>0</td>\n",
       "      <td>11.024461</td>\n",
       "      <td>86.24</td>\n",
       "    </tr>\n",
       "  </tbody>\n",
       "</table>\n",
       "</div>"
      ],
      "text/plain": [
       "   N_WORKERS  COMM_PERIOD  OVERLAP  COMM_MODE  AGG_MODE  NONIID  UNBALANCED  \\\n",
       "0        128            1      0.0          0         0       0           0   \n",
       "1        128           10      0.0          0         0       0           0   \n",
       "2        128           20      0.0          0         0       0           0   \n",
       "3        128           50      0.0          0         0       0           0   \n",
       "4        128          100      0.0          0         0       0           0   \n",
       "\n",
       "        TIME  ACCURACY  \n",
       "0  46.962904     87.05  \n",
       "1  14.321549     86.99  \n",
       "2  12.263984     86.95  \n",
       "3  11.459953     86.66  \n",
       "4  11.024461     86.24  "
      ]
     },
     "execution_count": 5,
     "metadata": {},
     "output_type": "execute_result"
    }
   ],
   "source": [
    "mnist_avg.head()"
   ]
  },
  {
   "cell_type": "markdown",
   "metadata": {},
   "source": [
    "#### IID and balanced\n",
    "\n",
    "##### Time"
   ]
  },
  {
   "cell_type": "code",
   "execution_count": 9,
   "metadata": {},
   "outputs": [
    {
     "data": {
      "text/html": [
       "<div>\n",
       "<style scoped>\n",
       "    .dataframe tbody tr th:only-of-type {\n",
       "        vertical-align: middle;\n",
       "    }\n",
       "\n",
       "    .dataframe tbody tr th {\n",
       "        vertical-align: top;\n",
       "    }\n",
       "\n",
       "    .dataframe thead th {\n",
       "        text-align: right;\n",
       "    }\n",
       "</style>\n",
       "<table border=\"1\" class=\"dataframe\">\n",
       "  <thead>\n",
       "    <tr style=\"text-align: right;\">\n",
       "      <th>COMM_PERIOD</th>\n",
       "      <th>1</th>\n",
       "      <th>10</th>\n",
       "      <th>20</th>\n",
       "      <th>50</th>\n",
       "      <th>100</th>\n",
       "    </tr>\n",
       "    <tr>\n",
       "      <th>N_WORKERS</th>\n",
       "      <th></th>\n",
       "      <th></th>\n",
       "      <th></th>\n",
       "      <th></th>\n",
       "      <th></th>\n",
       "    </tr>\n",
       "  </thead>\n",
       "  <tbody>\n",
       "    <tr>\n",
       "      <th>8</th>\n",
       "      <td>80.284260</td>\n",
       "      <td>67.634710</td>\n",
       "      <td>67.073928</td>\n",
       "      <td>66.709684</td>\n",
       "      <td>68.440570</td>\n",
       "    </tr>\n",
       "    <tr>\n",
       "      <th>32</th>\n",
       "      <td>38.725822</td>\n",
       "      <td>26.163773</td>\n",
       "      <td>23.818460</td>\n",
       "      <td>23.179106</td>\n",
       "      <td>22.945643</td>\n",
       "    </tr>\n",
       "    <tr>\n",
       "      <th>64</th>\n",
       "      <td>34.593874</td>\n",
       "      <td>17.818068</td>\n",
       "      <td>16.218274</td>\n",
       "      <td>15.012941</td>\n",
       "      <td>14.756710</td>\n",
       "    </tr>\n",
       "    <tr>\n",
       "      <th>128</th>\n",
       "      <td>46.962904</td>\n",
       "      <td>14.321549</td>\n",
       "      <td>12.263984</td>\n",
       "      <td>11.459953</td>\n",
       "      <td>11.024461</td>\n",
       "    </tr>\n",
       "  </tbody>\n",
       "</table>\n",
       "</div>"
      ],
      "text/plain": [
       "COMM_PERIOD        1          10         20         50         100\n",
       "N_WORKERS                                                         \n",
       "8            80.284260  67.634710  67.073928  66.709684  68.440570\n",
       "32           38.725822  26.163773  23.818460  23.179106  22.945643\n",
       "64           34.593874  17.818068  16.218274  15.012941  14.756710\n",
       "128          46.962904  14.321549  12.263984  11.459953  11.024461"
      ]
     },
     "execution_count": 9,
     "metadata": {},
     "output_type": "execute_result"
    }
   ],
   "source": [
    "t_ib_avg_piv = mnist_avg.query('AGG_MODE == 0 and NONIID == 0 and UNBALANCED == 0').pivot_table(values=\"TIME\", index=\"N_WORKERS\", columns=['COMM_PERIOD'])\n",
    "t_ib_avg_piv"
   ]
  },
  {
   "cell_type": "code",
   "execution_count": 10,
   "metadata": {},
   "outputs": [
    {
     "data": {
      "text/html": [
       "<div>\n",
       "<style scoped>\n",
       "    .dataframe tbody tr th:only-of-type {\n",
       "        vertical-align: middle;\n",
       "    }\n",
       "\n",
       "    .dataframe tbody tr th {\n",
       "        vertical-align: top;\n",
       "    }\n",
       "\n",
       "    .dataframe thead th {\n",
       "        text-align: right;\n",
       "    }\n",
       "</style>\n",
       "<table border=\"1\" class=\"dataframe\">\n",
       "  <thead>\n",
       "    <tr style=\"text-align: right;\">\n",
       "      <th>COMM_MODE</th>\n",
       "      <th>0</th>\n",
       "      <th>1</th>\n",
       "      <th>2</th>\n",
       "    </tr>\n",
       "    <tr>\n",
       "      <th>N_WORKERS</th>\n",
       "      <th></th>\n",
       "      <th></th>\n",
       "      <th></th>\n",
       "    </tr>\n",
       "  </thead>\n",
       "  <tbody>\n",
       "    <tr>\n",
       "      <th>8</th>\n",
       "      <td>81.881099</td>\n",
       "      <td>87.658831</td>\n",
       "      <td>83.030932</td>\n",
       "    </tr>\n",
       "    <tr>\n",
       "      <th>32</th>\n",
       "      <td>41.194082</td>\n",
       "      <td>38.672567</td>\n",
       "      <td>40.201955</td>\n",
       "    </tr>\n",
       "    <tr>\n",
       "      <th>64</th>\n",
       "      <td>38.627704</td>\n",
       "      <td>31.959041</td>\n",
       "      <td>33.554338</td>\n",
       "    </tr>\n",
       "    <tr>\n",
       "      <th>128</th>\n",
       "      <td>49.194191</td>\n",
       "      <td>36.703425</td>\n",
       "      <td>40.028122</td>\n",
       "    </tr>\n",
       "  </tbody>\n",
       "</table>\n",
       "</div>"
      ],
      "text/plain": [
       "COMM_MODE          0          1          2\n",
       "N_WORKERS                                 \n",
       "8          81.881099  87.658831  83.030932\n",
       "32         41.194082  38.672567  40.201955\n",
       "64         38.627704  31.959041  33.554338\n",
       "128        49.194191  36.703425  40.028122"
      ]
     },
     "execution_count": 10,
     "metadata": {},
     "output_type": "execute_result"
    }
   ],
   "source": [
    "t_ib_piv = mnist_fed.query('AGG_MODE == 2 and NONIID == 0 and UNBALANCED == 0').pivot_table(values=\"TIME\", index=\"N_WORKERS\", columns=['COMM_MODE'])\n",
    "t_ib_piv"
   ]
  },
  {
   "cell_type": "code",
   "execution_count": 11,
   "metadata": {},
   "outputs": [],
   "source": [
    "t_ib_merged = pd.concat([t_ib_piv, t_ib_avg_piv.iloc[:, 1:]], axis=1)\n",
    "t_ib_merged.columns = [\n",
    "    r'FedAvg, $\\rho=1$', r'DynAvg SVD', r'DynAvgLoss', r'FedAvg, $\\rho=10$',\n",
    "    r'FedAvg, $\\rho=20$', r'FedAvg, $\\rho=50$', r'FedAvg, $\\rho=100$'\n",
    "]\n",
    "t_ib_merged.index.name = 'No. of workers'\n",
    "# .plot()"
   ]
  },
  {
   "cell_type": "markdown",
   "metadata": {},
   "source": [
    "##### Accuracy"
   ]
  },
  {
   "cell_type": "code",
   "execution_count": 13,
   "metadata": {},
   "outputs": [
    {
     "data": {
      "text/html": [
       "<div>\n",
       "<style scoped>\n",
       "    .dataframe tbody tr th:only-of-type {\n",
       "        vertical-align: middle;\n",
       "    }\n",
       "\n",
       "    .dataframe tbody tr th {\n",
       "        vertical-align: top;\n",
       "    }\n",
       "\n",
       "    .dataframe thead th {\n",
       "        text-align: right;\n",
       "    }\n",
       "</style>\n",
       "<table border=\"1\" class=\"dataframe\">\n",
       "  <thead>\n",
       "    <tr style=\"text-align: right;\">\n",
       "      <th>COMM_PERIOD</th>\n",
       "      <th>1</th>\n",
       "      <th>10</th>\n",
       "      <th>20</th>\n",
       "      <th>50</th>\n",
       "      <th>100</th>\n",
       "    </tr>\n",
       "    <tr>\n",
       "      <th>N_WORKERS</th>\n",
       "      <th></th>\n",
       "      <th></th>\n",
       "      <th></th>\n",
       "      <th></th>\n",
       "      <th></th>\n",
       "    </tr>\n",
       "  </thead>\n",
       "  <tbody>\n",
       "    <tr>\n",
       "      <th>8</th>\n",
       "      <td>91.26</td>\n",
       "      <td>91.26</td>\n",
       "      <td>91.28</td>\n",
       "      <td>91.28</td>\n",
       "      <td>91.30</td>\n",
       "    </tr>\n",
       "    <tr>\n",
       "      <th>32</th>\n",
       "      <td>89.58</td>\n",
       "      <td>89.56</td>\n",
       "      <td>89.53</td>\n",
       "      <td>89.49</td>\n",
       "      <td>89.39</td>\n",
       "    </tr>\n",
       "    <tr>\n",
       "      <th>64</th>\n",
       "      <td>88.44</td>\n",
       "      <td>88.43</td>\n",
       "      <td>88.40</td>\n",
       "      <td>88.26</td>\n",
       "      <td>88.02</td>\n",
       "    </tr>\n",
       "    <tr>\n",
       "      <th>128</th>\n",
       "      <td>87.05</td>\n",
       "      <td>86.99</td>\n",
       "      <td>86.95</td>\n",
       "      <td>86.66</td>\n",
       "      <td>86.24</td>\n",
       "    </tr>\n",
       "  </tbody>\n",
       "</table>\n",
       "</div>"
      ],
      "text/plain": [
       "COMM_PERIOD    1      10     20     50     100\n",
       "N_WORKERS                                     \n",
       "8            91.26  91.26  91.28  91.28  91.30\n",
       "32           89.58  89.56  89.53  89.49  89.39\n",
       "64           88.44  88.43  88.40  88.26  88.02\n",
       "128          87.05  86.99  86.95  86.66  86.24"
      ]
     },
     "execution_count": 13,
     "metadata": {},
     "output_type": "execute_result"
    }
   ],
   "source": [
    "acc_ib_avg_piv = mnist_avg.query('AGG_MODE == 0 and NONIID == 0 and UNBALANCED == 0').pivot_table(values=\"ACCURACY\", index=\"N_WORKERS\", columns=['COMM_PERIOD'])\n",
    "acc_ib_avg_piv"
   ]
  },
  {
   "cell_type": "code",
   "execution_count": 14,
   "metadata": {},
   "outputs": [
    {
     "data": {
      "text/html": [
       "<div>\n",
       "<style scoped>\n",
       "    .dataframe tbody tr th:only-of-type {\n",
       "        vertical-align: middle;\n",
       "    }\n",
       "\n",
       "    .dataframe tbody tr th {\n",
       "        vertical-align: top;\n",
       "    }\n",
       "\n",
       "    .dataframe thead th {\n",
       "        text-align: right;\n",
       "    }\n",
       "</style>\n",
       "<table border=\"1\" class=\"dataframe\">\n",
       "  <thead>\n",
       "    <tr style=\"text-align: right;\">\n",
       "      <th>COMM_MODE</th>\n",
       "      <th>0</th>\n",
       "      <th>1</th>\n",
       "      <th>2</th>\n",
       "    </tr>\n",
       "    <tr>\n",
       "      <th>N_WORKERS</th>\n",
       "      <th></th>\n",
       "      <th></th>\n",
       "      <th></th>\n",
       "    </tr>\n",
       "  </thead>\n",
       "  <tbody>\n",
       "    <tr>\n",
       "      <th>8</th>\n",
       "      <td>91.26</td>\n",
       "      <td>91.02</td>\n",
       "      <td>91.20</td>\n",
       "    </tr>\n",
       "    <tr>\n",
       "      <th>32</th>\n",
       "      <td>89.58</td>\n",
       "      <td>89.46</td>\n",
       "      <td>89.51</td>\n",
       "    </tr>\n",
       "    <tr>\n",
       "      <th>64</th>\n",
       "      <td>88.42</td>\n",
       "      <td>88.25</td>\n",
       "      <td>88.33</td>\n",
       "    </tr>\n",
       "    <tr>\n",
       "      <th>128</th>\n",
       "      <td>87.05</td>\n",
       "      <td>86.77</td>\n",
       "      <td>86.98</td>\n",
       "    </tr>\n",
       "  </tbody>\n",
       "</table>\n",
       "</div>"
      ],
      "text/plain": [
       "COMM_MODE      0      1      2\n",
       "N_WORKERS                     \n",
       "8          91.26  91.02  91.20\n",
       "32         89.58  89.46  89.51\n",
       "64         88.42  88.25  88.33\n",
       "128        87.05  86.77  86.98"
      ]
     },
     "execution_count": 14,
     "metadata": {},
     "output_type": "execute_result"
    }
   ],
   "source": [
    "acc_ib_piv = mnist_fed.query('AGG_MODE == 2 and NONIID == 0 and UNBALANCED == 0').pivot_table(values=\"ACCURACY\", index=\"N_WORKERS\", columns=['COMM_MODE'])\n",
    "acc_ib_piv"
   ]
  },
  {
   "cell_type": "code",
   "execution_count": 15,
   "metadata": {},
   "outputs": [],
   "source": [
    "acc_ib_merged_piv = pd.concat([acc_ib_piv, acc_ib_avg_piv.iloc[:, 1:]], axis=1)\n",
    "acc_ib_merged_piv.columns = [\n",
    "    r'FedAvg, $\\rho=1$', r'DynAvg SVD', r'DynAvgLoss', r'FedAvg, $\\rho=10$',\n",
    "    r'FedAvg, $\\rho=20$', r'FedAvg, $\\rho=50$', r'FedAvg, $\\rho=100$'\n",
    "]\n",
    "acc_ib_merged_piv.index.name = 'No. of workers'"
   ]
  },
  {
   "cell_type": "code",
   "execution_count": 75,
   "metadata": {},
   "outputs": [],
   "source": [
    "# ax = acc_ib_merged_piv.plot(figsize=(12, 8))\n",
    "# ax.set_ylabel('Wall time (s)', fontdict=dict(fontsize=12))\n",
    "# ax.set_xlabel('No. of workers', fontdict=dict(fontsize=12))"
   ]
  },
  {
   "cell_type": "markdown",
   "metadata": {},
   "source": [
    "#### Non-IID and Balanced\n",
    "\n",
    "###### Time"
   ]
  },
  {
   "cell_type": "code",
   "execution_count": 19,
   "metadata": {},
   "outputs": [
    {
     "data": {
      "text/html": [
       "<div>\n",
       "<style scoped>\n",
       "    .dataframe tbody tr th:only-of-type {\n",
       "        vertical-align: middle;\n",
       "    }\n",
       "\n",
       "    .dataframe tbody tr th {\n",
       "        vertical-align: top;\n",
       "    }\n",
       "\n",
       "    .dataframe thead tr th {\n",
       "        text-align: left;\n",
       "    }\n",
       "\n",
       "    .dataframe thead tr:last-of-type th {\n",
       "        text-align: right;\n",
       "    }\n",
       "</style>\n",
       "<table border=\"1\" class=\"dataframe\">\n",
       "  <thead>\n",
       "    <tr>\n",
       "      <th>N_WORKERS</th>\n",
       "    </tr>\n",
       "  </thead>\n",
       "  <tbody>\n",
       "  </tbody>\n",
       "</table>\n",
       "</div>"
      ],
      "text/plain": [
       "Empty DataFrame\n",
       "Columns: []\n",
       "Index: []"
      ]
     },
     "execution_count": 19,
     "metadata": {},
     "output_type": "execute_result"
    }
   ],
   "source": [
    "t_nb_avg_piv = mnist_avg.query('AGG_MODE == 0 and NONIID == 1 and UNBALANCED == 0').pivot_table(values=\"TIME\", index=\"N_WORKERS\", columns=['COMM_PERIOD'])\n",
    "t_nb_avg_piv"
   ]
  },
  {
   "cell_type": "code",
   "execution_count": 57,
   "metadata": {},
   "outputs": [
    {
     "data": {
      "text/html": [
       "<div>\n",
       "<style scoped>\n",
       "    .dataframe tbody tr th:only-of-type {\n",
       "        vertical-align: middle;\n",
       "    }\n",
       "\n",
       "    .dataframe tbody tr th {\n",
       "        vertical-align: top;\n",
       "    }\n",
       "\n",
       "    .dataframe thead th {\n",
       "        text-align: right;\n",
       "    }\n",
       "</style>\n",
       "<table border=\"1\" class=\"dataframe\">\n",
       "  <thead>\n",
       "    <tr style=\"text-align: right;\">\n",
       "      <th>COMM_MODE</th>\n",
       "      <th>0</th>\n",
       "      <th>1</th>\n",
       "      <th>2</th>\n",
       "    </tr>\n",
       "    <tr>\n",
       "      <th>N_WORKERS</th>\n",
       "      <th></th>\n",
       "      <th></th>\n",
       "      <th></th>\n",
       "    </tr>\n",
       "  </thead>\n",
       "  <tbody>\n",
       "    <tr>\n",
       "      <th>8</th>\n",
       "      <td>81.459455</td>\n",
       "      <td>86.744400</td>\n",
       "      <td>81.845792</td>\n",
       "    </tr>\n",
       "    <tr>\n",
       "      <th>32</th>\n",
       "      <td>37.516938</td>\n",
       "      <td>38.448068</td>\n",
       "      <td>38.069741</td>\n",
       "    </tr>\n",
       "    <tr>\n",
       "      <th>64</th>\n",
       "      <td>37.667752</td>\n",
       "      <td>31.473764</td>\n",
       "      <td>NaN</td>\n",
       "    </tr>\n",
       "    <tr>\n",
       "      <th>128</th>\n",
       "      <td>49.817912</td>\n",
       "      <td>37.206544</td>\n",
       "      <td>38.863762</td>\n",
       "    </tr>\n",
       "  </tbody>\n",
       "</table>\n",
       "</div>"
      ],
      "text/plain": [
       "COMM_MODE          0          1          2\n",
       "N_WORKERS                                 \n",
       "8          81.459455  86.744400  81.845792\n",
       "32         37.516938  38.448068  38.069741\n",
       "64         37.667752  31.473764        NaN\n",
       "128        49.817912  37.206544  38.863762"
      ]
     },
     "execution_count": 57,
     "metadata": {},
     "output_type": "execute_result"
    }
   ],
   "source": [
    "t_nb_piv = mnist_fed.query('AGG_MODE == 2 and NONIID == 1 and UNBALANCED == 0').pivot_table(values=\"TIME\", index=\"N_WORKERS\", columns=['COMM_MODE'])\n",
    "t_nb_piv"
   ]
  },
  {
   "cell_type": "code",
   "execution_count": 69,
   "metadata": {},
   "outputs": [],
   "source": [
    "cols = [\n",
    "    r'FedAvg, $\\rho=1$',\n",
    "    r'FedAvg, $\\rho=10$', r'FedAvg, $\\rho=20$',\n",
    "    r'FedAvg, $\\rho=50$', r'FedAvg, $\\rho=100$'\n",
    "]\n",
    "index = [8, 32, 64, 128]\n",
    "t_nb_avg_piv = pd.DataFrame(np.tile(np.nan, (4, 5)), index=index, columns=cols)"
   ]
  },
  {
   "cell_type": "code",
   "execution_count": 70,
   "metadata": {},
   "outputs": [
    {
     "data": {
      "text/html": [
       "<div>\n",
       "<style scoped>\n",
       "    .dataframe tbody tr th:only-of-type {\n",
       "        vertical-align: middle;\n",
       "    }\n",
       "\n",
       "    .dataframe tbody tr th {\n",
       "        vertical-align: top;\n",
       "    }\n",
       "\n",
       "    .dataframe thead th {\n",
       "        text-align: right;\n",
       "    }\n",
       "</style>\n",
       "<table border=\"1\" class=\"dataframe\">\n",
       "  <thead>\n",
       "    <tr style=\"text-align: right;\">\n",
       "      <th></th>\n",
       "      <th>FedAvg, $\\rho=1$</th>\n",
       "      <th>FedAvg, $\\rho=10$</th>\n",
       "      <th>FedAvg, $\\rho=20$</th>\n",
       "      <th>FedAvg, $\\rho=50$</th>\n",
       "      <th>FedAvg, $\\rho=100$</th>\n",
       "    </tr>\n",
       "  </thead>\n",
       "  <tbody>\n",
       "    <tr>\n",
       "      <th>8</th>\n",
       "      <td>NaN</td>\n",
       "      <td>NaN</td>\n",
       "      <td>NaN</td>\n",
       "      <td>NaN</td>\n",
       "      <td>NaN</td>\n",
       "    </tr>\n",
       "    <tr>\n",
       "      <th>32</th>\n",
       "      <td>NaN</td>\n",
       "      <td>NaN</td>\n",
       "      <td>NaN</td>\n",
       "      <td>NaN</td>\n",
       "      <td>NaN</td>\n",
       "    </tr>\n",
       "    <tr>\n",
       "      <th>64</th>\n",
       "      <td>NaN</td>\n",
       "      <td>NaN</td>\n",
       "      <td>NaN</td>\n",
       "      <td>NaN</td>\n",
       "      <td>NaN</td>\n",
       "    </tr>\n",
       "    <tr>\n",
       "      <th>128</th>\n",
       "      <td>NaN</td>\n",
       "      <td>NaN</td>\n",
       "      <td>NaN</td>\n",
       "      <td>NaN</td>\n",
       "      <td>NaN</td>\n",
       "    </tr>\n",
       "  </tbody>\n",
       "</table>\n",
       "</div>"
      ],
      "text/plain": [
       "     FedAvg, $\\rho=1$  FedAvg, $\\rho=10$  FedAvg, $\\rho=20$  \\\n",
       "8                 NaN                NaN                NaN   \n",
       "32                NaN                NaN                NaN   \n",
       "64                NaN                NaN                NaN   \n",
       "128               NaN                NaN                NaN   \n",
       "\n",
       "     FedAvg, $\\rho=50$  FedAvg, $\\rho=100$  \n",
       "8                  NaN                 NaN  \n",
       "32                 NaN                 NaN  \n",
       "64                 NaN                 NaN  \n",
       "128                NaN                 NaN  "
      ]
     },
     "execution_count": 70,
     "metadata": {},
     "output_type": "execute_result"
    }
   ],
   "source": [
    "t_nb_avg_piv"
   ]
  },
  {
   "cell_type": "code",
   "execution_count": 71,
   "metadata": {},
   "outputs": [],
   "source": [
    "t_nb_merged = pd.concat([t_nb_piv, t_nb_avg_piv.iloc[:, 1:]], axis=1)\n",
    "t_nb_merged.columns = [\n",
    "    r'FedAvg, $\\rho=1$', r'DynAvg SVD', r'DynAvgLoss', r'FedAvg, $\\rho=10$',\n",
    "    r'FedAvg, $\\rho=20$', r'FedAvg, $\\rho=50$', r'FedAvg, $\\rho=100$'\n",
    "]\n",
    "t_nb_merged.index.name = 'No. of workers'"
   ]
  },
  {
   "cell_type": "markdown",
   "metadata": {},
   "source": [
    "##### Accuracy"
   ]
  },
  {
   "cell_type": "code",
   "execution_count": 79,
   "metadata": {},
   "outputs": [],
   "source": [
    "cols = [\n",
    "    r'FedAvg, $\\rho=1$',\n",
    "    r'FedAvg, $\\rho=10$', r'FedAvg, $\\rho=20$',\n",
    "    r'FedAvg, $\\rho=50$', r'FedAvg, $\\rho=100$'\n",
    "]\n",
    "index = [8, 32, 64, 128]\n",
    "acc_nb_avg_piv = pd.DataFrame(np.tile(np.nan, (4, 5)), index=index, columns=cols)"
   ]
  },
  {
   "cell_type": "code",
   "execution_count": 80,
   "metadata": {},
   "outputs": [
    {
     "data": {
      "text/html": [
       "<div>\n",
       "<style scoped>\n",
       "    .dataframe tbody tr th:only-of-type {\n",
       "        vertical-align: middle;\n",
       "    }\n",
       "\n",
       "    .dataframe tbody tr th {\n",
       "        vertical-align: top;\n",
       "    }\n",
       "\n",
       "    .dataframe thead th {\n",
       "        text-align: right;\n",
       "    }\n",
       "</style>\n",
       "<table border=\"1\" class=\"dataframe\">\n",
       "  <thead>\n",
       "    <tr style=\"text-align: right;\">\n",
       "      <th></th>\n",
       "      <th>FedAvg, $\\rho=1$</th>\n",
       "      <th>FedAvg, $\\rho=10$</th>\n",
       "      <th>FedAvg, $\\rho=20$</th>\n",
       "      <th>FedAvg, $\\rho=50$</th>\n",
       "      <th>FedAvg, $\\rho=100$</th>\n",
       "    </tr>\n",
       "  </thead>\n",
       "  <tbody>\n",
       "    <tr>\n",
       "      <th>8</th>\n",
       "      <td>NaN</td>\n",
       "      <td>NaN</td>\n",
       "      <td>NaN</td>\n",
       "      <td>NaN</td>\n",
       "      <td>NaN</td>\n",
       "    </tr>\n",
       "    <tr>\n",
       "      <th>32</th>\n",
       "      <td>NaN</td>\n",
       "      <td>NaN</td>\n",
       "      <td>NaN</td>\n",
       "      <td>NaN</td>\n",
       "      <td>NaN</td>\n",
       "    </tr>\n",
       "    <tr>\n",
       "      <th>64</th>\n",
       "      <td>NaN</td>\n",
       "      <td>NaN</td>\n",
       "      <td>NaN</td>\n",
       "      <td>NaN</td>\n",
       "      <td>NaN</td>\n",
       "    </tr>\n",
       "    <tr>\n",
       "      <th>128</th>\n",
       "      <td>NaN</td>\n",
       "      <td>NaN</td>\n",
       "      <td>NaN</td>\n",
       "      <td>NaN</td>\n",
       "      <td>NaN</td>\n",
       "    </tr>\n",
       "  </tbody>\n",
       "</table>\n",
       "</div>"
      ],
      "text/plain": [
       "     FedAvg, $\\rho=1$  FedAvg, $\\rho=10$  FedAvg, $\\rho=20$  \\\n",
       "8                 NaN                NaN                NaN   \n",
       "32                NaN                NaN                NaN   \n",
       "64                NaN                NaN                NaN   \n",
       "128               NaN                NaN                NaN   \n",
       "\n",
       "     FedAvg, $\\rho=50$  FedAvg, $\\rho=100$  \n",
       "8                  NaN                 NaN  \n",
       "32                 NaN                 NaN  \n",
       "64                 NaN                 NaN  \n",
       "128                NaN                 NaN  "
      ]
     },
     "execution_count": 80,
     "metadata": {},
     "output_type": "execute_result"
    }
   ],
   "source": [
    "acc_nb_avg_piv"
   ]
  },
  {
   "cell_type": "code",
   "execution_count": 78,
   "metadata": {},
   "outputs": [
    {
     "data": {
      "text/html": [
       "<div>\n",
       "<style scoped>\n",
       "    .dataframe tbody tr th:only-of-type {\n",
       "        vertical-align: middle;\n",
       "    }\n",
       "\n",
       "    .dataframe tbody tr th {\n",
       "        vertical-align: top;\n",
       "    }\n",
       "\n",
       "    .dataframe thead th {\n",
       "        text-align: right;\n",
       "    }\n",
       "</style>\n",
       "<table border=\"1\" class=\"dataframe\">\n",
       "  <thead>\n",
       "    <tr style=\"text-align: right;\">\n",
       "      <th>COMM_MODE</th>\n",
       "      <th>0</th>\n",
       "      <th>1</th>\n",
       "      <th>2</th>\n",
       "    </tr>\n",
       "    <tr>\n",
       "      <th>N_WORKERS</th>\n",
       "      <th></th>\n",
       "      <th></th>\n",
       "      <th></th>\n",
       "    </tr>\n",
       "  </thead>\n",
       "  <tbody>\n",
       "    <tr>\n",
       "      <th>8</th>\n",
       "      <td>88.89</td>\n",
       "      <td>72.07</td>\n",
       "      <td>87.15</td>\n",
       "    </tr>\n",
       "    <tr>\n",
       "      <th>32</th>\n",
       "      <td>88.42</td>\n",
       "      <td>86.50</td>\n",
       "      <td>88.41</td>\n",
       "    </tr>\n",
       "    <tr>\n",
       "      <th>64</th>\n",
       "      <td>87.74</td>\n",
       "      <td>86.18</td>\n",
       "      <td>NaN</td>\n",
       "    </tr>\n",
       "    <tr>\n",
       "      <th>128</th>\n",
       "      <td>87.01</td>\n",
       "      <td>84.37</td>\n",
       "      <td>86.79</td>\n",
       "    </tr>\n",
       "  </tbody>\n",
       "</table>\n",
       "</div>"
      ],
      "text/plain": [
       "COMM_MODE      0      1      2\n",
       "N_WORKERS                     \n",
       "8          88.89  72.07  87.15\n",
       "32         88.42  86.50  88.41\n",
       "64         87.74  86.18    NaN\n",
       "128        87.01  84.37  86.79"
      ]
     },
     "execution_count": 78,
     "metadata": {},
     "output_type": "execute_result"
    }
   ],
   "source": [
    "acc_nb_piv = mnist_fed.query('AGG_MODE == 2 and NONIID == 1 and UNBALANCED == 0').pivot_table(values=\"ACCURACY\", index=\"N_WORKERS\", columns=['COMM_MODE'])\n",
    "acc_nb_piv"
   ]
  },
  {
   "cell_type": "code",
   "execution_count": 81,
   "metadata": {},
   "outputs": [],
   "source": [
    "acc_nb_merged = pd.concat([acc_nb_piv, acc_nb_avg_piv.iloc[:, 1:]], axis=1)\n",
    "acc_nb_merged.columns = [\n",
    "    r'FedAvg, $\\rho=1$', r'DynAvg SVD', r'DynAvgLoss', r'FedAvg, $\\rho=10$',\n",
    "    r'FedAvg, $\\rho=20$', r'FedAvg, $\\rho=50$', r'FedAvg, $\\rho=100$'\n",
    "]\n",
    "acc_nb_merged.index.name = 'No. of workers'"
   ]
  },
  {
   "cell_type": "markdown",
   "metadata": {},
   "source": [
    "#### Non-IID and Unbalanced\n",
    "\n",
    "##### Time"
   ]
  },
  {
   "cell_type": "code",
   "execution_count": 89,
   "metadata": {},
   "outputs": [],
   "source": [
    "cols = [\n",
    "    r'FedAvg, $\\rho=1$',\n",
    "    r'FedAvg, $\\rho=10$', r'FedAvg, $\\rho=20$',\n",
    "    r'FedAvg, $\\rho=50$', r'FedAvg, $\\rho=100$'\n",
    "]\n",
    "index = [8, 32, 64, 128]\n",
    "t_nu_avg_piv = pd.DataFrame(np.tile(np.nan, (4, 5)), index=index, columns=cols)"
   ]
  },
  {
   "cell_type": "code",
   "execution_count": 90,
   "metadata": {},
   "outputs": [
    {
     "data": {
      "text/html": [
       "<div>\n",
       "<style scoped>\n",
       "    .dataframe tbody tr th:only-of-type {\n",
       "        vertical-align: middle;\n",
       "    }\n",
       "\n",
       "    .dataframe tbody tr th {\n",
       "        vertical-align: top;\n",
       "    }\n",
       "\n",
       "    .dataframe thead th {\n",
       "        text-align: right;\n",
       "    }\n",
       "</style>\n",
       "<table border=\"1\" class=\"dataframe\">\n",
       "  <thead>\n",
       "    <tr style=\"text-align: right;\">\n",
       "      <th></th>\n",
       "      <th>FedAvg, $\\rho=1$</th>\n",
       "      <th>FedAvg, $\\rho=10$</th>\n",
       "      <th>FedAvg, $\\rho=20$</th>\n",
       "      <th>FedAvg, $\\rho=50$</th>\n",
       "      <th>FedAvg, $\\rho=100$</th>\n",
       "    </tr>\n",
       "  </thead>\n",
       "  <tbody>\n",
       "    <tr>\n",
       "      <th>8</th>\n",
       "      <td>NaN</td>\n",
       "      <td>NaN</td>\n",
       "      <td>NaN</td>\n",
       "      <td>NaN</td>\n",
       "      <td>NaN</td>\n",
       "    </tr>\n",
       "    <tr>\n",
       "      <th>32</th>\n",
       "      <td>NaN</td>\n",
       "      <td>NaN</td>\n",
       "      <td>NaN</td>\n",
       "      <td>NaN</td>\n",
       "      <td>NaN</td>\n",
       "    </tr>\n",
       "    <tr>\n",
       "      <th>64</th>\n",
       "      <td>NaN</td>\n",
       "      <td>NaN</td>\n",
       "      <td>NaN</td>\n",
       "      <td>NaN</td>\n",
       "      <td>NaN</td>\n",
       "    </tr>\n",
       "    <tr>\n",
       "      <th>128</th>\n",
       "      <td>NaN</td>\n",
       "      <td>NaN</td>\n",
       "      <td>NaN</td>\n",
       "      <td>NaN</td>\n",
       "      <td>NaN</td>\n",
       "    </tr>\n",
       "  </tbody>\n",
       "</table>\n",
       "</div>"
      ],
      "text/plain": [
       "     FedAvg, $\\rho=1$  FedAvg, $\\rho=10$  FedAvg, $\\rho=20$  \\\n",
       "8                 NaN                NaN                NaN   \n",
       "32                NaN                NaN                NaN   \n",
       "64                NaN                NaN                NaN   \n",
       "128               NaN                NaN                NaN   \n",
       "\n",
       "     FedAvg, $\\rho=50$  FedAvg, $\\rho=100$  \n",
       "8                  NaN                 NaN  \n",
       "32                 NaN                 NaN  \n",
       "64                 NaN                 NaN  \n",
       "128                NaN                 NaN  "
      ]
     },
     "execution_count": 90,
     "metadata": {},
     "output_type": "execute_result"
    }
   ],
   "source": [
    "t_nu_avg_piv"
   ]
  },
  {
   "cell_type": "code",
   "execution_count": 91,
   "metadata": {},
   "outputs": [
    {
     "data": {
      "text/html": [
       "<div>\n",
       "<style scoped>\n",
       "    .dataframe tbody tr th:only-of-type {\n",
       "        vertical-align: middle;\n",
       "    }\n",
       "\n",
       "    .dataframe tbody tr th {\n",
       "        vertical-align: top;\n",
       "    }\n",
       "\n",
       "    .dataframe thead th {\n",
       "        text-align: right;\n",
       "    }\n",
       "</style>\n",
       "<table border=\"1\" class=\"dataframe\">\n",
       "  <thead>\n",
       "    <tr style=\"text-align: right;\">\n",
       "      <th>COMM_MODE</th>\n",
       "      <th>0</th>\n",
       "      <th>1</th>\n",
       "    </tr>\n",
       "    <tr>\n",
       "      <th>N_WORKERS</th>\n",
       "      <th></th>\n",
       "      <th></th>\n",
       "    </tr>\n",
       "  </thead>\n",
       "  <tbody>\n",
       "    <tr>\n",
       "      <th>8</th>\n",
       "      <td>82.487672</td>\n",
       "      <td>84.261614</td>\n",
       "    </tr>\n",
       "    <tr>\n",
       "      <th>32</th>\n",
       "      <td>66.200025</td>\n",
       "      <td>42.777518</td>\n",
       "    </tr>\n",
       "    <tr>\n",
       "      <th>64</th>\n",
       "      <td>48.304776</td>\n",
       "      <td>42.121617</td>\n",
       "    </tr>\n",
       "    <tr>\n",
       "      <th>128</th>\n",
       "      <td>50.305207</td>\n",
       "      <td>40.597429</td>\n",
       "    </tr>\n",
       "  </tbody>\n",
       "</table>\n",
       "</div>"
      ],
      "text/plain": [
       "COMM_MODE          0          1\n",
       "N_WORKERS                      \n",
       "8          82.487672  84.261614\n",
       "32         66.200025  42.777518\n",
       "64         48.304776  42.121617\n",
       "128        50.305207  40.597429"
      ]
     },
     "execution_count": 91,
     "metadata": {},
     "output_type": "execute_result"
    }
   ],
   "source": [
    "t_nu_piv = mnist_fed.query('AGG_MODE == 2 and NONIID == 1 and UNBALANCED == 1').pivot_table(values=\"TIME\", index=\"N_WORKERS\", columns=['COMM_MODE'])\n",
    "t_nu_piv"
   ]
  },
  {
   "cell_type": "code",
   "execution_count": 97,
   "metadata": {},
   "outputs": [],
   "source": [
    "t_nu_merged = pd.concat([t_nu_piv, t_nu_avg_piv.iloc[:, 1:]], axis=1)\n",
    "# For now adding DynAvgLoss column\n",
    "t_nu_merged.insert(2, 'DynAvg SVD', np.nan)\n",
    "t_nu_merged.columns = [\n",
    "    r'FedAvg, $\\rho=1$', r'DynAvg SVD', r'DynAvgLoss', r'FedAvg, $\\rho=10$',\n",
    "    r'FedAvg, $\\rho=20$', r'FedAvg, $\\rho=50$', r'FedAvg, $\\rho=100$'\n",
    "]\n",
    "t_nu_merged.index.name = 'No. of workers'"
   ]
  },
  {
   "cell_type": "markdown",
   "metadata": {},
   "source": [
    "##### Accuracy"
   ]
  },
  {
   "cell_type": "code",
   "execution_count": 102,
   "metadata": {},
   "outputs": [],
   "source": [
    "cols = [\n",
    "    r'FedAvg, $\\rho=1$',\n",
    "    r'FedAvg, $\\rho=10$', r'FedAvg, $\\rho=20$',\n",
    "    r'FedAvg, $\\rho=50$', r'FedAvg, $\\rho=100$'\n",
    "]\n",
    "index = [8, 32, 64, 128]\n",
    "acc_nu_avg_piv = pd.DataFrame(np.tile(np.nan, (4, 5)), index=index, columns=cols)"
   ]
  },
  {
   "cell_type": "code",
   "execution_count": 103,
   "metadata": {},
   "outputs": [
    {
     "data": {
      "text/html": [
       "<div>\n",
       "<style scoped>\n",
       "    .dataframe tbody tr th:only-of-type {\n",
       "        vertical-align: middle;\n",
       "    }\n",
       "\n",
       "    .dataframe tbody tr th {\n",
       "        vertical-align: top;\n",
       "    }\n",
       "\n",
       "    .dataframe thead th {\n",
       "        text-align: right;\n",
       "    }\n",
       "</style>\n",
       "<table border=\"1\" class=\"dataframe\">\n",
       "  <thead>\n",
       "    <tr style=\"text-align: right;\">\n",
       "      <th>COMM_MODE</th>\n",
       "      <th>0</th>\n",
       "      <th>1</th>\n",
       "    </tr>\n",
       "    <tr>\n",
       "      <th>N_WORKERS</th>\n",
       "      <th></th>\n",
       "      <th></th>\n",
       "    </tr>\n",
       "  </thead>\n",
       "  <tbody>\n",
       "    <tr>\n",
       "      <th>8</th>\n",
       "      <td>82.62</td>\n",
       "      <td>83.36</td>\n",
       "    </tr>\n",
       "    <tr>\n",
       "      <th>32</th>\n",
       "      <td>84.89</td>\n",
       "      <td>86.18</td>\n",
       "    </tr>\n",
       "    <tr>\n",
       "      <th>64</th>\n",
       "      <td>87.49</td>\n",
       "      <td>87.07</td>\n",
       "    </tr>\n",
       "    <tr>\n",
       "      <th>128</th>\n",
       "      <td>85.72</td>\n",
       "      <td>85.67</td>\n",
       "    </tr>\n",
       "  </tbody>\n",
       "</table>\n",
       "</div>"
      ],
      "text/plain": [
       "COMM_MODE      0      1\n",
       "N_WORKERS              \n",
       "8          82.62  83.36\n",
       "32         84.89  86.18\n",
       "64         87.49  87.07\n",
       "128        85.72  85.67"
      ]
     },
     "execution_count": 103,
     "metadata": {},
     "output_type": "execute_result"
    }
   ],
   "source": [
    "acc_nu_piv = mnist_fed.query('AGG_MODE == 2 and NONIID == 1 and UNBALANCED == 1').pivot_table(values=\"ACCURACY\", index=\"N_WORKERS\", columns=['COMM_MODE'])\n",
    "acc_nu_piv"
   ]
  },
  {
   "cell_type": "code",
   "execution_count": 104,
   "metadata": {},
   "outputs": [],
   "source": [
    "acc_nu_merged = pd.concat([acc_nu_piv, acc_nu_avg_piv.iloc[:, 1:]], axis=1)\n",
    "# For now adding DynAvgLoss column\n",
    "acc_nu_merged.insert(2, 'DynAvg SVD', np.nan)\n",
    "acc_nu_merged.columns = [\n",
    "    r'FedAvg, $\\rho=1$', r'DynAvg SVD', r'DynAvgLoss', r'FedAvg, $\\rho=10$',\n",
    "    r'FedAvg, $\\rho=20$', r'FedAvg, $\\rho=50$', r'FedAvg, $\\rho=100$'\n",
    "]\n",
    "acc_nu_merged.index.name = 'No. of workers'"
   ]
  },
  {
   "cell_type": "markdown",
   "metadata": {},
   "source": [
    "#### IID and Unbalanced\n",
    "\n",
    "##### Time"
   ]
  },
  {
   "cell_type": "code",
   "execution_count": 109,
   "metadata": {},
   "outputs": [],
   "source": [
    "cols = [\n",
    "    r'FedAvg, $\\rho=1$',\n",
    "    r'FedAvg, $\\rho=10$', r'FedAvg, $\\rho=20$',\n",
    "    r'FedAvg, $\\rho=50$', r'FedAvg, $\\rho=100$'\n",
    "]\n",
    "index = [8, 32, 64, 128]\n",
    "t_iu_avg_piv = pd.DataFrame(np.tile(np.nan, (4, 5)), index=index, columns=cols)"
   ]
  },
  {
   "cell_type": "code",
   "execution_count": 110,
   "metadata": {},
   "outputs": [
    {
     "data": {
      "text/html": [
       "<div>\n",
       "<style scoped>\n",
       "    .dataframe tbody tr th:only-of-type {\n",
       "        vertical-align: middle;\n",
       "    }\n",
       "\n",
       "    .dataframe tbody tr th {\n",
       "        vertical-align: top;\n",
       "    }\n",
       "\n",
       "    .dataframe thead th {\n",
       "        text-align: right;\n",
       "    }\n",
       "</style>\n",
       "<table border=\"1\" class=\"dataframe\">\n",
       "  <thead>\n",
       "    <tr style=\"text-align: right;\">\n",
       "      <th>COMM_MODE</th>\n",
       "      <th>0</th>\n",
       "      <th>1</th>\n",
       "      <th>2</th>\n",
       "    </tr>\n",
       "    <tr>\n",
       "      <th>N_WORKERS</th>\n",
       "      <th></th>\n",
       "      <th></th>\n",
       "      <th></th>\n",
       "    </tr>\n",
       "  </thead>\n",
       "  <tbody>\n",
       "    <tr>\n",
       "      <th>8</th>\n",
       "      <td>82.874970</td>\n",
       "      <td>86.257621</td>\n",
       "      <td>81.555400</td>\n",
       "    </tr>\n",
       "    <tr>\n",
       "      <th>32</th>\n",
       "      <td>44.019518</td>\n",
       "      <td>42.376728</td>\n",
       "      <td>NaN</td>\n",
       "    </tr>\n",
       "    <tr>\n",
       "      <th>64</th>\n",
       "      <td>44.663810</td>\n",
       "      <td>41.999761</td>\n",
       "      <td>33.151042</td>\n",
       "    </tr>\n",
       "    <tr>\n",
       "      <th>128</th>\n",
       "      <td>46.664180</td>\n",
       "      <td>40.502376</td>\n",
       "      <td>NaN</td>\n",
       "    </tr>\n",
       "  </tbody>\n",
       "</table>\n",
       "</div>"
      ],
      "text/plain": [
       "COMM_MODE          0          1          2\n",
       "N_WORKERS                                 \n",
       "8          82.874970  86.257621  81.555400\n",
       "32         44.019518  42.376728        NaN\n",
       "64         44.663810  41.999761  33.151042\n",
       "128        46.664180  40.502376        NaN"
      ]
     },
     "execution_count": 110,
     "metadata": {},
     "output_type": "execute_result"
    }
   ],
   "source": [
    "t_iu_piv = mnist_fed.query('AGG_MODE == 2 and NONIID == 0 and UNBALANCED == 1').pivot_table(values=\"TIME\", index=\"N_WORKERS\", columns=['COMM_MODE'])\n",
    "t_iu_piv"
   ]
  },
  {
   "cell_type": "code",
   "execution_count": 113,
   "metadata": {},
   "outputs": [],
   "source": [
    "t_iu_merged = pd.concat([t_iu_piv, t_iu_avg_piv.iloc[:, 1:]], axis=1)\n",
    "t_iu_merged.columns = [\n",
    "    r'FedAvg, $\\rho=1$', r'DynAvg SVD', r'DynAvgLoss', r'FedAvg, $\\rho=10$',\n",
    "    r'FedAvg, $\\rho=20$', r'FedAvg, $\\rho=50$', r'FedAvg, $\\rho=100$'\n",
    "]\n",
    "t_iu_merged.index.name = 'No. of workers'"
   ]
  },
  {
   "cell_type": "markdown",
   "metadata": {},
   "source": [
    "##### Accuracy"
   ]
  },
  {
   "cell_type": "code",
   "execution_count": 117,
   "metadata": {},
   "outputs": [],
   "source": [
    "cols = [\n",
    "    r'FedAvg, $\\rho=1$',\n",
    "    r'FedAvg, $\\rho=10$', r'FedAvg, $\\rho=20$',\n",
    "    r'FedAvg, $\\rho=50$', r'FedAvg, $\\rho=100$'\n",
    "]\n",
    "index = [8, 32, 64, 128]\n",
    "acc_iu_avg_piv = pd.DataFrame(np.tile(np.nan, (4, 5)), index=index, columns=cols)"
   ]
  },
  {
   "cell_type": "code",
   "execution_count": 118,
   "metadata": {},
   "outputs": [
    {
     "data": {
      "text/html": [
       "<div>\n",
       "<style scoped>\n",
       "    .dataframe tbody tr th:only-of-type {\n",
       "        vertical-align: middle;\n",
       "    }\n",
       "\n",
       "    .dataframe tbody tr th {\n",
       "        vertical-align: top;\n",
       "    }\n",
       "\n",
       "    .dataframe thead th {\n",
       "        text-align: right;\n",
       "    }\n",
       "</style>\n",
       "<table border=\"1\" class=\"dataframe\">\n",
       "  <thead>\n",
       "    <tr style=\"text-align: right;\">\n",
       "      <th>COMM_MODE</th>\n",
       "      <th>0</th>\n",
       "      <th>1</th>\n",
       "      <th>2</th>\n",
       "    </tr>\n",
       "    <tr>\n",
       "      <th>N_WORKERS</th>\n",
       "      <th></th>\n",
       "      <th></th>\n",
       "      <th></th>\n",
       "    </tr>\n",
       "  </thead>\n",
       "  <tbody>\n",
       "    <tr>\n",
       "      <th>8</th>\n",
       "      <td>91.25</td>\n",
       "      <td>91.44</td>\n",
       "      <td>91.23</td>\n",
       "    </tr>\n",
       "    <tr>\n",
       "      <th>32</th>\n",
       "      <td>89.56</td>\n",
       "      <td>90.02</td>\n",
       "      <td>NaN</td>\n",
       "    </tr>\n",
       "    <tr>\n",
       "      <th>64</th>\n",
       "      <td>88.62</td>\n",
       "      <td>88.99</td>\n",
       "      <td>88.49</td>\n",
       "    </tr>\n",
       "    <tr>\n",
       "      <th>128</th>\n",
       "      <td>87.12</td>\n",
       "      <td>88.38</td>\n",
       "      <td>NaN</td>\n",
       "    </tr>\n",
       "  </tbody>\n",
       "</table>\n",
       "</div>"
      ],
      "text/plain": [
       "COMM_MODE      0      1      2\n",
       "N_WORKERS                     \n",
       "8          91.25  91.44  91.23\n",
       "32         89.56  90.02    NaN\n",
       "64         88.62  88.99  88.49\n",
       "128        87.12  88.38    NaN"
      ]
     },
     "execution_count": 118,
     "metadata": {},
     "output_type": "execute_result"
    }
   ],
   "source": [
    "acc_iu_piv = mnist_fed.query('AGG_MODE == 2 and NONIID == 0 and UNBALANCED == 1').pivot_table(values=\"ACCURACY\", index=\"N_WORKERS\", columns=['COMM_MODE'])\n",
    "acc_iu_piv"
   ]
  },
  {
   "cell_type": "code",
   "execution_count": 119,
   "metadata": {},
   "outputs": [],
   "source": [
    "acc_iu_merged = pd.concat([acc_iu_piv, acc_iu_avg_piv.iloc[:, 1:]], axis=1)\n",
    "acc_iu_merged.columns = [\n",
    "    r'FedAvg, $\\rho=1$', r'DynAvg SVD', r'DynAvgLoss', r'FedAvg, $\\rho=10$',\n",
    "    r'FedAvg, $\\rho=20$', r'FedAvg, $\\rho=50$', r'FedAvg, $\\rho=100$'\n",
    "]\n",
    "acc_iu_merged.index.name = 'No. of workers'"
   ]
  },
  {
   "cell_type": "markdown",
   "metadata": {},
   "source": [
    "### Wall time analysis"
   ]
  },
  {
   "cell_type": "code",
   "execution_count": 128,
   "metadata": {},
   "outputs": [
    {
     "data": {
      "image/png": "[encoded data removed]",
      "text/plain": [
       "<Figure size 864x576 with 5 Axes>"
      ]
     },
     "metadata": {
      "needs_background": "light"
     },
     "output_type": "display_data"
    }
   ],
   "source": [
    "fig, axes = plt.subplots(2, 2, figsize=(12, 8), sharey=True, sharex=True)\n",
    "# add a big axes, hide frame\n",
    "fig.add_subplot(111, frameon=False)\n",
    "# hide tick and tick label of the big axes\n",
    "plt.tick_params(labelcolor='none', top=False, bottom=False, left=False, right=False)\n",
    "# IID and Balanced\n",
    "t_ib_merged.plot(ax=axes[0, 0])\n",
    "# axes[0, 0].set_ylabel('Wall time (s)', fontdict=dict(fontsize=12))\n",
    "axes[0, 0].set_title('IID and Balanced')\n",
    "\n",
    "# Non IID and Balanced\n",
    "t_nb_merged.plot(ax=axes[0, 1])\n",
    "axes[0, 1].set_title('Non-IID and Balanced')\n",
    "\n",
    "# IID and Unbalanced\n",
    "t_iu_merged.plot(ax=axes[1, 0])\n",
    "axes[1, 0].set_title('IID and Unbalanced')\n",
    "axes[1, 0].set_xlabel('')\n",
    "\n",
    "# Non IID and Unbalanced\n",
    "t_nu_merged.plot(ax=axes[1, 1])\n",
    "axes[1, 1].set_title('Non-IID and Unbalanced')\n",
    "axes[1, 1].set_xlabel('')\n",
    "\n",
    "plt.ylabel('Wall time (s)', fontdict=dict(fontsize=12))\n",
    "plt.xlabel('No. of workers', fontdict=dict(fontsize=12))\n",
    "plt.suptitle('Wall time analysis', fontsize=16)\n",
    "plt.savefig('../reports/figures/time-analysis.png', dpi=500, format='png')"
   ]
  },
  {
   "cell_type": "markdown",
   "metadata": {},
   "source": [
    "### Accuracy analysis"
   ]
  },
  {
   "cell_type": "code",
   "execution_count": 127,
   "metadata": {},
   "outputs": [
    {
     "data": {
      "image/png": "[encoded data removed]",
      "text/plain": [
       "<Figure size 864x576 with 5 Axes>"
      ]
     },
     "metadata": {
      "needs_background": "light"
     },
     "output_type": "display_data"
    }
   ],
   "source": [
    "fig2, axes2 = plt.subplots(2, 2, figsize=(12, 8), sharey=True, sharex=True)\n",
    "# add a big axes, hide frame\n",
    "fig2.add_subplot(111, frameon=False)\n",
    "# hide tick and tick label of the big axes\n",
    "plt.tick_params(labelcolor='none', top=False, bottom=False, left=False, right=False)\n",
    "\n",
    "# IID and balanced\n",
    "acc_ib_merged_piv.plot(ax=axes2[0, 0])\n",
    "axes2[0, 0].set_title('IID and Balanced')\n",
    "\n",
    "# Non-IID and balanced\n",
    "acc_nb_merged.plot(ax=axes2[0, 1])\n",
    "axes2[0, 1].set_title('Non-IID and Balanced')\n",
    "\n",
    "# IID and Unbalanced\n",
    "acc_iu_merged.plot(ax=axes2[1, 0])\n",
    "axes2[1, 0].set_title('IID and Unbalanced')\n",
    "axes2[1, 0].set_xlabel('')\n",
    "\n",
    "# Non-IID and Unbalanced\n",
    "acc_nu_merged.plot(ax=axes2[1, 1])\n",
    "axes2[1, 1].set_title('Non-IID and Unbalanced')\n",
    "axes2[1, 1].set_xlabel('')\n",
    "\n",
    "plt.ylabel('Accuracy (\\%)', fontdict=dict(fontsize=12))\n",
    "plt.xlabel('No. of workers', fontdict=dict(fontsize=12))\n",
    "plt.suptitle(r'Accuracy analysis', fontsize=16)\n",
    "plt.savefig('../reports/figures/accuracy-analysis.png', dpi=500, format='png')"
   ]
  },
  {
   "cell_type": "code",
   "execution_count": null,
   "metadata": {},
   "outputs": [],
   "source": []
  }
 ],
 "metadata": {
  "kernelspec": {
   "display_name": "Python [conda env:ftml]",
   "language": "python",
   "name": "conda-env-ftml-py"
  },
  "language_info": {
   "codemirror_mode": {
    "name": "ipython",
    "version": 3
   },
   "file_extension": ".py",
   "mimetype": "text/x-python",
   "name": "python",
   "nbconvert_exporter": "python",
   "pygments_lexer": "ipython3",
   "version": "3.7.3"
  }
 },
 "nbformat": 4,
 "nbformat_minor": 4
}
