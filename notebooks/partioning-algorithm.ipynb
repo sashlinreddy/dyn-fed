{
 "cells": [
  {
   "cell_type": "code",
   "execution_count": 1,
   "metadata": {},
   "outputs": [],
   "source": [
    "import numpy as np\n",
    "import os\n",
    "\n",
    "\n",
    "from fault_tolerant_ml.data.mnist import MNist\n",
    "\n",
    "%reload_ext autoreload\n",
    "%autoreload 2"
   ]
  },
  {
   "cell_type": "code",
   "execution_count": 2,
   "metadata": {},
   "outputs": [],
   "source": [
    "data_dir = \"../data\"\n",
    "filepaths = {\n",
    "    \"train\": {\n",
    "        \"images\": os.path.join(data_dir, \"train-images-idx3-ubyte.gz\"), \"labels\": os.path.join(data_dir, \"train-labels-idx1-ubyte.gz\")\n",
    "    },\n",
    "    \"test\": {\n",
    "        \"images\": os.path.join(data_dir, \"t10k-images-idx3-ubyte.gz\"), \"labels\": os.path.join(data_dir, \"t10k-labels-idx1-ubyte.gz\")\n",
    "    }\n",
    "}\n",
    "mnist = MNist(filepaths)"
   ]
  },
  {
   "cell_type": "code",
   "execution_count": 9,
   "metadata": {},
   "outputs": [
    {
     "name": "stdout",
     "output_type": "stream",
     "text": [
      "(6000, 784) start idx= 0 end_idx= 6000\n",
      "(6000, 784) start idx= 6000 end_idx= 12000\n",
      "(6000, 784) start idx= 12000 end_idx= 18000\n",
      "(6000, 784) start idx= 18000 end_idx= 24000\n",
      "(6000, 784) start idx= 24000 end_idx= 30000\n",
      "(6000, 784) start idx= 30000 end_idx= 36000\n",
      "(6000, 784) start idx= 36000 end_idx= 42000\n",
      "(6000, 784) start idx= 42000 end_idx= 48000\n",
      "(6000, 784) start idx= 48000 end_idx= 54000\n",
      "(6000, 784) start idx= 54000 end_idx= 60000\n"
     ]
    }
   ],
   "source": [
    "n_partitions = 10\n",
    "batch_size = mnist.X_train.shape[0] // n_partitions\n",
    "for i in np.arange(n_partitions):\n",
    "    start = i * batch_size\n",
    "    end = start + batch_size\n",
    "    X_batch = mnist.X_train.data[start:end]\n",
    "    print(X_batch.shape, \"start idx=\", start, \"end_idx=\", end)\n",
    "    fro_norm = np.linalg.norm(X_batch, )"
   ]
  },
  {
   "cell_type": "code",
   "execution_count": 11,
   "metadata": {},
   "outputs": [],
   "source": [
    "n_workers = 23\n",
    "n_samples = 60000\n",
    "batch_size = int(np.ceil(n_samples / n_workers))"
   ]
  },
  {
   "cell_type": "code",
   "execution_count": 12,
   "metadata": {},
   "outputs": [
    {
     "name": "stdout",
     "output_type": "stream",
     "text": [
      "Overlap=2609\n"
     ]
    }
   ],
   "source": [
    "overlap_per = 0.0\n",
    "n_overlap = int((1 + overlap_per) * batch_size)\n",
    "print(f\"Overlap={n_overlap}\")"
   ]
  },
  {
   "cell_type": "code",
   "execution_count": 77,
   "metadata": {},
   "outputs": [
    {
     "name": "stdout",
     "output_type": "stream",
     "text": [
      "worker 0 0 2609 X_batch.shape=(2609, 784)\n",
      "worker 1 2609 5218 X_batch.shape=(2609, 784)\n",
      "worker 2 5218 7827 X_batch.shape=(2609, 784)\n",
      "worker 3 7827 10436 X_batch.shape=(2609, 784)\n",
      "worker 4 10436 13045 X_batch.shape=(2609, 784)\n",
      "worker 5 13045 15654 X_batch.shape=(2609, 784)\n",
      "worker 6 15654 18263 X_batch.shape=(2609, 784)\n",
      "worker 7 18263 20872 X_batch.shape=(2609, 784)\n",
      "worker 8 20872 23481 X_batch.shape=(2609, 784)\n",
      "worker 9 23481 26090 X_batch.shape=(2609, 784)\n",
      "worker 10 26090 28699 X_batch.shape=(2609, 784)\n",
      "worker 11 28699 31308 X_batch.shape=(2609, 784)\n",
      "worker 12 31308 33917 X_batch.shape=(2609, 784)\n",
      "worker 13 33917 36526 X_batch.shape=(2609, 784)\n",
      "worker 14 36526 39135 X_batch.shape=(2609, 784)\n",
      "worker 15 39135 41744 X_batch.shape=(2609, 784)\n",
      "worker 16 41744 44353 X_batch.shape=(2609, 784)\n",
      "worker 17 44353 46962 X_batch.shape=(2609, 784)\n",
      "worker 18 46962 49571 X_batch.shape=(2609, 784)\n",
      "worker 19 49571 52180 X_batch.shape=(2609, 784)\n",
      "worker 20 52180 54789 X_batch.shape=(2609, 784)\n",
      "worker 21 54789 57398 X_batch.shape=(2609, 784)\n",
      "worker 22 57398 60007 X_batch.shape=(2602, 784)\n"
     ]
    }
   ],
   "source": [
    "# Iterate through each worker\n",
    "end = 0\n",
    "for i in np.arange(0, n_workers):\n",
    "    if i > 0:\n",
    "        start = i * batch_size\n",
    "    else:\n",
    "        start = 0\n",
    "    end = start + n_overlap\n",
    "    # We need to circle back to beginning worker\n",
    "    X_batch = mnist.X_train.data[start:end]\n",
    "    if end > n_samples and overlap_per != 0.0:\n",
    "        # end = n_samples\n",
    "        # I would need to circle back and stack the points from worker 1 onto these points\n",
    "        end = end - n_samples\n",
    "        X_batch = np.vstack([X_batch, mnist.X_train.data[0:end]])\n",
    "    print(\"worker %s %s %s X_batch.shape=%s\" % (i, start, end, X_batch.shape))"
   ]
  },
  {
   "cell_type": "code",
   "execution_count": 78,
   "metadata": {},
   "outputs": [],
   "source": [
    "def next_batch():\n",
    "    # Iterate through each worker\n",
    "    end = 0\n",
    "    for worker, i in enumerate(np.arange(0, n_samples, batch_size)):\n",
    "        if i > 0:\n",
    "            start = i\n",
    "        else:\n",
    "            start = 0\n",
    "        end = start + n_overlap\n",
    "        X_batch = mnist.X_train.data[start:end]\n",
    "        if end > n_samples and overlap_per != 0.0:\n",
    "            # end = n_samples\n",
    "            # I would need to circle back and stack the points from worker 1 onto these points\n",
    "            end = end - n_samples\n",
    "            X_batch = np.vstack([X_batch, mnist.X_train.data[0:end]])\n",
    "        print(\"worker %s %s %s X_batch.shape=%s\" % (worker, start, end, X_batch.shape))\n",
    "        yield X_batch"
   ]
  },
  {
   "cell_type": "code",
   "execution_count": 79,
   "metadata": {},
   "outputs": [
    {
     "name": "stdout",
     "output_type": "stream",
     "text": [
      "worker 0 0 2609 X_batch.shape=(2609, 784)\n",
      "(2609, 784)\n",
      "worker 1 2609 5218 X_batch.shape=(2609, 784)\n",
      "(2609, 784)\n",
      "worker 2 5218 7827 X_batch.shape=(2609, 784)\n",
      "(2609, 784)\n",
      "worker 3 7827 10436 X_batch.shape=(2609, 784)\n",
      "(2609, 784)\n",
      "worker 4 10436 13045 X_batch.shape=(2609, 784)\n",
      "(2609, 784)\n",
      "worker 5 13045 15654 X_batch.shape=(2609, 784)\n",
      "(2609, 784)\n",
      "worker 6 15654 18263 X_batch.shape=(2609, 784)\n",
      "(2609, 784)\n",
      "worker 7 18263 20872 X_batch.shape=(2609, 784)\n",
      "(2609, 784)\n",
      "worker 8 20872 23481 X_batch.shape=(2609, 784)\n",
      "(2609, 784)\n",
      "worker 9 23481 26090 X_batch.shape=(2609, 784)\n",
      "(2609, 784)\n",
      "worker 10 26090 28699 X_batch.shape=(2609, 784)\n",
      "(2609, 784)\n",
      "worker 11 28699 31308 X_batch.shape=(2609, 784)\n",
      "(2609, 784)\n",
      "worker 12 31308 33917 X_batch.shape=(2609, 784)\n",
      "(2609, 784)\n",
      "worker 13 33917 36526 X_batch.shape=(2609, 784)\n",
      "(2609, 784)\n",
      "worker 14 36526 39135 X_batch.shape=(2609, 784)\n",
      "(2609, 784)\n",
      "worker 15 39135 41744 X_batch.shape=(2609, 784)\n",
      "(2609, 784)\n",
      "worker 16 41744 44353 X_batch.shape=(2609, 784)\n",
      "(2609, 784)\n",
      "worker 17 44353 46962 X_batch.shape=(2609, 784)\n",
      "(2609, 784)\n",
      "worker 18 46962 49571 X_batch.shape=(2609, 784)\n",
      "(2609, 784)\n",
      "worker 19 49571 52180 X_batch.shape=(2609, 784)\n",
      "(2609, 784)\n",
      "worker 20 52180 54789 X_batch.shape=(2609, 784)\n",
      "(2609, 784)\n",
      "worker 21 54789 57398 X_batch.shape=(2609, 784)\n",
      "(2609, 784)\n",
      "worker 22 57398 60007 X_batch.shape=(2602, 784)\n",
      "(2602, 784)\n"
     ]
    }
   ],
   "source": [
    "for batch in next_batch():\n",
    "    print(batch.shape)"
   ]
  }
 ],
 "metadata": {
  "kernelspec": {
   "display_name": "Python [conda env:ftml]",
   "language": "python",
   "name": "conda-env-ftml-py"
  },
  "language_info": {
   "codemirror_mode": {
    "name": "ipython",
    "version": 3
   },
   "file_extension": ".py",
   "mimetype": "text/x-python",
   "name": "python",
   "nbconvert_exporter": "python",
   "pygments_lexer": "ipython3",
   "version": "3.7.3"
  }
 },
 "nbformat": 4,
 "nbformat_minor": 2
}
