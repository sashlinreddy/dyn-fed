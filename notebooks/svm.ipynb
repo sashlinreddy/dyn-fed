{
 "cells": [
  {
   "cell_type": "code",
   "execution_count": 2,
   "metadata": {},
   "outputs": [],
   "source": [
    "import numpy as np\n",
    "import matplotlib.pyplot as plt\n",
    "from tqdm import tqdm_notebook as tqdm\n",
    "\n",
    "from dyn_fed.losses import HingeLoss\n",
    "from dyn_fed.models.svm import SVM\n",
    "\n",
    "%load_ext autoreload\n",
    "%autoreload 2\n",
    "%matplotlib inline"
   ]
  },
  {
   "cell_type": "code",
   "execution_count": 3,
   "metadata": {},
   "outputs": [],
   "source": [
    "#Input data\n",
    "x = np.array([\n",
    "    [-2,4,-1],\n",
    "    [4,1,-1],\n",
    "    [1, 6, -1],\n",
    "    [2, 4, -1],\n",
    "    [6, 2, -1],\n",
    "\n",
    "])\n",
    "\n",
    "\n",
    "#output label\n",
    "y = np.array([-1, -1, 1, 1, 1])[:, np.newaxis]"
   ]
  },
  {
   "cell_type": "code",
   "execution_count": 4,
   "metadata": {},
   "outputs": [
    {
     "data": {
      "text/plain": [
       "[<matplotlib.lines.Line2D at 0x146e8d5c0>]"
      ]
     },
     "execution_count": 4,
     "metadata": {},
     "output_type": "execute_result"
    },
    {
     "data": {
      "image/png": "[encoded data removed]",
      "text/plain": [
       "<Figure size 432x288 with 1 Axes>"
      ]
     },
     "metadata": {
      "needs_background": "light"
     },
     "output_type": "display_data"
    }
   ],
   "source": [
    "for val, inp in enumerate(x):\n",
    "    if y[val] == -1:\n",
    "        plt.scatter(inp[0], inp[1], s=100, marker='_', linewidths=5)\n",
    "    else:\n",
    "        plt.scatter(inp[0], inp[1], s=100, marker='+', linewidths=5)\n",
    "\n",
    "plt.plot([-2,6],[6,1])"
   ]
  },
  {
   "cell_type": "code",
   "execution_count": 5,
   "metadata": {},
   "outputs": [
    {
     "data": {
      "text/plain": [
       "((5, 3), (5, 1))"
      ]
     },
     "execution_count": 5,
     "metadata": {},
     "output_type": "execute_result"
    }
   ],
   "source": [
    "x.shape, y.shape"
   ]
  },
  {
   "cell_type": "code",
   "execution_count": 6,
   "metadata": {},
   "outputs": [],
   "source": [
    "n_samples, n_features = x.shape\n",
    "n_classes = y.shape[1]"
   ]
  },
  {
   "cell_type": "code",
   "execution_count": 7,
   "metadata": {},
   "outputs": [],
   "source": [
    "loss_func = HingeLoss()"
   ]
  },
  {
   "cell_type": "code",
   "execution_count": 9,
   "metadata": {},
   "outputs": [],
   "source": [
    "svm = SVM(optimizer=None, n_inputs=x.shape[0], n_outputs=1)"
   ]
  },
  {
   "cell_type": "code",
   "execution_count": 10,
   "metadata": {},
   "outputs": [
    {
     "data": {
      "text/plain": [
       "array([[-0.00810889],\n",
       "       [ 0.00137287],\n",
       "       [-0.00335919],\n",
       "       [-0.00198934],\n",
       "       [-0.00402022]], dtype=float32)"
      ]
     },
     "execution_count": 10,
     "metadata": {},
     "output_type": "execute_result"
    }
   ],
   "source": [
    "svm.layers[0].W.data"
   ]
  },
  {
   "cell_type": "code",
   "execution_count": 65,
   "metadata": {},
   "outputs": [],
   "source": [
    "w = np.zeros((n_features, n_classes))\n",
    "b = np.zeros((n_classes, 1))"
   ]
  },
  {
   "cell_type": "code",
   "execution_count": 66,
   "metadata": {},
   "outputs": [
    {
     "data": {
      "text/plain": [
       "array([[0.],\n",
       "       [0.],\n",
       "       [0.],\n",
       "       [0.],\n",
       "       [0.]])"
      ]
     },
     "execution_count": 66,
     "metadata": {},
     "output_type": "execute_result"
    }
   ],
   "source": [
    "np.dot(x, w) + b"
   ]
  },
  {
   "cell_type": "code",
   "execution_count": 80,
   "metadata": {},
   "outputs": [
    {
     "data": {
      "text/plain": [
       "array([[-7],\n",
       "       [-7],\n",
       "       [ 1]])"
      ]
     },
     "execution_count": 80,
     "metadata": {},
     "output_type": "execute_result"
    }
   ],
   "source": [
    "np.dot(x.T, -y)"
   ]
  },
  {
   "cell_type": "code",
   "execution_count": 103,
   "metadata": {},
   "outputs": [
    {
     "name": "stdout",
     "output_type": "stream",
     "text": [
      "(3, 1)\n"
     ]
    },
    {
     "data": {
      "application/vnd.jupyter.widget-view+json": {
       "model_id": "",
       "version_major": 2,
       "version_minor": 0
      },
      "text/plain": [
       "HBox(children=(IntProgress(value=0, max=10000), HTML(value='')))"
      ]
     },
     "metadata": {},
     "output_type": "display_data"
    },
    {
     "name": "stdout",
     "output_type": "stream",
     "text": [
      "Epoch=0, loss=-0.42205994692654547\n",
      "Epoch=100, loss=-0.05805994692654552\n",
      "Epoch=200, loss=-0.006059946926545523\n",
      "Epoch=300, loss=0.04594005307345448\n",
      "Epoch=400, loss=-0.05805994692654579\n",
      "Epoch=500, loss=-0.00605994692654579\n",
      "Epoch=600, loss=0.045940053073454126\n",
      "Epoch=700, loss=-0.05805994692654608\n",
      "Epoch=800, loss=-0.0060599469265461\n",
      "Epoch=900, loss=0.045940053073453856\n",
      "Epoch=1000, loss=-0.05805994692654635\n",
      "Epoch=1100, loss=-0.006059946926546367\n",
      "Epoch=1200, loss=0.04594005307345354\n",
      "Epoch=1300, loss=-0.05805994692654663\n",
      "Epoch=1400, loss=-0.006059946926546633\n",
      "Epoch=1500, loss=0.04594005307345337\n",
      "Epoch=1600, loss=-0.0580599469265469\n",
      "Epoch=1700, loss=-0.0060599469265469\n",
      "Epoch=1800, loss=0.045940053073453016\n",
      "Epoch=1900, loss=-0.05805994692654719\n",
      "Epoch=2000, loss=-0.006059946926547255\n",
      "Epoch=2100, loss=0.045940053073452704\n",
      "Epoch=2200, loss=-0.05805994692654746\n",
      "Epoch=2300, loss=-0.006059946926547477\n",
      "Epoch=2400, loss=0.04594005307345243\n",
      "Epoch=2500, loss=-0.05805994692654774\n",
      "Epoch=2600, loss=-0.006059946926547743\n",
      "Epoch=2700, loss=0.04594005307345226\n",
      "Epoch=2800, loss=-0.05805994692654801\n",
      "Epoch=2900, loss=-0.00605994692654801\n",
      "Epoch=3000, loss=0.045940053073451906\n",
      "Epoch=3100, loss=-0.0580599469265483\n",
      "Epoch=3200, loss=-0.006059946926548321\n",
      "Epoch=3300, loss=0.045940053073451635\n",
      "Epoch=3400, loss=-0.05805994692654857\n",
      "Epoch=3500, loss=-0.006059946926548587\n",
      "Epoch=3600, loss=0.04594005307345132\n",
      "Epoch=3700, loss=-0.05805994692654885\n",
      "Epoch=3800, loss=-0.006059946926548853\n",
      "Epoch=3900, loss=0.04594005307345115\n",
      "Epoch=4000, loss=-0.05805994692654912\n",
      "Epoch=4100, loss=-0.0060599469265491205\n",
      "Epoch=4200, loss=0.045940053073450796\n",
      "Epoch=4300, loss=-0.05805994692654941\n",
      "Epoch=4400, loss=-0.006059946926549475\n",
      "Epoch=4500, loss=0.04594005307345048\n",
      "Epoch=4600, loss=-0.05805994692654968\n",
      "Epoch=4700, loss=-0.006059946926549697\n",
      "Epoch=4800, loss=0.04594005307345021\n",
      "Epoch=4900, loss=-0.05805994692654996\n",
      "Epoch=5000, loss=-0.006059946926549964\n",
      "Epoch=5100, loss=0.04594005307345004\n",
      "Epoch=5200, loss=-0.058059946926550234\n",
      "Epoch=5300, loss=-0.006059946926550231\n",
      "Epoch=5400, loss=0.045940053073449685\n",
      "Epoch=5500, loss=-0.05805994692655052\n",
      "Epoch=5600, loss=-0.006059946926550541\n",
      "Epoch=5700, loss=0.045940053073449415\n",
      "Epoch=5800, loss=-0.05805994692655079\n",
      "Epoch=5900, loss=-0.0060599469265508075\n",
      "Epoch=6000, loss=0.0459400530734491\n",
      "Epoch=6100, loss=-0.05805994692655107\n",
      "Epoch=6200, loss=-0.006059946926551074\n",
      "Epoch=6300, loss=0.04594005307344893\n",
      "Epoch=6400, loss=-0.058059946926551344\n",
      "Epoch=6500, loss=-0.006059946926551341\n",
      "Epoch=6600, loss=0.045940053073448575\n",
      "Epoch=6700, loss=-0.05805994692655163\n",
      "Epoch=6800, loss=-0.006059946926551696\n",
      "Epoch=6900, loss=0.04594005307344826\n",
      "Epoch=7000, loss=-0.0580599469265519\n",
      "Epoch=7100, loss=-0.006059946926551918\n",
      "Epoch=7200, loss=0.04594005307344799\n",
      "Epoch=7300, loss=-0.05805994692655218\n",
      "Epoch=7400, loss=-0.006059946926552184\n",
      "Epoch=7500, loss=0.04594005307344782\n",
      "Epoch=7600, loss=-0.058059946926552454\n",
      "Epoch=7700, loss=-0.006059946926552451\n",
      "Epoch=7800, loss=0.045940053073447465\n",
      "Epoch=7900, loss=-0.05805994692655274\n",
      "Epoch=8000, loss=-0.006059946926552762\n",
      "Epoch=8100, loss=0.045940053073447194\n",
      "Epoch=8200, loss=-0.05805994692655301\n",
      "Epoch=8300, loss=-0.006059946926553028\n",
      "Epoch=8400, loss=0.04594005307344688\n",
      "Epoch=8500, loss=-0.058059946926553294\n",
      "Epoch=8600, loss=-0.006059946926553294\n",
      "Epoch=8700, loss=0.04594005307344671\n",
      "Epoch=8800, loss=-0.058059946926553564\n",
      "Epoch=8900, loss=-0.006059946926553561\n",
      "Epoch=9000, loss=0.045940053073446355\n",
      "Epoch=9100, loss=-0.05805994692655385\n",
      "Epoch=9200, loss=-0.006059946926553916\n",
      "Epoch=9300, loss=0.04594005307344604\n",
      "Epoch=9400, loss=-0.05805994692655412\n",
      "Epoch=9500, loss=-0.006059946926554138\n",
      "Epoch=9600, loss=0.04594005307344577\n",
      "Epoch=9700, loss=-0.058059946926554404\n",
      "Epoch=9800, loss=-0.0060599469265544045\n",
      "Epoch=9900, loss=0.0459400530734456\n",
      "\r"
     ]
    }
   ],
   "source": [
    "# Init hyperparams\n",
    "alpha = 0.01\n",
    "epochs = 10000\n",
    "reg_param = 1 / epochs\n",
    "losses = []\n",
    "\n",
    "# Init weights\n",
    "# w = np.zeros((n_features, n_classes))\n",
    "w = np.random.randn(n_features, n_classes)\n",
    "print(w.shape)\n",
    "\n",
    "for epoch in tqdm(range(epochs), leave=False):\n",
    "    epoch_losses = []\n",
    "    for i in np.arange(x.shape[0]):\n",
    "        # y_pred = svm.forward(x)\n",
    "        y_pred = np.dot(x[i], w) + b\n",
    "        # print(f\"y_pred.shape={y_pred.shape}\")\n",
    "        loss_val = (y[i] * y_pred).flatten()[0]\n",
    "        epoch_losses.append(loss_val)\n",
    "        # print(f\"loss_val={loss_val}\")\n",
    "        # loss = np.where(loss_val < 1, 1 - loss_val, 0)\n",
    "        # print(f\"{x.shape}, y.shape={y.shape}\")\n",
    "        d_w = -y[i] * x[i] if loss_val < 1 else 0\n",
    "        # print(f\"d_w.shape={d_w.shape}\")\n",
    "        # loss = loss_func.loss(y, y_pred, reg_param=reg_param)\n",
    "        # d_w = loss_func.grad(y, y_pred, x=x, w=w, reg_param=reg_param)\n",
    "        w = w - alpha * d_w\n",
    "    epoch_loss = np.mean(epoch_losses)\n",
    "    losses.append(epoch_loss)\n",
    "    if epoch % 100 == 0:\n",
    "        print(f\"Epoch={epoch}, loss={epoch_loss}\")"
   ]
  },
  {
   "cell_type": "code",
   "execution_count": 108,
   "metadata": {},
   "outputs": [
    {
     "data": {
      "text/plain": [
       "[<matplotlib.lines.Line2D at 0x110e25cf8>]"
      ]
     },
     "execution_count": 108,
     "metadata": {},
     "output_type": "execute_result"
    },
    {
     "data": {
      "image/png": "[encoded data removed]",
      "text/plain": [
       "<Figure size 432x288 with 1 Axes>"
      ]
     },
     "metadata": {
      "needs_background": "light"
     },
     "output_type": "display_data"
    }
   ],
   "source": [
    "plt.plot(losses, np.arange(len(losses)))"
   ]
  },
  {
   "cell_type": "code",
   "execution_count": null,
   "metadata": {},
   "outputs": [],
   "source": []
  }
 ],
 "metadata": {
  "kernelspec": {
   "display_name": "Python [conda env:ftml]",
   "language": "python",
   "name": "conda-env-ftml-py"
  },
  "language_info": {
   "codemirror_mode": {
    "name": "ipython",
    "version": 3
   },
   "file_extension": ".py",
   "mimetype": "text/x-python",
   "name": "python",
   "nbconvert_exporter": "python",
   "pygments_lexer": "ipython3",
   "version": "3.7.3"
  }
 },
 "nbformat": 4,
 "nbformat_minor": 4
}
