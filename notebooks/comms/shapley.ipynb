{
 "cells": [
  {
   "cell_type": "code",
   "execution_count": 46,
   "metadata": {},
   "outputs": [
    {
     "name": "stdout",
     "output_type": "stream",
     "text": [
      "The autoreload extension is already loaded. To reload it, use:\n",
      "  %reload_ext autoreload\n"
     ]
    }
   ],
   "source": [
    "%load_ext autoreload\n",
    "%autoreload 2\n",
    "%matplotlib inline\n",
    "\n",
    "import numpy as np\n",
    "import itertools\n",
    "import bisect"
   ]
  },
  {
   "cell_type": "code",
   "execution_count": 164,
   "metadata": {},
   "outputs": [],
   "source": [
    "clients = [0, 1, 2, 3, 4, 5, 6, 7]"
   ]
  },
  {
   "cell_type": "code",
   "execution_count": 165,
   "metadata": {},
   "outputs": [],
   "source": [
    "ps = [list(j) for i in range(len(clients)) for j in itertools.combinations(clients, i+1)]"
   ]
  },
  {
   "cell_type": "code",
   "execution_count": 166,
   "metadata": {},
   "outputs": [],
   "source": [
    "N = ps"
   ]
  },
  {
   "cell_type": "code",
   "execution_count": 167,
   "metadata": {},
   "outputs": [],
   "source": [
    "characteristic_function = np.array([1, 1, 2, 1, 3, 4, 4, 3, 4, 4, 5, 7, 6, 6, 8])\n",
    "characteristic_function = characteristic_function.astype(float)"
   ]
  },
  {
   "cell_type": "code",
   "execution_count": 168,
   "metadata": {},
   "outputs": [
    {
     "data": {
      "text/plain": [
       "255"
      ]
     },
     "execution_count": 168,
     "metadata": {},
     "output_type": "execute_result"
    }
   ],
   "source": [
    "len(N)"
   ]
  },
  {
   "cell_type": "code",
   "execution_count": 140,
   "metadata": {},
   "outputs": [],
   "source": [
    "n = len(clients)"
   ]
  },
  {
   "cell_type": "code",
   "execution_count": 141,
   "metadata": {},
   "outputs": [],
   "source": [
    "# N.index([1])"
   ]
  },
  {
   "cell_type": "code",
   "execution_count": 142,
   "metadata": {},
   "outputs": [
    {
     "data": {
      "text/plain": [
       "24"
      ]
     },
     "execution_count": 142,
     "metadata": {},
     "output_type": "execute_result"
    }
   ],
   "source": [
    "np.math.factorial(4)"
   ]
  },
  {
   "cell_type": "code",
   "execution_count": 143,
   "metadata": {},
   "outputs": [
    {
     "data": {
      "text/plain": [
       "[[0],\n",
       " [1],\n",
       " [2],\n",
       " [3],\n",
       " [0, 1],\n",
       " [0, 2],\n",
       " [0, 3],\n",
       " [1, 2],\n",
       " [1, 3],\n",
       " [2, 3],\n",
       " [0, 1, 2],\n",
       " [0, 1, 3],\n",
       " [0, 2, 3],\n",
       " [1, 2, 3],\n",
       " [0, 1, 2, 3]]"
      ]
     },
     "execution_count": 143,
     "metadata": {},
     "output_type": "execute_result"
    }
   ],
   "source": [
    "N"
   ]
  },
  {
   "cell_type": "code",
   "execution_count": 144,
   "metadata": {},
   "outputs": [
    {
     "data": {
      "text/plain": [
       "[0, 1, 2, 3]"
      ]
     },
     "execution_count": 144,
     "metadata": {},
     "output_type": "execute_result"
    }
   ],
   "source": [
    "list(range(n))"
   ]
  },
  {
   "cell_type": "code",
   "execution_count": 145,
   "metadata": {},
   "outputs": [
    {
     "data": {
      "text/plain": [
       "[[0],\n",
       " [1],\n",
       " [2],\n",
       " [3],\n",
       " [0, 1],\n",
       " [0, 2],\n",
       " [0, 3],\n",
       " [1, 2],\n",
       " [1, 3],\n",
       " [2, 3],\n",
       " [0, 1, 2],\n",
       " [0, 1, 3],\n",
       " [0, 2, 3],\n",
       " [1, 2, 3],\n",
       " [0, 1, 2, 3]]"
      ]
     },
     "execution_count": 145,
     "metadata": {},
     "output_type": "execute_result"
    }
   ],
   "source": [
    "N"
   ]
  },
  {
   "cell_type": "code",
   "execution_count": 146,
   "metadata": {},
   "outputs": [
    {
     "data": {
      "text/plain": [
       "array([1., 1., 2., 1., 3., 4., 4., 3., 4., 4., 5., 7., 6., 6., 8.])"
      ]
     },
     "execution_count": 146,
     "metadata": {},
     "output_type": "execute_result"
    }
   ],
   "source": [
    "characteristic_function"
   ]
  },
  {
   "cell_type": "code",
   "execution_count": 155,
   "metadata": {},
   "outputs": [],
   "source": [
    "shapley_values = []\n",
    "for i in range(n):\n",
    "    shapley = 0\n",
    "    for j in N:\n",
    "        if i not in j:\n",
    "            cmod = len(j)\n",
    "            # print(cmod, i, j)\n",
    "            cmb = j[:] # Create a copy\n",
    "            # Insert in appropriate position in sorted array\n",
    "            bisect.insort_left(cmb, i)\n",
    "            l = N.index(j)\n",
    "            k = N.index(cmb)\n",
    "            temp = (\n",
    "                (characteristic_function[k] - characteristic_function[l]) *\n",
    "                (np.math.factorial(cmod) * np.math.factorial(n - cmod - 1)) /\n",
    "                np.math.factorial(n)\n",
    "            )\n",
    "            shapley += temp\n",
    "            # if i is 0:\n",
    "            #     print j, Cui, cmod, n-cmod-1, characteristic_function[k], characteristic_function[l], math.factorial(cmod), math.factorial(n - cmod - 1), math.factorial(n)\n",
    "\n",
    "    # shapley value for this player contribution itself\n",
    "    cmod = 0\n",
    "    cmb = [i]\n",
    "    k = N.index(cmb)\n",
    "    temp = (\n",
    "        characteristic_function[k] *\n",
    "        (np.math.factorial(cmod) * np.math.factorial(n - cmod - 1)) /\n",
    "        np.math.factorial(n)\n",
    "    )\n",
    "    shapley += temp\n",
    "\n",
    "    shapley_values.append(shapley)"
   ]
  },
  {
   "cell_type": "code",
   "execution_count": 156,
   "metadata": {},
   "outputs": [
    {
     "data": {
      "text/plain": [
       "[1.9166666666666665, 1.75, 1.9166666666666665, 2.416666666666667]"
      ]
     },
     "execution_count": 156,
     "metadata": {},
     "output_type": "execute_result"
    }
   ],
   "source": [
    "shapley_values"
   ]
  },
  {
   "cell_type": "code",
   "execution_count": 28,
   "metadata": {},
   "outputs": [],
   "source": [
    "perms = []\n",
    "perms.append(set(clients))\n",
    "for c in clients:\n",
    "    perms.append(set(clients) - set([c]))"
   ]
  },
  {
   "cell_type": "code",
   "execution_count": 29,
   "metadata": {},
   "outputs": [
    {
     "data": {
      "text/plain": [
       "[{1, 2, 3}, {2, 3}, {1, 3}, {1, 2}]"
      ]
     },
     "execution_count": 29,
     "metadata": {},
     "output_type": "execute_result"
    }
   ],
   "source": [
    "perms"
   ]
  },
  {
   "cell_type": "markdown",
   "metadata": {},
   "source": [
    "Shapley formula:\n",
    "\n",
    "${\\displaystyle \\varphi _{i}(v)=\\sum _{S\\subseteq N\\setminus \\{i\\}}{\\frac {|S|!\\;(n-|S|-1)!}{n!}}(v(S\\cup \\{i\\})-v(S))}$\n",
    "\n",
    "which can be interpreted as\n",
    "\n",
    "${\\displaystyle \\varphi _{i}(v)={\\frac {1}{\\text{number of players}}}\\sum _{{\\text{coalitions excluding }}i}{\\frac {{\\text{marginal contribution of }}i{\\text{ to coalition}}}{{\\text{number of coalitions excluding }}i{\\text{ of this size}}}}}$"
   ]
  },
  {
   "cell_type": "code",
   "execution_count": 24,
   "metadata": {},
   "outputs": [
    {
     "data": {
      "text/plain": [
       "6"
      ]
     },
     "execution_count": 24,
     "metadata": {},
     "output_type": "execute_result"
    }
   ],
   "source": [
    "np.math.factorial(3)"
   ]
  },
  {
   "cell_type": "code",
   "execution_count": 112,
   "metadata": {},
   "outputs": [
    {
     "data": {
      "text/plain": [
       "array([8, 8, 8, 1, 3, 4, 6, 5, 5, 1, 8, 9, 2, 0, 4])"
      ]
     },
     "execution_count": 112,
     "metadata": {},
     "output_type": "execute_result"
    }
   ],
   "source": [
    "np.random.randint(0, 10, size=(len(ps)))"
   ]
  },
  {
   "cell_type": "code",
   "execution_count": 157,
   "metadata": {},
   "outputs": [
    {
     "data": {
      "text/plain": [
       "40320"
      ]
     },
     "execution_count": 157,
     "metadata": {},
     "output_type": "execute_result"
    }
   ],
   "source": [
    "np.math.factorial(8)"
   ]
  },
  {
   "cell_type": "code",
   "execution_count": 172,
   "metadata": {},
   "outputs": [
    {
     "data": {
      "text/plain": [
       "[1.9166666666666665, 1.75, 1.9166666666666665, 2.416666666666667]"
      ]
     },
     "execution_count": 172,
     "metadata": {},
     "output_type": "execute_result"
    }
   ],
   "source": [
    "shapley_values"
   ]
  },
  {
   "cell_type": "code",
   "execution_count": 171,
   "metadata": {},
   "outputs": [
    {
     "data": {
      "text/plain": [
       "1.75"
      ]
     },
     "execution_count": 171,
     "metadata": {},
     "output_type": "execute_result"
    }
   ],
   "source": [
    "np.min(np.abs(shapley_values))"
   ]
  },
  {
   "cell_type": "code",
   "execution_count": null,
   "metadata": {},
   "outputs": [],
   "source": [
    "[\n",
    "    0.233790846098037, 0.23378879569825672, 0.23339874687648957, 0.2335672949041639\n",
    "    2, 0.23445160133498055, 0.23383136136191232, 0.23335652294613066\n",
    "]\n",
    "\n",
    "[\n",
    "    0.14286429, 0.142864, 0.14280829, 0.14283236, 0.14295872, 0.14287008, 0.14280226\n",
    "]"
   ]
  }
 ],
 "metadata": {
  "kernelspec": {
   "display_name": "Python 3.7.3 64-bit ('ftml': conda)",
   "language": "python",
   "name": "python37364bitftmlconda5ad2e40e989d4158b56c2565543c08fe"
  },
  "language_info": {
   "codemirror_mode": {
    "name": "ipython",
    "version": 3
   },
   "file_extension": ".py",
   "mimetype": "text/x-python",
   "name": "python",
   "nbconvert_exporter": "python",
   "pygments_lexer": "ipython3",
   "version": "3.7.3"
  }
 },
 "nbformat": 4,
 "nbformat_minor": 4
}
