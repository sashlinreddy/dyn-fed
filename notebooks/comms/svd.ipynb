{
 "cells": [
  {
   "cell_type": "markdown",
   "metadata": {},
   "source": [
    "# Singular Value Decomposition Analysis"
   ]
  },
  {
   "cell_type": "markdown",
   "metadata": {},
   "source": [
    "## Imports "
   ]
  },
  {
   "cell_type": "code",
   "execution_count": 1,
   "metadata": {},
   "outputs": [],
   "source": [
    "import os\n",
    "import numpy as np\n",
    "import pandas as pd\n",
    "import matplotlib.pyplot as plt\n",
    "import pickle\n",
    "\n",
    "from kneed import KneeLocator\n",
    "\n",
    "from fault_tolerant_ml.data.mnist import MNist\n",
    "from fault_tolerant_ml.data import cifar10\n",
    "\n",
    "%reload_ext autoreload\n",
    "%autoreload 2"
   ]
  },
  {
   "cell_type": "markdown",
   "metadata": {},
   "source": [
    "## Helpers"
   ]
  },
  {
   "cell_type": "code",
   "execution_count": 2,
   "metadata": {},
   "outputs": [],
   "source": [
    "def analyse_svd(X, y, n_workers, overlaps):\n",
    "    u, s, v = np.linalg.svd(X, full_matrices=False)\n",
    "    idx = np.argwhere(np.cumsum(s) / np.sum(s) > 0.95).flatten()[0]\n",
    "    print(f\"Idx for entire dataset 95% variance: {idx}\")\n",
    "    all_idxs = {}\n",
    "    for n in n_workers:\n",
    "        print(f\"SVD for {n} workers\")\n",
    "        overlap_dict = {}\n",
    "        for overlap in overlaps:\n",
    "            batch_size = int(np.ceil(mnist.n_samples / n))\n",
    "            batch_gen = MNist.next_batch(\n",
    "                X,\n",
    "                y,\n",
    "                batch_size,\n",
    "                shuffle=False,\n",
    "                overlap=overlap\n",
    "            )\n",
    "            avg_idxs = []\n",
    "            for i, (X_batch, y_batch) in enumerate(batch_gen):\n",
    "                u_batch, s_batch, v_batch = np.linalg.svd(X_batch.data, full_matrices=False)\n",
    "                idx = np.argwhere(np.cumsum(s_batch) / np.sum(s_batch) > 0.95).flatten()[0]\n",
    "                avg_idxs.append(idx)\n",
    "\n",
    "            overlap_dict[overlap] = np.mean(avg_idxs)\n",
    "            all_idxs[n] = overlap_dict\n",
    "            print(f\"batch_size={X_batch.shape[0]}\")\n",
    "                # print(f\"Worker {i}: 95% variance={idx}\")\n",
    "            print(f\"Overlap={overlap}, Avg idxs hover around: {np.mean(avg_idxs)}, with std of: {np.std(avg_idxs)}\")\n",
    "            \n",
    "    return all_idxs"
   ]
  },
  {
   "cell_type": "code",
   "execution_count": 3,
   "metadata": {},
   "outputs": [],
   "source": [
    "def svd_to_data_size(partition_sizes, X):\n",
    "    idxs_across_data_size = []\n",
    "    for p in partition_sizes:\n",
    "        random_idxs = np.random.choice(np.arange(X.shape[0]), size=(p,))\n",
    "        X_b = X[random_idxs]\n",
    "        u_b, s_b, v_b = np.linalg.svd(X_b, full_matrices=False)\n",
    "        idx = np.argwhere(np.cumsum(s_b) / np.sum(s_b) > 0.95).flatten()[0]\n",
    "        idxs_across_data_size.append(idx)\n",
    "        print(f\"X_b.shape={X_b.shape}, Idx: {idx}\")\n",
    "        \n",
    "    return idxs_across_data_size"
   ]
  },
  {
   "cell_type": "markdown",
   "metadata": {},
   "source": [
    "## Load in data"
   ]
  },
  {
   "cell_type": "markdown",
   "metadata": {},
   "source": [
    "### Mnist "
   ]
  },
  {
   "cell_type": "code",
   "execution_count": 5,
   "metadata": {},
   "outputs": [],
   "source": [
    "data_dir = \"../data/mnist/\"\n",
    "filepaths = {\n",
    "    \"train\": {\n",
    "        \"images\": os.path.join(data_dir, \"train-images-idx3-ubyte.gz\"), \"labels\": os.path.join(data_dir, \"train-labels-idx1-ubyte.gz\")\n",
    "    },\n",
    "    \"test\": {\n",
    "        \"images\": os.path.join(data_dir, \"t10k-images-idx3-ubyte.gz\"), \"labels\": os.path.join(data_dir, \"t10k-labels-idx1-ubyte.gz\")\n",
    "    }\n",
    "}\n",
    "mnist = MNist(filepaths)"
   ]
  },
  {
   "cell_type": "markdown",
   "metadata": {},
   "source": [
    "### Fashion mnist"
   ]
  },
  {
   "cell_type": "code",
   "execution_count": 5,
   "metadata": {},
   "outputs": [],
   "source": [
    "data_dir = \"../data/fashion-mnist/\"\n",
    "filepaths = {\n",
    "    \"train\": {\n",
    "        \"images\": os.path.join(data_dir, \"train-images-idx3-ubyte.gz\"), \"labels\": os.path.join(data_dir, \"train-labels-idx1-ubyte.gz\")\n",
    "    },\n",
    "    \"test\": {\n",
    "        \"images\": os.path.join(data_dir, \"t10k-images-idx3-ubyte.gz\"), \"labels\": os.path.join(data_dir, \"t10k-labels-idx1-ubyte.gz\")\n",
    "    }\n",
    "}\n",
    "fashion_mnist = MNist(filepaths)"
   ]
  },
  {
   "cell_type": "markdown",
   "metadata": {},
   "source": [
    "### Cifar"
   ]
  },
  {
   "cell_type": "code",
   "execution_count": 6,
   "metadata": {},
   "outputs": [
    {
     "name": "stdout",
     "output_type": "stream",
     "text": [
      "File already exists at /Users/sashlinreddy/.ftml/datasets/cifar-10-batches-py.tar.gz. No need to download\n"
     ]
    }
   ],
   "source": [
    "(x_train_c, y_train_c), (x_test_c, y_test_c) = cifar10.load_data()\n",
    "x_train_c = x_train_c.reshape(-1, 3072)\n",
    "x_test_c = x_test_c.reshape(-1, 3072)"
   ]
  },
  {
   "cell_type": "markdown",
   "metadata": {},
   "source": [
    "## Overlap SVD Analysis"
   ]
  },
  {
   "cell_type": "code",
   "execution_count": 12,
   "metadata": {},
   "outputs": [],
   "source": [
    "u, s, v = np.linalg.svd(mnist.X_train[0:100].data)\n",
    "u2, s2, v2 = np.linalg.svd(mnist.X_train[100:200].data)"
   ]
  },
  {
   "cell_type": "code",
   "execution_count": 13,
   "metadata": {},
   "outputs": [
    {
     "data": {
      "text/plain": [
       "589.2215"
      ]
     },
     "execution_count": 13,
     "metadata": {},
     "output_type": "execute_result"
    }
   ],
   "source": [
    "s.sum()"
   ]
  },
  {
   "cell_type": "code",
   "execution_count": 14,
   "metadata": {},
   "outputs": [
    {
     "data": {
      "text/plain": [
       "600.6774"
      ]
     },
     "execution_count": 14,
     "metadata": {},
     "output_type": "execute_result"
    }
   ],
   "source": [
    "s2.sum()"
   ]
  },
  {
   "cell_type": "code",
   "execution_count": 122,
   "metadata": {},
   "outputs": [],
   "source": [
    "n_workers = [2, 8, 16, 32, 64, 128]\n",
    "overlaps = [0.0, 0.2, 0.4, 0.6, 0.8]"
   ]
  },
  {
   "cell_type": "code",
   "execution_count": 123,
   "metadata": {},
   "outputs": [
    {
     "name": "stdout",
     "output_type": "stream",
     "text": [
      "Idx for entire dataset 95% variance: 426\n",
      "SVD for 2 workers\n",
      "batch_size=30000\n",
      "Overlap=0.0, Avg idxs hover around: 424.5, with std of: 0.5\n",
      "batch_size=36000\n",
      "Overlap=0.2, Avg idxs hover around: 425.0, with std of: 0.0\n",
      "batch_size=42000\n",
      "Overlap=0.4, Avg idxs hover around: 425.0, with std of: 0.0\n",
      "batch_size=48000\n",
      "Overlap=0.6, Avg idxs hover around: 426.0, with std of: 0.0\n",
      "batch_size=54000\n",
      "Overlap=0.8, Avg idxs hover around: 426.0, with std of: 0.0\n",
      "SVD for 8 workers\n",
      "batch_size=7500\n",
      "Overlap=0.0, Avg idxs hover around: 417.0, with std of: 1.224744871391589\n",
      "batch_size=9000\n",
      "Overlap=0.2, Avg idxs hover around: 419.0, with std of: 1.224744871391589\n",
      "batch_size=10500\n",
      "Overlap=0.4, Avg idxs hover around: 419.875, with std of: 1.2686114456365274\n",
      "batch_size=12000\n",
      "Overlap=0.6, Avg idxs hover around: 421.0, with std of: 1.4142135623730951\n",
      "batch_size=13500\n",
      "Overlap=0.8, Avg idxs hover around: 421.25, with std of: 1.0897247358851685\n",
      "SVD for 16 workers\n",
      "batch_size=3750\n",
      "Overlap=0.0, Avg idxs hover around: 408.1875, with std of: 2.962658223622833\n",
      "batch_size=4500\n",
      "Overlap=0.2, Avg idxs hover around: 411.625, with std of: 2.6427968139832467\n",
      "batch_size=5250\n",
      "Overlap=0.4, Avg idxs hover around: 413.8125, with std of: 2.4803918541230536\n",
      "batch_size=6000\n",
      "Overlap=0.6, Avg idxs hover around: 415.0625, with std of: 1.919269066598011\n",
      "batch_size=6750\n",
      "Overlap=0.8, Avg idxs hover around: 416.125, with std of: 1.9324531042175384\n",
      "SVD for 32 workers\n",
      "batch_size=1875\n",
      "Overlap=0.0, Avg idxs hover around: 392.4375, with std of: 3.9523529384405944\n",
      "batch_size=2250\n",
      "Overlap=0.2, Avg idxs hover around: 397.78125, with std of: 3.189184603860366\n",
      "batch_size=2625\n",
      "Overlap=0.4, Avg idxs hover around: 401.34375, with std of: 3.178141900151722\n",
      "batch_size=3000\n",
      "Overlap=0.6, Avg idxs hover around: 404.21875, with std of: 2.95523238299461\n",
      "batch_size=3375\n",
      "Overlap=0.8, Avg idxs hover around: 406.4375, with std of: 2.860698122836452\n",
      "SVD for 64 workers\n",
      "batch_size=906\n",
      "Overlap=0.0, Avg idxs hover around: 361.109375, with std of: 4.809226768345926\n",
      "batch_size=1125\n",
      "Overlap=0.2, Avg idxs hover around: 371.9375, with std of: 4.879405061070458\n",
      "batch_size=1313\n",
      "Overlap=0.4, Avg idxs hover around: 379.5, with std of: 4.700398919240792\n",
      "batch_size=1500\n",
      "Overlap=0.6, Avg idxs hover around: 384.984375, with std of: 4.4982364165720545\n"
     ]
    },
    {
     "ename": "KeyboardInterrupt",
     "evalue": "",
     "output_type": "error",
     "traceback": [
      "\u001b[0;31m---------------------------------------------------------------------------\u001b[0m",
      "\u001b[0;31mKeyboardInterrupt\u001b[0m                         Traceback (most recent call last)",
      "\u001b[0;32m<ipython-input-123-ed9730019f2b>\u001b[0m in \u001b[0;36m<module>\u001b[0;34m\u001b[0m\n\u001b[0;32m----> 1\u001b[0;31m \u001b[0mall_idxs\u001b[0m \u001b[0;34m=\u001b[0m \u001b[0manalyse_svd\u001b[0m\u001b[0;34m(\u001b[0m\u001b[0mmnist\u001b[0m\u001b[0;34m.\u001b[0m\u001b[0mX_train\u001b[0m\u001b[0;34m.\u001b[0m\u001b[0mdata\u001b[0m\u001b[0;34m,\u001b[0m \u001b[0mmnist\u001b[0m\u001b[0;34m.\u001b[0m\u001b[0my_train\u001b[0m\u001b[0;34m.\u001b[0m\u001b[0mdata\u001b[0m\u001b[0;34m,\u001b[0m \u001b[0mn_workers\u001b[0m\u001b[0;34m,\u001b[0m \u001b[0moverlaps\u001b[0m\u001b[0;34m)\u001b[0m\u001b[0;34m\u001b[0m\u001b[0;34m\u001b[0m\u001b[0m\n\u001b[0m",
      "\u001b[0;32m<ipython-input-2-95388a5c7006>\u001b[0m in \u001b[0;36manalyse_svd\u001b[0;34m(X, y, n_workers, overlaps)\u001b[0m\n\u001b[1;32m     18\u001b[0m             \u001b[0mavg_idxs\u001b[0m \u001b[0;34m=\u001b[0m \u001b[0;34m[\u001b[0m\u001b[0;34m]\u001b[0m\u001b[0;34m\u001b[0m\u001b[0;34m\u001b[0m\u001b[0m\n\u001b[1;32m     19\u001b[0m             \u001b[0;32mfor\u001b[0m \u001b[0mi\u001b[0m\u001b[0;34m,\u001b[0m \u001b[0;34m(\u001b[0m\u001b[0mX_batch\u001b[0m\u001b[0;34m,\u001b[0m \u001b[0my_batch\u001b[0m\u001b[0;34m)\u001b[0m \u001b[0;32min\u001b[0m \u001b[0menumerate\u001b[0m\u001b[0;34m(\u001b[0m\u001b[0mbatch_gen\u001b[0m\u001b[0;34m)\u001b[0m\u001b[0;34m:\u001b[0m\u001b[0;34m\u001b[0m\u001b[0;34m\u001b[0m\u001b[0m\n\u001b[0;32m---> 20\u001b[0;31m                 \u001b[0mu_batch\u001b[0m\u001b[0;34m,\u001b[0m \u001b[0ms_batch\u001b[0m\u001b[0;34m,\u001b[0m \u001b[0mv_batch\u001b[0m \u001b[0;34m=\u001b[0m \u001b[0mnp\u001b[0m\u001b[0;34m.\u001b[0m\u001b[0mlinalg\u001b[0m\u001b[0;34m.\u001b[0m\u001b[0msvd\u001b[0m\u001b[0;34m(\u001b[0m\u001b[0mX_batch\u001b[0m\u001b[0;34m.\u001b[0m\u001b[0mdata\u001b[0m\u001b[0;34m,\u001b[0m \u001b[0mfull_matrices\u001b[0m\u001b[0;34m=\u001b[0m\u001b[0;32mFalse\u001b[0m\u001b[0;34m)\u001b[0m\u001b[0;34m\u001b[0m\u001b[0;34m\u001b[0m\u001b[0m\n\u001b[0m\u001b[1;32m     21\u001b[0m                 \u001b[0midx\u001b[0m \u001b[0;34m=\u001b[0m \u001b[0mnp\u001b[0m\u001b[0;34m.\u001b[0m\u001b[0margwhere\u001b[0m\u001b[0;34m(\u001b[0m\u001b[0mnp\u001b[0m\u001b[0;34m.\u001b[0m\u001b[0mcumsum\u001b[0m\u001b[0;34m(\u001b[0m\u001b[0ms_batch\u001b[0m\u001b[0;34m)\u001b[0m \u001b[0;34m/\u001b[0m \u001b[0mnp\u001b[0m\u001b[0;34m.\u001b[0m\u001b[0msum\u001b[0m\u001b[0;34m(\u001b[0m\u001b[0ms_batch\u001b[0m\u001b[0;34m)\u001b[0m \u001b[0;34m>\u001b[0m \u001b[0;36m0.95\u001b[0m\u001b[0;34m)\u001b[0m\u001b[0;34m.\u001b[0m\u001b[0mflatten\u001b[0m\u001b[0;34m(\u001b[0m\u001b[0;34m)\u001b[0m\u001b[0;34m[\u001b[0m\u001b[0;36m0\u001b[0m\u001b[0;34m]\u001b[0m\u001b[0;34m\u001b[0m\u001b[0;34m\u001b[0m\u001b[0m\n\u001b[1;32m     22\u001b[0m                 \u001b[0mavg_idxs\u001b[0m\u001b[0;34m.\u001b[0m\u001b[0mappend\u001b[0m\u001b[0;34m(\u001b[0m\u001b[0midx\u001b[0m\u001b[0;34m)\u001b[0m\u001b[0;34m\u001b[0m\u001b[0;34m\u001b[0m\u001b[0m\n",
      "\u001b[0;32m~/miniconda3/envs/ftml/lib/python3.7/site-packages/numpy/linalg/linalg.py\u001b[0m in \u001b[0;36msvd\u001b[0;34m(a, full_matrices, compute_uv)\u001b[0m\n\u001b[1;32m   1610\u001b[0m \u001b[0;34m\u001b[0m\u001b[0m\n\u001b[1;32m   1611\u001b[0m         \u001b[0msignature\u001b[0m \u001b[0;34m=\u001b[0m \u001b[0;34m'D->DdD'\u001b[0m \u001b[0;32mif\u001b[0m \u001b[0misComplexType\u001b[0m\u001b[0;34m(\u001b[0m\u001b[0mt\u001b[0m\u001b[0;34m)\u001b[0m \u001b[0;32melse\u001b[0m \u001b[0;34m'd->ddd'\u001b[0m\u001b[0;34m\u001b[0m\u001b[0;34m\u001b[0m\u001b[0m\n\u001b[0;32m-> 1612\u001b[0;31m         \u001b[0mu\u001b[0m\u001b[0;34m,\u001b[0m \u001b[0ms\u001b[0m\u001b[0;34m,\u001b[0m \u001b[0mvh\u001b[0m \u001b[0;34m=\u001b[0m \u001b[0mgufunc\u001b[0m\u001b[0;34m(\u001b[0m\u001b[0ma\u001b[0m\u001b[0;34m,\u001b[0m \u001b[0msignature\u001b[0m\u001b[0;34m=\u001b[0m\u001b[0msignature\u001b[0m\u001b[0;34m,\u001b[0m \u001b[0mextobj\u001b[0m\u001b[0;34m=\u001b[0m\u001b[0mextobj\u001b[0m\u001b[0;34m)\u001b[0m\u001b[0;34m\u001b[0m\u001b[0;34m\u001b[0m\u001b[0m\n\u001b[0m\u001b[1;32m   1613\u001b[0m         \u001b[0mu\u001b[0m \u001b[0;34m=\u001b[0m \u001b[0mu\u001b[0m\u001b[0;34m.\u001b[0m\u001b[0mastype\u001b[0m\u001b[0;34m(\u001b[0m\u001b[0mresult_t\u001b[0m\u001b[0;34m,\u001b[0m \u001b[0mcopy\u001b[0m\u001b[0;34m=\u001b[0m\u001b[0;32mFalse\u001b[0m\u001b[0;34m)\u001b[0m\u001b[0;34m\u001b[0m\u001b[0;34m\u001b[0m\u001b[0m\n\u001b[1;32m   1614\u001b[0m         \u001b[0ms\u001b[0m \u001b[0;34m=\u001b[0m \u001b[0ms\u001b[0m\u001b[0;34m.\u001b[0m\u001b[0mastype\u001b[0m\u001b[0;34m(\u001b[0m\u001b[0m_realType\u001b[0m\u001b[0;34m(\u001b[0m\u001b[0mresult_t\u001b[0m\u001b[0;34m)\u001b[0m\u001b[0;34m,\u001b[0m \u001b[0mcopy\u001b[0m\u001b[0;34m=\u001b[0m\u001b[0;32mFalse\u001b[0m\u001b[0;34m)\u001b[0m\u001b[0;34m\u001b[0m\u001b[0;34m\u001b[0m\u001b[0m\n",
      "\u001b[0;31mKeyboardInterrupt\u001b[0m: "
     ]
    }
   ],
   "source": [
    "all_idxs = analyse_svd(mnist.X_train.data, mnist.y_train.data, n_workers, overlaps)"
   ]
  },
  {
   "cell_type": "code",
   "execution_count": 93,
   "metadata": {},
   "outputs": [
    {
     "data": {
      "text/plain": [
       "{2: {0.0: 424.5, 0.2: 425.0, 0.4: 425.0, 0.6: 426.0, 0.8: 426.0},\n",
       " 8: {0.0: 417.0, 0.2: 419.0, 0.4: 419.875, 0.6: 421.0, 0.8: 421.25},\n",
       " 16: {0.0: 408.1875, 0.2: 411.625, 0.4: 413.8125, 0.6: 415.0625, 0.8: 416.125},\n",
       " 32: {0.0: 392.4375,\n",
       "  0.2: 397.78125,\n",
       "  0.4: 401.34375,\n",
       "  0.6: 404.21875,\n",
       "  0.8: 406.4375},\n",
       " 64: {0.0: 361.109375,\n",
       "  0.2: 371.9375,\n",
       "  0.4: 379.5,\n",
       "  0.6: 384.984375,\n",
       "  0.8: 389.203125},\n",
       " 128: {0.0: 290.109375,\n",
       "  0.2: 315.9296875,\n",
       "  0.4: 332.765625,\n",
       "  0.6: 345.1171875,\n",
       "  0.8: 354.2109375}}"
      ]
     },
     "execution_count": 93,
     "metadata": {},
     "output_type": "execute_result"
    }
   ],
   "source": [
    "all_idxs"
   ]
  },
  {
   "cell_type": "code",
   "execution_count": 128,
   "metadata": {},
   "outputs": [
    {
     "name": "stdout",
     "output_type": "stream",
     "text": [
      "[0.01415    0.0556     0.10885    0.2093     0.39857547 0.66386585]\n"
     ]
    },
    {
     "data": {
      "text/plain": [
       "[<matplotlib.lines.Line2D at 0x14765ae80>]"
      ]
     },
     "execution_count": 128,
     "metadata": {},
     "output_type": "execute_result"
    },
    {
     "data": {
      "image/png": "[encoded data removed]",
      "text/plain": [
       "<Figure size 432x288 with 1 Axes>"
      ]
     },
     "metadata": {
      "needs_background": "light"
     },
     "output_type": "display_data"
    }
   ],
   "source": [
    "svd_idxs = np.array([424.5, 417.0, 408.1875, 392.4375, 361.109375, 290.109375])\n",
    "batch_sizes = np.array([30000, 7500, 3750, 1875, 906, 437])\n",
    "normalized_idx = svd_idxs / batch_sizes\n",
    "print(normalized_idx)\n",
    "plt.scatter(svd_idxs, )"
   ]
  },
  {
   "cell_type": "code",
   "execution_count": 129,
   "metadata": {},
   "outputs": [],
   "source": [
    "mnist_overlap = pd.read_csv(\"../data/output/mnist-results-overlap.csv\")"
   ]
  },
  {
   "cell_type": "code",
   "execution_count": 137,
   "metadata": {},
   "outputs": [],
   "source": [
    "mnist_overlap.loc[:, \"BATCH_SIZE\"] = (\n",
    "    np.ceil(\n",
    "        (1 + mnist_overlap.loc[:, \"OVERLAP\"]) * (60000 // (mnist_overlap.loc[:, \"N_WORKERS\"] - 1))\n",
    "    ).astype(int)\n",
    ")"
   ]
  },
  {
   "cell_type": "code",
   "execution_count": 140,
   "metadata": {},
   "outputs": [
    {
     "data": {
      "text/plain": [
       "<matplotlib.axes._subplots.AxesSubplot at 0x14767d198>"
      ]
     },
     "execution_count": 140,
     "metadata": {},
     "output_type": "execute_result"
    },
    {
     "data": {
      "image/png": "[encoded data removed]",
      "text/plain": [
       "<Figure size 432x288 with 1 Axes>"
      ]
     },
     "metadata": {
      "needs_background": "light"
     },
     "output_type": "display_data"
    }
   ],
   "source": [
    "mnist_overlap.loc[mnist_overlap.loc[:, \"COMM_PERIOD\"].isin([1, 10, 20, 100]), [\"BATCH_SIZE\", \"ACCURACY\"]].plot(kind=\"scatter\", x=\"BATCH_SIZE\", y=\"ACCURACY\")"
   ]
  },
  {
   "cell_type": "code",
   "execution_count": 151,
   "metadata": {},
   "outputs": [
    {
     "data": {
      "text/plain": [
       "<matplotlib.axes._subplots.AxesSubplot at 0x1583a8518>"
      ]
     },
     "execution_count": 151,
     "metadata": {},
     "output_type": "execute_result"
    },
    {
     "data": {
      "image/png": "[encoded data removed]",
      "text/plain": [
       "<Figure size 432x288 with 1 Axes>"
      ]
     },
     "metadata": {
      "needs_background": "light"
     },
     "output_type": "display_data"
    }
   ],
   "source": [
    "# _, axes = plt.subplots(2, 2, figsize=(16, 4))\n",
    "# plt.subplots_adjust(hspace=0.8)\n",
    "# workers = [8, 16, 32, 64]\n",
    "# for i, w in enumerate(workers):\n",
    "#     row = i // 2\n",
    "#     col = i % 2\n",
    "#     # axes[row][col].scatter()\n",
    "#     condition = (mnist_overlap.loc[:, \"N_WORKERS\"] == w) & (mnist_overlap.loc[:, \"OVERLAP\"] == 0.0) & (mnist_overlap.loc[:, \"COMM_PERIOD\"].isin([1, 10, 20, 100]))\n",
    "#     mnist_overlap.loc[condition, [\"COMM_PERIOD\", \"ACCURACY\"]].plot(kind=\"scatter\", y=\"ACCURACY\", x=\"COMM_PERIOD\", ax=axes[row][col])\n",
    "#     axes[row][col].set_title(f\"Worker {w}\")\n",
    "condition = (mnist_overlap.loc[:, \"OVERLAP\"] == 0.0) & (mnist_overlap.loc[:, \"COMM_PERIOD\"].isin([1, 10, 20, 100]))\n",
    "mnist_overlap.loc[condition, [\"COMM_PERIOD\", \"ACCURACY\"]].plot(kind=\"scatter\", y=\"ACCURACY\", x=\"COMM_PERIOD\")"
   ]
  },
  {
   "cell_type": "code",
   "execution_count": 83,
   "metadata": {},
   "outputs": [
    {
     "data": {
      "text/html": [
       "<div>\n",
       "<style scoped>\n",
       "    .dataframe tbody tr th:only-of-type {\n",
       "        vertical-align: middle;\n",
       "    }\n",
       "\n",
       "    .dataframe tbody tr th {\n",
       "        vertical-align: top;\n",
       "    }\n",
       "\n",
       "    .dataframe thead tr th {\n",
       "        text-align: left;\n",
       "    }\n",
       "\n",
       "    .dataframe thead tr:last-of-type th {\n",
       "        text-align: right;\n",
       "    }\n",
       "</style>\n",
       "<table border=\"1\" class=\"dataframe\">\n",
       "  <thead>\n",
       "    <tr>\n",
       "      <th></th>\n",
       "      <th></th>\n",
       "      <th colspan=\"3\" halign=\"left\">ACCURACY</th>\n",
       "      <th colspan=\"3\" halign=\"left\">BATCH_SIZE</th>\n",
       "      <th colspan=\"3\" halign=\"left\">TIME</th>\n",
       "    </tr>\n",
       "    <tr>\n",
       "      <th></th>\n",
       "      <th>OVERLAP</th>\n",
       "      <th>0.0</th>\n",
       "      <th>0.4</th>\n",
       "      <th>0.8</th>\n",
       "      <th>0.0</th>\n",
       "      <th>0.4</th>\n",
       "      <th>0.8</th>\n",
       "      <th>0.0</th>\n",
       "      <th>0.4</th>\n",
       "      <th>0.8</th>\n",
       "    </tr>\n",
       "    <tr>\n",
       "      <th>N_WORKERS</th>\n",
       "      <th>COMM_PERIOD</th>\n",
       "      <th></th>\n",
       "      <th></th>\n",
       "      <th></th>\n",
       "      <th></th>\n",
       "      <th></th>\n",
       "      <th></th>\n",
       "      <th></th>\n",
       "      <th></th>\n",
       "      <th></th>\n",
       "    </tr>\n",
       "  </thead>\n",
       "  <tbody>\n",
       "    <tr>\n",
       "      <th rowspan=\"6\" valign=\"top\">8</th>\n",
       "      <th>1</th>\n",
       "      <td>86.32</td>\n",
       "      <td>86.35</td>\n",
       "      <td>86.50</td>\n",
       "      <td>8571</td>\n",
       "      <td>12000</td>\n",
       "      <td>15428</td>\n",
       "      <td>17.210551</td>\n",
       "      <td>21.487015</td>\n",
       "      <td>25.625124</td>\n",
       "    </tr>\n",
       "    <tr>\n",
       "      <th>10</th>\n",
       "      <td>86.30</td>\n",
       "      <td>86.35</td>\n",
       "      <td>86.50</td>\n",
       "      <td>8571</td>\n",
       "      <td>12000</td>\n",
       "      <td>15428</td>\n",
       "      <td>11.780788</td>\n",
       "      <td>16.035784</td>\n",
       "      <td>20.158040</td>\n",
       "    </tr>\n",
       "    <tr>\n",
       "      <th>20</th>\n",
       "      <td>86.32</td>\n",
       "      <td>86.35</td>\n",
       "      <td>86.51</td>\n",
       "      <td>8571</td>\n",
       "      <td>12000</td>\n",
       "      <td>15428</td>\n",
       "      <td>11.454207</td>\n",
       "      <td>15.649399</td>\n",
       "      <td>19.840704</td>\n",
       "    </tr>\n",
       "    <tr>\n",
       "      <th>40</th>\n",
       "      <td>86.27</td>\n",
       "      <td>86.41</td>\n",
       "      <td>86.50</td>\n",
       "      <td>8571</td>\n",
       "      <td>12000</td>\n",
       "      <td>15428</td>\n",
       "      <td>13.419973</td>\n",
       "      <td>18.384064</td>\n",
       "      <td>23.190774</td>\n",
       "    </tr>\n",
       "    <tr>\n",
       "      <th>80</th>\n",
       "      <td>86.29</td>\n",
       "      <td>86.34</td>\n",
       "      <td>86.44</td>\n",
       "      <td>8571</td>\n",
       "      <td>12000</td>\n",
       "      <td>15428</td>\n",
       "      <td>17.362270</td>\n",
       "      <td>23.922885</td>\n",
       "      <td>30.644104</td>\n",
       "    </tr>\n",
       "    <tr>\n",
       "      <th>100</th>\n",
       "      <td>86.30</td>\n",
       "      <td>86.36</td>\n",
       "      <td>86.49</td>\n",
       "      <td>8571</td>\n",
       "      <td>12000</td>\n",
       "      <td>15428</td>\n",
       "      <td>11.262548</td>\n",
       "      <td>15.524620</td>\n",
       "      <td>19.734402</td>\n",
       "    </tr>\n",
       "    <tr>\n",
       "      <th rowspan=\"6\" valign=\"top\">16</th>\n",
       "      <th>1</th>\n",
       "      <td>86.13</td>\n",
       "      <td>86.29</td>\n",
       "      <td>86.29</td>\n",
       "      <td>4000</td>\n",
       "      <td>5600</td>\n",
       "      <td>7200</td>\n",
       "      <td>15.975141</td>\n",
       "      <td>16.849420</td>\n",
       "      <td>18.140218</td>\n",
       "    </tr>\n",
       "    <tr>\n",
       "      <th>10</th>\n",
       "      <td>86.12</td>\n",
       "      <td>86.29</td>\n",
       "      <td>86.36</td>\n",
       "      <td>4000</td>\n",
       "      <td>5600</td>\n",
       "      <td>7200</td>\n",
       "      <td>7.403856</td>\n",
       "      <td>9.759100</td>\n",
       "      <td>11.984868</td>\n",
       "    </tr>\n",
       "    <tr>\n",
       "      <th>20</th>\n",
       "      <td>86.12</td>\n",
       "      <td>86.25</td>\n",
       "      <td>86.39</td>\n",
       "      <td>4000</td>\n",
       "      <td>5600</td>\n",
       "      <td>7200</td>\n",
       "      <td>7.077538</td>\n",
       "      <td>9.375863</td>\n",
       "      <td>11.771325</td>\n",
       "    </tr>\n",
       "    <tr>\n",
       "      <th>40</th>\n",
       "      <td>86.19</td>\n",
       "      <td>86.23</td>\n",
       "      <td>86.38</td>\n",
       "      <td>4000</td>\n",
       "      <td>5600</td>\n",
       "      <td>7200</td>\n",
       "      <td>7.804751</td>\n",
       "      <td>10.364799</td>\n",
       "      <td>12.985963</td>\n",
       "    </tr>\n",
       "    <tr>\n",
       "      <th>80</th>\n",
       "      <td>86.22</td>\n",
       "      <td>86.32</td>\n",
       "      <td>86.38</td>\n",
       "      <td>4000</td>\n",
       "      <td>5600</td>\n",
       "      <td>7200</td>\n",
       "      <td>9.540637</td>\n",
       "      <td>13.141877</td>\n",
       "      <td>16.372380</td>\n",
       "    </tr>\n",
       "    <tr>\n",
       "      <th>100</th>\n",
       "      <td>86.07</td>\n",
       "      <td>86.30</td>\n",
       "      <td>86.35</td>\n",
       "      <td>4000</td>\n",
       "      <td>5600</td>\n",
       "      <td>7200</td>\n",
       "      <td>6.697726</td>\n",
       "      <td>9.145191</td>\n",
       "      <td>11.496845</td>\n",
       "    </tr>\n",
       "    <tr>\n",
       "      <th rowspan=\"6\" valign=\"top\">32</th>\n",
       "      <th>1</th>\n",
       "      <td>85.37</td>\n",
       "      <td>85.76</td>\n",
       "      <td>85.99</td>\n",
       "      <td>1935</td>\n",
       "      <td>2709</td>\n",
       "      <td>3483</td>\n",
       "      <td>19.247735</td>\n",
       "      <td>20.878171</td>\n",
       "      <td>23.610446</td>\n",
       "    </tr>\n",
       "    <tr>\n",
       "      <th>10</th>\n",
       "      <td>85.38</td>\n",
       "      <td>85.71</td>\n",
       "      <td>85.97</td>\n",
       "      <td>1935</td>\n",
       "      <td>2709</td>\n",
       "      <td>3483</td>\n",
       "      <td>6.097701</td>\n",
       "      <td>7.777934</td>\n",
       "      <td>9.221584</td>\n",
       "    </tr>\n",
       "    <tr>\n",
       "      <th>20</th>\n",
       "      <td>85.39</td>\n",
       "      <td>85.68</td>\n",
       "      <td>85.98</td>\n",
       "      <td>1935</td>\n",
       "      <td>2709</td>\n",
       "      <td>3483</td>\n",
       "      <td>5.433597</td>\n",
       "      <td>6.786178</td>\n",
       "      <td>8.395383</td>\n",
       "    </tr>\n",
       "    <tr>\n",
       "      <th>40</th>\n",
       "      <td>85.57</td>\n",
       "      <td>85.80</td>\n",
       "      <td>86.08</td>\n",
       "      <td>1935</td>\n",
       "      <td>2709</td>\n",
       "      <td>3483</td>\n",
       "      <td>5.442882</td>\n",
       "      <td>7.136898</td>\n",
       "      <td>8.725446</td>\n",
       "    </tr>\n",
       "    <tr>\n",
       "      <th>80</th>\n",
       "      <td>85.80</td>\n",
       "      <td>86.00</td>\n",
       "      <td>86.20</td>\n",
       "      <td>1935</td>\n",
       "      <td>2709</td>\n",
       "      <td>3483</td>\n",
       "      <td>6.243352</td>\n",
       "      <td>8.255326</td>\n",
       "      <td>10.351678</td>\n",
       "    </tr>\n",
       "    <tr>\n",
       "      <th>100</th>\n",
       "      <td>85.25</td>\n",
       "      <td>85.68</td>\n",
       "      <td>85.93</td>\n",
       "      <td>1935</td>\n",
       "      <td>2709</td>\n",
       "      <td>3483</td>\n",
       "      <td>4.774168</td>\n",
       "      <td>6.220434</td>\n",
       "      <td>7.641300</td>\n",
       "    </tr>\n",
       "    <tr>\n",
       "      <th rowspan=\"6\" valign=\"top\">64</th>\n",
       "      <th>1</th>\n",
       "      <td>84.30</td>\n",
       "      <td>84.95</td>\n",
       "      <td>85.26</td>\n",
       "      <td>952</td>\n",
       "      <td>1333</td>\n",
       "      <td>1714</td>\n",
       "      <td>22.322847</td>\n",
       "      <td>29.500941</td>\n",
       "      <td>33.525853</td>\n",
       "    </tr>\n",
       "    <tr>\n",
       "      <th>10</th>\n",
       "      <td>84.26</td>\n",
       "      <td>84.88</td>\n",
       "      <td>85.22</td>\n",
       "      <td>952</td>\n",
       "      <td>1333</td>\n",
       "      <td>1714</td>\n",
       "      <td>5.809648</td>\n",
       "      <td>6.288394</td>\n",
       "      <td>7.602529</td>\n",
       "    </tr>\n",
       "    <tr>\n",
       "      <th>20</th>\n",
       "      <td>84.24</td>\n",
       "      <td>84.85</td>\n",
       "      <td>85.19</td>\n",
       "      <td>952</td>\n",
       "      <td>1333</td>\n",
       "      <td>1714</td>\n",
       "      <td>4.375286</td>\n",
       "      <td>5.396891</td>\n",
       "      <td>6.504640</td>\n",
       "    </tr>\n",
       "    <tr>\n",
       "      <th>40</th>\n",
       "      <td>84.55</td>\n",
       "      <td>85.10</td>\n",
       "      <td>85.46</td>\n",
       "      <td>952</td>\n",
       "      <td>1333</td>\n",
       "      <td>1714</td>\n",
       "      <td>4.282843</td>\n",
       "      <td>5.366429</td>\n",
       "      <td>6.475087</td>\n",
       "    </tr>\n",
       "    <tr>\n",
       "      <th>80</th>\n",
       "      <td>84.85</td>\n",
       "      <td>85.38</td>\n",
       "      <td>85.73</td>\n",
       "      <td>952</td>\n",
       "      <td>1333</td>\n",
       "      <td>1714</td>\n",
       "      <td>4.538051</td>\n",
       "      <td>5.760224</td>\n",
       "      <td>7.187536</td>\n",
       "    </tr>\n",
       "    <tr>\n",
       "      <th>100</th>\n",
       "      <td>84.16</td>\n",
       "      <td>84.70</td>\n",
       "      <td>85.07</td>\n",
       "      <td>952</td>\n",
       "      <td>1333</td>\n",
       "      <td>1714</td>\n",
       "      <td>3.702456</td>\n",
       "      <td>4.590924</td>\n",
       "      <td>5.711209</td>\n",
       "    </tr>\n",
       "  </tbody>\n",
       "</table>\n",
       "</div>"
      ],
      "text/plain": [
       "                      ACCURACY               BATCH_SIZE                \\\n",
       "OVERLAP                    0.0    0.4    0.8        0.0    0.4    0.8   \n",
       "N_WORKERS COMM_PERIOD                                                   \n",
       "8         1              86.32  86.35  86.50       8571  12000  15428   \n",
       "          10             86.30  86.35  86.50       8571  12000  15428   \n",
       "          20             86.32  86.35  86.51       8571  12000  15428   \n",
       "          40             86.27  86.41  86.50       8571  12000  15428   \n",
       "          80             86.29  86.34  86.44       8571  12000  15428   \n",
       "          100            86.30  86.36  86.49       8571  12000  15428   \n",
       "16        1              86.13  86.29  86.29       4000   5600   7200   \n",
       "          10             86.12  86.29  86.36       4000   5600   7200   \n",
       "          20             86.12  86.25  86.39       4000   5600   7200   \n",
       "          40             86.19  86.23  86.38       4000   5600   7200   \n",
       "          80             86.22  86.32  86.38       4000   5600   7200   \n",
       "          100            86.07  86.30  86.35       4000   5600   7200   \n",
       "32        1              85.37  85.76  85.99       1935   2709   3483   \n",
       "          10             85.38  85.71  85.97       1935   2709   3483   \n",
       "          20             85.39  85.68  85.98       1935   2709   3483   \n",
       "          40             85.57  85.80  86.08       1935   2709   3483   \n",
       "          80             85.80  86.00  86.20       1935   2709   3483   \n",
       "          100            85.25  85.68  85.93       1935   2709   3483   \n",
       "64        1              84.30  84.95  85.26        952   1333   1714   \n",
       "          10             84.26  84.88  85.22        952   1333   1714   \n",
       "          20             84.24  84.85  85.19        952   1333   1714   \n",
       "          40             84.55  85.10  85.46        952   1333   1714   \n",
       "          80             84.85  85.38  85.73        952   1333   1714   \n",
       "          100            84.16  84.70  85.07        952   1333   1714   \n",
       "\n",
       "                            TIME                        \n",
       "OVERLAP                      0.0        0.4        0.8  \n",
       "N_WORKERS COMM_PERIOD                                   \n",
       "8         1            17.210551  21.487015  25.625124  \n",
       "          10           11.780788  16.035784  20.158040  \n",
       "          20           11.454207  15.649399  19.840704  \n",
       "          40           13.419973  18.384064  23.190774  \n",
       "          80           17.362270  23.922885  30.644104  \n",
       "          100          11.262548  15.524620  19.734402  \n",
       "16        1            15.975141  16.849420  18.140218  \n",
       "          10            7.403856   9.759100  11.984868  \n",
       "          20            7.077538   9.375863  11.771325  \n",
       "          40            7.804751  10.364799  12.985963  \n",
       "          80            9.540637  13.141877  16.372380  \n",
       "          100           6.697726   9.145191  11.496845  \n",
       "32        1            19.247735  20.878171  23.610446  \n",
       "          10            6.097701   7.777934   9.221584  \n",
       "          20            5.433597   6.786178   8.395383  \n",
       "          40            5.442882   7.136898   8.725446  \n",
       "          80            6.243352   8.255326  10.351678  \n",
       "          100           4.774168   6.220434   7.641300  \n",
       "64        1            22.322847  29.500941  33.525853  \n",
       "          10            5.809648   6.288394   7.602529  \n",
       "          20            4.375286   5.396891   6.504640  \n",
       "          40            4.282843   5.366429   6.475087  \n",
       "          80            4.538051   5.760224   7.187536  \n",
       "          100           3.702456   4.590924   5.711209  "
      ]
     },
     "execution_count": 83,
     "metadata": {},
     "output_type": "execute_result"
    }
   ],
   "source": [
    "mnist_overlap.pivot_table(\n",
    "    values=[\"BATCH_SIZE\", \"TIME\", \"ACCURACY\"],\n",
    "    index=[\"N_WORKERS\", \"COMM_PERIOD\"],\n",
    "    columns=[\"OVERLAP\"]\n",
    ")"
   ]
  },
  {
   "cell_type": "code",
   "execution_count": 157,
   "metadata": {},
   "outputs": [
    {
     "name": "stdout",
     "output_type": "stream",
     "text": [
      "Idx for entire dataset 95% variance: 598\n",
      "SVD for 2 workers\n",
      "batch_size=30000\n",
      "Overlap=0.0, Avg idxs hover around: 596.5, with std of: 0.5\n",
      "batch_size=36000\n",
      "Overlap=0.2, Avg idxs hover around: 597.5, with std of: 0.5\n",
      "batch_size=42000\n",
      "Overlap=0.4, Avg idxs hover around: 597.5, with std of: 0.5\n",
      "batch_size=48000\n",
      "Overlap=0.6, Avg idxs hover around: 598.0, with std of: 0.0\n",
      "batch_size=54000\n",
      "Overlap=0.8, Avg idxs hover around: 598.0, with std of: 0.0\n",
      "SVD for 8 workers\n",
      "batch_size=7500\n",
      "Overlap=0.0, Avg idxs hover around: 587.625, with std of: 0.8569568250501305\n",
      "batch_size=9000\n",
      "Overlap=0.2, Avg idxs hover around: 589.5, with std of: 0.7071067811865476\n",
      "batch_size=10500\n",
      "Overlap=0.4, Avg idxs hover around: 591.0, with std of: 1.0\n",
      "batch_size=12000\n",
      "Overlap=0.6, Avg idxs hover around: 592.25, with std of: 0.6614378277661477\n",
      "batch_size=13500\n",
      "Overlap=0.8, Avg idxs hover around: 593.0, with std of: 0.7071067811865476\n",
      "SVD for 16 workers\n",
      "batch_size=3750\n",
      "Overlap=0.0, Avg idxs hover around: 575.3125, with std of: 1.1021995055342748\n",
      "batch_size=4500\n",
      "Overlap=0.2, Avg idxs hover around: 579.625, with std of: 0.9270248108869579\n",
      "batch_size=5250\n",
      "Overlap=0.4, Avg idxs hover around: 582.5, with std of: 0.9354143466934853\n",
      "batch_size=6000\n",
      "Overlap=0.6, Avg idxs hover around: 584.5, with std of: 0.7905694150420949\n",
      "batch_size=6750\n",
      "Overlap=0.8, Avg idxs hover around: 586.25, with std of: 0.9682458365518543\n",
      "SVD for 32 workers\n",
      "batch_size=1875\n",
      "Overlap=0.0, Avg idxs hover around: 548.4375, with std of: 1.7842628029525247\n",
      "batch_size=2250\n",
      "Overlap=0.2, Avg idxs hover around: 557.65625, with std of: 1.7430105959230426\n",
      "batch_size=2625\n",
      "Overlap=0.4, Avg idxs hover around: 564.1875, with std of: 1.4456291882775472\n",
      "batch_size=3000\n",
      "Overlap=0.6, Avg idxs hover around: 568.875, with std of: 1.4306903927824497\n",
      "batch_size=3375\n",
      "Overlap=0.8, Avg idxs hover around: 572.28125, with std of: 1.4193831186469705\n",
      "SVD for 64 workers\n",
      "batch_size=906\n",
      "Overlap=0.0, Avg idxs hover around: 484.5, with std of: 2.4238399287081647\n",
      "batch_size=1125\n",
      "Overlap=0.2, Avg idxs hover around: 507.59375, with std of: 2.4919793212424537\n",
      "batch_size=1313\n",
      "Overlap=0.4, Avg idxs hover around: 522.828125, with std of: 2.4015274273626357\n",
      "batch_size=1500\n",
      "Overlap=0.6, Avg idxs hover around: 533.890625, with std of: 2.2158321482853793\n",
      "batch_size=1688\n",
      "Overlap=0.8, Avg idxs hover around: 542.171875, with std of: 2.03527245949406\n",
      "SVD for 128 workers\n",
      "batch_size=437\n",
      "Overlap=0.0, Avg idxs hover around: 328.7734375, with std of: 2.6404747553411205\n",
      "batch_size=562\n",
      "Overlap=0.2, Avg idxs hover around: 375.4453125, with std of: 2.2178557837117703\n",
      "batch_size=656\n",
      "Overlap=0.4, Avg idxs hover around: 414.9765625, with std of: 2.517019702663003\n",
      "batch_size=750\n",
      "Overlap=0.6, Avg idxs hover around: 445.953125, with std of: 2.6126476483397068\n",
      "batch_size=844\n",
      "Overlap=0.8, Avg idxs hover around: 468.109375, with std of: 2.506972698171043\n"
     ]
    }
   ],
   "source": [
    "all_idxs_f = analyse_svd(fashion_mnist.X_train.data, mnist.y_train.data, n_workers, overlaps)"
   ]
  },
  {
   "cell_type": "code",
   "execution_count": 97,
   "metadata": {},
   "outputs": [
    {
     "data": {
      "text/html": [
       "<div>\n",
       "<style scoped>\n",
       "    .dataframe tbody tr th:only-of-type {\n",
       "        vertical-align: middle;\n",
       "    }\n",
       "\n",
       "    .dataframe tbody tr th {\n",
       "        vertical-align: top;\n",
       "    }\n",
       "\n",
       "    .dataframe thead th {\n",
       "        text-align: right;\n",
       "    }\n",
       "</style>\n",
       "<table border=\"1\" class=\"dataframe\">\n",
       "  <thead>\n",
       "    <tr style=\"text-align: right;\">\n",
       "      <th></th>\n",
       "      <th>2</th>\n",
       "      <th>8</th>\n",
       "      <th>16</th>\n",
       "      <th>32</th>\n",
       "      <th>64</th>\n",
       "      <th>128</th>\n",
       "    </tr>\n",
       "  </thead>\n",
       "  <tbody>\n",
       "    <tr>\n",
       "      <th>0.0</th>\n",
       "      <td>424.5</td>\n",
       "      <td>417.000</td>\n",
       "      <td>408.1875</td>\n",
       "      <td>392.43750</td>\n",
       "      <td>361.109375</td>\n",
       "      <td>290.109375</td>\n",
       "    </tr>\n",
       "    <tr>\n",
       "      <th>0.2</th>\n",
       "      <td>425.0</td>\n",
       "      <td>419.000</td>\n",
       "      <td>411.6250</td>\n",
       "      <td>397.78125</td>\n",
       "      <td>371.937500</td>\n",
       "      <td>315.929688</td>\n",
       "    </tr>\n",
       "    <tr>\n",
       "      <th>0.4</th>\n",
       "      <td>425.0</td>\n",
       "      <td>419.875</td>\n",
       "      <td>413.8125</td>\n",
       "      <td>401.34375</td>\n",
       "      <td>379.500000</td>\n",
       "      <td>332.765625</td>\n",
       "    </tr>\n",
       "    <tr>\n",
       "      <th>0.6</th>\n",
       "      <td>426.0</td>\n",
       "      <td>421.000</td>\n",
       "      <td>415.0625</td>\n",
       "      <td>404.21875</td>\n",
       "      <td>384.984375</td>\n",
       "      <td>345.117188</td>\n",
       "    </tr>\n",
       "    <tr>\n",
       "      <th>0.8</th>\n",
       "      <td>426.0</td>\n",
       "      <td>421.250</td>\n",
       "      <td>416.1250</td>\n",
       "      <td>406.43750</td>\n",
       "      <td>389.203125</td>\n",
       "      <td>354.210938</td>\n",
       "    </tr>\n",
       "  </tbody>\n",
       "</table>\n",
       "</div>"
      ],
      "text/plain": [
       "       2        8         16         32          64          128\n",
       "0.0  424.5  417.000  408.1875  392.43750  361.109375  290.109375\n",
       "0.2  425.0  419.000  411.6250  397.78125  371.937500  315.929688\n",
       "0.4  425.0  419.875  413.8125  401.34375  379.500000  332.765625\n",
       "0.6  426.0  421.000  415.0625  404.21875  384.984375  345.117188\n",
       "0.8  426.0  421.250  416.1250  406.43750  389.203125  354.210938"
      ]
     },
     "metadata": {},
     "output_type": "display_data"
    },
    {
     "data": {
      "text/plain": [
       "<matplotlib.axes._subplots.AxesSubplot at 0x14dbe4eb8>"
      ]
     },
     "metadata": {},
     "output_type": "display_data"
    },
    {
     "data": {
      "text/plain": [
       "<matplotlib.axes._subplots.AxesSubplot at 0x14dec4080>"
      ]
     },
     "metadata": {},
     "output_type": "display_data"
    },
    {
     "data": {
      "image/png": "[encoded data removed]",
      "text/plain": [
       "<Figure size 432x288 with 1 Axes>"
      ]
     },
     "metadata": {
      "needs_background": "light"
     },
     "output_type": "display_data"
    },
    {
     "data": {
      "image/png": "[encoded data removed]",
      "text/plain": [
       "<Figure size 432x288 with 1 Axes>"
      ]
     },
     "metadata": {
      "needs_background": "light"
     },
     "output_type": "display_data"
    }
   ],
   "source": [
    "df = pd.DataFrame(all_idxs)\n",
    "display(df.head())\n",
    "display(df.plot())\n",
    "display(df.T.plot())"
   ]
  },
  {
   "cell_type": "code",
   "execution_count": 158,
   "metadata": {},
   "outputs": [
    {
     "data": {
      "text/html": [
       "<div>\n",
       "<style scoped>\n",
       "    .dataframe tbody tr th:only-of-type {\n",
       "        vertical-align: middle;\n",
       "    }\n",
       "\n",
       "    .dataframe tbody tr th {\n",
       "        vertical-align: top;\n",
       "    }\n",
       "\n",
       "    .dataframe thead th {\n",
       "        text-align: right;\n",
       "    }\n",
       "</style>\n",
       "<table border=\"1\" class=\"dataframe\">\n",
       "  <thead>\n",
       "    <tr style=\"text-align: right;\">\n",
       "      <th></th>\n",
       "      <th>2</th>\n",
       "      <th>8</th>\n",
       "      <th>16</th>\n",
       "      <th>32</th>\n",
       "      <th>64</th>\n",
       "      <th>128</th>\n",
       "    </tr>\n",
       "  </thead>\n",
       "  <tbody>\n",
       "    <tr>\n",
       "      <th>0.0</th>\n",
       "      <td>596.5</td>\n",
       "      <td>587.625</td>\n",
       "      <td>575.3125</td>\n",
       "      <td>548.43750</td>\n",
       "      <td>484.500000</td>\n",
       "      <td>328.773438</td>\n",
       "    </tr>\n",
       "    <tr>\n",
       "      <th>0.2</th>\n",
       "      <td>597.5</td>\n",
       "      <td>589.500</td>\n",
       "      <td>579.6250</td>\n",
       "      <td>557.65625</td>\n",
       "      <td>507.593750</td>\n",
       "      <td>375.445312</td>\n",
       "    </tr>\n",
       "    <tr>\n",
       "      <th>0.4</th>\n",
       "      <td>597.5</td>\n",
       "      <td>591.000</td>\n",
       "      <td>582.5000</td>\n",
       "      <td>564.18750</td>\n",
       "      <td>522.828125</td>\n",
       "      <td>414.976562</td>\n",
       "    </tr>\n",
       "    <tr>\n",
       "      <th>0.6</th>\n",
       "      <td>598.0</td>\n",
       "      <td>592.250</td>\n",
       "      <td>584.5000</td>\n",
       "      <td>568.87500</td>\n",
       "      <td>533.890625</td>\n",
       "      <td>445.953125</td>\n",
       "    </tr>\n",
       "    <tr>\n",
       "      <th>0.8</th>\n",
       "      <td>598.0</td>\n",
       "      <td>593.000</td>\n",
       "      <td>586.2500</td>\n",
       "      <td>572.28125</td>\n",
       "      <td>542.171875</td>\n",
       "      <td>468.109375</td>\n",
       "    </tr>\n",
       "  </tbody>\n",
       "</table>\n",
       "</div>"
      ],
      "text/plain": [
       "       2        8         16         32          64          128\n",
       "0.0  596.5  587.625  575.3125  548.43750  484.500000  328.773438\n",
       "0.2  597.5  589.500  579.6250  557.65625  507.593750  375.445312\n",
       "0.4  597.5  591.000  582.5000  564.18750  522.828125  414.976562\n",
       "0.6  598.0  592.250  584.5000  568.87500  533.890625  445.953125\n",
       "0.8  598.0  593.000  586.2500  572.28125  542.171875  468.109375"
      ]
     },
     "metadata": {},
     "output_type": "display_data"
    },
    {
     "data": {
      "text/plain": [
       "<matplotlib.axes._subplots.AxesSubplot at 0x13fc8e470>"
      ]
     },
     "metadata": {},
     "output_type": "display_data"
    },
    {
     "data": {
      "text/plain": [
       "<matplotlib.axes._subplots.AxesSubplot at 0x13dd41be0>"
      ]
     },
     "metadata": {},
     "output_type": "display_data"
    },
    {
     "data": {
      "image/png": "[encoded data removed]",
      "text/plain": [
       "<Figure size 432x288 with 1 Axes>"
      ]
     },
     "metadata": {
      "needs_background": "light"
     },
     "output_type": "display_data"
    },
    {
     "data": {
      "image/png": "[encoded data removed]",
      "text/plain": [
       "<Figure size 432x288 with 1 Axes>"
      ]
     },
     "metadata": {
      "needs_background": "light"
     },
     "output_type": "display_data"
    }
   ],
   "source": [
    "df_f = pd.DataFrame(all_idxs_f)\n",
    "display(df_f.head())\n",
    "display(df_f.plot())\n",
    "display(df_f.T.plot())"
   ]
  },
  {
   "cell_type": "markdown",
   "metadata": {},
   "source": [
    "## SVD Analysis of data sizes"
   ]
  },
  {
   "cell_type": "code",
   "execution_count": 46,
   "metadata": {},
   "outputs": [
    {
     "name": "stdout",
     "output_type": "stream",
     "text": [
      "X_b.shape=(1000, 784), Idx: 371\n",
      "X_b.shape=(2000, 784), Idx: 396\n",
      "X_b.shape=(4000, 784), Idx: 411\n",
      "X_b.shape=(8000, 784), Idx: 417\n",
      "X_b.shape=(16000, 784), Idx: 422\n",
      "X_b.shape=(30000, 784), Idx: 424\n",
      "X_b.shape=(60000, 784), Idx: 425\n",
      "[371, 396, 411, 417, 422, 424, 425]\n",
      "CPU times: user 58.4 s, sys: 5.29 s, total: 1min 3s\n",
      "Wall time: 13.5 s\n"
     ]
    }
   ],
   "source": [
    "%%time\n",
    "partition_sizes = [1000, 2000, 4000, 8000, 16000, 30000, 60000]\n",
    "idxs_across_data_size = svd_to_data_size(partition_sizes, mnist.X_train.data)\n",
    "print(idxs_across_data_size)"
   ]
  },
  {
   "cell_type": "code",
   "execution_count": 47,
   "metadata": {},
   "outputs": [
    {
     "name": "stdout",
     "output_type": "stream",
     "text": [
      "X_b.shape=(1000, 784), Idx: 490\n",
      "X_b.shape=(2000, 784), Idx: 553\n",
      "X_b.shape=(4000, 784), Idx: 576\n",
      "X_b.shape=(8000, 784), Idx: 586\n",
      "X_b.shape=(16000, 784), Idx: 593\n",
      "X_b.shape=(30000, 784), Idx: 596\n",
      "X_b.shape=(60000, 784), Idx: 596\n",
      "[490, 553, 576, 586, 593, 596, 596]\n",
      "CPU times: user 1min 1s, sys: 5.87 s, total: 1min 7s\n",
      "Wall time: 14.4 s\n"
     ]
    }
   ],
   "source": [
    "%%time\n",
    "idxs_across_data_size_f = svd_to_data_size(partition_sizes, fashion_mnist.X_train.data)\n",
    "print(idxs_across_data_size_f)"
   ]
  },
  {
   "cell_type": "code",
   "execution_count": 48,
   "metadata": {},
   "outputs": [
    {
     "name": "stdout",
     "output_type": "stream",
     "text": [
      "X_b.shape=(1000, 3072), Idx: 653\n",
      "X_b.shape=(2000, 3072), Idx: 1025\n",
      "X_b.shape=(4000, 3072), Idx: 1285\n",
      "X_b.shape=(8000, 3072), Idx: 1404\n",
      "X_b.shape=(16000, 3072), Idx: 1459\n",
      "X_b.shape=(25000, 3072), Idx: 1487\n",
      "X_b.shape=(50000, 3072), Idx: 1504\n",
      "[653, 1025, 1285, 1404, 1459, 1487, 1504]\n",
      "CPU times: user 15min 28s, sys: 29.7 s, total: 15min 58s\n",
      "Wall time: 2min 55s\n"
     ]
    }
   ],
   "source": [
    "%%time\n",
    "partition_sizes_c = [1000, 2000, 4000, 8000, 16000, 25000, 50000]\n",
    "idxs_across_data_size_c = svd_to_data_size(partition_sizes_c, x_train_c)\n",
    "print(idxs_across_data_size_c)"
   ]
  },
  {
   "cell_type": "code",
   "execution_count": 49,
   "metadata": {},
   "outputs": [
    {
     "name": "stdout",
     "output_type": "stream",
     "text": [
      "8000\n",
      "8000\n",
      "8000\n"
     ]
    }
   ],
   "source": [
    "kn = KneeLocator(partition_sizes, idxs_across_data_size, curve='concave', direction='increasing')\n",
    "kn_f = KneeLocator(partition_sizes, idxs_across_data_size_f, curve='concave', direction='increasing')\n",
    "kn_c = KneeLocator(partition_sizes_c, idxs_across_data_size_c, curve='concave', direction='increasing')\n",
    "print(kn.knee)\n",
    "print(kn_f.knee)\n",
    "print(kn_c.knee)"
   ]
  },
  {
   "cell_type": "code",
   "execution_count": 61,
   "metadata": {},
   "outputs": [
    {
     "data": {
      "text/plain": [
       "[1000, 2000, 4000, 8000, 16000, 25000, 50000]"
      ]
     },
     "execution_count": 61,
     "metadata": {},
     "output_type": "execute_result"
    }
   ],
   "source": [
    "partition_sizes_c"
   ]
  },
  {
   "cell_type": "code",
   "execution_count": 120,
   "metadata": {},
   "outputs": [
    {
     "name": "stdout",
     "output_type": "stream",
     "text": [
      "workers=[(1000, 60.0), (2000, 30.0), (4000, 15.0), (8000, 8.0), (16000, 4.0), (30000, 2.0), (60000, 1.0)]\n",
      "workers_f=[(1000, 60.0), (2000, 30.0), (4000, 15.0), (8000, 8.0), (16000, 4.0), (30000, 2.0), (60000, 1.0)]\n",
      "workers_c=[(1000, 50.0), (2000, 25.0), (4000, 13.0), (8000, 7.0), (16000, 4.0), (30000, 2.0), (60000, 1.0)]\n",
      "knee=7.0\n",
      "knee_f=7.0\n",
      "knee_c=7.0\n"
     ]
    }
   ],
   "source": [
    "workers = np.ceil(60000 / np.array(partition_sizes))\n",
    "workers_f = np.ceil(60000 / np.array(partition_sizes))\n",
    "workers_c = np.ceil(50000 / np.array(partition_sizes_c))\n",
    "print(f\"workers={list(zip(partition_sizes, workers))}\")\n",
    "print(f\"workers_f={list(zip(partition_sizes, workers_f))}\")\n",
    "print(f\"workers_c={list(zip(partition_sizes, workers_c))}\")\n",
    "knee = workers_c[np.argwhere(partition_sizes == kn.knee).flatten()][0]\n",
    "knee_f = workers_c[np.argwhere(partition_sizes == kn_f.knee).flatten()][0]\n",
    "knee_c = workers_c[np.argwhere(partition_sizes_c == kn_c.knee).flatten()][0]\n",
    "print(f\"knee={knee}\")\n",
    "print(f\"knee_f={knee_f}\")\n",
    "print(f\"knee_c={knee_c}\")"
   ]
  },
  {
   "cell_type": "code",
   "execution_count": 112,
   "metadata": {},
   "outputs": [
    {
     "data": {
      "text/plain": [
       "<matplotlib.collections.LineCollection at 0x1485a29b0>"
      ]
     },
     "execution_count": 112,
     "metadata": {},
     "output_type": "execute_result"
    },
    {
     "data": {
      "image/png": "[encoded data removed]",
      "text/plain": [
       "<Figure size 1296x432 with 3 Axes>"
      ]
     },
     "metadata": {
      "needs_background": "light"
     },
     "output_type": "display_data"
    }
   ],
   "source": [
    "_, axes = plt.subplots(1, 3, figsize=(18, 6))\n",
    "axes[0].plot(partition_sizes, idxs_across_data_size)\n",
    "axes[1].plot(partition_sizes, idxs_across_data_size_f)\n",
    "axes[2].plot(partition_sizes_c, idxs_across_data_size_c)\n",
    "# axes[2].set_xlim(workers_c[0], workers_c[-1])\n",
    "axes[0].vlines(kn.knee, axes[0].get_ylim()[0], axes[0].get_ylim()[1], linestyles='dashed')\n",
    "axes[1].vlines(kn_f.knee, axes[1].get_ylim()[0], axes[1].get_ylim()[1], linestyles='dashed')\n",
    "axes[2].vlines(kn_c.knee, axes[2].get_ylim()[0], axes[2].get_ylim()[1], linestyles='dashed')"
   ]
  },
  {
   "cell_type": "code",
   "execution_count": 12,
   "metadata": {},
   "outputs": [
    {
     "data": {
      "text/plain": [
       "array([363.        , 363.        , 363.        , ..., 424.9998    ,\n",
       "       424.99986667, 424.99993333])"
      ]
     },
     "execution_count": 12,
     "metadata": {},
     "output_type": "execute_result"
    }
   ],
   "source": [
    "interpolation = np.interp(np.arange(partition_sizes[-1]), partition_sizes, idxs_across_data_size)\n",
    "interpolation"
   ]
  },
  {
   "cell_type": "code",
   "execution_count": 15,
   "metadata": {},
   "outputs": [
    {
     "data": {
      "text/plain": [
       "410.9915"
      ]
     },
     "execution_count": 15,
     "metadata": {},
     "output_type": "execute_result"
    }
   ],
   "source": [
    "interpolation[3999]"
   ]
  },
  {
   "cell_type": "code",
   "execution_count": 22,
   "metadata": {},
   "outputs": [
    {
     "data": {
      "text/plain": [
       "15"
      ]
     },
     "execution_count": 22,
     "metadata": {},
     "output_type": "execute_result"
    }
   ],
   "source": [
    "int(np.ceil(mnist.n_samples / (kn.knee / 2)))"
   ]
  },
  {
   "cell_type": "markdown",
   "metadata": {},
   "source": [
    "Okay so the diversity of the data is different for the different number of workers. With the increase of the number of workers, "
   ]
  },
  {
   "cell_type": "code",
   "execution_count": 10,
   "metadata": {},
   "outputs": [],
   "source": [
    "X_train = mnist.X_train.data.copy()\n",
    "y_train = mnist.y_train.data.copy()"
   ]
  },
  {
   "cell_type": "code",
   "execution_count": 9,
   "metadata": {},
   "outputs": [
    {
     "name": "stdout",
     "output_type": "stream",
     "text": [
      "Idx for entire dataset 95% variance: 426\n",
      "batch_size=1875\n",
      "Overlap=0.0, Avg idxs hover around: 394.1875, with std of: 2.310810193417019\n",
      "batch_size=1875\n",
      "Overlap=0.0, Avg idxs hover around: 394.15625, with std of: 2.195298598710435\n",
      "batch_size=1875\n",
      "Overlap=0.0, Avg idxs hover around: 394.25, with std of: 1.8874586088176875\n",
      "batch_size=1875\n",
      "Overlap=0.0, Avg idxs hover around: 394.3125, with std of: 2.0223362109204297\n",
      "batch_size=1875\n",
      "Overlap=0.0, Avg idxs hover around: 394.15625, with std of: 1.5229366163764007\n",
      "batch_size=1875\n",
      "Overlap=0.0, Avg idxs hover around: 394.09375, with std of: 2.566117872877238\n",
      "batch_size=1875\n",
      "Overlap=0.0, Avg idxs hover around: 394.1875, with std of: 2.603333199957316\n",
      "batch_size=1875\n",
      "Overlap=0.0, Avg idxs hover around: 394.0, with std of: 2.9368350311176825\n",
      "batch_size=1875\n",
      "Overlap=0.0, Avg idxs hover around: 394.09375, with std of: 2.4667713589832356\n",
      "batch_size=1875\n",
      "Overlap=0.0, Avg idxs hover around: 394.09375, with std of: 2.5782670415416633\n"
     ]
    }
   ],
   "source": [
    "u, s, v = np.linalg.svd(mnist.X_train.data, full_matrices=False)\n",
    "idx = np.argwhere(np.cumsum(s) / np.sum(s) > 0.95).flatten()[0]\n",
    "print(f\"Idx for entire dataset 95% variance: {idx}\")\n",
    "n_iterations = 10\n",
    "n = n_workers[2] # 8\n",
    "overlap = 0.0\n",
    "for i in np.arange(n_iterations):\n",
    "    # Shuffle data\n",
    "    shuffle_idxs = np.random.permutation(np.arange(X_train.shape[0]))\n",
    "    X_train = X_train[shuffle_idxs]\n",
    "    y_train = y_train[shuffle_idxs]\n",
    "    batch_size = int(np.ceil(mnist.n_samples / n))\n",
    "    batch_gen = MNist.next_batch(\n",
    "        X_train,\n",
    "        y_train,\n",
    "        batch_size,\n",
    "        shuffle=False,\n",
    "        overlap=overlap\n",
    "    )\n",
    "    avg_idxs = []\n",
    "    for i, (X_batch, y_batch) in enumerate(batch_gen):\n",
    "        u_batch, s_batch, v_batch = np.linalg.svd(X_batch.data, full_matrices=False)\n",
    "        idx = np.argwhere(np.cumsum(s_batch) / np.sum(s_batch) > 0.95).flatten()[0]\n",
    "        avg_idxs.append(idx)\n",
    "\n",
    "    all_idxs[n] = avg_idxs\n",
    "    print(f\"batch_size={X_batch.shape[0]}\")\n",
    "        # print(f\"Worker {i}: 95% variance={idx}\")\n",
    "    print(f\"Overlap={overlap}, Avg idxs hover around: {np.mean(avg_idxs)}, with std of: {np.std(avg_idxs)}\")"
   ]
  },
  {
   "cell_type": "code",
   "execution_count": 15,
   "metadata": {},
   "outputs": [],
   "source": [
    "labels = np.argmax(y_train, axis=1)"
   ]
  },
  {
   "cell_type": "code",
   "execution_count": null,
   "metadata": {},
   "outputs": [],
   "source": [
    "labels"
   ]
  },
  {
   "cell_type": "code",
   "execution_count": null,
   "metadata": {},
   "outputs": [],
   "source": [
    "(labels == 9) | (labels == 0)"
   ]
  },
  {
   "cell_type": "code",
   "execution_count": 28,
   "metadata": {},
   "outputs": [
    {
     "data": {
      "text/plain": [
       "373"
      ]
     },
     "execution_count": 28,
     "metadata": {},
     "output_type": "execute_result"
    }
   ],
   "source": [
    "X_9 = X_train[np.argwhere((labels == 9) | (labels == 0)).flatten()]\n",
    "u9, s9, v9 = np.linalg.svd(X_9, full_matrices=False)\n",
    "np.argwhere(np.cumsum(s9) / np.sum(s9) > 0.95).flatten()[0]"
   ]
  },
  {
   "cell_type": "code",
   "execution_count": 29,
   "metadata": {},
   "outputs": [],
   "source": [
    "def strat_sample(total_samples, sample_size):\n",
    "    total_samples = total_samples + (total_samples % sample_size)\n",
    "    assert (total_samples % sample_size == 0)\n",
    "    d_s = 1.0 / sample_size\n",
    "    bins = np.zeros(total_samples, dtype=int)\n",
    "    count = 0\n",
    "    for i in range(total_samples // sample_size):\n",
    "        bins[count:count + sample_size] = np.random.permutation(sample_size)\n",
    "        count += sample_size\n",
    "    place_in_bin = np.random.uniform(-0.5 * d_s, 0.5 * d_s, total_samples) + (bins + 0.5) * d_s\n",
    "    return place_in_bin"
   ]
  },
  {
   "cell_type": "code",
   "execution_count": 33,
   "metadata": {},
   "outputs": [
    {
     "data": {
      "text/plain": [
       "array([0.34725767, 0.84779425, 0.7489765 , ..., 0.32738261, 0.83816821,\n",
       "       0.67517554])"
      ]
     },
     "execution_count": 33,
     "metadata": {},
     "output_type": "execute_result"
    }
   ],
   "source": [
    "strat_sample(60000, 10)"
   ]
  },
  {
   "cell_type": "code",
   "execution_count": 35,
   "metadata": {},
   "outputs": [],
   "source": [
    "from collections import Counter"
   ]
  },
  {
   "cell_type": "code",
   "execution_count": 36,
   "metadata": {},
   "outputs": [
    {
     "data": {
      "text/plain": [
       "Counter({5: 5421,\n",
       "         0: 5923,\n",
       "         4: 5842,\n",
       "         1: 6742,\n",
       "         9: 5949,\n",
       "         2: 5958,\n",
       "         3: 6131,\n",
       "         6: 5918,\n",
       "         7: 6265,\n",
       "         8: 5851})"
      ]
     },
     "execution_count": 36,
     "metadata": {},
     "output_type": "execute_result"
    }
   ],
   "source": [
    "Counter(labels)"
   ]
  },
  {
   "cell_type": "code",
   "execution_count": 71,
   "metadata": {},
   "outputs": [],
   "source": [
    "bins = np.bincount(labels)\n",
    "strata_size = 4000 / 60000 * bins"
   ]
  },
  {
   "cell_type": "code",
   "execution_count": 72,
   "metadata": {},
   "outputs": [
    {
     "data": {
      "text/plain": [
       "array([394, 449, 397, 408, 389, 361, 394, 417, 390, 396])"
      ]
     },
     "execution_count": 72,
     "metadata": {},
     "output_type": "execute_result"
    }
   ],
   "source": [
    "np.floor(strata_size).astype(int)"
   ]
  },
  {
   "cell_type": "code",
   "execution_count": 73,
   "metadata": {},
   "outputs": [
    {
     "data": {
      "text/plain": [
       "array([5923, 6742, 5958, 6131, 5842, 5421, 5918, 6265, 5851, 5949])"
      ]
     },
     "execution_count": 73,
     "metadata": {},
     "output_type": "execute_result"
    }
   ],
   "source": [
    "bins"
   ]
  },
  {
   "cell_type": "code",
   "execution_count": 74,
   "metadata": {},
   "outputs": [
    {
     "name": "stdout",
     "output_type": "stream",
     "text": [
      "X_sample=(394, 784)\n",
      "X_sample=(449, 784)\n",
      "X_sample=(397, 784)\n",
      "X_sample=(408, 784)\n",
      "X_sample=(389, 784)\n",
      "X_sample=(361, 784)\n",
      "X_sample=(394, 784)\n",
      "X_sample=(417, 784)\n",
      "X_sample=(390, 784)\n",
      "X_sample=(396, 784)\n"
     ]
    }
   ],
   "source": [
    "sample = []\n",
    "for label in np.unique(labels):\n",
    "    X_label = X_train[labels == label]\n",
    "    label_partition = np.random.choice(np.arange(bins[label]), size=(np.floor(strata_size[label]).astype(int)))\n",
    "    X_sample = X_label[label_partition]\n",
    "    print(f\"X_sample={X_sample.shape}\")\n",
    "    sample.append(X_sample)"
   ]
  },
  {
   "cell_type": "code",
   "execution_count": 76,
   "metadata": {},
   "outputs": [],
   "source": [
    "strat_samp = np.vstack(sample)\n",
    "i = np.arange(strat_samp.shape[0])"
   ]
  },
  {
   "cell_type": "code",
   "execution_count": 77,
   "metadata": {},
   "outputs": [],
   "source": [
    "np.random.shuffle(i)"
   ]
  },
  {
   "cell_type": "code",
   "execution_count": 78,
   "metadata": {},
   "outputs": [
    {
     "data": {
      "text/plain": [
       "array([1965, 3874,  900, ..., 2640, 1917, 2874])"
      ]
     },
     "execution_count": 78,
     "metadata": {},
     "output_type": "execute_result"
    }
   ],
   "source": [
    "i"
   ]
  },
  {
   "cell_type": "code",
   "execution_count": 79,
   "metadata": {},
   "outputs": [
    {
     "data": {
      "text/plain": [
       "411"
      ]
     },
     "execution_count": 79,
     "metadata": {},
     "output_type": "execute_result"
    }
   ],
   "source": [
    "u_, s_, v_ = np.linalg.svd(strat_samp[i], full_matrices=False)\n",
    "np.argwhere(np.cumsum(s_) / np.sum(s_) > 0.95).flatten()[0]"
   ]
  },
  {
   "cell_type": "code",
   "execution_count": null,
   "metadata": {},
   "outputs": [],
   "source": []
  },
  {
   "cell_type": "code",
   "execution_count": 4,
   "metadata": {},
   "outputs": [],
   "source": [
    "svds = np.array([423.0, 422.0, 424.0])"
   ]
  },
  {
   "cell_type": "code",
   "execution_count": 5,
   "metadata": {},
   "outputs": [],
   "source": [
    "max_svd = np.max(svds)"
   ]
  },
  {
   "cell_type": "code",
   "execution_count": 22,
   "metadata": {},
   "outputs": [],
   "source": [
    "normalized = (svds / max_svd)\n",
    "max_iter = 100\n",
    "comms = np.floor(normalized * max_iter / 1).astype(int)"
   ]
  },
  {
   "cell_type": "code",
   "execution_count": 20,
   "metadata": {},
   "outputs": [
    {
     "data": {
      "text/plain": [
       "array([0.99764151, 0.99528302, 1.        ])"
      ]
     },
     "execution_count": 20,
     "metadata": {},
     "output_type": "execute_result"
    }
   ],
   "source": [
    "normalized"
   ]
  },
  {
   "cell_type": "code",
   "execution_count": 19,
   "metadata": {},
   "outputs": [
    {
     "data": {
      "text/plain": [
       "array([ 99.76415094,  99.52830189, 100.        ])"
      ]
     },
     "execution_count": 19,
     "metadata": {},
     "output_type": "execute_result"
    }
   ],
   "source": [
    "normalized * max_iter"
   ]
  },
  {
   "cell_type": "code",
   "execution_count": 23,
   "metadata": {},
   "outputs": [
    {
     "data": {
      "text/plain": [
       "array([ 99,  99, 100])"
      ]
     },
     "execution_count": 23,
     "metadata": {},
     "output_type": "execute_result"
    }
   ],
   "source": [
    "comms"
   ]
  },
  {
   "cell_type": "code",
   "execution_count": 24,
   "metadata": {},
   "outputs": [
    {
     "data": {
      "text/plain": [
       "1269.0"
      ]
     },
     "execution_count": 24,
     "metadata": {},
     "output_type": "execute_result"
    }
   ],
   "source": [
    "svds.sum()"
   ]
  },
  {
   "cell_type": "code",
   "execution_count": 25,
   "metadata": {},
   "outputs": [
    {
     "name": "stderr",
     "output_type": "stream",
     "text": [
      "/Users/sashlinreddy/miniconda3/envs/ftml/lib/python3.7/site-packages/ipykernel_launcher.py:1: RuntimeWarning: overflow encountered in exp\n",
      "  \"\"\"Entry point for launching an IPython kernel.\n"
     ]
    },
    {
     "data": {
      "text/plain": [
       "array([0., 0., 0.])"
      ]
     },
     "execution_count": 25,
     "metadata": {},
     "output_type": "execute_result"
    }
   ],
   "source": [
    "np.exp(svds) / np.exp(svds.sum())"
   ]
  },
  {
   "cell_type": "code",
   "execution_count": null,
   "metadata": {},
   "outputs": [],
   "source": []
  }
 ],
 "metadata": {
  "kernelspec": {
   "display_name": "Python [conda env:ftml]",
   "language": "python",
   "name": "conda-env-ftml-py"
  },
  "language_info": {
   "codemirror_mode": {
    "name": "ipython",
    "version": 3
   },
   "file_extension": ".py",
   "mimetype": "text/x-python",
   "name": "python",
   "nbconvert_exporter": "python",
   "pygments_lexer": "ipython3",
   "version": "3.7.3"
  }
 },
 "nbformat": 4,
 "nbformat_minor": 4
}
