{
 "cells": [
  {
   "cell_type": "code",
   "execution_count": 1,
   "metadata": {},
   "outputs": [],
   "source": [
    "import numpy as np\n",
    "import os\n",
    "import matplotlib.pyplot as plt\n",
    "import pandas as pd\n",
    "\n",
    "from fault_tolerant_ml.data import OccupancyData\n",
    "from fault_tolerant_ml.data import MNist\n",
    "from fault_tolerant_ml.ml.optimizer import SGDOptimizer\n",
    "\n",
    "plt.style.use(\"ggplot\")\n",
    "\n",
    "%matplotlib inline\n",
    "%reload_ext autoreload\n",
    "%autoreload 2"
   ]
  },
  {
   "cell_type": "code",
   "execution_count": 2,
   "metadata": {},
   "outputs": [],
   "source": [
    "# data = OccupancyData(filepath=\"/c/Users/nb304836/Documents/git-repos/large_scale_ml/data/occupancy_data/datatraining.txt\")"
   ]
  },
  {
   "cell_type": "code",
   "execution_count": 3,
   "metadata": {},
   "outputs": [],
   "source": [
    "# data.X.shape"
   ]
  },
  {
   "cell_type": "code",
   "execution_count": 4,
   "metadata": {},
   "outputs": [],
   "source": [
    "# data.transform()"
   ]
  },
  {
   "cell_type": "code",
   "execution_count": 5,
   "metadata": {},
   "outputs": [
    {
     "data": {
      "text/plain": [
       "array([[ 0.24266258, -0.7364516 ,  0.29375806],\n",
       "       [ 1.3282232 , -0.9054121 ,  1.2098776 ],\n",
       "       [-0.6876691 , -0.26824802,  1.6100631 ],\n",
       "       [-0.5382761 , -1.6756706 ,  2.106024  ],\n",
       "       [ 0.21044046,  0.1388246 , -1.3098849 ]], dtype=float32)"
      ]
     },
     "metadata": {},
     "output_type": "display_data"
    },
    {
     "data": {
      "text/plain": [
       "array([(-1.6756706, 2.106024, 8, [[4, 2, 4], [6, 2, 6], [2, 3, 7], [3, 0, 7], [4, 4, 1]])],\n",
       "      dtype=[('min_val', '<f4'), ('max_val', '<f4'), ('interval', '<i4'), ('bins', 'i1', (5, 3))])"
      ]
     },
     "execution_count": 5,
     "metadata": {},
     "output_type": "execute_result"
    }
   ],
   "source": [
    "interval = 100\n",
    "theta = np.random.randn(5, 3).astype(np.float32)\n",
    "display(theta)\n",
    "min_theta_val = theta.min() + 1e-8\n",
    "max_theta_val = theta.max() + 1e-8\n",
    "interval = 8\n",
    "bins = np.linspace(min_theta_val, max_theta_val, interval)\n",
    "theta_bins = np.digitize(theta, bins).astype(np.int8)\n",
    "\n",
    "struct_field_names = [\"min_val\", \"max_val\", \"interval\", \"bins\"]\n",
    "struct_field_types = [np.float32, np.float32, np.int32, 'b']\n",
    "struct_field_shapes = [1, 1, 1, (theta.shape)]\n",
    "\n",
    "data = np.zeros(1, dtype=(list(zip(struct_field_names, struct_field_types, struct_field_shapes))))\n",
    "\n",
    "data[0] = (min_theta_val, max_theta_val, interval, theta_bins)    \n",
    "\n",
    "data"
   ]
  },
  {
   "cell_type": "code",
   "execution_count": 45,
   "metadata": {},
   "outputs": [
    {
     "data": {
      "text/plain": [
       "array([[-0.27242473,  0.8679549 , -0.27242473],\n",
       "       [ 0.48782834,  0.10770182,  1.2480814 ],\n",
       "       [ 0.10770182,  1.2480814 , -1.4128044 ],\n",
       "       [-1.0326778 ,  0.10770182, -0.27242473],\n",
       "       [ 1.2480814 ,  0.48782834,  0.48782834]], dtype=float32)"
      ]
     },
     "execution_count": 45,
     "metadata": {},
     "output_type": "execute_result"
    }
   ],
   "source": [
    "buf = memoryview(data.tostring())\n",
    "struct_field_names = [\"min_val\", \"max_val\", \"interval\", \"bins\"]\n",
    "struct_field_types = [np.float32, np.float32, np.int32, 'b']\n",
    "struct_field_shapes = [1, 1, 1, ((5, 3))]\n",
    "dtype=(list(zip(struct_field_names, struct_field_types, struct_field_shapes)))\n",
    "\n",
    "data = np.frombuffer(buf, dtype=dtype)\n",
    "min_theta_val, max_theta_val, interval, theta_bins = data[0]\n",
    "\n",
    "# Generate lineared space vector\n",
    "bins = np.linspace(min_theta_val, max_theta_val, interval, dtype=np.float32)\n",
    "theta = bins[theta_bins].reshape(5, 3)\n",
    "\n",
    "theta"
   ]
  },
  {
   "cell_type": "code",
   "execution_count": 16,
   "metadata": {},
   "outputs": [],
   "source": [
    "t = np.random.randn(784, 10)"
   ]
  },
  {
   "cell_type": "code",
   "execution_count": 17,
   "metadata": {},
   "outputs": [],
   "source": [
    "u, s, v = np.linalg.svd(t, full_matrices=False)"
   ]
  },
  {
   "cell_type": "code",
   "execution_count": 20,
   "metadata": {},
   "outputs": [
    {
     "data": {
      "text/plain": [
       "(10,)"
      ]
     },
     "execution_count": 20,
     "metadata": {},
     "output_type": "execute_result"
    }
   ],
   "source": [
    "s.shape"
   ]
  },
  {
   "cell_type": "markdown",
   "metadata": {},
   "source": [
    "## Mnist Logistic regression"
   ]
  },
  {
   "cell_type": "code",
   "execution_count": 2,
   "metadata": {},
   "outputs": [],
   "source": [
    "data_dir = \"/c/Users/nb304836/Documents/git-repos/fault_tolerant_ml/data/\"\n",
    "filepaths = {\n",
    "    \"train\": {\n",
    "        \"images\": os.path.join(data_dir, \"train-images-idx3-ubyte.gz\"), \"labels\": os.path.join(data_dir, \"train-labels-idx1-ubyte.gz\")\n",
    "    },\n",
    "    \"test\": {\n",
    "        \"images\": os.path.join(data_dir, \"t10k-images-idx3-ubyte.gz\"), \"labels\": os.path.join(data_dir, \"t10k-labels-idx1-ubyte.gz\")\n",
    "    }\n",
    "}"
   ]
  },
  {
   "cell_type": "code",
   "execution_count": 3,
   "metadata": {},
   "outputs": [],
   "source": [
    "mnist = MNist(filepaths)"
   ]
  },
  {
   "cell_type": "code",
   "execution_count": 4,
   "metadata": {},
   "outputs": [
    {
     "data": {
      "image/png": "[encoded data removed]",
      "text/plain": [
       "<Figure size 720x720 with 25 Axes>"
      ]
     },
     "metadata": {},
     "output_type": "display_data"
    }
   ],
   "source": [
    "plt.figure(figsize=(10,10))\n",
    "labels = np.argmax(mnist.y_train, axis=1)\n",
    "for i in range(25):\n",
    "    plt.subplot(5,5,i+1)\n",
    "    plt.xticks([])\n",
    "    plt.yticks([])\n",
    "    plt.grid(False)\n",
    "    plt.imshow(mnist.X_train[i].reshape(28, 28), cmap=plt.cm.binary)\n",
    "    plt.xlabel(mnist.class_names[labels[i]])\n",
    "plt.show()"
   ]
  },
  {
   "cell_type": "code",
   "execution_count": 14,
   "metadata": {},
   "outputs": [],
   "source": [
    "from fault_tolerant_ml.ml.loss_fns import cross_entropy_loss, cross_entropy_gradient\n",
    "from fault_tolerant_ml.ml.linear_model import LogisticRegression\n",
    "from fault_tolerant_ml.ml.metrics_temp import accuracy_scorev2"
   ]
  },
  {
   "cell_type": "code",
   "execution_count": 21,
   "metadata": {},
   "outputs": [],
   "source": [
    "def mse(y_pred, y):\n",
    "    m, _ = y_pred.shape\n",
    "    e = (y_pred - y)\n",
    "    return 1.0 / (2.0 * m) * np.sum(e**2)"
   ]
  },
  {
   "cell_type": "code",
   "execution_count": 31,
   "metadata": {},
   "outputs": [],
   "source": [
    "# optimizer = SGDOptimizer(cross_entropy_loss, cross_entropy_gradient, learning_rate=0.99)\n",
    "optimizer = SGDOptimizer(cross_entropy_loss, cross_entropy_gradient, learning_rate=0.99)"
   ]
  },
  {
   "cell_type": "code",
   "execution_count": 32,
   "metadata": {},
   "outputs": [],
   "source": [
    "lr = LogisticRegression(optimizer=optimizer, max_iter=400)"
   ]
  },
  {
   "cell_type": "code",
   "execution_count": 33,
   "metadata": {},
   "outputs": [
    {
     "name": "stdout",
     "output_type": "stream",
     "text": [
      "Iteration=0, delta=0.265, loss=0.686, train acc=0.069\n",
      "Iteration=100, delta=0.034, loss=0.143, train acc=0.883\n",
      "Iteration=200, delta=0.029, loss=0.139, train acc=0.891\n",
      "Iteration=300, delta=0.026, loss=0.137, train acc=0.894\n",
      "CPU times: user 4min 32s, sys: 1min 28s, total: 6min\n",
      "Wall time: 1min 6s\n"
     ]
    }
   ],
   "source": [
    "%time lr.fit(mnist.X_train, mnist.y_train)"
   ]
  },
  {
   "cell_type": "code",
   "execution_count": 30,
   "metadata": {},
   "outputs": [
    {
     "data": {
      "text/plain": [
       "0.9006"
      ]
     },
     "execution_count": 30,
     "metadata": {},
     "output_type": "execute_result"
    }
   ],
   "source": [
    "labels = lr.predict(mnist.X_test)\n",
    "accuracy_scorev2(mnist.y_test, labels)"
   ]
  },
  {
   "cell_type": "code",
   "execution_count": 218,
   "metadata": {},
   "outputs": [
    {
     "data": {
      "text/plain": [
       "array([[-0.00054303, -0.00793664,  0.01667015, ...,  0.00665261,\n",
       "         0.00315865,  0.01207278],\n",
       "       [ 0.00064975,  0.01967466,  0.00646535, ..., -0.01015797,\n",
       "         0.00753966, -0.00198945],\n",
       "       [-0.00535639,  0.00502655,  0.00166523, ..., -0.01672691,\n",
       "        -0.00500027,  0.00400271],\n",
       "       ...,\n",
       "       [-0.00019381, -0.02298552, -0.00076836, ..., -0.00537283,\n",
       "        -0.01550582, -0.01386578],\n",
       "       [-0.00236113, -0.00917253,  0.00284873, ...,  0.00267229,\n",
       "        -0.00838161, -0.0020406 ],\n",
       "       [-0.0102667 ,  0.00211089, -0.01121081, ...,  0.00455561,\n",
       "         0.00518076, -0.00633913]])"
      ]
     },
     "execution_count": 218,
     "metadata": {},
     "output_type": "execute_result"
    }
   ],
   "source": [
    "lr.theta / np.linalg.norm(lr.theta) * 10"
   ]
  },
  {
   "cell_type": "code",
   "execution_count": 216,
   "metadata": {},
   "outputs": [
    {
     "data": {
      "text/plain": [
       "10.306140735747883"
      ]
     },
     "execution_count": 216,
     "metadata": {},
     "output_type": "execute_result"
    }
   ],
   "source": [
    "np.linalg.norm(lr.theta)"
   ]
  },
  {
   "cell_type": "markdown",
   "metadata": {},
   "source": [
    "## Autograd"
   ]
  },
  {
   "cell_type": "code",
   "execution_count": 10,
   "metadata": {},
   "outputs": [],
   "source": [
    "from fault_tolerant_ml.ml.ops.autodiff import Dual\n",
    "from fault_tolerant_ml.ml.loss_fns import cross_entropy_loss, cross_entropy_gradient\n",
    "from fault_tolerant_ml.ml.ops import maths_utils\n",
    "# import math"
   ]
  },
  {
   "cell_type": "code",
   "execution_count": 11,
   "metadata": {},
   "outputs": [],
   "source": [
    "x = Dual(np.array([5, 2]), 1)\n",
    "y = Dual(6)"
   ]
  },
  {
   "cell_type": "markdown",
   "metadata": {},
   "source": [
    "$f = x^{2}y$"
   ]
  },
  {
   "cell_type": "code",
   "execution_count": 14,
   "metadata": {},
   "outputs": [],
   "source": [
    "f = Dual.pow(x, 2) * y"
   ]
  },
  {
   "cell_type": "markdown",
   "metadata": {},
   "source": [
    "$\\frac{\\partial{dy}}{\\partial{dx}} = 2xy = [[2 * 5 * 6 = 60], [2 * 2 * 6 = 24]]$"
   ]
  },
  {
   "cell_type": "code",
   "execution_count": 15,
   "metadata": {},
   "outputs": [
    {
     "data": {
      "text/plain": [
       "array([60, 24])"
      ]
     },
     "execution_count": 15,
     "metadata": {},
     "output_type": "execute_result"
    }
   ],
   "source": [
    "f.derivative"
   ]
  },
  {
   "cell_type": "code",
   "execution_count": 40,
   "metadata": {},
   "outputs": [],
   "source": [
    "h = Dual(np.array([0.1, 0.3, 0.6]), 1)\n",
    "y = Dual(np.array([0, 1, 1]))"
   ]
  },
  {
   "cell_type": "code",
   "execution_count": 41,
   "metadata": {},
   "outputs": [
    {
     "data": {
      "text/plain": [
       "0.6067196479165844"
      ]
     },
     "execution_count": 41,
     "metadata": {},
     "output_type": "execute_result"
    }
   ],
   "source": [
    "cross_entropy_loss(h._val, y._val)"
   ]
  },
  {
   "cell_type": "code",
   "execution_count": 42,
   "metadata": {},
   "outputs": [],
   "source": [
    "# cross_entropy_gradient()"
   ]
  },
  {
   "cell_type": "code",
   "execution_count": 44,
   "metadata": {},
   "outputs": [
    {
     "data": {
      "text/plain": [
       "<fault_tolerant_ml.ml.utils.math.autodiff.Dual at 0x7f1aa0d1af60>"
      ]
     },
     "execution_count": 44,
     "metadata": {},
     "output_type": "execute_result"
    }
   ],
   "source": [
    "f"
   ]
  },
  {
   "cell_type": "code",
   "execution_count": 45,
   "metadata": {},
   "outputs": [],
   "source": [
    "f = -y * Dual.log(h) - (Dual(1) - y) * Dual.log(Dual(1) - h)"
   ]
  },
  {
   "cell_type": "code",
   "execution_count": 49,
   "metadata": {},
   "outputs": [
    {
     "data": {
      "text/plain": [
       "-1.2962962962962965"
      ]
     },
     "execution_count": 49,
     "metadata": {},
     "output_type": "execute_result"
    }
   ],
   "source": [
    "f.mean().derivative"
   ]
  },
  {
   "cell_type": "code",
   "execution_count": 138,
   "metadata": {},
   "outputs": [],
   "source": [
    "from autograd import grad\n",
    "# import autograd.numpy as np"
   ]
  },
  {
   "cell_type": "code",
   "execution_count": 405,
   "metadata": {},
   "outputs": [],
   "source": [
    "n_samples, n_features = mnist.X_train.shape"
   ]
  },
  {
   "cell_type": "code",
   "execution_count": 407,
   "metadata": {},
   "outputs": [],
   "source": [
    "_, n_classes = mnist.y_train.shape"
   ]
  },
  {
   "cell_type": "code",
   "execution_count": 408,
   "metadata": {},
   "outputs": [],
   "source": [
    "weights = np.random.randn(n_features, n_classes)"
   ]
  },
  {
   "cell_type": "code",
   "execution_count": 410,
   "metadata": {},
   "outputs": [
    {
     "data": {
      "text/plain": [
       "(784, 10)"
      ]
     },
     "execution_count": 410,
     "metadata": {},
     "output_type": "execute_result"
    }
   ],
   "source": [
    "weights.shape"
   ]
  },
  {
   "cell_type": "code",
   "execution_count": 411,
   "metadata": {},
   "outputs": [],
   "source": [
    "def sigmoid(s):\n",
    "    return 1. / 1. + np.exp(-s)"
   ]
  },
  {
   "cell_type": "code",
   "execution_count": 412,
   "metadata": {},
   "outputs": [],
   "source": [
    "def loss(weights):\n",
    "    s = np.dot(X, weights)\n",
    "    y_pred = sigmoid(s)\n",
    "    return np.mean(-y * np.log(y_pred) - (1 - y) * np.log(1 - y_pred))    "
   ]
  },
  {
   "cell_type": "code",
   "execution_count": 414,
   "metadata": {},
   "outputs": [],
   "source": [
    "s = np.dot(mnist.X_train, weights)\n",
    "y_pred = sigmoid(s)"
   ]
  },
  {
   "cell_type": "code",
   "execution_count": 415,
   "metadata": {},
   "outputs": [
    {
     "name": "stderr",
     "output_type": "stream",
     "text": [
      "/c/Users/nb304836/Documents/git-repos/fault_tolerant_ml/fault_tolerant_ml/ml/loss_fns.py:5: RuntimeWarning: divide by zero encountered in log\n",
      "  return -y * np.log(h) - (1 - y) * np.log(1 - h)\n",
      "/c/Users/nb304836/Documents/git-repos/fault_tolerant_ml/fault_tolerant_ml/ml/loss_fns.py:5: RuntimeWarning: invalid value encountered in log\n",
      "  return -y * np.log(h) - (1 - y) * np.log(1 - h)\n"
     ]
    }
   ],
   "source": [
    "l = cross_entropy_loss(y_pred, mnist.y_train)"
   ]
  },
  {
   "cell_type": "code",
   "execution_count": 367,
   "metadata": {},
   "outputs": [
    {
     "data": {
      "text/plain": [
       "array([[-0.41861879],\n",
       "       [ 0.36414266],\n",
       "       [-0.22397139]])"
      ]
     },
     "execution_count": 367,
     "metadata": {},
     "output_type": "execute_result"
    }
   ],
   "source": [
    "grad_fn(weights)"
   ]
  },
  {
   "cell_type": "code",
   "execution_count": 374,
   "metadata": {},
   "outputs": [],
   "source": [
    "losses =[]\n",
    "for i in range(100):\n",
    "    l = loss(weights)\n",
    "    weights -= grad_fn(weights) * 0.01\n",
    "    losses.append(l)"
   ]
  },
  {
   "cell_type": "code",
   "execution_count": 369,
   "metadata": {},
   "outputs": [],
   "source": [
    "import matplotlib.pyplot as plt"
   ]
  },
  {
   "cell_type": "code",
   "execution_count": 471,
   "metadata": {},
   "outputs": [
    {
     "data": {
      "text/plain": [
       "(1,)"
      ]
     },
     "execution_count": 471,
     "metadata": {},
     "output_type": "execute_result"
    }
   ],
   "source": [
    "() + (1, )"
   ]
  },
  {
   "cell_type": "code",
   "execution_count": 472,
   "metadata": {},
   "outputs": [
    {
     "name": "stdout",
     "output_type": "stream",
     "text": [
      "My arguments are: Nairobi, Accra\n",
      "Cities I love are Nairobi and Accra\n"
     ]
    }
   ],
   "source": [
    "def decorator_with_arguments(function):\n",
    "    def wrapper_accepting_arguments(arg1, arg2):\n",
    "        print(\"My arguments are: {0}, {1}\".format(arg1,arg2))\n",
    "        function(arg1, arg2)\n",
    "    return wrapper_accepting_arguments\n",
    "\n",
    "\n",
    "@decorator_with_arguments\n",
    "def cities(city_one, city_two):\n",
    "    print(\"Cities I love are {0} and {1}\".format(city_one, city_two))\n",
    "\n",
    "cities(\"Nairobi\", \"Accra\")"
   ]
  },
  {
   "cell_type": "code",
   "execution_count": 474,
   "metadata": {},
   "outputs": [],
   "source": [
    "def ftml_train(function):\n",
    "    def wrapper():\n",
    "        print(\"Running if statement\")\n",
    "        action = True\n",
    "        if action:\n",
    "            function()\n",
    "    return wrapper"
   ]
  },
  {
   "cell_type": "code",
   "execution_count": 475,
   "metadata": {},
   "outputs": [],
   "source": [
    "@ftml_train\n",
    "def train_iteration():\n",
    "    theta = np.random.randn(5, 2)"
   ]
  },
  {
   "cell_type": "code",
   "execution_count": 477,
   "metadata": {},
   "outputs": [
    {
     "name": "stdout",
     "output_type": "stream",
     "text": [
      "Running if statement\n",
      "Running if statement\n"
     ]
    }
   ],
   "source": [
    "i = 0\n",
    "while i < 2:\n",
    "    train_iteration()\n",
    "    i += 1"
   ]
  },
  {
   "cell_type": "code",
   "execution_count": 482,
   "metadata": {},
   "outputs": [],
   "source": [
    "X = np.random.randint(0, 10, size=(3, 3))"
   ]
  },
  {
   "cell_type": "code",
   "execution_count": 483,
   "metadata": {},
   "outputs": [
    {
     "data": {
      "text/plain": [
       "array([[8, 1, 9],\n",
       "       [8, 6, 3],\n",
       "       [9, 4, 5]])"
      ]
     },
     "execution_count": 483,
     "metadata": {},
     "output_type": "execute_result"
    }
   ],
   "source": [
    "X"
   ]
  },
  {
   "cell_type": "code",
   "execution_count": 487,
   "metadata": {},
   "outputs": [],
   "source": [
    "msg = X.tostring()\n",
    "dtype = X.dtype\n",
    "shape = str(X.shape)"
   ]
  },
  {
   "cell_type": "code",
   "execution_count": 493,
   "metadata": {},
   "outputs": [],
   "source": [
    "def concat(data):\n",
    "    \n",
    "    x = [b\"\", b\"WORK\"]\n",
    "    x.extend(data)\n",
    "    return x"
   ]
  },
  {
   "cell_type": "code",
   "execution_count": 494,
   "metadata": {},
   "outputs": [
    {
     "data": {
      "text/plain": [
       "[b'',\n",
       " b'WORK',\n",
       " b'\\x08\\x00\\x00\\x00\\x00\\x00\\x00\\x00\\x01\\x00\\x00\\x00\\x00\\x00\\x00\\x00\\t\\x00\\x00\\x00\\x00\\x00\\x00\\x00\\x08\\x00\\x00\\x00\\x00\\x00\\x00\\x00\\x06\\x00\\x00\\x00\\x00\\x00\\x00\\x00\\x03\\x00\\x00\\x00\\x00\\x00\\x00\\x00\\t\\x00\\x00\\x00\\x00\\x00\\x00\\x00\\x04\\x00\\x00\\x00\\x00\\x00\\x00\\x00\\x05\\x00\\x00\\x00\\x00\\x00\\x00\\x00',\n",
       " dtype('int64'),\n",
       " '(3, 3)']"
      ]
     },
     "execution_count": 494,
     "metadata": {},
     "output_type": "execute_result"
    }
   ],
   "source": [
    "x = concat([msg, dtype, shape])\n",
    "x"
   ]
  },
  {
   "cell_type": "code",
   "execution_count": 495,
   "metadata": {},
   "outputs": [
    {
     "name": "stdout",
     "output_type": "stream",
     "text": [
      "defining the decorator\n",
      "doing decoration, 'abc'\n"
     ]
    }
   ],
   "source": [
    "def replacing_decorator_with_args(arg):\n",
    "    print(\"defining the decorator\")\n",
    "    def _decorator(function):\n",
    "        # in this inner function, arg is available too\n",
    "        print(\"doing decoration, %r\" % arg)\n",
    "        def _wrapper(*args, **kwargs):\n",
    "            print(\"inside wrapper, %r %r\" % (args, kwargs))\n",
    "            return function(*args, **kwargs)\n",
    "        return _wrapper\n",
    "    return _decorator\n",
    "\n",
    "@replacing_decorator_with_args(\"abc\")\n",
    "def function(*args, **kwargs):\n",
    "    print(\"inside function, %r %r\" % (args, kwargs))\n",
    "    return 14"
   ]
  },
  {
   "cell_type": "code",
   "execution_count": 496,
   "metadata": {},
   "outputs": [
    {
     "name": "stdout",
     "output_type": "stream",
     "text": [
      "inside wrapper, (11, 12) {}\n",
      "inside function, (11, 12) {}\n"
     ]
    },
    {
     "data": {
      "text/plain": [
       "14"
      ]
     },
     "execution_count": 496,
     "metadata": {},
     "output_type": "execute_result"
    }
   ],
   "source": [
    "function(11, 12)"
   ]
  },
  {
   "cell_type": "code",
   "execution_count": 21,
   "metadata": {},
   "outputs": [],
   "source": [
    "interval = 100\n",
    "\n",
    "theta = np.random.randn(784, 10)\n",
    "\n",
    "min_theta_val = theta.min() + 1e-8\n",
    "max_theta_val = theta.max() + 1e-8\n",
    "bins = np.linspace(min_theta_val, max_theta_val, interval)\n",
    "theta_bins = np.digitize(theta, bins).astype(np.int8)\n",
    "\n",
    "struct_field_names = [\"min_val\", \"max_val\", \"interval\", \"bins\"]\n",
    "struct_field_types = [np.float32, np.float32, np.int32, 'b']\n",
    "struct_field_shapes = [1, 1, 1, (theta.shape)]\n",
    "\n",
    "msg = np.zeros(1, dtype=(list(zip(struct_field_names, struct_field_types, struct_field_shapes))))\n",
    "msg[0] = (min_theta_val, max_theta_val, interval, theta_bins)"
   ]
  },
  {
   "cell_type": "code",
   "execution_count": 22,
   "metadata": {},
   "outputs": [
    {
     "data": {
      "text/plain": [
       "7852"
      ]
     },
     "execution_count": 22,
     "metadata": {},
     "output_type": "execute_result"
    }
   ],
   "source": [
    "msg.nbytes"
   ]
  },
  {
   "cell_type": "code",
   "execution_count": 23,
   "metadata": {},
   "outputs": [
    {
     "data": {
      "text/plain": [
       "62720"
      ]
     },
     "execution_count": 23,
     "metadata": {},
     "output_type": "execute_result"
    }
   ],
   "source": [
    "theta.nbytes"
   ]
  },
  {
   "cell_type": "code",
   "execution_count": 24,
   "metadata": {},
   "outputs": [
    {
     "data": {
      "text/plain": [
       "array([-3.41736523, -3.33360606, -3.24984688, -3.16608771, -3.08232854,\n",
       "       -2.99856936, -2.91481019, -2.83105102, -2.74729184, -2.66353267,\n",
       "       -2.57977349, -2.49601432, -2.41225515, -2.32849597, -2.2447368 ,\n",
       "       -2.16097763, -2.07721845, -1.99345928, -1.90970011, -1.82594093,\n",
       "       -1.74218176, -1.65842258, -1.57466341, -1.49090424, -1.40714506,\n",
       "       -1.32338589, -1.23962672, -1.15586754, -1.07210837, -0.9883492 ,\n",
       "       -0.90459002, -0.82083085, -0.73707168, -0.6533125 , -0.56955333,\n",
       "       -0.48579415, -0.40203498, -0.31827581, -0.23451663, -0.15075746,\n",
       "       -0.06699829,  0.01676089,  0.10052006,  0.18427923,  0.26803841,\n",
       "        0.35179758,  0.43555676,  0.51931593,  0.6030751 ,  0.68683428,\n",
       "        0.77059345,  0.85435262,  0.9381118 ,  1.02187097,  1.10563014,\n",
       "        1.18938932,  1.27314849,  1.35690766,  1.44066684,  1.52442601,\n",
       "        1.60818519,  1.69194436,  1.77570353,  1.85946271,  1.94322188,\n",
       "        2.02698105,  2.11074023,  2.1944994 ,  2.27825857,  2.36201775,\n",
       "        2.44577692,  2.5295361 ,  2.61329527,  2.69705444,  2.78081362,\n",
       "        2.86457279,  2.94833196,  3.03209114,  3.11585031,  3.19960948,\n",
       "        3.28336866,  3.36712783,  3.450887  ,  3.53464618,  3.61840535,\n",
       "        3.70216453,  3.7859237 ,  3.86968287,  3.95344205,  4.03720122,\n",
       "        4.12096039,  4.20471957,  4.28847874,  4.37223791,  4.45599709,\n",
       "        4.53975626,  4.62351544,  4.70727461,  4.79103378,  4.87479296])"
      ]
     },
     "execution_count": 24,
     "metadata": {},
     "output_type": "execute_result"
    }
   ],
   "source": [
    "bins"
   ]
  },
  {
   "cell_type": "code",
   "execution_count": 23,
   "metadata": {},
   "outputs": [],
   "source": [
    "from fault_tolerant_ml.ml.ops.tensor import Tensor"
   ]
  },
  {
   "cell_type": "code",
   "execution_count": 24,
   "metadata": {},
   "outputs": [],
   "source": [
    "x = Tensor(np.random.randint(0, 100, size=(10, 10)), requires_grad=True)"
   ]
  },
  {
   "cell_type": "code",
   "execution_count": 25,
   "metadata": {},
   "outputs": [
    {
     "data": {
      "text/plain": [
       "[Dependency(tensor=Tensor([[25 60 99 22 68 54 40 21 90  0]\n",
       "  [40  3 23 75  2 26  4 50 48 46]\n",
       "  [97 64 77  2 99 80 65 68 67 81]\n",
       "  [ 5 44 17 51 99 27  7 31  6 99]\n",
       "  [83 13 65 73 92 13 22 62 75 70]\n",
       "  [27 27 10 66 42  7 67 12  6 66]\n",
       "  [65  4 94 36 73  9 33 56 22 20]\n",
       "  [ 2 62 36 72 23  4 19 43 20 31]\n",
       "  [52 84 47  0 59 31 98 60 74  4]\n",
       "  [44 94  2 34 25 54 88 93 79 70]], requires_grad=True), grad_fn=<function Tensor.sum.<locals>.grad_fn at 0x7f230c745f28>)]"
      ]
     },
     "execution_count": 25,
     "metadata": {},
     "output_type": "execute_result"
    }
   ],
   "source": [
    "x.sum().depends_on"
   ]
  },
  {
   "cell_type": "code",
   "execution_count": 26,
   "metadata": {},
   "outputs": [
    {
     "data": {
      "text/plain": [
       "Tensor(4596, requires_grad=True)"
      ]
     },
     "execution_count": 26,
     "metadata": {},
     "output_type": "execute_result"
    }
   ],
   "source": [
    "x.sum()"
   ]
  },
  {
   "cell_type": "code",
   "execution_count": 27,
   "metadata": {},
   "outputs": [
    {
     "data": {
      "text/plain": [
       "4596"
      ]
     },
     "execution_count": 27,
     "metadata": {},
     "output_type": "execute_result"
    }
   ],
   "source": [
    "x.data.sum()"
   ]
  },
  {
   "cell_type": "code",
   "execution_count": 5,
   "metadata": {},
   "outputs": [],
   "source": [
    "# X = np.random.randn(1000, 10).astype(np.float32)\n",
    "# y = np.random.randint(0, 2, size=(1000, 5)).astype(np.float32)\n",
    "X = mnist.X_train.astype(np.float32)\n",
    "y = mnist.y_train.astype(np.float32)"
   ]
  },
  {
   "cell_type": "code",
   "execution_count": 6,
   "metadata": {},
   "outputs": [],
   "source": [
    "weights = np.random.randn(784, 10).astype(np.float32) * 0.01\n",
    "# weights = np.random.randn(10, 5).astype(np.float32)"
   ]
  },
  {
   "cell_type": "code",
   "execution_count": 9,
   "metadata": {},
   "outputs": [
    {
     "data": {
      "text/plain": [
       "array([[1.1211923 , 1.0231351 , 1.0078508 , ..., 0.966235  , 0.8904041 ,\n",
       "        1.0779842 ],\n",
       "       [1.1952716 , 1.0903159 , 0.7793827 , ..., 1.0571917 , 1.0319737 ,\n",
       "        0.8742827 ],\n",
       "       [1.0754937 , 1.0401366 , 0.90286934, ..., 0.9723414 , 0.9641926 ,\n",
       "        0.94502026],\n",
       "       ...,\n",
       "       [1.1639019 , 1.0075498 , 0.9716273 , ..., 0.9846551 , 0.9944289 ,\n",
       "        1.0226244 ],\n",
       "       [1.1476663 , 1.0679898 , 0.87270904, ..., 0.9805132 , 0.9288363 ,\n",
       "        0.9062653 ],\n",
       "       [1.1063552 , 1.1387601 , 0.8986623 , ..., 1.1388775 , 1.1276219 ,\n",
       "        0.8772483 ]], dtype=float32)"
      ]
     },
     "execution_count": 9,
     "metadata": {},
     "output_type": "execute_result"
    }
   ],
   "source": [
    "np.exp(np.dot(X, weights))"
   ]
  },
  {
   "cell_type": "code",
   "execution_count": 208,
   "metadata": {},
   "outputs": [],
   "source": [
    "s = np.dot(X, weights)"
   ]
  },
  {
   "cell_type": "code",
   "execution_count": 209,
   "metadata": {},
   "outputs": [],
   "source": [
    "y_pred = 1.0 / (1.0 + np.exp(-s)) "
   ]
  },
  {
   "cell_type": "code",
   "execution_count": 210,
   "metadata": {},
   "outputs": [],
   "source": [
    "e = y - y_pred"
   ]
  },
  {
   "cell_type": "code",
   "execution_count": 211,
   "metadata": {},
   "outputs": [
    {
     "data": {
      "text/plain": [
       "146506.12"
      ]
     },
     "execution_count": 211,
     "metadata": {},
     "output_type": "execute_result"
    }
   ],
   "source": [
    "np.sum(e**2)"
   ]
  },
  {
   "cell_type": "code",
   "execution_count": null,
   "metadata": {},
   "outputs": [],
   "source": []
  },
  {
   "cell_type": "code",
   "execution_count": 212,
   "metadata": {},
   "outputs": [
    {
     "data": {
      "text/plain": [
       "0"
      ]
     },
     "execution_count": 212,
     "metadata": {},
     "output_type": "execute_result"
    }
   ],
   "source": [
    "((1 - y_pred) == 0).sum()"
   ]
  },
  {
   "cell_type": "code",
   "execution_count": 101,
   "metadata": {},
   "outputs": [
    {
     "data": {
      "text/plain": [
       "0.6927005652579574"
      ]
     },
     "execution_count": 101,
     "metadata": {},
     "output_type": "execute_result"
    }
   ],
   "source": [
    "np.mean(-y * np.log(y_pred) - (1 - y) * np.log(1 - y_pred))"
   ]
  },
  {
   "cell_type": "markdown",
   "metadata": {},
   "source": [
    "## Gradient matmul different implementations"
   ]
  },
  {
   "cell_type": "code",
   "execution_count": 40,
   "metadata": {},
   "outputs": [
    {
     "name": "stdout",
     "output_type": "stream",
     "text": [
      "CPU times: user 0 ns, sys: 0 ns, total: 0 ns\n",
      "Wall time: 140 µs\n"
     ]
    },
    {
     "data": {
      "text/plain": [
       "array([[-0.09729685, -0.13615477, -0.05244835,  0.09696345, -0.20153353],\n",
       "       [-0.06939318, -0.04232492,  0.14482671,  0.0109492 , -0.12926186],\n",
       "       [-0.01001322, -0.11077823,  0.12582394,  0.00358664, -0.07273775],\n",
       "       [ 0.06426514,  0.05376099,  0.01513522,  0.00473866,  0.08187682],\n",
       "       [-0.12891268, -0.03378609,  0.01343736, -0.07330828, -0.11519925],\n",
       "       [-0.00456806, -0.07560681,  0.20235442,  0.08535222,  0.00973832],\n",
       "       [-0.0708738 ,  0.09817479,  0.17513035,  0.19199829,  0.01914438],\n",
       "       [ 0.30201302, -0.10360824,  0.06912376,  0.20755311, -0.07494355],\n",
       "       [ 0.07494793,  0.02619907,  0.03669352, -0.00785039, -0.06582595],\n",
       "       [ 0.05846911, -0.21721211, -0.07979634, -0.06444631,  0.09881642]])"
      ]
     },
     "execution_count": 40,
     "metadata": {},
     "output_type": "execute_result"
    }
   ],
   "source": [
    "%time (1 / X.shape[0] * np.dot(X.T, e))"
   ]
  },
  {
   "cell_type": "code",
   "execution_count": 41,
   "metadata": {},
   "outputs": [
    {
     "name": "stdout",
     "output_type": "stream",
     "text": [
      "CPU times: user 0 ns, sys: 0 ns, total: 0 ns\n",
      "Wall time: 592 µs\n"
     ]
    }
   ],
   "source": [
    "%%time\n",
    "d_theta = np.zeros_like(weights)\n",
    "\n",
    "for k in np.arange(y.shape[1]):\n",
    "    # d_theta[:, k] = \n",
    "    d_theta[:, k] = np.mean(X * e[:, np.newaxis, k], axis=0)"
   ]
  },
  {
   "cell_type": "code",
   "execution_count": 66,
   "metadata": {},
   "outputs": [
    {
     "data": {
      "text/plain": [
       "array([[-0.09729685, -0.13615477, -0.05244835,  0.09696345, -0.20153353],\n",
       "       [-0.06939318, -0.04232492,  0.14482671,  0.0109492 , -0.12926186],\n",
       "       [-0.01001322, -0.11077823,  0.12582394,  0.00358664, -0.07273775],\n",
       "       [ 0.06426514,  0.05376099,  0.01513522,  0.00473866,  0.08187682],\n",
       "       [-0.12891268, -0.03378609,  0.01343736, -0.07330828, -0.11519925],\n",
       "       [-0.00456806, -0.07560681,  0.20235442,  0.08535222,  0.00973832],\n",
       "       [-0.0708738 ,  0.09817479,  0.17513035,  0.19199829,  0.01914438],\n",
       "       [ 0.30201302, -0.10360824,  0.06912376,  0.20755311, -0.07494355],\n",
       "       [ 0.07494793,  0.02619907,  0.03669352, -0.00785039, -0.06582595],\n",
       "       [ 0.05846911, -0.21721211, -0.07979634, -0.06444631,  0.09881642]])"
      ]
     },
     "execution_count": 66,
     "metadata": {},
     "output_type": "execute_result"
    }
   ],
   "source": [
    "d_theta"
   ]
  },
  {
   "cell_type": "markdown",
   "metadata": {},
   "source": [
    "## Fashion MNIST test"
   ]
  },
  {
   "cell_type": "code",
   "execution_count": 4,
   "metadata": {},
   "outputs": [
    {
     "name": "stdout",
     "output_type": "stream",
     "text": [
      "/Users/sashlinreddy/Documents/repos/fault-tolerant-ml/notebooks\n"
     ]
    }
   ],
   "source": [
    "!pwd"
   ]
  },
  {
   "cell_type": "code",
   "execution_count": 14,
   "metadata": {},
   "outputs": [],
   "source": [
    "data_dir = \"/Users/sashlinreddy/Documents/repos/fault-tolerant-ml/data/fashion-mnist\"\n",
    "filepaths = {\n",
    "    \"train\": {\n",
    "        \"images\": os.path.join(data_dir, \"train-images-idx3-ubyte.gz\"), \"labels\": os.path.join(data_dir, \"train-labels-idx1-ubyte.gz\")\n",
    "    },\n",
    "    \"test\": {\n",
    "        \"images\": os.path.join(data_dir, \"t10k-images-idx3-ubyte.gz\"), \"labels\": os.path.join(data_dir, \"t10k-labels-idx1-ubyte.gz\")\n",
    "    }\n",
    "}"
   ]
  },
  {
   "cell_type": "code",
   "execution_count": 15,
   "metadata": {},
   "outputs": [],
   "source": [
    "fashion_mnist = MNist(filepaths, fashion=True)"
   ]
  },
  {
   "cell_type": "code",
   "execution_count": 16,
   "metadata": {},
   "outputs": [
    {
     "data": {
      "image/png": "[encoded data removed]",
      "text/plain": [
       "<Figure size 720x720 with 25 Axes>"
      ]
     },
     "metadata": {},
     "output_type": "display_data"
    }
   ],
   "source": [
    "plt.figure(figsize=(10,10))\n",
    "labels = np.argmax(fashion_mnist.y_train, axis=1)\n",
    "for i in range(25):\n",
    "    plt.subplot(5,5,i+1)\n",
    "    plt.xticks([])\n",
    "    plt.yticks([])\n",
    "    plt.grid(False)\n",
    "    plt.imshow(fashion_mnist.X_train[i].reshape(28, 28), cmap=plt.cm.binary)\n",
    "    plt.xlabel(fashion_mnist.class_names[labels[i]])\n",
    "plt.show()"
   ]
  },
  {
   "cell_type": "markdown",
   "metadata": {},
   "source": [
    "## Mine log files"
   ]
  },
  {
   "cell_type": "code",
   "execution_count": 101,
   "metadata": {},
   "outputs": [
    {
     "data": {
      "text/plain": [
       "'../logs/*/*logfile.*log'"
      ]
     },
     "execution_count": 101,
     "metadata": {},
     "output_type": "execute_result"
    }
   ],
   "source": [
    "logd = \"../logs/\"\n",
    "os.path.join(logd, \"*/*logfile.*log\")"
   ]
  },
  {
   "cell_type": "code",
   "execution_count": 103,
   "metadata": {},
   "outputs": [
    {
     "name": "stdout",
     "output_type": "stream",
     "text": [
      "time=99.813819, acc=89.0800\n",
      "Encoded run name: ['7', '1', '1', '0', '1', '0', '0.0', '100']\n",
      "time=95.492827, acc=90.5400\n",
      "Encoded run name: ['7', '1', '1', '0', '10', '0', '0.0', '100']\n",
      "time=72.758503, acc=90.5200\n",
      "time=75.868868, acc=85.6200\n"
     ]
    }
   ],
   "source": [
    "import glob\n",
    "\n",
    "files = glob.glob(\"../logs/*/*logfile.*log\")\n",
    "\n",
    "results = pd.DataFrame(columns=[\"N_WORKERS\", \"COMM_PERIOD\", \"TIME\", \"ACCURACY\"])\n",
    "\n",
    "for i, filename in enumerate(files):\n",
    "    with open(filename, \"r\") as f:\n",
    "        logfile = f.read()\n",
    "\n",
    "        enc_run_name_idx = logfile.find(\"Starting run: \")\n",
    "        if enc_run_name_idx >= 0:\n",
    "            enc_run_name_idx += 14\n",
    "            enc_run_name = re.match(\"(.*?)\\n\",logfile[enc_run_name_idx:100]).group()[:-1]\n",
    "            enc_list = enc_run_name.split(\"-\")\n",
    "            print(f\"Encoded run name: {enc_list}\")\n",
    "            results.loc[i, \"N_WORKERS\"] = enc_list[0]\n",
    "            results.loc[i, \"COMM_PERIOD\"] = enc_list[4]\n",
    "        time_idx = logfile.find(\"iterations is\") + 14\n",
    "        # time_sec = logfile[time_idx:time_idx + 9]\n",
    "        time_sec = re.match(\"(.*?)s\",logfile[time_idx:time_idx + 15]).group()[:-1]\n",
    "        results.loc[i, \"TIME\"] = time_sec\n",
    "\n",
    "        acc_idx = logfile.find(\"Accuracy=\") + 9\n",
    "        accuracy = logfile[acc_idx:acc_idx + 7]\n",
    "        results.loc[i, \"ACCURACY\"] = accuracy\n",
    "\n",
    "        print(f\"time={time_sec}, acc={accuracy}\")"
   ]
  },
  {
   "cell_type": "code",
   "execution_count": 100,
   "metadata": {},
   "outputs": [
    {
     "data": {
      "text/html": [
       "<div>\n",
       "<style scoped>\n",
       "    .dataframe tbody tr th:only-of-type {\n",
       "        vertical-align: middle;\n",
       "    }\n",
       "\n",
       "    .dataframe tbody tr th {\n",
       "        vertical-align: top;\n",
       "    }\n",
       "\n",
       "    .dataframe thead th {\n",
       "        text-align: right;\n",
       "    }\n",
       "</style>\n",
       "<table border=\"1\" class=\"dataframe\">\n",
       "  <thead>\n",
       "    <tr style=\"text-align: right;\">\n",
       "      <th></th>\n",
       "      <th>N_WORKERS</th>\n",
       "      <th>COMM_PERIOD</th>\n",
       "      <th>TIME</th>\n",
       "      <th>ACCURACY</th>\n",
       "    </tr>\n",
       "  </thead>\n",
       "  <tbody>\n",
       "    <tr>\n",
       "      <th>0</th>\n",
       "      <td>NaN</td>\n",
       "      <td>NaN</td>\n",
       "      <td>99.813819</td>\n",
       "      <td>89.0800</td>\n",
       "    </tr>\n",
       "    <tr>\n",
       "      <th>1</th>\n",
       "      <td>7</td>\n",
       "      <td>1</td>\n",
       "      <td>95.492827</td>\n",
       "      <td>90.5400</td>\n",
       "    </tr>\n",
       "    <tr>\n",
       "      <th>2</th>\n",
       "      <td>7</td>\n",
       "      <td>10</td>\n",
       "      <td>72.758503</td>\n",
       "      <td>90.5200</td>\n",
       "    </tr>\n",
       "    <tr>\n",
       "      <th>3</th>\n",
       "      <td>NaN</td>\n",
       "      <td>NaN</td>\n",
       "      <td>75.868868</td>\n",
       "      <td>85.6200</td>\n",
       "    </tr>\n",
       "  </tbody>\n",
       "</table>\n",
       "</div>"
      ],
      "text/plain": [
       "  N_WORKERS COMM_PERIOD       TIME ACCURACY\n",
       "0       NaN         NaN  99.813819  89.0800\n",
       "1         7           1  95.492827  90.5400\n",
       "2         7          10  72.758503  90.5200\n",
       "3       NaN         NaN  75.868868  85.6200"
      ]
     },
     "execution_count": 100,
     "metadata": {},
     "output_type": "execute_result"
    }
   ],
   "source": [
    "results"
   ]
  },
  {
   "cell_type": "code",
   "execution_count": null,
   "metadata": {},
   "outputs": [],
   "source": []
  }
 ],
 "metadata": {
  "kernelspec": {
   "display_name": "Python [conda env:ftml]",
   "language": "python",
   "name": "conda-env-ftml-py"
  },
  "language_info": {
   "codemirror_mode": {
    "name": "ipython",
    "version": 3
   },
   "file_extension": ".py",
   "mimetype": "text/x-python",
   "name": "python",
   "nbconvert_exporter": "python",
   "pygments_lexer": "ipython3",
   "version": "3.7.3"
  }
 },
 "nbformat": 4,
 "nbformat_minor": 2
}
