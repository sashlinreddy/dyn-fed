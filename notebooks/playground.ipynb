{
 "cells": [
  {
   "cell_type": "code",
   "execution_count": 25,
   "metadata": {},
   "outputs": [],
   "source": [
    "import numpy as np\n",
    "import os\n",
    "import matplotlib.pyplot as plt\n",
    "import pandas as pd\n",
    "\n",
    "from fault_tolerant_ml.data import OccupancyData\n",
    "from fault_tolerant_ml.data import MNist\n",
    "from fault_tolerant_ml.ml.optimizer import SGDOptimizer\n",
    "\n",
    "plt.style.use(\"ggplot\")\n",
    "\n",
    "%matplotlib inline\n",
    "%reload_ext autoreload\n",
    "%autoreload 2"
   ]
  },
  {
   "cell_type": "code",
   "execution_count": 7,
   "metadata": {},
   "outputs": [],
   "source": [
    "data = OccupancyData(filepath=\"/c/Users/nb304836/Documents/git-repos/large_scale_ml/data/occupancy_data/datatraining.txt\")"
   ]
  },
  {
   "cell_type": "code",
   "execution_count": 8,
   "metadata": {},
   "outputs": [
    {
     "data": {
      "text/plain": [
       "(12828, 5)"
      ]
     },
     "execution_count": 8,
     "metadata": {},
     "output_type": "execute_result"
    }
   ],
   "source": [
    "data.X.shape"
   ]
  },
  {
   "cell_type": "code",
   "execution_count": 9,
   "metadata": {},
   "outputs": [],
   "source": [
    "data.transform()"
   ]
  },
  {
   "cell_type": "code",
   "execution_count": 11,
   "metadata": {},
   "outputs": [],
   "source": [
    "theta = np.random.randn(5, 1)\n",
    "min_theta_val = theta.min() + 1e-8\n",
    "max_theta_val = theta.max() + 1e-8\n",
    "interval = 8\n",
    "bins = np.linspace(min_theta_val, max_theta_val, interval)\n",
    "theta_bins = np.digitize(theta, bins).astype(np.int8)\n",
    "\n",
    "struct_field_names = [\"min_val\", \"max_val\", \"interval\", \"bins\"]\n",
    "struct_field_types = [np.float32, np.float32, np.int32, 'b']\n",
    "struct_field_shapes = [1, 1, 1, (theta.shape)]"
   ]
  },
  {
   "cell_type": "code",
   "execution_count": 12,
   "metadata": {},
   "outputs": [],
   "source": [
    "data = np.zeros(1, dtype=(list(zip(struct_field_names, struct_field_types, struct_field_shapes))))"
   ]
  },
  {
   "cell_type": "code",
   "execution_count": 13,
   "metadata": {},
   "outputs": [],
   "source": [
    "data[0] = (min_theta_val, max_theta_val, interval, theta_bins)    "
   ]
  },
  {
   "cell_type": "code",
   "execution_count": 14,
   "metadata": {},
   "outputs": [
    {
     "data": {
      "text/plain": [
       "array([(-0.9147906, 0.4296553, 8, [[4], [2], [7], [0], [3]])],\n",
       "      dtype=[('min_val', '<f4'), ('max_val', '<f4'), ('interval', '<i4'), ('bins', 'i1', (5, 1))])"
      ]
     },
     "execution_count": 14,
     "metadata": {},
     "output_type": "execute_result"
    }
   ],
   "source": [
    "data"
   ]
  },
  {
   "cell_type": "markdown",
   "metadata": {},
   "source": [
    "## Mnist Logistic regression"
   ]
  },
  {
   "cell_type": "code",
   "execution_count": 448,
   "metadata": {},
   "outputs": [],
   "source": [
    "data_dir = \"/c/Users/nb304836/Documents/git-repos/fault_tolerant_ml/data/\"\n",
    "filepaths = {\n",
    "    \"train\": {\n",
    "        \"images\": os.path.join(data_dir, \"train-images-idx3-ubyte.gz\"), \"labels\": os.path.join(data_dir, \"train-labels-idx1-ubyte.gz\")\n",
    "    },\n",
    "    \"test\": {\n",
    "        \"images\": os.path.join(data_dir, \"t10k-images-idx3-ubyte.gz\"), \"labels\": os.path.join(data_dir, \"t10k-labels-idx1-ubyte.gz\")\n",
    "    }\n",
    "}"
   ]
  },
  {
   "cell_type": "code",
   "execution_count": 449,
   "metadata": {},
   "outputs": [],
   "source": [
    "mnist = MNist(filepaths)"
   ]
  },
  {
   "cell_type": "code",
   "execution_count": 450,
   "metadata": {},
   "outputs": [
    {
     "data": {
      "image/png": "[encoded data removed]",
      "text/plain": [
       "<Figure size 720x720 with 25 Axes>"
      ]
     },
     "metadata": {},
     "output_type": "display_data"
    }
   ],
   "source": [
    "plt.figure(figsize=(10,10))\n",
    "labels = np.argmax(mnist.y_train, axis=1)\n",
    "for i in range(25):\n",
    "    plt.subplot(5,5,i+1)\n",
    "    plt.xticks([])\n",
    "    plt.yticks([])\n",
    "    plt.grid(False)\n",
    "    plt.imshow(mnist.X_train[i].reshape(28, 28), cmap=plt.cm.binary)\n",
    "    plt.xlabel(mnist.class_names[labels[i]])\n",
    "plt.show()"
   ]
  },
  {
   "cell_type": "code",
   "execution_count": 25,
   "metadata": {},
   "outputs": [],
   "source": [
    "from fault_tolerant_ml.tools import WatchDog\n",
    "from fault_tolerant_ml.tools.watch_dog import WorkerStates"
   ]
  },
  {
   "cell_type": "code",
   "execution_count": 32,
   "metadata": {},
   "outputs": [],
   "source": [
    "worker_states = WorkerStates()"
   ]
  },
  {
   "cell_type": "code",
   "execution_count": 33,
   "metadata": {},
   "outputs": [],
   "source": [
    "worker_states.add_worker(b\"worker-1\")"
   ]
  },
  {
   "cell_type": "code",
   "execution_count": 35,
   "metadata": {},
   "outputs": [
    {
     "data": {
      "text/plain": [
       "{b'worker-1': <WorkerState identity=worker-1>}"
      ]
     },
     "execution_count": 35,
     "metadata": {},
     "output_type": "execute_result"
    }
   ],
   "source": [
    "worker_states()"
   ]
  },
  {
   "cell_type": "code",
   "execution_count": 36,
   "metadata": {},
   "outputs": [],
   "source": [
    "watch_dog = WatchDog()"
   ]
  },
  {
   "cell_type": "code",
   "execution_count": 37,
   "metadata": {},
   "outputs": [
    {
     "data": {
      "text/plain": [
       "0"
      ]
     },
     "execution_count": 37,
     "metadata": {},
     "output_type": "execute_result"
    }
   ],
   "source": [
    "watch_dog.n_alive"
   ]
  },
  {
   "cell_type": "code",
   "execution_count": 451,
   "metadata": {},
   "outputs": [],
   "source": [
    "from fault_tolerant_ml.ml.loss_fns import cross_entropy_loss, cross_entropy_gradient\n",
    "from fault_tolerant_ml.ml.linear_model import LogisticRegression"
   ]
  },
  {
   "cell_type": "code",
   "execution_count": 458,
   "metadata": {},
   "outputs": [],
   "source": [
    "optimizer = SGDOptimizer(cross_entropy_loss, cross_entropy_gradient, learning_rate=0.9)"
   ]
  },
  {
   "cell_type": "code",
   "execution_count": 459,
   "metadata": {},
   "outputs": [],
   "source": [
    "lr = LogisticRegression(optimizer=optimizer, max_iter=75)"
   ]
  },
  {
   "cell_type": "code",
   "execution_count": 460,
   "metadata": {},
   "outputs": [
    {
     "name": "stdout",
     "output_type": "stream",
     "text": [
      "Iteration=0, delta=0.42986221568153327, loss=inf\n",
      "Iteration=1, delta=0.08888491445854863, loss=1.4394984503884933\n",
      "Iteration=2, delta=0.07220820442036535, loss=1.1834059239349592\n",
      "Iteration=3, delta=0.05703214934004586, loss=1.0278727048715093\n",
      "Iteration=4, delta=0.05246974813037997, loss=0.9315479349298509\n",
      "Iteration=5, delta=0.046731211671285244, loss=0.8612265631344751\n",
      "Iteration=6, delta=0.0429493594139998, loss=0.8042451363964818\n",
      "Iteration=7, delta=0.04112036268642616, loss=0.756016766908177\n",
      "Iteration=8, delta=0.03955017987998111, loss=0.7146344284181327\n",
      "Iteration=9, delta=0.0379850073809076, loss=0.6788290501875724\n",
      "Iteration=10, delta=0.036392957409543514, loss=0.6476088821983521\n",
      "Iteration=11, delta=0.034785011791138465, loss=0.620188447105567\n",
      "Iteration=12, delta=0.033178289368908764, loss=0.5959419711744182\n",
      "Iteration=13, delta=0.0317277101052732, loss=0.5743664139521982\n",
      "Iteration=14, delta=0.030684118436069552, loss=0.5550548137879286\n",
      "Iteration=15, delta=0.029620710835259967, loss=0.5376765535370404\n",
      "Iteration=16, delta=0.028546669104878464, loss=0.5219616246792953\n",
      "Iteration=17, delta=0.027471336428625093, loss=0.5076878443436932\n",
      "Iteration=18, delta=0.026404084335739153, loss=0.49467062115433846\n",
      "Iteration=19, delta=0.025353268741944435, loss=0.48275501734203174\n",
      "Iteration=20, delta=0.024325737024982308, loss=0.4718098025692595\n",
      "Iteration=21, delta=0.0233269307658035, loss=0.4617230195894915\n",
      "Iteration=22, delta=0.0223609208142721, loss=0.4523986107826555\n",
      "Iteration=23, delta=0.021430345781563664, loss=0.44375379429415857\n",
      "Iteration=24, delta=0.02053656626593714, loss=0.4357169724833687\n",
      "Iteration=25, delta=0.019680050229793578, loss=0.42822601552563144\n",
      "Iteration=26, delta=0.018860749974925595, loss=0.4212268153894735\n",
      "Iteration=27, delta=0.018078303050269806, loss=0.4146720564444827\n",
      "Iteration=28, delta=0.017332065086455684, loss=0.40852018213819496\n",
      "Iteration=29, delta=0.01662108256676409, loss=0.4027345424772466\n",
      "Iteration=30, delta=0.01594410056482576, loss=0.3972826975114035\n",
      "Iteration=31, delta=0.015361465859454193, loss=0.3921358450003601\n",
      "Iteration=32, delta=0.01485161959321124, loss=0.38726834235779195\n",
      "Iteration=33, delta=0.01436334948485618, loss=0.382657300527106\n",
      "Iteration=34, delta=0.013895519765699138, loss=0.37828223523354515\n",
      "Iteration=35, delta=0.013447019178348785, loss=0.37412476631553565\n",
      "Iteration=36, delta=0.013016783227126294, loss=0.37016835850746904\n",
      "Iteration=37, delta=0.012603804624648718, loss=0.3663980981776281\n",
      "Iteration=38, delta=0.012207137616966235, loss=0.362800501083588\n",
      "Iteration=39, delta=0.011825898993463202, loss=0.35936334669321496\n",
      "Iteration=40, delta=0.011459266843925064, loss=0.35607553514688395\n",
      "Iteration=41, delta=0.011106477619573063, loss=0.3529269634425785\n",
      "Iteration=42, delta=0.01076682211737845, loss=0.34990841787658217\n",
      "Iteration=43, delta=0.01043964105951084, loss=0.34701148018442984\n",
      "Iteration=44, delta=0.010124320797935238, loss=0.34422844523570284\n",
      "Iteration=45, delta=0.009820289426368534, loss=0.3415522485214789\n",
      "Iteration=46, delta=0.009592682818051812, loss=0.338976402027003\n",
      "Iteration=47, delta=0.009462094281831535, loss=0.3364949373552214\n",
      "Iteration=48, delta=0.00933322634858269, loss=0.3341023551800903\n",
      "Iteration=49, delta=0.00920608427208458, loss=0.33179358026155104\n",
      "Iteration=50, delta=0.009080666569818652, loss=0.3295639213655131\n",
      "Iteration=51, delta=0.008956966045626236, loss=0.32740903552024414\n",
      "Iteration=52, delta=0.008834970668299635, loss=0.32532489611047327\n",
      "Iteration=53, delta=0.008714664356997859, loss=0.3233077643656046\n",
      "Iteration=54, delta=0.008602088239673567, loss=0.3213541638531418\n",
      "Iteration=55, delta=0.008496486126569724, loss=0.3194608576304115\n",
      "Iteration=56, delta=0.008392637739592201, loss=0.3176248277498758\n",
      "Iteration=57, delta=0.008290486328039748, loss=0.31584325684910264\n",
      "Iteration=58, delta=0.008189976739539695, loss=0.31411351158888856\n",
      "Iteration=59, delta=0.008091055746872522, loss=0.3124331277309722\n",
      "Iteration=60, delta=0.007993672323284517, loss=0.3107997966710908\n",
      "Iteration=61, delta=0.007897777864221966, loss=0.30921135326458415\n",
      "Iteration=62, delta=0.007803326352909146, loss=0.3076657648010106\n",
      "Iteration=63, delta=0.007710274467586986, loss=0.30616112100100695\n",
      "Iteration=64, delta=0.007618581629612375, loss=0.30469562492404334\n",
      "Iteration=65, delta=0.007528209993771462, loss=0.30326758468806575\n",
      "Iteration=66, delta=0.007439124384797102, loss=0.3018754059161088\n",
      "Iteration=67, delta=0.007351292186715153, loss=0.3005175848335435\n",
      "Iteration=68, delta=0.007264683193909827, loss=0.2991927019496271\n",
      "Iteration=69, delta=0.007179269434322677, loss=0.29789941626555233\n",
      "Iteration=70, delta=0.007095024975788622, loss=0.2966364599557111\n",
      "Iteration=71, delta=0.007011925726149615, loss=0.295402633477363\n",
      "Iteration=72, delta=0.006929949236500477, loss=0.2941968010677906\n",
      "Iteration=73, delta=0.006849074514938103, loss=0.2930178865917372\n",
      "Iteration=74, delta=0.006769281855731446, loss=0.29186486970678327\n"
     ]
    }
   ],
   "source": [
    "lr.fit(mnist.X_train, mnist.y_train)"
   ]
  },
  {
   "cell_type": "code",
   "execution_count": 461,
   "metadata": {},
   "outputs": [],
   "source": [
    "labels = lr.predict(mnist.X_test)"
   ]
  },
  {
   "cell_type": "code",
   "execution_count": 462,
   "metadata": {},
   "outputs": [],
   "source": [
    "y_pred = labels.argmax(axis=1)"
   ]
  },
  {
   "cell_type": "code",
   "execution_count": 463,
   "metadata": {},
   "outputs": [],
   "source": [
    "y = mnist.y_test.argmax(axis=1)"
   ]
  },
  {
   "cell_type": "code",
   "execution_count": 464,
   "metadata": {},
   "outputs": [
    {
     "data": {
      "text/plain": [
       "0.7729"
      ]
     },
     "execution_count": 464,
     "metadata": {},
     "output_type": "execute_result"
    }
   ],
   "source": [
    "np.sum(y_pred==y) / y.shape[0]"
   ]
  },
  {
   "cell_type": "code",
   "execution_count": 100,
   "metadata": {},
   "outputs": [],
   "source": [
    "from fault_tolerant_ml.ml.utils.math.autodiff import Dual\n",
    "from fault_tolerant_ml.ml.loss_fns import cross_entropy_loss, cross_entropy_gradient\n",
    "from fault_tolerant_ml.ml.utils import maths_utils\n",
    "# import math"
   ]
  },
  {
   "cell_type": "code",
   "execution_count": 37,
   "metadata": {},
   "outputs": [],
   "source": [
    "x = Dual(np.array([5, 2]), 1)\n",
    "y = Dual(6)"
   ]
  },
  {
   "cell_type": "code",
   "execution_count": 38,
   "metadata": {},
   "outputs": [],
   "source": [
    "f = Dual.pow(x, 2) * y"
   ]
  },
  {
   "cell_type": "code",
   "execution_count": 39,
   "metadata": {},
   "outputs": [
    {
     "data": {
      "text/plain": [
       "array([60, 24])"
      ]
     },
     "execution_count": 39,
     "metadata": {},
     "output_type": "execute_result"
    }
   ],
   "source": [
    "f.derivative"
   ]
  },
  {
   "cell_type": "code",
   "execution_count": 40,
   "metadata": {},
   "outputs": [],
   "source": [
    "h = Dual(np.array([0.1, 0.3, 0.6]), 1)\n",
    "y = Dual(np.array([0, 1, 1]))"
   ]
  },
  {
   "cell_type": "code",
   "execution_count": 41,
   "metadata": {},
   "outputs": [
    {
     "data": {
      "text/plain": [
       "0.6067196479165844"
      ]
     },
     "execution_count": 41,
     "metadata": {},
     "output_type": "execute_result"
    }
   ],
   "source": [
    "cross_entropy_loss(h._val, y._val)"
   ]
  },
  {
   "cell_type": "code",
   "execution_count": 42,
   "metadata": {},
   "outputs": [],
   "source": [
    "# cross_entropy_gradient()"
   ]
  },
  {
   "cell_type": "code",
   "execution_count": 44,
   "metadata": {},
   "outputs": [
    {
     "data": {
      "text/plain": [
       "<fault_tolerant_ml.ml.utils.math.autodiff.Dual at 0x7f1aa0d1af60>"
      ]
     },
     "execution_count": 44,
     "metadata": {},
     "output_type": "execute_result"
    }
   ],
   "source": [
    "f"
   ]
  },
  {
   "cell_type": "code",
   "execution_count": 45,
   "metadata": {},
   "outputs": [],
   "source": [
    "f = -y * Dual.log(h) - (Dual(1) - y) * Dual.log(Dual(1) - h)"
   ]
  },
  {
   "cell_type": "code",
   "execution_count": 49,
   "metadata": {},
   "outputs": [
    {
     "data": {
      "text/plain": [
       "-1.2962962962962965"
      ]
     },
     "execution_count": 49,
     "metadata": {},
     "output_type": "execute_result"
    }
   ],
   "source": [
    "f.mean().derivative"
   ]
  },
  {
   "cell_type": "code",
   "execution_count": 138,
   "metadata": {},
   "outputs": [],
   "source": [
    "from autograd import grad\n",
    "# import autograd.numpy as np"
   ]
  },
  {
   "cell_type": "code",
   "execution_count": 405,
   "metadata": {},
   "outputs": [],
   "source": [
    "n_samples, n_features = mnist.X_train.shape"
   ]
  },
  {
   "cell_type": "code",
   "execution_count": 407,
   "metadata": {},
   "outputs": [],
   "source": [
    "_, n_classes = mnist.y_train.shape"
   ]
  },
  {
   "cell_type": "code",
   "execution_count": 408,
   "metadata": {},
   "outputs": [],
   "source": [
    "weights = np.random.randn(n_features, n_classes)"
   ]
  },
  {
   "cell_type": "code",
   "execution_count": 410,
   "metadata": {},
   "outputs": [
    {
     "data": {
      "text/plain": [
       "(784, 10)"
      ]
     },
     "execution_count": 410,
     "metadata": {},
     "output_type": "execute_result"
    }
   ],
   "source": [
    "weights.shape"
   ]
  },
  {
   "cell_type": "code",
   "execution_count": 411,
   "metadata": {},
   "outputs": [],
   "source": [
    "def sigmoid(s):\n",
    "    return 1. / 1. + np.exp(-s)"
   ]
  },
  {
   "cell_type": "code",
   "execution_count": 412,
   "metadata": {},
   "outputs": [],
   "source": [
    "def loss(weights):\n",
    "    s = np.dot(X, weights)\n",
    "    y_pred = sigmoid(s)\n",
    "    return np.mean(-y * np.log(y_pred) - (1 - y) * np.log(1 - y_pred))    "
   ]
  },
  {
   "cell_type": "code",
   "execution_count": 414,
   "metadata": {},
   "outputs": [],
   "source": [
    "s = np.dot(mnist.X_train, weights)\n",
    "y_pred = sigmoid(s)"
   ]
  },
  {
   "cell_type": "code",
   "execution_count": 415,
   "metadata": {},
   "outputs": [
    {
     "name": "stderr",
     "output_type": "stream",
     "text": [
      "/c/Users/nb304836/Documents/git-repos/fault_tolerant_ml/fault_tolerant_ml/ml/loss_fns.py:5: RuntimeWarning: divide by zero encountered in log\n",
      "  return -y * np.log(h) - (1 - y) * np.log(1 - h)\n",
      "/c/Users/nb304836/Documents/git-repos/fault_tolerant_ml/fault_tolerant_ml/ml/loss_fns.py:5: RuntimeWarning: invalid value encountered in log\n",
      "  return -y * np.log(h) - (1 - y) * np.log(1 - h)\n"
     ]
    }
   ],
   "source": [
    "l = cross_entropy_loss(y_pred, mnist.y_train)"
   ]
  },
  {
   "cell_type": "code",
   "execution_count": 416,
   "metadata": {},
   "outputs": [
    {
     "data": {
      "text/plain": [
       "nan"
      ]
     },
     "execution_count": 416,
     "metadata": {},
     "output_type": "execute_result"
    }
   ],
   "source": [
    "l"
   ]
  },
  {
   "cell_type": "code",
   "execution_count": 420,
   "metadata": {},
   "outputs": [
    {
     "data": {
      "text/plain": [
       "array([[0., 0., 0., ..., 0., 0., 0.],\n",
       "       [0., 0., 0., ..., 0., 0., 0.],\n",
       "       [0., 0., 0., ..., 0., 0., 0.],\n",
       "       ...,\n",
       "       [0., 0., 0., ..., 0., 0., 0.],\n",
       "       [0., 0., 0., ..., 0., 0., 0.],\n",
       "       [0., 0., 0., ..., 0., 0., 0.]])"
      ]
     },
     "execution_count": 420,
     "metadata": {},
     "output_type": "execute_result"
    }
   ],
   "source": [
    "np.dot(mnist.X_train.T, mnist.y_train - y_pred) / mnist.X_train.shape[0]"
   ]
  },
  {
   "cell_type": "code",
   "execution_count": 426,
   "metadata": {},
   "outputs": [],
   "source": [
    "d_theta = np.zeros((n_features, n_classes))"
   ]
  },
  {
   "cell_type": "code",
   "execution_count": 427,
   "metadata": {},
   "outputs": [],
   "source": [
    "for k in np.arange(n_classes):\n",
    "    d_theta[:, k] = cross_entropy_gradient(mnist.X_train, (mnist.y_train - y_pred)[:, np.newaxis, k])"
   ]
  },
  {
   "cell_type": "code",
   "execution_count": 432,
   "metadata": {},
   "outputs": [],
   "source": [
    "return_params = (1, 2)"
   ]
  },
  {
   "cell_type": "code",
   "execution_count": 436,
   "metadata": {},
   "outputs": [
    {
     "data": {
      "text/plain": [
       "(3, 1, 2)"
      ]
     },
     "execution_count": 436,
     "metadata": {},
     "output_type": "execute_result"
    }
   ],
   "source": [
    "(3, ) + return_params"
   ]
  },
  {
   "cell_type": "code",
   "execution_count": 428,
   "metadata": {},
   "outputs": [
    {
     "data": {
      "text/plain": [
       "(784, 10)"
      ]
     },
     "execution_count": 428,
     "metadata": {},
     "output_type": "execute_result"
    }
   ],
   "source": [
    "d_theta.shape"
   ]
  },
  {
   "cell_type": "code",
   "execution_count": 365,
   "metadata": {},
   "outputs": [
    {
     "data": {
      "text/plain": [
       "nan"
      ]
     },
     "execution_count": 365,
     "metadata": {},
     "output_type": "execute_result"
    }
   ],
   "source": [
    "loss(weights)"
   ]
  },
  {
   "cell_type": "code",
   "execution_count": 366,
   "metadata": {},
   "outputs": [],
   "source": [
    "grad_fn = grad(loss)"
   ]
  },
  {
   "cell_type": "code",
   "execution_count": 367,
   "metadata": {},
   "outputs": [
    {
     "data": {
      "text/plain": [
       "array([[-0.41861879],\n",
       "       [ 0.36414266],\n",
       "       [-0.22397139]])"
      ]
     },
     "execution_count": 367,
     "metadata": {},
     "output_type": "execute_result"
    }
   ],
   "source": [
    "grad_fn(weights)"
   ]
  },
  {
   "cell_type": "code",
   "execution_count": 374,
   "metadata": {},
   "outputs": [],
   "source": [
    "losses =[]\n",
    "for i in range(100):\n",
    "    l = loss(weights)\n",
    "    weights -= grad_fn(weights) * 0.01\n",
    "    losses.append(l)"
   ]
  },
  {
   "cell_type": "code",
   "execution_count": 369,
   "metadata": {},
   "outputs": [],
   "source": [
    "import matplotlib.pyplot as plt"
   ]
  },
  {
   "cell_type": "code",
   "execution_count": 471,
   "metadata": {},
   "outputs": [
    {
     "data": {
      "text/plain": [
       "(1,)"
      ]
     },
     "execution_count": 471,
     "metadata": {},
     "output_type": "execute_result"
    }
   ],
   "source": [
    "() + (1, )"
   ]
  },
  {
   "cell_type": "code",
   "execution_count": 472,
   "metadata": {},
   "outputs": [
    {
     "name": "stdout",
     "output_type": "stream",
     "text": [
      "My arguments are: Nairobi, Accra\n",
      "Cities I love are Nairobi and Accra\n"
     ]
    }
   ],
   "source": [
    "def decorator_with_arguments(function):\n",
    "    def wrapper_accepting_arguments(arg1, arg2):\n",
    "        print(\"My arguments are: {0}, {1}\".format(arg1,arg2))\n",
    "        function(arg1, arg2)\n",
    "    return wrapper_accepting_arguments\n",
    "\n",
    "\n",
    "@decorator_with_arguments\n",
    "def cities(city_one, city_two):\n",
    "    print(\"Cities I love are {0} and {1}\".format(city_one, city_two))\n",
    "\n",
    "cities(\"Nairobi\", \"Accra\")"
   ]
  },
  {
   "cell_type": "code",
   "execution_count": 474,
   "metadata": {},
   "outputs": [],
   "source": [
    "def ftml_train(function):\n",
    "    def wrapper():\n",
    "        print(\"Running if statement\")\n",
    "        action = True\n",
    "        if action:\n",
    "            function()\n",
    "    return wrapper"
   ]
  },
  {
   "cell_type": "code",
   "execution_count": 475,
   "metadata": {},
   "outputs": [],
   "source": [
    "@ftml_train\n",
    "def train_iteration():\n",
    "    theta = np.random.randn(5, 2)"
   ]
  },
  {
   "cell_type": "code",
   "execution_count": 477,
   "metadata": {},
   "outputs": [
    {
     "name": "stdout",
     "output_type": "stream",
     "text": [
      "Running if statement\n",
      "Running if statement\n"
     ]
    }
   ],
   "source": [
    "i = 0\n",
    "while i < 2:\n",
    "    train_iteration()\n",
    "    i += 1"
   ]
  },
  {
   "cell_type": "code",
   "execution_count": 482,
   "metadata": {},
   "outputs": [],
   "source": [
    "X = np.random.randint(0, 10, size=(3, 3))"
   ]
  },
  {
   "cell_type": "code",
   "execution_count": 483,
   "metadata": {},
   "outputs": [
    {
     "data": {
      "text/plain": [
       "array([[8, 1, 9],\n",
       "       [8, 6, 3],\n",
       "       [9, 4, 5]])"
      ]
     },
     "execution_count": 483,
     "metadata": {},
     "output_type": "execute_result"
    }
   ],
   "source": [
    "X"
   ]
  },
  {
   "cell_type": "code",
   "execution_count": 487,
   "metadata": {},
   "outputs": [],
   "source": [
    "msg = X.tostring()\n",
    "dtype = X.dtype\n",
    "shape = str(X.shape)"
   ]
  },
  {
   "cell_type": "code",
   "execution_count": 493,
   "metadata": {},
   "outputs": [],
   "source": [
    "def concat(data):\n",
    "    \n",
    "    x = [b\"\", b\"WORK\"]\n",
    "    x.extend(data)\n",
    "    return x"
   ]
  },
  {
   "cell_type": "code",
   "execution_count": 494,
   "metadata": {},
   "outputs": [
    {
     "data": {
      "text/plain": [
       "[b'',\n",
       " b'WORK',\n",
       " b'\\x08\\x00\\x00\\x00\\x00\\x00\\x00\\x00\\x01\\x00\\x00\\x00\\x00\\x00\\x00\\x00\\t\\x00\\x00\\x00\\x00\\x00\\x00\\x00\\x08\\x00\\x00\\x00\\x00\\x00\\x00\\x00\\x06\\x00\\x00\\x00\\x00\\x00\\x00\\x00\\x03\\x00\\x00\\x00\\x00\\x00\\x00\\x00\\t\\x00\\x00\\x00\\x00\\x00\\x00\\x00\\x04\\x00\\x00\\x00\\x00\\x00\\x00\\x00\\x05\\x00\\x00\\x00\\x00\\x00\\x00\\x00',\n",
       " dtype('int64'),\n",
       " '(3, 3)']"
      ]
     },
     "execution_count": 494,
     "metadata": {},
     "output_type": "execute_result"
    }
   ],
   "source": [
    "x = concat([msg, dtype, shape])\n",
    "x"
   ]
  },
  {
   "cell_type": "code",
   "execution_count": 495,
   "metadata": {},
   "outputs": [
    {
     "name": "stdout",
     "output_type": "stream",
     "text": [
      "defining the decorator\n",
      "doing decoration, 'abc'\n"
     ]
    }
   ],
   "source": [
    "def replacing_decorator_with_args(arg):\n",
    "    print(\"defining the decorator\")\n",
    "    def _decorator(function):\n",
    "        # in this inner function, arg is available too\n",
    "        print(\"doing decoration, %r\" % arg)\n",
    "        def _wrapper(*args, **kwargs):\n",
    "            print(\"inside wrapper, %r %r\" % (args, kwargs))\n",
    "            return function(*args, **kwargs)\n",
    "        return _wrapper\n",
    "    return _decorator\n",
    "\n",
    "@replacing_decorator_with_args(\"abc\")\n",
    "def function(*args, **kwargs):\n",
    "    print(\"inside function, %r %r\" % (args, kwargs))\n",
    "    return 14"
   ]
  },
  {
   "cell_type": "code",
   "execution_count": 496,
   "metadata": {},
   "outputs": [
    {
     "name": "stdout",
     "output_type": "stream",
     "text": [
      "inside wrapper, (11, 12) {}\n",
      "inside function, (11, 12) {}\n"
     ]
    },
    {
     "data": {
      "text/plain": [
       "14"
      ]
     },
     "execution_count": 496,
     "metadata": {},
     "output_type": "execute_result"
    }
   ],
   "source": [
    "function(11, 12)"
   ]
  },
  {
   "cell_type": "code",
   "execution_count": 19,
   "metadata": {},
   "outputs": [],
   "source": [
    "interval = 100"
   ]
  },
  {
   "cell_type": "code",
   "execution_count": 20,
   "metadata": {},
   "outputs": [],
   "source": [
    "theta = np.random.randn(784, 10)"
   ]
  },
  {
   "cell_type": "code",
   "execution_count": 21,
   "metadata": {},
   "outputs": [],
   "source": [
    "min_theta_val = theta.min() + 1e-8\n",
    "max_theta_val = theta.max() + 1e-8\n",
    "bins = np.linspace(min_theta_val, max_theta_val, interval)\n",
    "theta_bins = np.digitize(theta, bins).astype(np.int8)\n",
    "\n",
    "struct_field_names = [\"min_val\", \"max_val\", \"interval\", \"bins\"]\n",
    "struct_field_types = [np.float32, np.float32, np.int32, 'b']\n",
    "struct_field_shapes = [1, 1, 1, (theta.shape)]\n",
    "\n",
    "msg = np.zeros(1, dtype=(list(zip(struct_field_names, struct_field_types, struct_field_shapes))))\n",
    "msg[0] = (min_theta_val, max_theta_val, interval, theta_bins)"
   ]
  },
  {
   "cell_type": "code",
   "execution_count": 22,
   "metadata": {},
   "outputs": [
    {
     "data": {
      "text/plain": [
       "7852"
      ]
     },
     "execution_count": 22,
     "metadata": {},
     "output_type": "execute_result"
    }
   ],
   "source": [
    "msg.nbytes"
   ]
  },
  {
   "cell_type": "code",
   "execution_count": 23,
   "metadata": {},
   "outputs": [
    {
     "data": {
      "text/plain": [
       "62720"
      ]
     },
     "execution_count": 23,
     "metadata": {},
     "output_type": "execute_result"
    }
   ],
   "source": [
    "theta.nbytes"
   ]
  },
  {
   "cell_type": "code",
   "execution_count": 24,
   "metadata": {},
   "outputs": [
    {
     "data": {
      "text/plain": [
       "array([-3.41736523, -3.33360606, -3.24984688, -3.16608771, -3.08232854,\n",
       "       -2.99856936, -2.91481019, -2.83105102, -2.74729184, -2.66353267,\n",
       "       -2.57977349, -2.49601432, -2.41225515, -2.32849597, -2.2447368 ,\n",
       "       -2.16097763, -2.07721845, -1.99345928, -1.90970011, -1.82594093,\n",
       "       -1.74218176, -1.65842258, -1.57466341, -1.49090424, -1.40714506,\n",
       "       -1.32338589, -1.23962672, -1.15586754, -1.07210837, -0.9883492 ,\n",
       "       -0.90459002, -0.82083085, -0.73707168, -0.6533125 , -0.56955333,\n",
       "       -0.48579415, -0.40203498, -0.31827581, -0.23451663, -0.15075746,\n",
       "       -0.06699829,  0.01676089,  0.10052006,  0.18427923,  0.26803841,\n",
       "        0.35179758,  0.43555676,  0.51931593,  0.6030751 ,  0.68683428,\n",
       "        0.77059345,  0.85435262,  0.9381118 ,  1.02187097,  1.10563014,\n",
       "        1.18938932,  1.27314849,  1.35690766,  1.44066684,  1.52442601,\n",
       "        1.60818519,  1.69194436,  1.77570353,  1.85946271,  1.94322188,\n",
       "        2.02698105,  2.11074023,  2.1944994 ,  2.27825857,  2.36201775,\n",
       "        2.44577692,  2.5295361 ,  2.61329527,  2.69705444,  2.78081362,\n",
       "        2.86457279,  2.94833196,  3.03209114,  3.11585031,  3.19960948,\n",
       "        3.28336866,  3.36712783,  3.450887  ,  3.53464618,  3.61840535,\n",
       "        3.70216453,  3.7859237 ,  3.86968287,  3.95344205,  4.03720122,\n",
       "        4.12096039,  4.20471957,  4.28847874,  4.37223791,  4.45599709,\n",
       "        4.53975626,  4.62351544,  4.70727461,  4.79103378,  4.87479296])"
      ]
     },
     "execution_count": 24,
     "metadata": {},
     "output_type": "execute_result"
    }
   ],
   "source": [
    "bins"
   ]
  },
  {
   "cell_type": "code",
   "execution_count": 2,
   "metadata": {},
   "outputs": [],
   "source": [
    "unique = np.array([1, 2, 3, 4, 5, 6])"
   ]
  },
  {
   "cell_type": "code",
   "execution_count": 3,
   "metadata": {},
   "outputs": [],
   "source": [
    "dist = np.array([800, 754, 804, 853, 740, 790])"
   ]
  },
  {
   "cell_type": "code",
   "execution_count": 20,
   "metadata": {},
   "outputs": [
    {
     "data": {
      "text/plain": [
       "[<matplotlib.axis.YTick at 0x7f0bf76515f8>,\n",
       " <matplotlib.axis.YTick at 0x7f0bf7647eb8>,\n",
       " <matplotlib.axis.YTick at 0x7f0bf764eeb8>,\n",
       " <matplotlib.axis.YTick at 0x7f0bf760d400>,\n",
       " <matplotlib.axis.YTick at 0x7f0bf760d908>,\n",
       " <matplotlib.axis.YTick at 0x7f0bf760de48>,\n",
       " <matplotlib.axis.YTick at 0x7f0bf76163c8>,\n",
       " <matplotlib.axis.YTick at 0x7f0bf7616908>,\n",
       " <matplotlib.axis.YTick at 0x7f0bf760d4e0>,\n",
       " <matplotlib.axis.YTick at 0x7f0bf767bfd0>,\n",
       " <matplotlib.axis.YTick at 0x7f0bf7616cf8>]"
      ]
     },
     "execution_count": 20,
     "metadata": {},
     "output_type": "execute_result"
    },
    {
     "data": {
      "image/png": "[encoded data removed]",
      "text/plain": [
       "<Figure size 1152x648 with 1 Axes>"
      ]
     },
     "metadata": {
      "needs_background": "light"
     },
     "output_type": "display_data"
    }
   ],
   "source": [
    "fig, axes = plt.subplots(1, 1, figsize=(16, 9))\n",
    "axes.bar(unique, dist)\n",
    "axes.bar(unique, dist, bottom=dist)\n",
    "axes.set_xticks(np.array([1, 2, 3, 4, 5, 6]))\n",
    "axes.set_xticklabels(labels=[\"Blue\", \"Black\", \"Green\", \"Yellow\", \"Orange\", \"Purple\"])\n",
    "axes.set_title(\"Class balance distribution\")\n",
    "axes.set_xlabel(\"Class\")\n",
    "axes.set_ylabel(\"Count\")\n",
    "axes.set_yticks(np.arange(0, 1100, 100))\n",
    "# plt.savefig()"
   ]
  },
  {
   "cell_type": "code",
   "execution_count": 23,
   "metadata": {},
   "outputs": [],
   "source": [
    "labels_per_worker = {}\n",
    "for i in np.arange(7):\n",
    "    labels_per_worker[i] = np.random.randint(750, 900, size=(10,))"
   ]
  },
  {
   "cell_type": "code",
   "execution_count": 24,
   "metadata": {},
   "outputs": [
    {
     "data": {
      "text/plain": [
       "{0: array([813, 879, 796, 868, 784, 823, 865, 819, 776, 872]),\n",
       " 1: array([894, 762, 852, 819, 788, 851, 756, 791, 875, 760]),\n",
       " 2: array([799, 859, 861, 837, 773, 885, 774, 878, 853, 809]),\n",
       " 3: array([750, 783, 846, 791, 801, 791, 894, 809, 773, 756]),\n",
       " 4: array([859, 866, 875, 771, 774, 778, 839, 891, 767, 816]),\n",
       " 5: array([840, 779, 893, 864, 858, 752, 761, 869, 788, 797]),\n",
       " 6: array([808, 792, 899, 828, 844, 833, 883, 794, 847, 796])}"
      ]
     },
     "execution_count": 24,
     "metadata": {},
     "output_type": "execute_result"
    }
   ],
   "source": [
    "labels_per_worker"
   ]
  },
  {
   "cell_type": "code",
   "execution_count": null,
   "metadata": {},
   "outputs": [],
   "source": [
    "pd.DataFrame()"
   ]
  },
  {
   "cell_type": "code",
   "execution_count": 41,
   "metadata": {},
   "outputs": [
    {
     "data": {
      "text/plain": [
       "Text(0.5, 1.0, 'Testing')"
      ]
     },
     "execution_count": 41,
     "metadata": {},
     "output_type": "execute_result"
    },
    {
     "data": {
      "image/png": "[encoded data removed]",
      "text/plain": [
       "<Figure size 1152x648 with 1 Axes>"
      ]
     },
     "metadata": {
      "needs_background": "light"
     },
     "output_type": "display_data"
    }
   ],
   "source": [
    "fig, ax = plt.subplots(1, 1, figsize=(16, 9))\n",
    "ser = pd.Series(labels_per_worker[0])\n",
    "ser.T.plot(kind=\"bar\", ax=ax, color=plt.cm.Paired(np.arange(len(ser))))\n",
    "ax.set_title(\"Testing\")"
   ]
  },
  {
   "cell_type": "code",
   "execution_count": 29,
   "metadata": {},
   "outputs": [
    {
     "name": "stdout",
     "output_type": "stream",
     "text": [
      "0 [813 879 796 868 784 823 865 819 776 872]\n",
      "1 [894 762 852 819 788 851 756 791 875 760]\n",
      "2 [799 859 861 837 773 885 774 878 853 809]\n",
      "3 [750 783 846 791 801 791 894 809 773 756]\n",
      "4 [859 866 875 771 774 778 839 891 767 816]\n",
      "5 [840 779 893 864 858 752 761 869 788 797]\n",
      "6 [808 792 899 828 844 833 883 794 847 796]\n"
     ]
    }
   ],
   "source": [
    "fig, axes = plt.subplots(1, 1, figsize=(16, 9))\n",
    "bottom = None\n",
    "for k, v in labels_per_worker.items():\n",
    "    axes.bar(unique, v, bottom=bottom)\n",
    "    bottom = "
   ]
  },
  {
   "cell_type": "code",
   "execution_count": null,
   "metadata": {},
   "outputs": [],
   "source": [
    "fig, axes = plt.subplots(1, 1, figsize=(16, 9))\n",
    "axes.bar(unique, dist)\n",
    "axes.bar(unique, dist, bottom=dist)\n",
    "axes.set_xticks(np.array([1, 2, 3, 4, 5, 6]))\n",
    "axes.set_xticklabels(labels=[\"Blue\", \"Black\", \"Green\", \"Yellow\", \"Orange\", \"Purple\"])\n",
    "axes.set_title(\"Class balance distribution\")\n",
    "axes.set_xlabel(\"Class\")\n",
    "axes.set_ylabel(\"Count\")\n",
    "axes.set_yticks(np.arange(0, 1100, 100))"
   ]
  },
  {
   "cell_type": "code",
   "execution_count": 42,
   "metadata": {},
   "outputs": [
    {
     "data": {
      "text/plain": [
       "{0: array([813, 879, 796, 868, 784, 823, 865, 819, 776, 872]),\n",
       " 1: array([894, 762, 852, 819, 788, 851, 756, 791, 875, 760]),\n",
       " 2: array([799, 859, 861, 837, 773, 885, 774, 878, 853, 809]),\n",
       " 3: array([750, 783, 846, 791, 801, 791, 894, 809, 773, 756]),\n",
       " 4: array([859, 866, 875, 771, 774, 778, 839, 891, 767, 816]),\n",
       " 5: array([840, 779, 893, 864, 858, 752, 761, 869, 788, 797]),\n",
       " 6: array([808, 792, 899, 828, 844, 833, 883, 794, 847, 796])}"
      ]
     },
     "execution_count": 42,
     "metadata": {},
     "output_type": "execute_result"
    }
   ],
   "source": [
    "labels_per_worker"
   ]
  },
  {
   "cell_type": "code",
   "execution_count": 44,
   "metadata": {},
   "outputs": [],
   "source": [
    "l = {}\n",
    "l[0] = (np.array([0, 1, 3]), np.array([1, 4, 15]))\n",
    "l[1] = (np.array([4]), np.array([20]))\n",
    "l[2] = (np.array([0, 4, 5, 7, 9]), np.array([3, 3, 8, 4, 2]))\n",
    "l[3] = (np.array([1, 3, 7, 9]), np.array([7, 6, 4, 3]))"
   ]
  },
  {
   "cell_type": "code",
   "execution_count": 52,
   "metadata": {},
   "outputs": [
    {
     "data": {
      "text/plain": [
       "{0: array([814, 883, 796, 883, 784, 823, 865, 819, 776, 872]),\n",
       " 1: array([894, 762, 852, 819, 808, 851, 756, 791, 875, 760]),\n",
       " 2: array([802, 859, 861, 837, 776, 893, 774, 882, 853, 811]),\n",
       " 3: array([750, 790, 846, 797, 801, 791, 894, 813, 773, 759]),\n",
       " 4: array([859, 866, 875, 771, 774, 778, 839, 891, 767, 816]),\n",
       " 5: array([840, 779, 893, 864, 858, 752, 761, 869, 788, 797]),\n",
       " 6: array([808, 792, 899, 828, 844, 833, 883, 794, 847, 796])}"
      ]
     },
     "execution_count": 52,
     "metadata": {},
     "output_type": "execute_result"
    }
   ],
   "source": [
    "for i in np.arange(7):\n",
    "    if i in l.keys():\n",
    "        classes, dists = l[i]\n",
    "        labels_per_worker[i][classes] = labels_per_worker[i][classes] + dists\n",
    "        \n",
    "labels_per_worker"
   ]
  },
  {
   "cell_type": "code",
   "execution_count": 56,
   "metadata": {},
   "outputs": [
    {
     "name": "stdout",
     "output_type": "stream",
     "text": [
      "goodbye\n"
     ]
    }
   ],
   "source": [
    "scenario = 2\n",
    "if (scenario != 2) and (not labels_per_worker):\n",
    "    print(\"hi\")\n",
    "else:\n",
    "    print(\"goodbye\")"
   ]
  },
  {
   "cell_type": "code",
   "execution_count": null,
   "metadata": {},
   "outputs": [],
   "source": []
  }
 ],
 "metadata": {
  "kernelspec": {
   "display_name": "Python [conda env:ft-ml]",
   "language": "python",
   "name": "conda-env-ft-ml-py"
  },
  "language_info": {
   "codemirror_mode": {
    "name": "ipython",
    "version": 3
   },
   "file_extension": ".py",
   "mimetype": "text/x-python",
   "name": "python",
   "nbconvert_exporter": "python",
   "pygments_lexer": "ipython3",
   "version": "3.6.8"
  }
 },
 "nbformat": 4,
 "nbformat_minor": 2
}
