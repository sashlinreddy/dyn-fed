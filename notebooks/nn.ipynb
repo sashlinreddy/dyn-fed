{
 "cells": [
  {
   "cell_type": "markdown",
   "metadata": {},
   "source": [
    "# Neural network implementation"
   ]
  },
  {
   "cell_type": "code",
   "execution_count": 1,
   "metadata": {},
   "outputs": [],
   "source": [
    "import numpy as np\n",
    "import os\n",
    "\n",
    "from fault_tolerant_ml.data.mnist import MNist\n",
    "import fault_tolerant_ml.activations.activation as F\n",
    "\n",
    "%reload_ext autoreload\n",
    "%autoreload 2"
   ]
  },
  {
   "cell_type": "markdown",
   "metadata": {},
   "source": [
    "## Read in data"
   ]
  },
  {
   "cell_type": "code",
   "execution_count": 2,
   "metadata": {},
   "outputs": [],
   "source": [
    "data_dir = \"../data\"\n",
    "filepaths = {\n",
    "    \"train\": {\n",
    "        \"images\": os.path.join(data_dir, \"train-images-idx3-ubyte.gz\"), \"labels\": os.path.join(data_dir, \"train-labels-idx1-ubyte.gz\")\n",
    "    },\n",
    "    \"test\": {\n",
    "        \"images\": os.path.join(data_dir, \"t10k-images-idx3-ubyte.gz\"), \"labels\": os.path.join(data_dir, \"t10k-labels-idx1-ubyte.gz\")\n",
    "    }\n",
    "}\n",
    "mnist = MNist(filepaths)"
   ]
  },
  {
   "cell_type": "code",
   "execution_count": 3,
   "metadata": {},
   "outputs": [
    {
     "data": {
      "text/plain": [
       "<MNist X_train=(60000, 784), y_train=(60000, 10), X_test=(10000, 784), y_test=(10000, 10)>"
      ]
     },
     "execution_count": 3,
     "metadata": {},
     "output_type": "execute_result"
    }
   ],
   "source": [
    "mnist"
   ]
  },
  {
   "cell_type": "code",
   "execution_count": 4,
   "metadata": {},
   "outputs": [
    {
     "name": "stdout",
     "output_type": "stream",
     "text": [
      "n_features=784, n_classes=10\n"
     ]
    }
   ],
   "source": [
    "n_features, n_classes = mnist.X_train.shape[1], mnist.y_train.shape[1]\n",
    "print(f\"n_features={n_features}, n_classes={n_classes}\")"
   ]
  },
  {
   "cell_type": "code",
   "execution_count": 5,
   "metadata": {},
   "outputs": [],
   "source": [
    "# class NeuralNet(nn.Model):\n",
    "    \n",
    "#     def __init__(self):\n",
    "        \n",
    "#         # MLP - 1 input layer, 1 hidden layer, 1 output layer\n",
    "#         # self.fc1 = nn.Layer(n_inputs=784, n_outputs=128)\n",
    "#         # self.fc2 = nn.Layer(n_inputs=128, n_outputs=10)\n",
    "#         self.layers = []\n",
    "#         # self.act_fn = F.Sigmoid()\n",
    "        \n",
    "#     def add(self, layer):\n",
    "#         \"\"\"Add layer to model\n",
    "#         \"\"\"\n",
    "#         self.layers.append(layer)\n",
    "#         return self\n",
    "    \n",
    "#     def forward(self, x):\n",
    "        \n",
    "#         # z1 = self.fc1(x)\n",
    "#         # a1 = self.act_fn(z1)\n",
    "#         # a1, z1 = self.fc1(x)\n",
    "#         # z2 = self.fc2(a1)\n",
    "#         # y_pred = self.act_fn(z2)\n",
    "#         # y_pred, z2 = self.fc2(a1)\n",
    "        \n",
    "#         a = x\n",
    "#         for layer in self.layers:\n",
    "#             print(layer)\n",
    "#             layer(a)\n",
    "#             a = layer.y\n",
    "        \n",
    "#         y_pred = a\n",
    "#         return y_pred\n",
    "    \n",
    "#     def backward():\n",
    "#         pass\n",
    "    \n",
    "# #     def backward(self, x, y, a_n):\n",
    "        \n",
    "# #         y_pred, z2, a1, z1 = a_n\n",
    "# #         # Output layer error\n",
    "# #         delta2 = (y_pred - y)# * self.act_fn.grad(z2)\n",
    "# #         # Gradient of cost function\n",
    "# #         dw2 = np.dot(a1.T, delta2)\n",
    "# #         # Backpropagate the error through the network\n",
    "# #         delta1 = np.dot(delta2, self.fc2.W.T) * self.act_fn.grad(z1)\n",
    "# #         # Calculate gradient\n",
    "# #         dw1 = np.dot(x.T, delta1)\n",
    "# #         # Gradient of biases equal to the error\n",
    "# #         db2 = np.sum(delta2, axis=0, keepdims=True)\n",
    "# #         db1 = np.sum(delta1, axis=0, keepdims=True)\n",
    "# #         return dw2, db2, dw1, db1"
   ]
  },
  {
   "cell_type": "code",
   "execution_count": 6,
   "metadata": {},
   "outputs": [],
   "source": [
    "# def cross_entropy_loss(y_pred, y):\n",
    "#     return np.mean(-y * np.log(y_pred) - (1 - y) * np.log(1 - y_pred))"
   ]
  },
  {
   "cell_type": "code",
   "execution_count": 7,
   "metadata": {},
   "outputs": [],
   "source": [
    "# def accuracy_score(y, y_pred):\n",
    "#     y_pred_ = y_pred.argmax(axis=1)\n",
    "#     y_ = y.argmax(axis=1)\n",
    "#     return np.sum(y_pred_==y_) / y_.shape[0]\n",
    "\n",
    "# from fault_tolerant_ml.ml.ops.tensor import Tensor\n",
    "\n",
    "# t = Tensor(mnist.X_train)\n",
    "# W = Tensor(np.random.randn(784, 128))\n",
    "# b = Tensor(np.random.randn(1, 128))\n",
    "\n",
    "# x1 = Tensor(np.array(3), requires_grad=True)\n",
    "# x2 = Tensor(np.array(7), requires_grad=False)\n",
    "\n",
    "# interim = ((x1 + x1) + x2)\n",
    "# f = interim * interim\n",
    "\n",
    "# $(2x_1 + x_2)^2 = 4x_1^2 + 4x_1x_2 +x_2^2$ \n",
    "\n",
    "# $\\frac{\\partial{df}}{\\partial{x_1}} =8x_1 + 4x_2 = 24 + 28 = 52$\n",
    "\n",
    "# $\\frac{\\partial{df}}{\\partial{x_2}} =4x_1 + 2x_2 = 12 + 14 = 26$\n",
    "\n",
    "# f.backward()\n",
    "\n",
    "# x1.grad\n",
    "\n",
    "# model = NeuralNet()\n",
    "# model.add(nn.Layer(n_inputs=784, n_outputs=128))\n",
    "# model.add(nn.Layer(n_inputs=128, n_outputs=10))\n",
    "# y_pred = model.forward(mnist.X_train)\n",
    "\n",
    "# l = \n",
    "# for layer in model.layers[::-1]:\n",
    "#     print(layer)"
   ]
  },
  {
   "cell_type": "code",
   "execution_count": 8,
   "metadata": {},
   "outputs": [],
   "source": [
    "# model = NeuralNet()\n",
    "# print(model.fc1.shape)\n",
    "# print(model.fc2.shape)\n",
    "# epochs = 400\n",
    "# learning_rate = 0.99\n",
    "# m = mnist.X_train.shape[0]\n",
    "# for epoch in np.arange(epochs):\n",
    "    \n",
    "#     # Feedforward\n",
    "#     y_pred, z2, a1, z1 = model.forward(mnist.X_train)\n",
    "    \n",
    "#     # Calculate cost\n",
    "#     loss = cross_entropy_loss(y_pred, mnist.y_train)\n",
    "    \n",
    "#     # Backprop\n",
    "#     dw2, db2, dw1, db1 = model.backward(mnist.X_train, mnist.y_train, [y_pred, z2, a1, z1])\n",
    "    \n",
    "#     # Update weights\n",
    "#     model.fc2.W = model.fc2.W - learning_rate * 1 / m * dw2\n",
    "#     model.fc1.W = model.fc1.W - learning_rate * 1 / m * dw1\n",
    "#     model.fc2.b = model.fc2.b - learning_rate * 1 / m * db2\n",
    "#     model.fc1.b = model.fc1.b - learning_rate * 1 / m * db1\n",
    "    \n",
    "#     acc = accuracy_score(mnist.y_train, y_pred)\n",
    "#     if epoch % 10 == 0:\n",
    "#         print(f'epoch = {epoch}, loss = {loss:.3f}, TRAIN ACC = {acc:.3f}')\n",
    "#     epoch += 1\n",
    "    "
   ]
  },
  {
   "cell_type": "markdown",
   "metadata": {},
   "source": [
    "## Autograd"
   ]
  },
  {
   "cell_type": "markdown",
   "metadata": {},
   "source": [
    "## Graph"
   ]
  },
  {
   "cell_type": "code",
   "execution_count": 9,
   "metadata": {},
   "outputs": [],
   "source": [
    "# g = Graph()\n",
    "\n",
    "# g.set_as_default()\n",
    "\n",
    "# X = Tensor(mnist.X_train)\n",
    "\n",
    "# X + W\n",
    "\n",
    "# W = Variable(np.random.rand(784, 128))\n",
    "\n",
    "# b = Variable(np.zeros(shape=(1, 128)))\n",
    "\n",
    "# z = add(matmul(X, W), b)\n",
    "\n",
    "# z.input_nodes[0].input_nodes[0]\n",
    "\n",
    "# z.compute()"
   ]
  },
  {
   "cell_type": "code",
   "execution_count": 10,
   "metadata": {},
   "outputs": [],
   "source": [
    "# from fault_tolerant_ml.ml.ops import tensor as ft\n",
    "\n",
    "# g = ft.Graph()\n",
    "# g.set_as_default()\n",
    "# X = ft.Tensor(mnist.X_train)\n",
    "# y = ft.Tensor(mnist.y_train)\n",
    "\n",
    "# W = ft.Tensor(np.random.randn(784, 128))\n",
    "\n",
    "# b = ft.Tensor(np.zeros((1, 784)))\n",
    "\n",
    "# a = ft.matmul(X, W)\n",
    "# # z = ft.add(W, b)\n",
    "\n",
    "# g.operations\n",
    "\n",
    "# def evalulate(f):\n",
    "#     val = []\n",
    "#     for i, op in enumerate(f.operations):\n",
    "#         print(*op.input_nodes)\n",
    "#         val.append(op.compute(*op.input_nodes))\n",
    "\n",
    "# def traverse(f):\n",
    "    \n",
    "#     operations = []\n",
    "#     def recurse(node):\n",
    "#         if isinstance(node, ft.Operation):\n",
    "#             for input_node in node.input_nodes:\n",
    "#                 recurse(input_node)\n",
    "#         operations.append(node)\n",
    "            \n",
    "#     recurse(f)\n",
    "#     return operations\n",
    "\n",
    "# g = ft.Graph()\n",
    "# g.set_as_default()\n",
    "# x1 = ft.Tensor(np.array(3))\n",
    "# x2 = ft.Tensor(np.array(7))\n",
    "\n",
    "# f = ft.square(ft.add(ft.add(x1, x1), x2))\n",
    "\n",
    "# traverse(f)\n",
    "\n",
    "# g.operations[0].input_nodes"
   ]
  },
  {
   "cell_type": "code",
   "execution_count": 11,
   "metadata": {},
   "outputs": [],
   "source": [
    "# evalulate(g)"
   ]
  },
  {
   "cell_type": "code",
   "execution_count": 12,
   "metadata": {},
   "outputs": [],
   "source": [
    "# l = [ (\"z1\", \"add\", (\"x1\",\"x1\")),\n",
    "# (\"z2\", \"add\", (\"z1\",\"x2\")),\n",
    "# (\"f\", \"square\", (\"z2\",)) ]\n",
    "\n",
    "# G = { \"add\" : lambda a,b: a+b,\n",
    "# \"square\": lambda a:a*a }"
   ]
  },
  {
   "cell_type": "code",
   "execution_count": 13,
   "metadata": {},
   "outputs": [],
   "source": [
    "# val = { \"x1\" : 3, \"x2\" : 7 }\n",
    "\n",
    "# for step in l:\n",
    "#     print(val)\n",
    "#     var, op_name, func = step\n",
    "#     lookup = list(map(val.get, func))\n",
    "#     val[var] = G[op_name](*lookup)"
   ]
  },
  {
   "cell_type": "code",
   "execution_count": 14,
   "metadata": {},
   "outputs": [],
   "source": [
    "# DG = { \"add\" : [ (lambda a,b: 1), (lambda a,b: 1) ],\n",
    "# \"square\": [ lambda a:2*a ] }\n",
    "\n",
    "# delta={}\n",
    "# delta[\"f\"] = 1\n",
    "# for step in l[::-1]:\n",
    "#     var, op_name, func = step\n",
    "#     for op in DG[op_name]:\n",
    "#         if var not in delta:\n",
    "#             delta[var] = 0\n",
    "#         lookup = list(map(val.get, func))\n",
    "#         print(lookup)\n",
    "#         delta[var] = delta[var] + DG[op_name](*lookup)"
   ]
  },
  {
   "cell_type": "code",
   "execution_count": 18,
   "metadata": {},
   "outputs": [],
   "source": [
    "# class Tensor(object):\n",
    "    \n",
    "#     def __init__(self, data: np.ndarray, depends_on=None):\n",
    "        \n",
    "#         self.depends_on = depends_on or []\n",
    "#         self.data = data\n",
    "            \n",
    "#     def __add__(self, other):\n",
    "#         return Tensor(self.data + other.data, depends_on=[self, other])\n",
    "    \n",
    "#     def __pow__(self, p):\n",
    "#         data = self.data ** p \n",
    "#         return Tensor(data, depends_on=[self])\n",
    "    \n",
    "#     def __repr__(self):\n",
    "#         return f\"Tensor({self.data}, dtype={self.data.dtype})\"\n",
    "\n",
    "\n",
    "# y1 = Tensor(np.array(3))\n",
    "# y2 = Tensor(np.array(7))\n",
    "# z1 = y1 + y1\n",
    "# z2 = z1 ** 2\n",
    "\n",
    "# z2.depends_on\n",
    "\n",
    "# layers = []"
   ]
  },
  {
   "cell_type": "code",
   "execution_count": 19,
   "metadata": {},
   "outputs": [],
   "source": [
    "from fault_tolerant_ml.activations.activation import Sigmoid"
   ]
  },
  {
   "cell_type": "code",
   "execution_count": 20,
   "metadata": {},
   "outputs": [],
   "source": [
    "from typing import Union"
   ]
  },
  {
   "cell_type": "code",
   "execution_count": 1531,
   "metadata": {},
   "outputs": [],
   "source": [
    "class Lay():\n",
    "    \n",
    "    def __init__(self, n_inputs, n_outputs):\n",
    "        self.n_inputs = n_inputs\n",
    "        self.n_outputs = n_outputs\n",
    "        self.W = Tensor((np.random.randn(self.n_inputs, self.n_outputs) * 0.01).astype(np.float32), is_param=True)\n",
    "        self.b = Tensor(np.zeros((1, self.n_outputs)).astype(np.float32), is_param=True)\n",
    "        \n",
    "        self.activation_fn = Sigmoid()\n",
    "        self.derived_vars = []\n",
    "        \n",
    "    def __call__(self, value):\n",
    "        # Store input tensor for feedforward\n",
    "        self.x = value\n",
    "        # Store edge\n",
    "        self.z = (value @ self.W) + self.b\n",
    "        # Store output tensor for feedforward\n",
    "        self.y = Tensor(self.activation_fn(self.z.data))\n",
    "        \n",
    "        return self.y\n",
    "    \n",
    "    def __repr__(self):\n",
    "        return f\"Layer({self.n_inputs}, {self.n_outputs})\""
   ]
  },
  {
   "cell_type": "code",
   "execution_count": 33,
   "metadata": {},
   "outputs": [],
   "source": [
    "from fault_tolerant_ml.losses.loss_fns import CrossEntropyLoss\n",
    "from fault_tolerant_ml.models import Model\n",
    "from fault_tolerant_ml.layers import Layer\n",
    "from fault_tolerant_ml.optimizers import SGD\n",
    "from fault_tolerant_ml.metrics import accuracy_scorev2\n",
    "import time"
   ]
  },
  {
   "cell_type": "code",
   "execution_count": 34,
   "metadata": {},
   "outputs": [],
   "source": [
    "np.random.seed(42)"
   ]
  },
  {
   "cell_type": "code",
   "execution_count": 35,
   "metadata": {},
   "outputs": [],
   "source": [
    "# Define loss\n",
    "loss = CrossEntropyLoss()\n",
    "\n",
    "# Define optimizer\n",
    "optimizer = SGD(loss, learning_rate=0.99)\n",
    "\n",
    "# Define model\n",
    "model = Model(optimizer=optimizer)\n",
    "l1 = Layer(784, 128)\n",
    "# l2 = Lay(128, 128)\n",
    "l3 = Layer(128, 10)\n",
    "# Add layers\n",
    "model.add([l1, l3])\n",
    "\n",
    "# Tensorize numpy arrays\n",
    "X_train = mnist.X_train\n",
    "y_train = mnist.y_train\n",
    "X_test = mnist.X_test\n",
    "y_test = mnist.y_test\n",
    "batch_size = 32"
   ]
  },
  {
   "cell_type": "code",
   "execution_count": 36,
   "metadata": {},
   "outputs": [
    {
     "name": "stdout",
     "output_type": "stream",
     "text": [
      "Norm=12.914712905883789\n",
      "Iteration 0: Loss=0.1735, train accuracy=0.8987, test accuracy=0.9045\n",
      "Norm=16.46483039855957\n",
      "Iteration 1: Loss=0.1207, train accuracy=0.9244, test accuracy=0.9265\n",
      "Norm=18.931461334228516\n",
      "Iteration 2: Loss=0.1152, train accuracy=0.9393, test accuracy=0.9388\n",
      "Norm=20.870220184326172\n",
      "Iteration 3: Loss=0.1110, train accuracy=0.9487, test accuracy=0.9465\n",
      "Norm=22.47098731994629\n",
      "Iteration 4: Loss=0.1076, train accuracy=0.9548, test accuracy=0.9535\n",
      "Norm=23.839521408081055\n",
      "Iteration 5: Loss=0.1048, train accuracy=0.9596, test accuracy=0.9573\n",
      "Norm=25.042911529541016\n",
      "Iteration 6: Loss=0.1026, train accuracy=0.9637, test accuracy=0.9610\n",
      "Norm=26.12214469909668\n",
      "Iteration 7: Loss=0.1007, train accuracy=0.9672, test accuracy=0.9639\n",
      "Norm=27.10328483581543\n",
      "Iteration 8: Loss=0.0991, train accuracy=0.9701, test accuracy=0.9660\n",
      "Norm=28.00339698791504\n",
      "Iteration 9: Loss=0.0978, train accuracy=0.9723, test accuracy=0.9674\n",
      "Norm=28.835487365722656\n",
      "Iteration 10: Loss=0.0967, train accuracy=0.9743, test accuracy=0.9686\n",
      "Norm=29.610713958740234\n",
      "Iteration 11: Loss=0.0958, train accuracy=0.9765, test accuracy=0.9697\n",
      "Norm=30.33786392211914\n",
      "Iteration 12: Loss=0.0951, train accuracy=0.9781, test accuracy=0.9705\n",
      "Norm=31.023529052734375\n",
      "Iteration 13: Loss=0.0945, train accuracy=0.9798, test accuracy=0.9713\n",
      "Norm=31.672815322875977\n",
      "Iteration 14: Loss=0.0940, train accuracy=0.9811, test accuracy=0.9724\n",
      "Norm=32.289981842041016\n",
      "Iteration 15: Loss=0.0937, train accuracy=0.9824, test accuracy=0.9734\n",
      "Norm=32.878570556640625\n",
      "Iteration 16: Loss=0.0934, train accuracy=0.9835, test accuracy=0.9737\n",
      "Norm=33.44145202636719\n",
      "Iteration 17: Loss=0.0932, train accuracy=0.9842, test accuracy=0.9744\n",
      "Norm=33.98097610473633\n",
      "Iteration 18: Loss=0.0930, train accuracy=0.9851, test accuracy=0.9751\n",
      "Norm=34.499149322509766\n",
      "Iteration 19: Loss=0.0929, train accuracy=0.9859, test accuracy=0.9753\n",
      "CPU times: user 3min 52s, sys: 25.7 s, total: 4min 17s\n",
      "Wall time: 43.4 s\n"
     ]
    }
   ],
   "source": [
    "%%time\n",
    "epochs = 20\n",
    "for epoch in np.arange(epochs):\n",
    "    \n",
    "    epoch_loss = 0.0\n",
    "    n_batches = 0\n",
    "    for start in range(0, X_train.shape[0], batch_size):\n",
    "        end = start + batch_size\n",
    "    \n",
    "        X_batch = X_train[start:end]\n",
    "        y_batch = y_train[start:end]\n",
    "        \n",
    "        # Feedforward\n",
    "        y_pred = model.forward(X_batch)\n",
    "\n",
    "        # Calculate loss\n",
    "        batch_loss = loss.loss(y_batch, y_pred, reduce=True).data\n",
    "\n",
    "        # Backprop\n",
    "        optimizer.compute_gradients(model, y_batch, y_pred)\n",
    "\n",
    "        # Update gradients\n",
    "        optimizer.apply_gradients(model)\n",
    "        \n",
    "        epoch_loss = epoch_loss + batch_loss\n",
    "        n_batches += 1\n",
    "        \n",
    "    epoch_loss = epoch_loss / n_batches\n",
    "\n",
    "    # Print norm of layer 0 weights\n",
    "    print(f\"Norm={np.linalg.norm(model.layers[0].W.data)}\")\n",
    "    # Calculate accuracy\n",
    "    y_pred_train = model.forward(X_train)\n",
    "    train_acc = accuracy_scorev2(y_train.data, y_pred_train.data)\n",
    "    # Test accuracy\n",
    "    y_pred_test = model.forward(X_test)\n",
    "    test_acc = accuracy_scorev2(y_test.data, y_pred_test.data)\n",
    "\n",
    "    if epoch % 1 == 0:\n",
    "        print(f\"Iteration {epoch}: Loss={epoch_loss:.4f}, train accuracy={train_acc:.4f}, test accuracy={test_acc:.4f}\")\n",
    "    epoch += 1"
   ]
  },
  {
   "cell_type": "markdown",
   "metadata": {},
   "source": [
    "## Aggregate parameters for each layer"
   ]
  },
  {
   "cell_type": "code",
   "execution_count": 5,
   "metadata": {},
   "outputs": [],
   "source": [
    "dWbs = []\n",
    "\n",
    "n_workers = 7\n",
    "n_layers = 2"
   ]
  },
  {
   "cell_type": "code",
   "execution_count": 6,
   "metadata": {},
   "outputs": [],
   "source": [
    "l = []\n",
    "l.append([1, 2])\n",
    "l.append([2, 3])"
   ]
  },
  {
   "cell_type": "code",
   "execution_count": 7,
   "metadata": {},
   "outputs": [
    {
     "data": {
      "text/plain": [
       "[2, 3]"
      ]
     },
     "execution_count": 7,
     "metadata": {},
     "output_type": "execute_result"
    }
   ],
   "source": [
    "l[1]"
   ]
  },
  {
   "cell_type": "code",
   "execution_count": 8,
   "metadata": {},
   "outputs": [],
   "source": [
    "worker_params = \\\n",
    "np.array([[[np.random.randn(784, 128), np.ones((1, 128))], [np.random.randn(128, 10), np.ones((1, 10))]] for worker in np.arange(n_workers)])"
   ]
  },
  {
   "cell_type": "code",
   "execution_count": 9,
   "metadata": {},
   "outputs": [
    {
     "name": "stdout",
     "output_type": "stream",
     "text": [
      "worker  0 W= (784, 128), worker  0 b= (1, 128)\n",
      "worker  0 W= (128, 10), worker  0 b= (1, 10)\n",
      "worker  1 W= (784, 128), worker  1 b= (1, 128)\n",
      "worker  1 W= (128, 10), worker  1 b= (1, 10)\n",
      "worker  2 W= (784, 128), worker  2 b= (1, 128)\n",
      "worker  2 W= (128, 10), worker  2 b= (1, 10)\n",
      "worker  3 W= (784, 128), worker  3 b= (1, 128)\n",
      "worker  3 W= (128, 10), worker  3 b= (1, 10)\n",
      "worker  4 W= (784, 128), worker  4 b= (1, 128)\n",
      "worker  4 W= (128, 10), worker  4 b= (1, 10)\n",
      "worker  5 W= (784, 128), worker  5 b= (1, 128)\n",
      "worker  5 W= (128, 10), worker  5 b= (1, 10)\n",
      "worker  6 W= (784, 128), worker  6 b= (1, 128)\n",
      "worker  6 W= (128, 10), worker  6 b= (1, 10)\n"
     ]
    }
   ],
   "source": [
    "for i, worker_param in enumerate(worker_params):\n",
    "    for j in np.arange(n_layers):\n",
    "        print(\"worker \", i, \"W=\", worker_param[j][0].shape, end=\", \")\n",
    "        print(\"worker \", i,  \"b=\", worker_param[j][1].shape)"
   ]
  },
  {
   "cell_type": "code",
   "execution_count": 10,
   "metadata": {},
   "outputs": [],
   "source": [
    "m = np.random.randint(-100, 100, size=(3, 3))"
   ]
  },
  {
   "cell_type": "code",
   "execution_count": 11,
   "metadata": {},
   "outputs": [
    {
     "data": {
      "text/plain": [
       "array([[ 97, -89, -73],\n",
       "       [-49, -38, -64],\n",
       "       [-87,  45,  89]])"
      ]
     },
     "execution_count": 11,
     "metadata": {},
     "output_type": "execute_result"
    }
   ],
   "source": [
    "m"
   ]
  },
  {
   "cell_type": "code",
   "execution_count": 12,
   "metadata": {},
   "outputs": [
    {
     "data": {
      "text/plain": [
       "array([[0.41630901, 0.38197425, 0.31330472],\n",
       "       [0.21030043, 0.16309013, 0.27467811],\n",
       "       [0.37339056, 0.19313305, 0.38197425]])"
      ]
     },
     "execution_count": 12,
     "metadata": {},
     "output_type": "execute_result"
    }
   ],
   "source": [
    "(abs(m) / np.linalg.norm(m,1))"
   ]
  },
  {
   "cell_type": "code",
   "execution_count": 13,
   "metadata": {},
   "outputs": [],
   "source": [
    "m_ = m * 2"
   ]
  },
  {
   "cell_type": "code",
   "execution_count": 14,
   "metadata": {},
   "outputs": [
    {
     "data": {
      "text/plain": [
       "438.7026327707642"
      ]
     },
     "execution_count": 14,
     "metadata": {},
     "output_type": "execute_result"
    }
   ],
   "source": [
    "np.linalg.norm(m_)"
   ]
  },
  {
   "cell_type": "code",
   "execution_count": 15,
   "metadata": {},
   "outputs": [],
   "source": [
    "m_ = m_ * np.exp(1 / 7)**-1"
   ]
  },
  {
   "cell_type": "code",
   "execution_count": 16,
   "metadata": {},
   "outputs": [
    {
     "data": {
      "text/plain": [
       "380.3016169111953"
      ]
     },
     "execution_count": 16,
     "metadata": {},
     "output_type": "execute_result"
    }
   ],
   "source": [
    "np.linalg.norm(m_)"
   ]
  },
  {
   "cell_type": "code",
   "execution_count": 17,
   "metadata": {},
   "outputs": [
    {
     "data": {
      "text/plain": [
       "252.9962404903687"
      ]
     },
     "execution_count": 17,
     "metadata": {},
     "output_type": "execute_result"
    }
   ],
   "source": [
    "np.linalg.norm(m * np.exp(8562 / 60000))"
   ]
  },
  {
   "cell_type": "code",
   "execution_count": 18,
   "metadata": {},
   "outputs": [
    {
     "data": {
      "text/plain": [
       "0.14286666666666667"
      ]
     },
     "execution_count": 18,
     "metadata": {},
     "output_type": "execute_result"
    }
   ],
   "source": [
    "(8572 / 60000)"
   ]
  },
  {
   "cell_type": "code",
   "execution_count": 19,
   "metadata": {},
   "outputs": [
    {
     "data": {
      "text/plain": [
       "1.4788280246697387"
      ]
     },
     "execution_count": 19,
     "metadata": {},
     "output_type": "execute_result"
    }
   ],
   "source": [
    "np.linalg.norm(np.random.randn(10, 10) * (8572 / 60000))"
   ]
  },
  {
   "cell_type": "code",
   "execution_count": 20,
   "metadata": {},
   "outputs": [
    {
     "data": {
      "text/plain": [
       "array([1, 6, 4, 3, 0, 6, 5])"
      ]
     },
     "execution_count": 20,
     "metadata": {},
     "output_type": "execute_result"
    }
   ],
   "source": [
    "c = 1\n",
    "n_sample_workers = int(np.ceil(7 * c))\n",
    "np.random.choice(np.arange(7), n_sample_workers)"
   ]
  },
  {
   "cell_type": "code",
   "execution_count": 23,
   "metadata": {},
   "outputs": [],
   "source": [
    "errors = np.array([0.17, 0.18, 0.14, 0.20, 0.15])"
   ]
  },
  {
   "cell_type": "code",
   "execution_count": 24,
   "metadata": {},
   "outputs": [
    {
     "data": {
      "text/plain": [
       "array([0.17, 0.18, 0.14, 0.2 , 0.15])"
      ]
     },
     "execution_count": 24,
     "metadata": {},
     "output_type": "execute_result"
    }
   ],
   "source": [
    "errors"
   ]
  },
  {
   "cell_type": "code",
   "execution_count": 28,
   "metadata": {},
   "outputs": [
    {
     "data": {
      "text/plain": [
       "array([0.20035467, 0.20236827, 0.1944333 , 0.20645638, 0.19638738])"
      ]
     },
     "execution_count": 28,
     "metadata": {},
     "output_type": "execute_result"
    }
   ],
   "source": [
    "np.exp(errors) / np.sum(np.exp(errors))"
   ]
  },
  {
   "cell_type": "code",
   "execution_count": null,
   "metadata": {},
   "outputs": [],
   "source": []
  }
 ],
 "metadata": {
  "kernelspec": {
   "display_name": "Python [conda env:ftml]",
   "language": "python",
   "name": "conda-env-ftml-py"
  },
  "language_info": {
   "codemirror_mode": {
    "name": "ipython",
    "version": 3
   },
   "file_extension": ".py",
   "mimetype": "text/x-python",
   "name": "python",
   "nbconvert_exporter": "python",
   "pygments_lexer": "ipython3",
   "version": "3.7.3"
  }
 },
 "nbformat": 4,
 "nbformat_minor": 2
}
