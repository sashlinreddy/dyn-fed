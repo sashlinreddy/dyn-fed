{
 "cells": [
  {
   "cell_type": "markdown",
   "metadata": {},
   "source": [
    "# Neural network implementation"
   ]
  },
  {
   "cell_type": "code",
   "execution_count": 240,
   "metadata": {},
   "outputs": [],
   "source": [
    "import numpy as np\n",
    "import os\n",
    "\n",
    "from fault_tolerant_ml.data.mnist import MNist\n",
    "from fault_tolerant_ml.models import nn\n",
    "import fault_tolerant_ml.activations.activation as F\n",
    "\n",
    "%reload_ext autoreload\n",
    "%autoreload 2"
   ]
  },
  {
   "cell_type": "markdown",
   "metadata": {},
   "source": [
    "## Read in data"
   ]
  },
  {
   "cell_type": "code",
   "execution_count": 241,
   "metadata": {},
   "outputs": [],
   "source": [
    "data_dir = \"../data\"\n",
    "filepaths = {\n",
    "    \"train\": {\n",
    "        \"images\": os.path.join(data_dir, \"train-images-idx3-ubyte.gz\"), \"labels\": os.path.join(data_dir, \"train-labels-idx1-ubyte.gz\")\n",
    "    },\n",
    "    \"test\": {\n",
    "        \"images\": os.path.join(data_dir, \"t10k-images-idx3-ubyte.gz\"), \"labels\": os.path.join(data_dir, \"t10k-labels-idx1-ubyte.gz\")\n",
    "    }\n",
    "}\n",
    "mnist = MNist(filepaths)"
   ]
  },
  {
   "cell_type": "code",
   "execution_count": 242,
   "metadata": {},
   "outputs": [
    {
     "data": {
      "text/plain": [
       "<MNist X_train=(60000, 784), y_train=(60000, 10), X_test=(10000, 784), y_test=(10000, 10)>"
      ]
     },
     "execution_count": 242,
     "metadata": {},
     "output_type": "execute_result"
    }
   ],
   "source": [
    "mnist"
   ]
  },
  {
   "cell_type": "code",
   "execution_count": 243,
   "metadata": {},
   "outputs": [
    {
     "name": "stdout",
     "output_type": "stream",
     "text": [
      "n_features=784, n_classes=10\n"
     ]
    }
   ],
   "source": [
    "n_features, n_classes = mnist.X_train.shape[1], mnist.y_train.shape[1]\n",
    "print(f\"n_features={n_features}, n_classes={n_classes}\")"
   ]
  },
  {
   "cell_type": "code",
   "execution_count": 244,
   "metadata": {},
   "outputs": [],
   "source": [
    "theta = np.random.randn(n_features, n_classes)"
   ]
  },
  {
   "cell_type": "code",
   "execution_count": 296,
   "metadata": {},
   "outputs": [],
   "source": [
    "class NeuralNet(nn.Model):\n",
    "    \n",
    "    def __init__(self):\n",
    "        \n",
    "        # MLP - 1 input layer, 1 hidden layer, 1 output layer\n",
    "        # self.fc1 = nn.Layer(n_inputs=784, n_outputs=128)\n",
    "        # self.fc2 = nn.Layer(n_inputs=128, n_outputs=10)\n",
    "        self.layers = []\n",
    "        # self.act_fn = F.Sigmoid()\n",
    "        \n",
    "    def add(self, layer):\n",
    "        \"\"\"Add layer to model\n",
    "        \"\"\"\n",
    "        self.layers.append(layer)\n",
    "        return self\n",
    "    \n",
    "    def forward(self, x):\n",
    "        \n",
    "        # z1 = self.fc1(x)\n",
    "        # a1 = self.act_fn(z1)\n",
    "        # a1, z1 = self.fc1(x)\n",
    "        # z2 = self.fc2(a1)\n",
    "        # y_pred = self.act_fn(z2)\n",
    "        # y_pred, z2 = self.fc2(a1)\n",
    "        \n",
    "        a = x\n",
    "        for layer in self.layers:\n",
    "            print(layer)\n",
    "            layer(a)\n",
    "            a = layer.y\n",
    "        \n",
    "        y_pred = a\n",
    "        return y_pred\n",
    "    \n",
    "    def backward():\n",
    "        pass\n",
    "    \n",
    "#     def backward(self, x, y, a_n):\n",
    "        \n",
    "#         y_pred, z2, a1, z1 = a_n\n",
    "#         # Output layer error\n",
    "#         delta2 = (y_pred - y)# * self.act_fn.grad(z2)\n",
    "#         # Gradient of cost function\n",
    "#         dw2 = np.dot(a1.T, delta2)\n",
    "#         # Backpropagate the error through the network\n",
    "#         delta1 = np.dot(delta2, self.fc2.W.T) * self.act_fn.grad(z1)\n",
    "#         # Calculate gradient\n",
    "#         dw1 = np.dot(x.T, delta1)\n",
    "#         # Gradient of biases equal to the error\n",
    "#         db2 = np.sum(delta2, axis=0, keepdims=True)\n",
    "#         db1 = np.sum(delta1, axis=0, keepdims=True)\n",
    "#         return dw2, db2, dw1, db1"
   ]
  },
  {
   "cell_type": "code",
   "execution_count": 297,
   "metadata": {},
   "outputs": [],
   "source": [
    "def cross_entropy_loss(y_pred, y):\n",
    "    return np.mean(-y * np.log(y_pred) - (1 - y) * np.log(1 - y_pred))"
   ]
  },
  {
   "cell_type": "code",
   "execution_count": 298,
   "metadata": {},
   "outputs": [],
   "source": [
    "def accuracy_score(y, y_pred):\n",
    "    y_pred_ = y_pred.argmax(axis=1)\n",
    "    y_ = y.argmax(axis=1)\n",
    "    return np.sum(y_pred_==y_) / y_.shape[0]"
   ]
  },
  {
   "cell_type": "code",
   "execution_count": 299,
   "metadata": {},
   "outputs": [],
   "source": [
    "from fault_tolerant_ml.ml.ops.tensor import Tensor"
   ]
  },
  {
   "cell_type": "code",
   "execution_count": 300,
   "metadata": {},
   "outputs": [],
   "source": [
    "t = Tensor(mnist.X_train)\n",
    "W = Tensor(np.random.randn(784, 128))\n",
    "b = Tensor(np.random.randn(1, 128))"
   ]
  },
  {
   "cell_type": "code",
   "execution_count": 301,
   "metadata": {},
   "outputs": [],
   "source": [
    "x1 = Tensor(np.array(3), requires_grad=True)\n",
    "x2 = Tensor(np.array(7), requires_grad=False)\n",
    "\n",
    "interim = ((x1 + x1) + x2)\n",
    "f = interim * interim"
   ]
  },
  {
   "cell_type": "markdown",
   "metadata": {},
   "source": [
    "$(2x_1 + x_2)^2 = 4x_1^2 + 4x_1x_2 +x_2^2$ \n",
    "\n",
    "$\\frac{\\partial{df}}{\\partial{x_1}} =8x_1 + 4x_2 = 24 + 28 = 52$\n",
    "\n",
    "$\\frac{\\partial{df}}{\\partial{x_2}} =4x_1 + 2x_2 = 12 + 14 = 26$"
   ]
  },
  {
   "cell_type": "code",
   "execution_count": 302,
   "metadata": {},
   "outputs": [],
   "source": [
    "f.backward()"
   ]
  },
  {
   "cell_type": "code",
   "execution_count": 303,
   "metadata": {},
   "outputs": [
    {
     "data": {
      "text/plain": [
       "Tensor(52.0, requires_grad=False)"
      ]
     },
     "execution_count": 303,
     "metadata": {},
     "output_type": "execute_result"
    }
   ],
   "source": [
    "x1.grad"
   ]
  },
  {
   "cell_type": "code",
   "execution_count": 309,
   "metadata": {},
   "outputs": [
    {
     "name": "stdout",
     "output_type": "stream",
     "text": [
      "Layer(n_inputs=784, n_outputs=128)\n",
      "Layer(n_inputs=128, n_outputs=10)\n"
     ]
    }
   ],
   "source": [
    "model = NeuralNet()\n",
    "model.add(nn.Layer(n_inputs=784, n_outputs=128))\n",
    "model.add(nn.Layer(n_inputs=128, n_outputs=10))\n",
    "y_pred = model.forward(mnist.X_train)"
   ]
  },
  {
   "cell_type": "code",
   "execution_count": 310,
   "metadata": {},
   "outputs": [
    {
     "name": "stdout",
     "output_type": "stream",
     "text": [
      "Layer(n_inputs=128, n_outputs=10)\n",
      "Layer(n_inputs=784, n_outputs=128)\n"
     ]
    }
   ],
   "source": [
    "l = \n",
    "for layer in model.layers[::-1]:\n",
    "    print(layer)"
   ]
  },
  {
   "cell_type": "code",
   "execution_count": 9,
   "metadata": {},
   "outputs": [],
   "source": [
    "# model = NeuralNet()\n",
    "# print(model.fc1.shape)\n",
    "# print(model.fc2.shape)\n",
    "# epochs = 400\n",
    "# learning_rate = 0.99\n",
    "# m = mnist.X_train.shape[0]\n",
    "# for epoch in np.arange(epochs):\n",
    "    \n",
    "#     # Feedforward\n",
    "#     y_pred, z2, a1, z1 = model.forward(mnist.X_train)\n",
    "    \n",
    "#     # Calculate cost\n",
    "#     loss = cross_entropy_loss(y_pred, mnist.y_train)\n",
    "    \n",
    "#     # Backprop\n",
    "#     dw2, db2, dw1, db1 = model.backward(mnist.X_train, mnist.y_train, [y_pred, z2, a1, z1])\n",
    "    \n",
    "#     # Update weights\n",
    "#     model.fc2.W = model.fc2.W - learning_rate * 1 / m * dw2\n",
    "#     model.fc1.W = model.fc1.W - learning_rate * 1 / m * dw1\n",
    "#     model.fc2.b = model.fc2.b - learning_rate * 1 / m * db2\n",
    "#     model.fc1.b = model.fc1.b - learning_rate * 1 / m * db1\n",
    "    \n",
    "#     acc = accuracy_score(mnist.y_train, y_pred)\n",
    "#     if epoch % 10 == 0:\n",
    "#         print(f'epoch = {epoch}, loss = {loss:.3f}, TRAIN ACC = {acc:.3f}')\n",
    "#     epoch += 1\n",
    "    "
   ]
  },
  {
   "cell_type": "markdown",
   "metadata": {},
   "source": [
    "## Autograd"
   ]
  },
  {
   "cell_type": "markdown",
   "metadata": {},
   "source": [
    "## Graph"
   ]
  },
  {
   "cell_type": "code",
   "execution_count": 10,
   "metadata": {},
   "outputs": [],
   "source": [
    "# g = Graph()\n",
    "\n",
    "# g.set_as_default()\n",
    "\n",
    "# X = Tensor(mnist.X_train)\n",
    "\n",
    "# X + W\n",
    "\n",
    "# W = Variable(np.random.rand(784, 128))\n",
    "\n",
    "# b = Variable(np.zeros(shape=(1, 128)))\n",
    "\n",
    "# z = add(matmul(X, W), b)\n",
    "\n",
    "# z.input_nodes[0].input_nodes[0]\n",
    "\n",
    "# z.compute()"
   ]
  },
  {
   "cell_type": "code",
   "execution_count": 11,
   "metadata": {},
   "outputs": [],
   "source": [
    "from fault_tolerant_ml.ml.ops import tensor as ft"
   ]
  },
  {
   "cell_type": "code",
   "execution_count": 12,
   "metadata": {},
   "outputs": [],
   "source": [
    "g = ft.Graph()\n",
    "g.set_as_default()\n",
    "X = ft.Tensor(mnist.X_train)\n",
    "y = ft.Tensor(mnist.y_train)"
   ]
  },
  {
   "cell_type": "code",
   "execution_count": 13,
   "metadata": {},
   "outputs": [],
   "source": [
    "W = ft.Tensor(np.random.randn(784, 128))"
   ]
  },
  {
   "cell_type": "code",
   "execution_count": 14,
   "metadata": {},
   "outputs": [],
   "source": [
    "b = ft.Tensor(np.zeros((1, 784)))"
   ]
  },
  {
   "cell_type": "code",
   "execution_count": 15,
   "metadata": {},
   "outputs": [],
   "source": [
    "a = ft.matmul(X, W)\n",
    "# z = ft.add(W, b)"
   ]
  },
  {
   "cell_type": "code",
   "execution_count": 16,
   "metadata": {},
   "outputs": [
    {
     "data": {
      "text/plain": [
       "[<fault_tolerant_ml.ml.ops.tensor.matmul at 0x12f6ce630>]"
      ]
     },
     "execution_count": 16,
     "metadata": {},
     "output_type": "execute_result"
    }
   ],
   "source": [
    "g.operations"
   ]
  },
  {
   "cell_type": "code",
   "execution_count": 17,
   "metadata": {},
   "outputs": [],
   "source": [
    "def evalulate(f):\n",
    "    val = []\n",
    "    for i, op in enumerate(f.operations):\n",
    "        print(*op.input_nodes)\n",
    "        val.append(op.compute(*op.input_nodes))"
   ]
  },
  {
   "cell_type": "code",
   "execution_count": 46,
   "metadata": {},
   "outputs": [],
   "source": [
    "def traverse(f):\n",
    "    \n",
    "    operations = []\n",
    "    def recurse(node):\n",
    "        if isinstance(node, ft.Operation):\n",
    "            for input_node in node.input_nodes:\n",
    "                recurse(input_node)\n",
    "        operations.append(node)\n",
    "            \n",
    "    recurse(f)\n",
    "    return operations"
   ]
  },
  {
   "cell_type": "code",
   "execution_count": 47,
   "metadata": {},
   "outputs": [],
   "source": [
    "g = ft.Graph()\n",
    "g.set_as_default()\n",
    "x1 = ft.Tensor(np.array(3))\n",
    "x2 = ft.Tensor(np.array(7))"
   ]
  },
  {
   "cell_type": "code",
   "execution_count": 48,
   "metadata": {},
   "outputs": [],
   "source": [
    "f = ft.square(ft.add(ft.add(x1, x1), x2))"
   ]
  },
  {
   "cell_type": "code",
   "execution_count": 49,
   "metadata": {},
   "outputs": [
    {
     "data": {
      "text/plain": [
       "[Tensor(3, dtype=int64),\n",
       " Tensor(3, dtype=int64),\n",
       " add(),\n",
       " Tensor(7, dtype=int64),\n",
       " add(),\n",
       " square()]"
      ]
     },
     "execution_count": 49,
     "metadata": {},
     "output_type": "execute_result"
    }
   ],
   "source": [
    "traverse(f)"
   ]
  },
  {
   "cell_type": "code",
   "execution_count": 50,
   "metadata": {},
   "outputs": [
    {
     "data": {
      "text/plain": [
       "[Tensor(3, dtype=int64), Tensor(3, dtype=int64)]"
      ]
     },
     "execution_count": 50,
     "metadata": {},
     "output_type": "execute_result"
    }
   ],
   "source": [
    "g.operations[0].input_nodes"
   ]
  },
  {
   "cell_type": "code",
   "execution_count": 363,
   "metadata": {},
   "outputs": [],
   "source": [
    "# evalulate(g)"
   ]
  },
  {
   "cell_type": "code",
   "execution_count": 362,
   "metadata": {},
   "outputs": [],
   "source": [
    "# l = [ (\"z1\", \"add\", (\"x1\",\"x1\")),\n",
    "# (\"z2\", \"add\", (\"z1\",\"x2\")),\n",
    "# (\"f\", \"square\", (\"z2\",)) ]\n",
    "\n",
    "# G = { \"add\" : lambda a,b: a+b,\n",
    "# \"square\": lambda a:a*a }"
   ]
  },
  {
   "cell_type": "code",
   "execution_count": 360,
   "metadata": {},
   "outputs": [],
   "source": [
    "# val = { \"x1\" : 3, \"x2\" : 7 }\n",
    "\n",
    "# for step in l:\n",
    "#     print(val)\n",
    "#     var, op_name, func = step\n",
    "#     lookup = list(map(val.get, func))\n",
    "#     val[var] = G[op_name](*lookup)"
   ]
  },
  {
   "cell_type": "code",
   "execution_count": 358,
   "metadata": {},
   "outputs": [],
   "source": [
    "# DG = { \"add\" : [ (lambda a,b: 1), (lambda a,b: 1) ],\n",
    "# \"square\": [ lambda a:2*a ] }\n",
    "\n",
    "# delta={}\n",
    "# delta[\"f\"] = 1\n",
    "# for step in l[::-1]:\n",
    "#     var, op_name, func = step\n",
    "#     for op in DG[op_name]:\n",
    "#         if var not in delta:\n",
    "#             delta[var] = 0\n",
    "#         lookup = list(map(val.get, func))\n",
    "#         print(lookup)\n",
    "#         delta[var] = delta[var] + DG[op_name](*lookup)"
   ]
  },
  {
   "cell_type": "code",
   "execution_count": 553,
   "metadata": {},
   "outputs": [],
   "source": [
    "class Tensor(object):\n",
    "    \n",
    "    def __init__(self, data: np.ndarray, depends_on=None):\n",
    "        \n",
    "        self.depends_on = depends_on or []\n",
    "        self.data = data\n",
    "            \n",
    "    def __add__(self, other):\n",
    "        return Tensor(self.data + other.data, depends_on=[self, other])\n",
    "    \n",
    "    def __pow__(self, p):\n",
    "        data = self.data ** p \n",
    "        return Tensor(data, depends_on=[self])\n",
    "    \n",
    "    def __repr__(self):\n",
    "        return f\"Tensor({self.data}, dtype={self.data.dtype})\"\n"
   ]
  },
  {
   "cell_type": "code",
   "execution_count": 538,
   "metadata": {},
   "outputs": [],
   "source": [
    "y1 = Tensor(np.array(3))\n",
    "y2 = Tensor(np.array(7))\n",
    "z1 = y1 + y1\n",
    "z2 = z1 ** 2"
   ]
  },
  {
   "cell_type": "code",
   "execution_count": 539,
   "metadata": {},
   "outputs": [
    {
     "data": {
      "text/plain": [
       "[Tensor(6, dtype=int64)]"
      ]
     },
     "execution_count": 539,
     "metadata": {},
     "output_type": "execute_result"
    }
   ],
   "source": [
    "z2.depends_on"
   ]
  },
  {
   "cell_type": "code",
   "execution_count": 540,
   "metadata": {},
   "outputs": [],
   "source": [
    "layers = []"
   ]
  },
  {
   "cell_type": "code",
   "execution_count": 541,
   "metadata": {},
   "outputs": [],
   "source": [
    "from fault_tolerant_ml.activations.activation import Sigmoid"
   ]
  },
  {
   "cell_type": "code",
   "execution_count": 697,
   "metadata": {},
   "outputs": [],
   "source": [
    "from typing import Union"
   ]
  },
  {
   "cell_type": "code",
   "execution_count": 1530,
   "metadata": {},
   "outputs": [],
   "source": [
    "def ensure_array(arrayable):\n",
    "    if isinstance(arrayable, np.ndarray):\n",
    "        return arrayable\n",
    "    else:\n",
    "        return np.array(arrayable)\n",
    "\n",
    "Tensorable = Union['Tensor', 'float', np.ndarray]\n",
    "\n",
    "def ensure_tensor(tensorable: Tensorable):\n",
    "    if isinstance(tensorable, Tensor):\n",
    "        return tensorable\n",
    "    else:\n",
    "        return Tensor(tensorable)\n",
    "    \n",
    "class Tensor():\n",
    "    \n",
    "    def __init__(self, data, is_param=False):\n",
    "        self.data = ensure_array(data)\n",
    "        self._is_param = is_param\n",
    "        self._grad = None\n",
    "        self.shape = self.data.shape\n",
    "        self.ndim = self.data.ndim\n",
    "        \n",
    "        if is_param:\n",
    "            self.zero_grad()\n",
    "        \n",
    "    def __repr__(self):\n",
    "        return f\"Tensor({self.data}, parameter={self.is_param})\"\n",
    "    \n",
    "    def __matmul__(self, other):\n",
    "        return Tensor(self.data @ ensure_tensor(other).data)\n",
    "    \n",
    "    def __add__(self, other):\n",
    "        return Tensor(self.data + ensure_tensor(other).data)\n",
    "    \n",
    "    def __radd__(self, other):\n",
    "        return Tensor(self.data + ensure_tensor(other).data)\n",
    "    \n",
    "    def __sub__(self, other):\n",
    "        return Tensor(self.data - ensure_tensor(other).data)\n",
    "    \n",
    "    def __rsub__(self, other):\n",
    "        return Tensor(ensure_tensor(other).data - self.data)\n",
    "    \n",
    "    def __mul__(self, other):\n",
    "        return Tensor(self.data * ensure_tensor(other).data)\n",
    "    \n",
    "    def __rmul__(self, other):\n",
    "        return Tensor(ensure_tensor(other).data * self.data)\n",
    "    \n",
    "    def __truediv__(self, other):\n",
    "        return Tensor(self.data / ensure_tensor(other).data)\n",
    "        \n",
    "    def __rtruediv__(self, other):\n",
    "        return Tensor(ensure_tensor(other).data/ self.data)\n",
    "    \n",
    "    def __neg__(self):\n",
    "        return Tensor(-self.data)\n",
    "    \n",
    "    def __getitem__(self, idxs):\n",
    "        return Tensor(self.data[idxs])\n",
    "    \n",
    "    def exp(self):\n",
    "        return Tensor(np.exp(self.data))\n",
    "    \n",
    "    def log(self):\n",
    "        return Tensor(np.log(self.data))\n",
    "    \n",
    "    def mean(self, axis=None, dtype=None, out=None):\n",
    "        if dtype is None:\n",
    "            dtype = self.data.dtype\n",
    "        return Tensor(np.mean(self.data, axis=axis, dtype=dtype, out=out))\n",
    "    \n",
    "    def sum(self, axis=None, out=None, **passkwargs):\n",
    "        return Tensor(np.sum(self.data, axis=axis, out=out, **passkwargs))\n",
    "    \n",
    "    @property\n",
    "    def T(self):\n",
    "        return Tensor(self.data.T)\n",
    "    \n",
    "    @property\n",
    "    def is_param(self):\n",
    "        return self._is_param\n",
    "    \n",
    "    @property\n",
    "    def grad(self):\n",
    "        return self._grad\n",
    "    \n",
    "    @grad.setter\n",
    "    def grad(self, grad):\n",
    "        self._grad = ensure_tensor(grad)\n",
    "        \n",
    "    def zero_grad(self):\n",
    "        self.grad = Tensor(np.zeros_like(self.data))"
   ]
  },
  {
   "cell_type": "code",
   "execution_count": 1531,
   "metadata": {},
   "outputs": [],
   "source": [
    "class Lay():\n",
    "    \n",
    "    def __init__(self, n_inputs, n_outputs):\n",
    "        self.n_inputs = n_inputs\n",
    "        self.n_outputs = n_outputs\n",
    "        self.W = Tensor((np.random.randn(self.n_inputs, self.n_outputs) * 0.01).astype(np.float32), is_param=True)\n",
    "        self.b = Tensor(np.zeros((1, self.n_outputs)).astype(np.float32), is_param=True)\n",
    "        \n",
    "        self.activation_fn = Sigmoid()\n",
    "        self.derived_vars = []\n",
    "        \n",
    "    def __call__(self, value):\n",
    "        # Store input tensor for feedforward\n",
    "        self.x = value\n",
    "        # Store edge\n",
    "        self.z = (value @ self.W) + self.b\n",
    "        # Store output tensor for feedforward\n",
    "        self.y = Tensor(self.activation_fn(self.z.data))\n",
    "        \n",
    "        return self.y\n",
    "    \n",
    "    def __repr__(self):\n",
    "        return f\"Layer({self.n_inputs}, {self.n_outputs})\""
   ]
  },
  {
   "cell_type": "code",
   "execution_count": 1532,
   "metadata": {},
   "outputs": [],
   "source": [
    "class M():\n",
    "    \n",
    "    def __init__(self):\n",
    "        self.layers = []\n",
    "        \n",
    "    def __repr__(self):\n",
    "        return f\"Model([{self.layers}])\"\n",
    "        \n",
    "    def parameters(self):\n",
    "        for layer in model.layers:\n",
    "            for key, value in layer.parameters.items():\n",
    "                yield value\n",
    "        \n",
    "    def add(self, layers):\n",
    "        if isinstance(layers, list):\n",
    "            self.layers += layers\n",
    "        else:\n",
    "            self.layers.append(layers)\n",
    "            \n",
    "    def zero_grad(self):\n",
    "        for k, v in l1.__dict__.items():\n",
    "            if isinstance(v, Tensor):\n",
    "                if v.is_param:\n",
    "                    v.zero_grad()\n",
    "            \n",
    "    def forward(self, x):\n",
    "        \n",
    "        input_layer = x\n",
    "        for layer in self.layers:\n",
    "            y_pred = layer(input_layer)\n",
    "            input_layer = layer.y\n",
    "            \n",
    "        return y_pred"
   ]
  },
  {
   "cell_type": "code",
   "execution_count": 1559,
   "metadata": {},
   "outputs": [],
   "source": [
    "class SGD():\n",
    "    \n",
    "    def __init__(self, loss, learning_rate=0.1):\n",
    "        self.learning_rate = learning_rate\n",
    "        self.loss = loss\n",
    "        \n",
    "    def compute_gradients(self, model, y, y_pred):\n",
    "        \n",
    "        n_layers = len(model.layers)\n",
    "        output_layer = model.layers[-1]\n",
    "        m = model.layers[0].x.shape[0]\n",
    "        # For each output unit, calculate it's error term\n",
    "        delta = self.loss.grad(y, y_pred) * output_layer.activation_fn.grad(output_layer.z)\n",
    "        output_layer.W.grad = (1 / m) * output_layer.x.T @ delta\n",
    "        output_layer.b.grad = (1 / m) * np.sum(delta, axis=0, keepdims=True)\n",
    "\n",
    "        # For hidden units, calculate error term\n",
    "        for i in np.arange(n_layers - 2, -1, -1):\n",
    "            delta = (delta @ model.layers[i+1].W.T) * model.layers[i].activation_fn.grad(model.layers[i].z)\n",
    "            model.layers[i].W.grad = (1 / m) * (model.layers[i].x.T @ delta)\n",
    "            model.layers[i].b.grad = (1 / m) * np.sum(delta, axis=0, keepdims=True)\n",
    "            \n",
    "    def apply_gradients(self, model):\n",
    "        \n",
    "        for layer in model.layers:\n",
    "            layer.W = layer.W - self.learning_rate * layer.W.grad\n",
    "            layer.b = layer.b - self.learning_rate * layer.b.grad"
   ]
  },
  {
   "cell_type": "code",
   "execution_count": 1566,
   "metadata": {},
   "outputs": [],
   "source": [
    "from fault_tolerant_ml.losses.loss_fns import CrossEntropyLoss"
   ]
  },
  {
   "cell_type": "code",
   "execution_count": 1567,
   "metadata": {},
   "outputs": [],
   "source": [
    "np.random.seed(42)"
   ]
  },
  {
   "cell_type": "code",
   "execution_count": 1591,
   "metadata": {},
   "outputs": [],
   "source": [
    "# Define model\n",
    "model = M()\n",
    "l1 = Lay(784, 128)\n",
    "# l2 = Lay(128, 128)\n",
    "l3 = Lay(128, 10)\n",
    "# Add layers\n",
    "model.add([l1, l3])\n",
    "\n",
    "# Tensorize numpy arrays\n",
    "X_train = Tensor(mnist.X_train)\n",
    "y_train = Tensor(mnist.y_train)\n",
    "X_test = Tensor(mnist.X_test)\n",
    "y_test = Tensor(mnist.y_test)\n",
    "batch_size = 64\n",
    "\n",
    "# Define loss\n",
    "loss = CrossEntropyLoss()\n",
    "\n",
    "# Define optimizer\n",
    "optimizer = SGD(loss, learning_rate=0.9)"
   ]
  },
  {
   "cell_type": "code",
   "execution_count": 1592,
   "metadata": {},
   "outputs": [
    {
     "name": "stdout",
     "output_type": "stream",
     "text": [
      "Iteration 0: Loss=0.2223, train accuracy=0.8673, test accuracy=0.8763\n",
      "Iteration 1: Loss=0.1298, train accuracy=0.9023, test accuracy=0.9068\n",
      "Iteration 2: Loss=0.1223, train accuracy=0.9150, test accuracy=0.9194\n",
      "Iteration 3: Loss=0.1193, train accuracy=0.9247, test accuracy=0.9272\n",
      "Iteration 4: Loss=0.1168, train accuracy=0.9321, test accuracy=0.9321\n",
      "Iteration 5: Loss=0.1145, train accuracy=0.9383, test accuracy=0.9379\n",
      "Iteration 6: Loss=0.1122, train accuracy=0.9430, test accuracy=0.9425\n",
      "Iteration 7: Loss=0.1102, train accuracy=0.9468, test accuracy=0.9457\n",
      "Iteration 8: Loss=0.1084, train accuracy=0.9501, test accuracy=0.9485\n",
      "Iteration 9: Loss=0.1067, train accuracy=0.9536, test accuracy=0.9512\n",
      "Iteration 10: Loss=0.1052, train accuracy=0.9563, test accuracy=0.9530\n",
      "Iteration 11: Loss=0.1038, train accuracy=0.9587, test accuracy=0.9554\n",
      "Iteration 12: Loss=0.1026, train accuracy=0.9606, test accuracy=0.9567\n",
      "Iteration 13: Loss=0.1014, train accuracy=0.9626, test accuracy=0.9583\n",
      "Iteration 14: Loss=0.1004, train accuracy=0.9643, test accuracy=0.9600\n",
      "Iteration 15: Loss=0.0994, train accuracy=0.9665, test accuracy=0.9617\n",
      "Iteration 16: Loss=0.0985, train accuracy=0.9680, test accuracy=0.9633\n",
      "Iteration 17: Loss=0.0977, train accuracy=0.9696, test accuracy=0.9644\n",
      "Iteration 18: Loss=0.0969, train accuracy=0.9709, test accuracy=0.9652\n",
      "Iteration 19: Loss=0.0962, train accuracy=0.9721, test accuracy=0.9662\n"
     ]
    }
   ],
   "source": [
    "epochs = 20\n",
    "for epoch in np.arange(epochs):\n",
    "    \n",
    "    epoch_loss = 0.0\n",
    "    n_batches = 0\n",
    "    for start in range(0, X_train.shape[0], batch_size):\n",
    "        end = start + batch_size\n",
    "    \n",
    "        X_batch = X_train[start:end]\n",
    "        y_batch = y_train[start:end]\n",
    "        \n",
    "        # Feedforward\n",
    "        y_pred = model.forward(X_batch)\n",
    "\n",
    "        # Calculate loss\n",
    "        batch_loss = loss.loss(y_batch, y_pred, reduce=True).data\n",
    "\n",
    "        # Backprop\n",
    "        optimizer.compute_gradients(model, y_batch, y_pred)\n",
    "\n",
    "        # Update gradients\n",
    "        optimizer.apply_gradients(model)\n",
    "        \n",
    "        epoch_loss = epoch_loss + batch_loss\n",
    "        n_batches += 1\n",
    "        \n",
    "    epoch_loss = epoch_loss / n_batches\n",
    "\n",
    "    # Calculate accuracy\n",
    "    y_pred_train = model.forward(X_train)\n",
    "    train_acc = accuracy_score(y_train.data, y_pred_train.data)\n",
    "    # Test accuracy\n",
    "    y_pred_test = model.forward(X_test)\n",
    "    test_acc = accuracy_score(y_test.data, y_pred_test.data)\n",
    "\n",
    "    if epoch % 1 == 0:\n",
    "        print(f\"Iteration {epoch}: Loss={epoch_loss:.4f}, train accuracy={train_acc:.4f}, test accuracy={test_acc:.4f}\")\n",
    "    epoch += 1"
   ]
  },
  {
   "cell_type": "code",
   "execution_count": null,
   "metadata": {},
   "outputs": [],
   "source": []
  }
 ],
 "metadata": {
  "kernelspec": {
   "display_name": "Python [conda env:ftml]",
   "language": "python",
   "name": "conda-env-ftml-py"
  },
  "language_info": {
   "codemirror_mode": {
    "name": "ipython",
    "version": 3
   },
   "file_extension": ".py",
   "mimetype": "text/x-python",
   "name": "python",
   "nbconvert_exporter": "python",
   "pygments_lexer": "ipython3",
   "version": "3.7.3"
  }
 },
 "nbformat": 4,
 "nbformat_minor": 2
}
